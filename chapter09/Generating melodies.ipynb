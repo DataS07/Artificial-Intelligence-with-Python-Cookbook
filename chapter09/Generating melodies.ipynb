{
 "cells": [
  {
   "cell_type": "code",
   "execution_count": null,
   "metadata": {},
   "outputs": [],
   "source": [
    "# adapted from https://colab.research.google.com/notebooks/magenta/hello_magenta/hello_magenta.ipynb﻿"
   ]
  },
  {
   "cell_type": "code",
   "execution_count": null,
   "metadata": {},
   "outputs": [],
   "source": [
    "!apt-get update -qq && apt-get install -qq libfluidsynth1 fluid-soundfont-gm build-essential libasound2-dev libjack-dev\n",
    "!pip install -qU pyfluidsynth pretty_midi\n",
    "\n",
    "!pip install -qU magenta"
   ]
  },
  {
   "cell_type": "code",
   "execution_count": null,
   "metadata": {},
   "outputs": [],
   "source": [
    "# only needed for Colab environment:\n",
    "import ctypes.util\n",
    "orig_ctypes_util_find_library = ctypes.util.find_library\n",
    "def proxy_find_library(lib):\n",
    "    if lib == 'fluidsynth':\n",
    "        return 'libfluidsynth.so.1'\n",
    "    else:\n",
    "        return orig_ctypes_util_find_library(lib)\n",
    "ctypes.util.find_library = proxy_find_library"
   ]
  },
  {
   "cell_type": "code",
   "execution_count": null,
   "metadata": {},
   "outputs": [],
   "source": [
    "from note_seq.protobuf import music_pb2\n",
    "\n",
    "twinkle_twinkle = music_pb2.NoteSequence()\n",
    "twinkle_twinkle.notes.add(pitch=60, start_time=0.0, end_time=0.5, velocity=80)\n",
    "twinkle_twinkle.notes.add(pitch=60, start_time=0.5, end_time=1.0, velocity=80)\n",
    "twinkle_twinkle.notes.add(pitch=67, start_time=1.0, end_time=1.5, velocity=80)\n",
    "twinkle_twinkle.notes.add(pitch=67, start_time=1.5, end_time=2.0, velocity=80)\n",
    "twinkle_twinkle.notes.add(pitch=69, start_time=2.0, end_time=2.5, velocity=80)\n",
    "twinkle_twinkle.notes.add(pitch=69, start_time=2.5, end_time=3.0, velocity=80)\n",
    "twinkle_twinkle.notes.add(pitch=67, start_time=3.0, end_time=4.0, velocity=80)\n",
    "twinkle_twinkle.notes.add(pitch=65, start_time=4.0, end_time=4.5, velocity=80)\n",
    "twinkle_twinkle.notes.add(pitch=65, start_time=4.5, end_time=5.0, velocity=80)\n",
    "twinkle_twinkle.notes.add(pitch=64, start_time=5.0, end_time=5.5, velocity=80)\n",
    "twinkle_twinkle.notes.add(pitch=64, start_time=5.5, end_time=6.0, velocity=80)\n",
    "twinkle_twinkle.notes.add(pitch=62, start_time=6.0, end_time=6.5, velocity=80)\n",
    "twinkle_twinkle.notes.add(pitch=62, start_time=6.5, end_time=7.0, velocity=80)\n",
    "twinkle_twinkle.notes.add(pitch=60, start_time=7.0, end_time=8.0, velocity=80) \n",
    "twinkle_twinkle.total_time = 8\n",
    "\n",
    "twinkle_twinkle.tempos.add(qpm=60);"
   ]
  },
  {
   "cell_type": "code",
   "execution_count": null,
   "metadata": {},
   "outputs": [],
   "source": [
    "note_seq.plot_sequence(twinkle_twinkle)\n",
    "note_seq.play_sequence(twinkle_twinkle,synth=note_seq.fluidsynth)"
   ]
  },
  {
   "cell_type": "code",
   "execution_count": null,
   "metadata": {},
   "outputs": [],
   "source": [
    "from magenta.models.melody_rnn import melody_rnn_sequence_generator\n",
    "from magenta.models.shared import sequence_generator_bundle\n",
    "from note_seq.protobuf import generator_pb2\n",
    "from note_seq.protobuf import music_pb2\n",
    "\n",
    "note_seq.notebook_utils.download_bundle('attention_rnn.mag', '/content/')\n",
    "bundle = sequence_generator_bundle.read_bundle_file('/content/basic_rnn.mag')\n",
    "generator_map = melody_rnn_sequence_generator.get_generator_map()\n",
    "melody_rnn = generator_map['basic_rnn'](checkpoint=None, bundle=bundle)\n",
    "melody_rnn.initialize()"
   ]
  },
  {
   "cell_type": "code",
   "execution_count": null,
   "metadata": {},
   "outputs": [],
   "source": [
    "def get_options(input_sequence, num_steps=128, temperature=1.0):\n",
    "    last_end_time = (max(n.end_time for n in input_sequence.notes)\n",
    "                      if input_sequence.notes else 0)\n",
    "    qpm = input_sequence.tempos[0].qpm \n",
    "    seconds_per_step = 60.0 / qpm / melody_rnn.steps_per_quarter\n",
    "    total_seconds = num_steps * seconds_per_step\n",
    "\n",
    "    generator_options = generator_pb2.GeneratorOptions()\n",
    "    generator_options.args['temperature'].float_value = temperature\n",
    "    generate_section = generator_options.generate_sections.add(\n",
    "      start_time=last_end_time + seconds_per_step,\n",
    "      end_time=total_seconds)\n",
    "    return generator_options\n",
    "\n",
    "sequence = melody_rnn.generate(twinkle_twinkle, get_options(twinkle_twinkle))"
   ]
  },
  {
   "cell_type": "code",
   "execution_count": null,
   "metadata": {},
   "outputs": [],
   "source": [
    "note_seq.plot_sequence(sequence)\n",
    "note_seq.play_sequence(sequence, synth=note_seq.fluidsynth)"
   ]
  },
  {
   "cell_type": "code",
   "execution_count": null,
   "metadata": {},
   "outputs": [],
   "source": [
    "note_seq.sequence_proto_to_midi_file(drums, 'twinkle_continued.mid')"
   ]
  },
  {
   "cell_type": "code",
   "execution_count": null,
   "metadata": {},
   "outputs": [],
   "source": [
    "from google.colab import files\n",
    "files.download('twinkle_continued.mid')"
   ]
  }
 ],
 "metadata": {
  "kernelspec": {
   "display_name": "Python 3",
   "language": "python",
   "name": "python3"
  },
  "language_info": {
   "codemirror_mode": {
    "name": "ipython",
    "version": 3
   },
   "file_extension": ".py",
   "mimetype": "text/x-python",
   "name": "python",
   "nbconvert_exporter": "python",
   "pygments_lexer": "ipython3",
   "version": "3.6.7"
  }
 },
 "nbformat": 4,
 "nbformat_minor": 2
}
