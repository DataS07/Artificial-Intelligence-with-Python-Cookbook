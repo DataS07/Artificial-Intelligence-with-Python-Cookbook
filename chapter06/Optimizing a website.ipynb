{
 "cells": [
  {
   "cell_type": "code",
   "execution_count": 11,
   "metadata": {},
   "outputs": [],
   "source": [
    "# this is partly adapted from Lilian Weng's implementation\n",
    "# https://github.com/lilianweng/multi-armed-bandit\n",
    "import random\n",
    "\n",
    "class Bandit:\n",
    "    def __init__(self, K=2, probs=None):\n",
    "        \"\"\"A multi-armed bandit\n",
    "        \n",
    "        Parameters:\n",
    "        -----------\n",
    "        K - the number of arms\n",
    "        \"\"\"\n",
    "        self.K = K\n",
    "        if probs is None:\n",
    "            self.probs = [\n",
    "                random.random() for _ in range(self.K)\n",
    "            ]\n",
    "        else:\n",
    "            assert len(probs) == K\n",
    "            self.probs = probs\n",
    "\n",
    "        self.best_probs = max(self.probs)\n",
    "\n",
    "    def play(self, i):\n",
    "        \"\"\"Playing the i-th machine.\n",
    "        \n",
    "        Returns a reward as 1 or 0.\n",
    "        \"\"\"\n",
    "        if random.random() < self.probs[i]:\n",
    "            return 1\n",
    "        else:\n",
    "            return 0"
   ]
  },
  {
   "cell_type": "code",
   "execution_count": 316,
   "metadata": {},
   "outputs": [],
   "source": [
    "class Agent:\n",
    "    def __init__(self, env):\n",
    "        \"\"\"\n",
    "        An abstract agent\n",
    "        \n",
    "        Parameters:\n",
    "        -----------\n",
    "        env - an environment (a bandit)\n",
    "        \"\"\"\n",
    "        \n",
    "        self.env = env\n",
    "        self.listeners = {}\n",
    "        self.metrics = {}\n",
    "        self.reset()\n",
    "        \n",
    "    def reset(self):\n",
    "        for k in self.metrics:\n",
    "            self.metrics[k] = []\n",
    "\n",
    "    def add_listener(self, name, fun):\n",
    "        \"\"\"Add a listener to record a metric\n",
    "        \"\"\"\n",
    "        self.listeners[name] = fun\n",
    "        self.metrics[name] = []\n",
    "        \n",
    "    def run_metrics(self, i):\n",
    "        \"\"\"Calculate metrics after an action i\"\"\"\n",
    "        for key, fun in self.listeners.items():\n",
    "            fun(self, i, key)\n",
    "\n",
    "    def run_one_step(self):\n",
    "        \"\"\"A single choice.\"\"\"            \n",
    "        raise NotImplementedError\n",
    "        \n",
    "    def run(self, n_steps):\n",
    "        \"\"\"plays n_steps of choices        \n",
    "        \"\"\"\n",
    "        raise NotImplementedError"
   ]
  },
  {
   "cell_type": "code",
   "execution_count": 317,
   "metadata": {},
   "outputs": [],
   "source": [
    "class UCB1(Agent):\n",
    "    def __init__(self, env, alpha=2.):\n",
    "        \"\"\"\n",
    "        The UCB1 agent\n",
    "        \n",
    "        Parameters:\n",
    "        -----------\n",
    "        env - an environment (a bandit)\n",
    "        alpha - the alpha parameter\n",
    "        \"\"\"\n",
    "        self.alpha = alpha\n",
    "        super(UCB1, self).__init__(env)\n",
    "    \n",
    "    def run_exploration(self):\n",
    "        \"\"\"Initial exploration\n",
    "        \"\"\"\n",
    "        for i in range(self.env.K):\n",
    "            self.estimates[i] = self.env.play(i)\n",
    "            self.counts[i] += 1\n",
    "            self.history.append(i)\n",
    "            self.run_metrics(i)            \n",
    "            self.t += 1\n",
    "    \n",
    "    def update_estimate(self, i, r):\n",
    "        \"\"\"Incremental update of estimate for arm i\n",
    "        \"\"\"\n",
    "        self.estimates[i] += (r - self.estimates[i]) / (self.counts[i] + 1)\n",
    "\n",
    "    def reset(self):\n",
    "        self.history = []\n",
    "        self.t = 0\n",
    "        self.counts = [0] * self.env.K\n",
    "        self.estimates = [None] * self.env.K\n",
    "        super(UCB1, self).reset()\n",
    "    \n",
    "    def run(self, n_steps):\n",
    "        \"\"\"plays n_steps of choices\n",
    "        \n",
    "        This count does not include the exploration phase.\n",
    "        \"\"\"\n",
    "        assert self.env is not None\n",
    "        self.reset()\n",
    "        if self.estimates[0] is None:\n",
    "            self.run_exploration()\n",
    "        for _ in range(n_steps):\n",
    "            i = self.run_one_step()\n",
    "            self.counts[i] += 1\n",
    "            self.history.append(i)\n",
    "            self.run_metrics(i)\n",
    "\n",
    "    def upper_bound(self, i):\n",
    "        return np.sqrt(\n",
    "            self.alpha * np.log(self.t) / (1 + self.counts[i])\n",
    "        )\n",
    "   \n",
    "    def run_one_step(self):\n",
    "        \"\"\"A single choice.\n",
    "        \n",
    "        Pick the best (optimistic) choice\n",
    "        (with consideration of upper confidence bounds)\n",
    "        \"\"\"\n",
    "        i = max(\n",
    "            range(self.env.K),\n",
    "            key=lambda i: self.estimates[i] + self.upper_bound(i)\n",
    "        )\n",
    "        r = self.env.play(i)\n",
    "        self.update_estimate(i, r)\n",
    "        self.t += 1\n",
    "        return i"
   ]
  },
  {
   "cell_type": "code",
   "execution_count": 318,
   "metadata": {},
   "outputs": [],
   "source": [
    "from scipy import stats\n",
    "\n",
    "def update_regret(agent, i, key):\n",
    "    \"\"\"update regret given an agent and a new action\n",
    "    \"\"\"\n",
    "    regret = agent.env.best_probs - agent.env.probs[i]\n",
    "    if agent.metrics[key]:\n",
    "        agent.metrics[key].append(\n",
    "            agent.metrics[key][-1] + regret\n",
    "        )\n",
    "    else:\n",
    "        agent.metrics[key] = [regret]\n",
    "        \n",
    "def update_rank_corr(agent, i, key):\n",
    "    \"\"\"rank correlation to observe convergence\"\"\"\n",
    "    if agent.t < agent.env.K:\n",
    "        agent.metrics[key].append(0.0)\n",
    "    else:\n",
    "        agent.metrics[key].append(\n",
    "            stats.spearmanr(agent.env.probs, agent.estimates)[0]\n",
    "        )"
   ]
  },
  {
   "cell_type": "code",
   "execution_count": 319,
   "metadata": {},
   "outputs": [],
   "source": [
    "%matplotlib inline\n",
    "import pandas as pd\n",
    "import matplotlib.pyplot as plt\n",
    "\n",
    "\n",
    "def plot_stats(title):\n",
    "    df = pd.DataFrame(agent.metrics)\n",
    "    df['t'] = list(range(len(df)))\n",
    "    ax = df.plot(x='t', y='regret', legend=False)\n",
    "    ax2 = ax.twinx()\n",
    "    ax.spines['left'].set_color('b')\n",
    "    ax.spines['left'].set_linewidth(1.5)\n",
    "    ax.tick_params(axis='y', colors='b')\n",
    "\n",
    "    df.plot(x='t', y='corr', ax=ax2, legend=False, color=\"r\")\n",
    "    ax.spines['right'].set_color('r')\n",
    "    ax.spines['right'].set_linewidth(1.5)\n",
    "    ax2.tick_params(axis='y', colors='r')\n",
    "\n",
    "    ax.figure.legend(loc='center', bbox_to_anchor=(0.7, 0.5))\n",
    "    plt.title(title)"
   ]
  },
  {
   "cell_type": "code",
   "execution_count": 327,
   "metadata": {},
   "outputs": [
    {
     "data": {
      "image/png": "[encoded data removed]",
      "text/plain": [
       "<Figure size 432x288 with 2 Axes>"
      ]
     },
     "metadata": {
      "needs_background": "light"
     },
     "output_type": "display_data"
    }
   ],
   "source": [
    "random.seed(42.0)  # int(time.time())\n",
    "bandit = Bandit(20)\n",
    "agent = UCB1(bandit, alpha=2.0)\n",
    "agent.add_listener('regret', update_regret)\n",
    "agent.add_listener('corr', update_rank_corr)\n",
    "agent.run(5000)\n",
    "plot_stats('alpha=2.0')"
   ]
  },
  {
   "cell_type": "code",
   "execution_count": 328,
   "metadata": {},
   "outputs": [
    {
     "data": {
      "image/png": "[encoded data removed]",
      "text/plain": [
       "<Figure size 432x288 with 2 Axes>"
      ]
     },
     "metadata": {
      "needs_background": "light"
     },
     "output_type": "display_data"
    }
   ],
   "source": [
    "random.seed(42.0)  # int(time.time())\n",
    "bandit = Bandit(20)\n",
    "agent = UCB1(bandit, alpha=0.5)\n",
    "agent.add_listener('regret', update_regret)\n",
    "agent.add_listener('corr', update_rank_corr)\n",
    "agent.run(5000)\n",
    "plot_stats('alpha=0.5')"
   ]
  },
  {
   "cell_type": "code",
   "execution_count": null,
   "metadata": {},
   "outputs": [],
   "source": []
  }
 ],
 "metadata": {
  "kernelspec": {
   "display_name": "Python 3",
   "language": "python",
   "name": "python3"
  },
  "language_info": {
   "codemirror_mode": {
    "name": "ipython",
    "version": 3
   },
   "file_extension": ".py",
   "mimetype": "text/x-python",
   "name": "python",
   "nbconvert_exporter": "python",
   "pygments_lexer": "ipython3",
   "version": "3.7.4"
  }
 },
 "nbformat": 4,
 "nbformat_minor": 2
}
