{
 "cells": [
  {
   "cell_type": "markdown",
   "metadata": {
    "colab_type": "text",
    "id": "xaAcszGQs-p8"
   },
   "source": [
    "\n",
    "In this section, we will be using active learning to predict. \n",
    "\n",
    "We will be using a dataset that is about product marketing - bank product marketing to be more precise. We want to predict if the client will subscribe to a term deposit. The situation is that customer agents, whose time costs money, will call customers. We need to decide which customers will be most likely to sign up, so we can prioritze the calls. \n",
    "\n",
    "This is a nice use case for active learning, because - not unlike in reinforcement learning - uncertainty could be an additional criterion, apart from positive expectation, from a customer. Over time, this entropy-reduction seeking behavior would reduce as the model's understanding of customers improves.\n",
    "\n",
    "Again we will get the data from OpenML."
   ]
  },
  {
   "cell_type": "code",
   "execution_count": 1,
   "metadata": {
    "colab": {
     "base_uri": "https://localhost:8080/",
     "height": 85
    },
    "colab_type": "code",
    "id": "OuRiZSTzmxln",
    "outputId": "45be87a9-2b32-40f5-8f08-62d3c6a63f98"
   },
   "outputs": [
    {
     "name": "stdout",
     "output_type": "stream",
     "text": [
      "Note: you may need to restart the kernel to use updated packages.\n"
     ]
    }
   ],
   "source": [
    "pip install -q openml modAL category_encoders"
   ]
  },
  {
   "cell_type": "code",
   "execution_count": 2,
   "metadata": {
    "colab": {},
    "colab_type": "code",
    "id": "ahMOV0Omxq3k"
   },
   "outputs": [],
   "source": [
    "import openml\n",
    "dataset = openml.datasets.get_dataset(1461)"
   ]
  },
  {
   "cell_type": "code",
   "execution_count": 3,
   "metadata": {
    "colab": {},
    "colab_type": "code",
    "id": "ok9QBxB_yIW2"
   },
   "outputs": [],
   "source": [
    "X, y, categorical_indicator, _ = dataset.get_data(\n",
    "    dataset_format='dataframe',\n",
    "    target=dataset.default_target_attribute\n",
    ")\n",
    "categorical_features = X.columns[categorical_indicator]\n",
    "numeric_features = X.columns[[not(i) for i in categorical_indicator]]"
   ]
  },
  {
   "cell_type": "code",
   "execution_count": 4,
   "metadata": {
    "colab": {
     "base_uri": "https://localhost:8080/",
     "height": 204
    },
    "colab_type": "code",
    "id": "GmbcmYu9uM1D",
    "outputId": "cb8c0e33-e632-403b-d271-be8a2e94696c"
   },
   "outputs": [
    {
     "data": {
      "text/html": [
       "<div>\n",
       "<style scoped>\n",
       "    .dataframe tbody tr th:only-of-type {\n",
       "        vertical-align: middle;\n",
       "    }\n",
       "\n",
       "    .dataframe tbody tr th {\n",
       "        vertical-align: top;\n",
       "    }\n",
       "\n",
       "    .dataframe thead th {\n",
       "        text-align: right;\n",
       "    }\n",
       "</style>\n",
       "<table border=\"1\" class=\"dataframe\">\n",
       "  <thead>\n",
       "    <tr style=\"text-align: right;\">\n",
       "      <th></th>\n",
       "      <th>V1</th>\n",
       "      <th>V2</th>\n",
       "      <th>V3</th>\n",
       "      <th>V4</th>\n",
       "      <th>V5</th>\n",
       "      <th>V6</th>\n",
       "      <th>V7</th>\n",
       "      <th>V8</th>\n",
       "      <th>V9</th>\n",
       "      <th>V10</th>\n",
       "      <th>V11</th>\n",
       "      <th>V12</th>\n",
       "      <th>V13</th>\n",
       "      <th>V14</th>\n",
       "      <th>V15</th>\n",
       "      <th>V16</th>\n",
       "    </tr>\n",
       "  </thead>\n",
       "  <tbody>\n",
       "    <tr>\n",
       "      <th>0</th>\n",
       "      <td>58.0</td>\n",
       "      <td>management</td>\n",
       "      <td>married</td>\n",
       "      <td>tertiary</td>\n",
       "      <td>no</td>\n",
       "      <td>2143.0</td>\n",
       "      <td>yes</td>\n",
       "      <td>no</td>\n",
       "      <td>unknown</td>\n",
       "      <td>5.0</td>\n",
       "      <td>may</td>\n",
       "      <td>261.0</td>\n",
       "      <td>1.0</td>\n",
       "      <td>-1.0</td>\n",
       "      <td>0.0</td>\n",
       "      <td>unknown</td>\n",
       "    </tr>\n",
       "    <tr>\n",
       "      <th>1</th>\n",
       "      <td>44.0</td>\n",
       "      <td>technician</td>\n",
       "      <td>single</td>\n",
       "      <td>secondary</td>\n",
       "      <td>no</td>\n",
       "      <td>29.0</td>\n",
       "      <td>yes</td>\n",
       "      <td>no</td>\n",
       "      <td>unknown</td>\n",
       "      <td>5.0</td>\n",
       "      <td>may</td>\n",
       "      <td>151.0</td>\n",
       "      <td>1.0</td>\n",
       "      <td>-1.0</td>\n",
       "      <td>0.0</td>\n",
       "      <td>unknown</td>\n",
       "    </tr>\n",
       "    <tr>\n",
       "      <th>2</th>\n",
       "      <td>33.0</td>\n",
       "      <td>entrepreneur</td>\n",
       "      <td>married</td>\n",
       "      <td>secondary</td>\n",
       "      <td>no</td>\n",
       "      <td>2.0</td>\n",
       "      <td>yes</td>\n",
       "      <td>yes</td>\n",
       "      <td>unknown</td>\n",
       "      <td>5.0</td>\n",
       "      <td>may</td>\n",
       "      <td>76.0</td>\n",
       "      <td>1.0</td>\n",
       "      <td>-1.0</td>\n",
       "      <td>0.0</td>\n",
       "      <td>unknown</td>\n",
       "    </tr>\n",
       "    <tr>\n",
       "      <th>3</th>\n",
       "      <td>47.0</td>\n",
       "      <td>blue-collar</td>\n",
       "      <td>married</td>\n",
       "      <td>unknown</td>\n",
       "      <td>no</td>\n",
       "      <td>1506.0</td>\n",
       "      <td>yes</td>\n",
       "      <td>no</td>\n",
       "      <td>unknown</td>\n",
       "      <td>5.0</td>\n",
       "      <td>may</td>\n",
       "      <td>92.0</td>\n",
       "      <td>1.0</td>\n",
       "      <td>-1.0</td>\n",
       "      <td>0.0</td>\n",
       "      <td>unknown</td>\n",
       "    </tr>\n",
       "    <tr>\n",
       "      <th>4</th>\n",
       "      <td>33.0</td>\n",
       "      <td>unknown</td>\n",
       "      <td>single</td>\n",
       "      <td>unknown</td>\n",
       "      <td>no</td>\n",
       "      <td>1.0</td>\n",
       "      <td>no</td>\n",
       "      <td>no</td>\n",
       "      <td>unknown</td>\n",
       "      <td>5.0</td>\n",
       "      <td>may</td>\n",
       "      <td>198.0</td>\n",
       "      <td>1.0</td>\n",
       "      <td>-1.0</td>\n",
       "      <td>0.0</td>\n",
       "      <td>unknown</td>\n",
       "    </tr>\n",
       "  </tbody>\n",
       "</table>\n",
       "</div>"
      ],
      "text/plain": [
       "     V1            V2       V3         V4  V5      V6   V7   V8       V9  V10  \\\n",
       "0  58.0    management  married   tertiary  no  2143.0  yes   no  unknown  5.0   \n",
       "1  44.0    technician   single  secondary  no    29.0  yes   no  unknown  5.0   \n",
       "2  33.0  entrepreneur  married  secondary  no     2.0  yes  yes  unknown  5.0   \n",
       "3  47.0   blue-collar  married    unknown  no  1506.0  yes   no  unknown  5.0   \n",
       "4  33.0       unknown   single    unknown  no     1.0   no   no  unknown  5.0   \n",
       "\n",
       "   V11    V12  V13  V14  V15      V16  \n",
       "0  may  261.0  1.0 -1.0  0.0  unknown  \n",
       "1  may  151.0  1.0 -1.0  0.0  unknown  \n",
       "2  may   76.0  1.0 -1.0  0.0  unknown  \n",
       "3  may   92.0  1.0 -1.0  0.0  unknown  \n",
       "4  may  198.0  1.0 -1.0  0.0  unknown  "
      ]
     },
     "execution_count": 4,
     "metadata": {},
     "output_type": "execute_result"
    }
   ],
   "source": [
    "X.head()"
   ]
  },
  {
   "cell_type": "code",
   "execution_count": 5,
   "metadata": {
    "colab": {},
    "colab_type": "code",
    "id": "fLckoFZssxgG"
   },
   "outputs": [],
   "source": [
    "from matplotlib import pyplot as plt\n",
    "import pandas as pd\n",
    "%matplotlib inline\n",
    "import seaborn as sns"
   ]
  },
  {
   "cell_type": "code",
   "execution_count": 6,
   "metadata": {
    "colab": {},
    "colab_type": "code",
    "id": "1macjCDJzVNO"
   },
   "outputs": [
    {
     "name": "stderr",
     "output_type": "stream",
     "text": [
      "/Users/ben/anaconda3/lib/python3.6/site-packages/category_encoders/utils.py:21: FutureWarning: is_categorical is deprecated and will be removed in a future version.  Use is_categorical_dtype instead\n",
      "  elif pd.api.types.is_categorical(cols):\n"
     ]
    }
   ],
   "source": [
    "from sklearn.compose import ColumnTransformer\n",
    "from sklearn.preprocessing import FunctionTransformer\n",
    "import category_encoders as ce\n",
    "\n",
    "\n",
    "def col_names2slices(column_names, X):\n",
    "    numpy_slice = []\n",
    "    X_cols = list(X.columns)\n",
    "    for col in column_names:\n",
    "        numpy_slice.append(X_cols.index(col))\n",
    "    return list(numpy_slice)\n",
    "\n",
    "ordinal_encoder = ce.OrdinalEncoder(\n",
    "    cols=None,  # all features that it encounters\n",
    "    handle_missing='return_nan',\n",
    "    handle_unknown='ignore'\n",
    ").fit(X)\n",
    "\n",
    "preprocessor = ColumnTransformer(\n",
    "    transformers=[\n",
    "        #('ranges', range_transformer, range_features),\n",
    "        ('cat', ordinal_encoder, categorical_features),\n",
    "        ('num', FunctionTransformer(validate=False), numeric_features)]\n",
    ")\n",
    "\n",
    "preprocessor = preprocessor.fit(X)"
   ]
  },
  {
   "cell_type": "markdown",
   "metadata": {
    "colab_type": "text",
    "id": "IPO-LeknzbwS"
   },
   "source": [
    "Since we are dealing with an imbalanced dataset, let us use class weights. This basically means that we are upsampling the minority (signing up) class and downsampling the majority class (not signing up). The formula for the class weights is as follows:\n",
    "\n",
    "$ \\text{n_samples} / (\\text{n_classes} * \\text{np.bincount}(y))$"
   ]
  },
  {
   "cell_type": "code",
   "execution_count": 7,
   "metadata": {
    "colab": {},
    "colab_type": "code",
    "id": "wqp2Gdv1z7SP"
   },
   "outputs": [],
   "source": [
    "class_weights = len(X) / (y.astype(int).value_counts() * 2)"
   ]
  },
  {
   "cell_type": "markdown",
   "metadata": {
    "colab_type": "text",
    "id": "qpg5GRDZXH-Q"
   },
   "source": [
    "Only few models in [sklearn allow incremental or online learning](https://scikit-learn.org/0.15/modules/scaling_strategies.html). A few linear models include the *partial_fit()* method. The Sk-multiflow package specializes in incremental and online/streaming models. Let us try one of their models."
   ]
  },
  {
   "cell_type": "code",
   "execution_count": 8,
   "metadata": {
    "colab": {
     "base_uri": "https://localhost:8080/",
     "height": 360
    },
    "colab_type": "code",
    "id": "x-FYfgvxW9xc",
    "outputId": "3c92ba31-82be-4e13-b131-8ae79fd070f6"
   },
   "outputs": [
    {
     "name": "stdout",
     "output_type": "stream",
     "text": [
      "Note: you may need to restart the kernel to use updated packages.\n"
     ]
    }
   ],
   "source": [
    "pip install -q scikit-multiflow"
   ]
  },
  {
   "cell_type": "code",
   "execution_count": 9,
   "metadata": {
    "colab": {},
    "colab_type": "code",
    "id": "RT4oEJgEza21"
   },
   "outputs": [
    {
     "name": "stderr",
     "output_type": "stream",
     "text": [
      "/Users/ben/anaconda3/lib/python3.6/site-packages/skmultiflow/trees/hoeffding_tree.py:35: FutureWarning: 'HoeffdingTree' has been renamed to 'HoeffdingTreeClassifier' in v0.5.0.\n",
      "The old name will be removed in v0.7.0\n",
      "  \"The old name will be removed in v0.7.0\", category=FutureWarning)\n"
     ]
    }
   ],
   "source": [
    "import numpy as np\n",
    "from skmultiflow.trees import HoeffdingTree\n",
    "from sklearn.metrics import roc_auc_score\n",
    "from modAL.uncertainty import classifier_uncertainty\n",
    "import random\n",
    "\n",
    "\n",
    "class ActivePipeline:\n",
    "    '''inspired by modAL.models.ActiveLearner\n",
    "    '''\n",
    "    def __init__(self, model, preprocessor, class_weights):\n",
    "        self.model = model\n",
    "        self.preprocessor = preprocessor\n",
    "        self.class_weights = class_weights\n",
    "\n",
    "    @staticmethod\n",
    "    def values(X):\n",
    "        if isinstance(X, (np.ndarray, np.int64)):\n",
    "            return X\n",
    "        else:\n",
    "            return X.values\n",
    "\n",
    "    def preprocess(self, X):\n",
    "        X_ = pd.DataFrame(\n",
    "            data=self.values(X),\n",
    "            columns=['V1', 'V2', 'V3', 'V4',\n",
    "                     'V5', 'V6', 'V7', 'V8',\n",
    "                     'V9', 'V10', 'V11',\n",
    "                     'V12', 'V13', 'V14',\n",
    "                     'V15', 'V16']\n",
    "        )\n",
    "        return self.preprocessor.transform(X_)\n",
    "\n",
    "    def fit(self, X, ys):\n",
    "        weights = [self.class_weights[y] for y in ys]\n",
    "        self.model.fit(self.preprocess(X), self.values(ys))  #, classes=ys.unique(), weight=weights)  # classes\n",
    "\n",
    "    def update(self, X, ys):\n",
    "        if isinstance(ys, (int, float)):\n",
    "            weight = self.class_weights[y]\n",
    "        else:\n",
    "            weight = [self.class_weights[y] for y in ys]\n",
    "        self.model.partial_fit(\n",
    "            self.preprocess(X),\n",
    "            self.values(ys),\n",
    "            weight\n",
    "        )\n",
    "\n",
    "    def predict(self, X):\n",
    "        return self.model.predict(\n",
    "            self.preprocess(X)\n",
    "        )\n",
    "\n",
    "    def predict_proba(self, X):\n",
    "        return self.model.predict_proba(\n",
    "            self.preprocess(X)\n",
    "        )\n",
    "\n",
    "    def max_margin_uncertainty(self, X):\n",
    "        '''similar to modAL.uncertainty.margin_uncertainty\n",
    "\n",
    "        Returns\n",
    "        - the index of the highest margin uncertainty\n",
    "        - the uncertainty\n",
    "        '''\n",
    "        probs = self.predict_proba(X)\n",
    "        uncertainties = ((probs[:,2] - probs[:, 1]) + 1.0) / 2.0\n",
    "        ind = random.choices(range(len(uncertainties)), uncertainties)\n",
    "        #ind = np.argmax(uncertainties)\n",
    "        return ind, uncertainties[ind]\n",
    "\n",
    "    def score(self, X, y):\n",
    "        return roc_auc_score(y, self.predict(X))\n",
    "\n",
    "active_pipeline = ActivePipeline(HoeffdingTree(), preprocessor, class_weights.to_dict())\n",
    "active_pipeline.model.classes = [0, 1, 2]"
   ]
  },
  {
   "cell_type": "code",
   "execution_count": 10,
   "metadata": {
    "colab": {},
    "colab_type": "code",
    "id": "lK7YcicKO2BK"
   },
   "outputs": [],
   "source": [
    "from collections import namedtuple\n",
    "\n",
    "X_all = X.copy().reset_index(drop=True)\n",
    "y_all = y.copy().reset_index(drop=True)\n",
    "\n",
    "N = len(X)\n",
    "n_initial = 100\n",
    "initial_idx = np.random.choice(\n",
    "    len(X_all), size=n_initial, replace=False\n",
    ")\n",
    "X_train, y_train = X_all.iloc[initial_idx], y_all.iloc[initial_idx]\n",
    "\n",
    "active_pipeline.fit(X_train, y_train.astype(int))"
   ]
  },
  {
   "cell_type": "code",
   "execution_count": null,
   "metadata": {
    "colab": {
     "base_uri": "https://localhost:8080/",
     "height": 34
    },
    "colab_type": "code",
    "id": "bCpCV3l1lVZW",
    "outputId": "39cc77e0-60a4-48f6-c8fe-8325161fd33d"
   },
   "outputs": [],
   "source": [
    "Iteration = namedtuple(\n",
    "    'Iteration',\n",
    "    ['iteration',\n",
    "     'score',\n",
    "     'uncertainty',\n",
    "     'target']\n",
    ")\n",
    "\n",
    "history = []\n",
    "it = 0\n",
    "learned = []\n",
    "score = active_pipeline.score(X, y)\n",
    "print(score)\n",
    "while score < 0.90 and it <= N:\n",
    "    stream_idx, uncertainty = active_pipeline.max_margin_uncertainty(X_all)\n",
    "    active_pipeline.update(\n",
    "        np.array(X_all.iloc[stream_idx], ndmin=2),\n",
    "        np.array(y_all.astype(int).iloc[stream_idx], ndmin=1)\n",
    "    )\n",
    "    score = active_pipeline.score(X, y)\n",
    "    history.append(\n",
    "        Iteration(\n",
    "            iteration=it,\n",
    "            score=score,\n",
    "            uncertainty=uncertainty,\n",
    "            target=y_all.iloc[stream_idx]\n",
    "        )\n",
    "    )\n",
    "    X_all = X_all.drop(stream_idx).reset_index(drop=True)\n",
    "    y_all = y_all.drop(stream_idx).reset_index(drop=True)\n",
    "    it += 1\n"
   ]
  },
  {
   "cell_type": "code",
   "execution_count": null,
   "metadata": {
    "colab": {
     "base_uri": "https://localhost:8080/",
     "height": 34
    },
    "colab_type": "code",
    "id": "0wzt9M_L1y3L",
    "outputId": "42cb6e5e-f3a0-4040-9927-eb7208c01958"
   },
   "outputs": [],
   "source": [
    "history[1].iteration"
   ]
  },
  {
   "cell_type": "code",
   "execution_count": null,
   "metadata": {
    "colab": {
     "base_uri": "https://localhost:8080/",
     "height": 34
    },
    "colab_type": "code",
    "id": "n7kHNdXJ1y6W",
    "outputId": "249be246-1b96-4423-f1e5-adf74544d321"
   },
   "outputs": [],
   "source": [
    "len(history)"
   ]
  },
  {
   "cell_type": "code",
   "execution_count": null,
   "metadata": {
    "colab": {
     "base_uri": "https://localhost:8080/",
     "height": 296
    },
    "colab_type": "code",
    "id": "RssB0AEQOlc8",
    "outputId": "4e10f7ad-42b1-4dcd-aa56-f3865c27e285"
   },
   "outputs": [],
   "source": [
    "plt.plot(\n",
    "    [hist.iteration for hist in history if not isinstance(hist, float)],\n",
    "    [hist.uncertainty for hist in history if not isinstance(hist, float)],\n",
    "    color='red',\n",
    "    marker='o',\n",
    "    linestyle='dashed',\n",
    "    linewidth=1,\n",
    "    markersize=8\n",
    ")\n",
    "plt.plot(\n",
    "    [hist.iteration for hist in history if not isinstance(hist, float)],\n",
    "    [hist.score for hist in history if not isinstance(hist, float)],\n",
    "    color='blue',\n",
    "    marker='o',\n",
    "    linestyle='dashed',\n",
    "    linewidth=1,\n",
    "    markersize=8\n",
    ")\n",
    "\n",
    "plt.xlabel(\"iteration\")\n",
    "#plt.ylabel(\"uncertainty\")\n",
    "plt.legend([\"uncertainty\", 'score'])\n"
   ]
  },
  {
   "cell_type": "code",
   "execution_count": null,
   "metadata": {
    "colab": {
     "base_uri": "https://localhost:8080/",
     "height": 323
    },
    "colab_type": "code",
    "id": "QJsSkinT2G9x",
    "outputId": "4f2c3b93-a066-4b8f-f9d7-c2b5f3e2fecc"
   },
   "outputs": [],
   "source": [
    "[hist.score for hist in history if not isinstance(hist, float)],"
   ]
  },
  {
   "cell_type": "code",
   "execution_count": null,
   "metadata": {
    "colab": {},
    "colab_type": "code",
    "id": "UAn8nL2QDbac"
   },
   "outputs": [],
   "source": [
    "from mlxtend.plotting import plot_decision_regions\n",
    "plot_decision_regions(X_train, y_train, clf=resampling_pipeline_brf, legend=2)"
   ]
  }
 ],
 "metadata": {
  "colab": {
   "collapsed_sections": [],
   "name": "Active learning",
   "provenance": []
  },
  "kernelspec": {
   "display_name": "Python 3",
   "language": "python",
   "name": "python3"
  },
  "language_info": {
   "codemirror_mode": {
    "name": "ipython",
    "version": 3
   },
   "file_extension": ".py",
   "mimetype": "text/x-python",
   "name": "python",
   "nbconvert_exporter": "python",
   "pygments_lexer": "ipython3",
   "version": "3.6.11"
  }
 },
 "nbformat": 4,
 "nbformat_minor": 1
}
