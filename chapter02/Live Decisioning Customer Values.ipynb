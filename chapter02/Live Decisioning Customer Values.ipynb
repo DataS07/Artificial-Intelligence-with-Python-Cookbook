{
  "nbformat": 4,
  "nbformat_minor": 0,
  "metadata": {
    "colab": {
      "name": "Active learning",
      "provenance": [],
      "collapsed_sections": []
    },
    "kernelspec": {
      "name": "python3",
      "display_name": "Python 3"
    }
  },
  "cells": [
    {
      "cell_type": "markdown",
      "metadata": {
        "id": "xaAcszGQs-p8",
        "colab_type": "text"
      },
      "source": [
        "\n",
        "In this section, we will be using active learning to predict. \n",
        "\n",
        "We will be using a dataset that is about product marketing - bank product marketing to be more precise. We want to predict if the client will subscribe to a term deposit. The situation is that customer agents, whose time costs money, will call customers. We need to decide which customers will be most likely to sign up, so we can prioritze the calls. \n",
        "\n",
        "This is a nice use case for active learning, because - not unlike in reinforcement learning - uncertainty could be an additional criterion, apart from positive expectation, from a customer. Over time, this entropy-reduction seeking behavior would reduce as the model's understanding of customers improves.\n",
        "\n",
        "Again we will get the data from OpenML."
      ]
    },
    {
      "cell_type": "code",
      "metadata": {
        "id": "OuRiZSTzmxln",
        "colab_type": "code",
        "colab": {
          "base_uri": "https://localhost:8080/",
          "height": 85
        },
        "outputId": "45be87a9-2b32-40f5-8f08-62d3c6a63f98"
      },
      "source": [
        "pip install -q openml modAL category_encoders"
      ],
      "execution_count": 2,
      "outputs": [
        {
          "output_type": "stream",
          "text": [
            "\u001b[K     |████████████████████████████████| 163kB 9.4MB/s \n",
            "\u001b[K     |████████████████████████████████| 102kB 12.7MB/s \n",
            "\u001b[?25h  Building wheel for openml (setup.py) ... \u001b[?25l\u001b[?25hdone\n",
            "  Building wheel for liac-arff (setup.py) ... \u001b[?25l\u001b[?25hdone\n"
          ],
          "name": "stdout"
        }
      ]
    },
    {
      "cell_type": "code",
      "metadata": {
        "id": "ahMOV0Omxq3k",
        "colab_type": "code",
        "colab": {}
      },
      "source": [
        "import openml\n",
        "openml.config.apikey = 'e6b9a1a80b1e0c3bbd40f5dbf5943fb9'\n",
        "openml.config.server = 'https://www.openml.org/api/v1/xml' \n",
        "\n",
        "dataset = openml.datasets.get_dataset(1461)"
      ],
      "execution_count": 0,
      "outputs": []
    },
    {
      "cell_type": "code",
      "metadata": {
        "id": "ok9QBxB_yIW2",
        "colab_type": "code",
        "colab": {}
      },
      "source": [
        "X, y, categorical_indicator, _ = dataset.get_data(\n",
        "    dataset_format='dataframe',\n",
        "    target=dataset.default_target_attribute\n",
        ")\n",
        "categorical_features = X.columns[categorical_indicator]\n",
        "numeric_features = X.columns[[not(i) for i in categorical_indicator]]"
      ],
      "execution_count": 0,
      "outputs": []
    },
    {
      "cell_type": "code",
      "metadata": {
        "id": "GmbcmYu9uM1D",
        "colab_type": "code",
        "colab": {
          "base_uri": "https://localhost:8080/",
          "height": 204
        },
        "outputId": "cb8c0e33-e632-403b-d271-be8a2e94696c"
      },
      "source": [
        "X.head()"
      ],
      "execution_count": 7,
      "outputs": [
        {
          "output_type": "execute_result",
          "data": {
            "text/html": [
              "<div>\n",
              "<style scoped>\n",
              "    .dataframe tbody tr th:only-of-type {\n",
              "        vertical-align: middle;\n",
              "    }\n",
              "\n",
              "    .dataframe tbody tr th {\n",
              "        vertical-align: top;\n",
              "    }\n",
              "\n",
              "    .dataframe thead th {\n",
              "        text-align: right;\n",
              "    }\n",
              "</style>\n",
              "<table border=\"1\" class=\"dataframe\">\n",
              "  <thead>\n",
              "    <tr style=\"text-align: right;\">\n",
              "      <th></th>\n",
              "      <th>V1</th>\n",
              "      <th>V2</th>\n",
              "      <th>V3</th>\n",
              "      <th>V4</th>\n",
              "      <th>V5</th>\n",
              "      <th>V6</th>\n",
              "      <th>V7</th>\n",
              "      <th>V8</th>\n",
              "      <th>V9</th>\n",
              "      <th>V10</th>\n",
              "      <th>V11</th>\n",
              "      <th>V12</th>\n",
              "      <th>V13</th>\n",
              "      <th>V14</th>\n",
              "      <th>V15</th>\n",
              "      <th>V16</th>\n",
              "    </tr>\n",
              "  </thead>\n",
              "  <tbody>\n",
              "    <tr>\n",
              "      <th>0</th>\n",
              "      <td>58.0</td>\n",
              "      <td>management</td>\n",
              "      <td>married</td>\n",
              "      <td>tertiary</td>\n",
              "      <td>no</td>\n",
              "      <td>2143.0</td>\n",
              "      <td>yes</td>\n",
              "      <td>no</td>\n",
              "      <td>unknown</td>\n",
              "      <td>5.0</td>\n",
              "      <td>may</td>\n",
              "      <td>261.0</td>\n",
              "      <td>1.0</td>\n",
              "      <td>-1.0</td>\n",
              "      <td>0.0</td>\n",
              "      <td>unknown</td>\n",
              "    </tr>\n",
              "    <tr>\n",
              "      <th>1</th>\n",
              "      <td>44.0</td>\n",
              "      <td>technician</td>\n",
              "      <td>single</td>\n",
              "      <td>secondary</td>\n",
              "      <td>no</td>\n",
              "      <td>29.0</td>\n",
              "      <td>yes</td>\n",
              "      <td>no</td>\n",
              "      <td>unknown</td>\n",
              "      <td>5.0</td>\n",
              "      <td>may</td>\n",
              "      <td>151.0</td>\n",
              "      <td>1.0</td>\n",
              "      <td>-1.0</td>\n",
              "      <td>0.0</td>\n",
              "      <td>unknown</td>\n",
              "    </tr>\n",
              "    <tr>\n",
              "      <th>2</th>\n",
              "      <td>33.0</td>\n",
              "      <td>entrepreneur</td>\n",
              "      <td>married</td>\n",
              "      <td>secondary</td>\n",
              "      <td>no</td>\n",
              "      <td>2.0</td>\n",
              "      <td>yes</td>\n",
              "      <td>yes</td>\n",
              "      <td>unknown</td>\n",
              "      <td>5.0</td>\n",
              "      <td>may</td>\n",
              "      <td>76.0</td>\n",
              "      <td>1.0</td>\n",
              "      <td>-1.0</td>\n",
              "      <td>0.0</td>\n",
              "      <td>unknown</td>\n",
              "    </tr>\n",
              "    <tr>\n",
              "      <th>3</th>\n",
              "      <td>47.0</td>\n",
              "      <td>blue-collar</td>\n",
              "      <td>married</td>\n",
              "      <td>unknown</td>\n",
              "      <td>no</td>\n",
              "      <td>1506.0</td>\n",
              "      <td>yes</td>\n",
              "      <td>no</td>\n",
              "      <td>unknown</td>\n",
              "      <td>5.0</td>\n",
              "      <td>may</td>\n",
              "      <td>92.0</td>\n",
              "      <td>1.0</td>\n",
              "      <td>-1.0</td>\n",
              "      <td>0.0</td>\n",
              "      <td>unknown</td>\n",
              "    </tr>\n",
              "    <tr>\n",
              "      <th>4</th>\n",
              "      <td>33.0</td>\n",
              "      <td>unknown</td>\n",
              "      <td>single</td>\n",
              "      <td>unknown</td>\n",
              "      <td>no</td>\n",
              "      <td>1.0</td>\n",
              "      <td>no</td>\n",
              "      <td>no</td>\n",
              "      <td>unknown</td>\n",
              "      <td>5.0</td>\n",
              "      <td>may</td>\n",
              "      <td>198.0</td>\n",
              "      <td>1.0</td>\n",
              "      <td>-1.0</td>\n",
              "      <td>0.0</td>\n",
              "      <td>unknown</td>\n",
              "    </tr>\n",
              "  </tbody>\n",
              "</table>\n",
              "</div>"
            ],
            "text/plain": [
              "     V1            V2       V3         V4  V5  ...    V12  V13  V14  V15      V16\n",
              "0  58.0    management  married   tertiary  no  ...  261.0  1.0 -1.0  0.0  unknown\n",
              "1  44.0    technician   single  secondary  no  ...  151.0  1.0 -1.0  0.0  unknown\n",
              "2  33.0  entrepreneur  married  secondary  no  ...   76.0  1.0 -1.0  0.0  unknown\n",
              "3  47.0   blue-collar  married    unknown  no  ...   92.0  1.0 -1.0  0.0  unknown\n",
              "4  33.0       unknown   single    unknown  no  ...  198.0  1.0 -1.0  0.0  unknown\n",
              "\n",
              "[5 rows x 16 columns]"
            ]
          },
          "metadata": {
            "tags": []
          },
          "execution_count": 7
        }
      ]
    },
    {
      "cell_type": "code",
      "metadata": {
        "id": "fLckoFZssxgG",
        "colab_type": "code",
        "colab": {}
      },
      "source": [
        "from matplotlib import pyplot as plt\n",
        "import pandas as pd\n",
        "%matplotlib inline\n",
        "import seaborn as sns"
      ],
      "execution_count": 0,
      "outputs": []
    },
    {
      "cell_type": "code",
      "metadata": {
        "id": "1macjCDJzVNO",
        "colab_type": "code",
        "colab": {}
      },
      "source": [
        "from sklearn.compose import ColumnTransformer\n",
        "from sklearn.preprocessing import FunctionTransformer\n",
        "import category_encoders as ce\n",
        "\n",
        "\n",
        "def col_names2slices(column_names, X):\n",
        "    numpy_slice = []\n",
        "    X_cols = list(X.columns)\n",
        "    for col in column_names:\n",
        "        numpy_slice.append(X_cols.index(col))\n",
        "    return list(numpy_slice)\n",
        "\n",
        "ordinal_encoder = ce.OrdinalEncoder(\n",
        "    cols=None,  # all features that it encounters\n",
        "    handle_missing='return_nan',\n",
        "    handle_unknown='ignore'\n",
        ").fit(X)\n",
        "\n",
        "preprocessor = ColumnTransformer(\n",
        "    transformers=[\n",
        "        #('ranges', range_transformer, range_features),\n",
        "        ('cat', ordinal_encoder, categorical_features),\n",
        "        ('num', FunctionTransformer(validate=False), numeric_features)]\n",
        ")\n",
        "\n",
        "preprocessor = preprocessor.fit(X)"
      ],
      "execution_count": 0,
      "outputs": []
    },
    {
      "cell_type": "markdown",
      "metadata": {
        "id": "IPO-LeknzbwS",
        "colab_type": "text"
      },
      "source": [
        "Since we are dealing with an imbalanced dataset, let us use class weights. This basically means that we are upsampling the minority (signing up) class and downsampling the majority class (not signing up). The formula for the class weights is as follows:\n",
        "\n",
        "$ \\text{n_samples} / (\\text{n_classes} * \\text{np.bincount}(y))$"
      ]
    },
    {
      "cell_type": "code",
      "metadata": {
        "id": "wqp2Gdv1z7SP",
        "colab_type": "code",
        "colab": {}
      },
      "source": [
        "class_weights = len(X) / (y.astype(int).value_counts() * 2)"
      ],
      "execution_count": 0,
      "outputs": []
    },
    {
      "cell_type": "markdown",
      "metadata": {
        "id": "qpg5GRDZXH-Q",
        "colab_type": "text"
      },
      "source": [
        "Only few models in [sklearn allow incremental or online learning](https://scikit-learn.org/0.15/modules/scaling_strategies.html). A few linear models include the *partial_fit()* method. The Sk-multiflow package specializes in incremental and online/streaming models. Let us try one of their models."
      ]
    },
    {
      "cell_type": "code",
      "metadata": {
        "id": "x-FYfgvxW9xc",
        "colab_type": "code",
        "colab": {
          "base_uri": "https://localhost:8080/",
          "height": 360
        },
        "outputId": "3c92ba31-82be-4e13-b131-8ae79fd070f6"
      },
      "source": [
        "pip install -q scikit-multiflow"
      ],
      "execution_count": 45,
      "outputs": [
        {
          "output_type": "stream",
          "text": [
            "Collecting scikit-multiflow\n",
            "\u001b[?25l  Downloading https://files.pythonhosted.org/packages/d0/d0/d73be8c424e116862f26cf4e0f99c41e4f0982519aa7bb923c715f05c166/scikit_multiflow-0.4.1-cp36-cp36m-manylinux1_x86_64.whl (16.3MB)\n",
            "\u001b[K     |████████████████████████████████| 16.3MB 158kB/s \n",
            "\u001b[?25hRequirement already satisfied: scipy>=1.0.0 in /usr/local/lib/python3.6/dist-packages (from scikit-multiflow) (1.3.3)\n",
            "Requirement already satisfied: numpy>=1.11.0 in /usr/local/lib/python3.6/dist-packages (from scikit-multiflow) (1.17.4)\n",
            "Requirement already satisfied: scikit-learn>=0.20 in /usr/local/lib/python3.6/dist-packages (from scikit-multiflow) (0.21.3)\n",
            "Requirement already satisfied: sortedcontainers>=1.5.7 in /usr/local/lib/python3.6/dist-packages (from scikit-multiflow) (2.1.0)\n",
            "Requirement already satisfied: matplotlib>=2.0.0 in /usr/local/lib/python3.6/dist-packages (from scikit-multiflow) (3.1.2)\n",
            "Requirement already satisfied: pandas>=0.21.0 in /usr/local/lib/python3.6/dist-packages (from scikit-multiflow) (0.25.3)\n",
            "Requirement already satisfied: joblib>=0.11 in /usr/local/lib/python3.6/dist-packages (from scikit-learn>=0.20->scikit-multiflow) (0.14.1)\n",
            "Requirement already satisfied: python-dateutil>=2.1 in /usr/local/lib/python3.6/dist-packages (from matplotlib>=2.0.0->scikit-multiflow) (2.6.1)\n",
            "Requirement already satisfied: kiwisolver>=1.0.1 in /usr/local/lib/python3.6/dist-packages (from matplotlib>=2.0.0->scikit-multiflow) (1.1.0)\n",
            "Requirement already satisfied: cycler>=0.10 in /usr/local/lib/python3.6/dist-packages (from matplotlib>=2.0.0->scikit-multiflow) (0.10.0)\n",
            "Requirement already satisfied: pyparsing!=2.0.4,!=2.1.2,!=2.1.6,>=2.0.1 in /usr/local/lib/python3.6/dist-packages (from matplotlib>=2.0.0->scikit-multiflow) (2.4.5)\n",
            "Requirement already satisfied: pytz>=2017.2 in /usr/local/lib/python3.6/dist-packages (from pandas>=0.21.0->scikit-multiflow) (2018.9)\n",
            "Requirement already satisfied: six>=1.5 in /usr/local/lib/python3.6/dist-packages (from python-dateutil>=2.1->matplotlib>=2.0.0->scikit-multiflow) (1.12.0)\n",
            "Requirement already satisfied: setuptools in /usr/local/lib/python3.6/dist-packages (from kiwisolver>=1.0.1->matplotlib>=2.0.0->scikit-multiflow) (42.0.2)\n",
            "Installing collected packages: scikit-multiflow\n",
            "Successfully installed scikit-multiflow-0.4.1\n"
          ],
          "name": "stdout"
        }
      ]
    },
    {
      "cell_type": "code",
      "metadata": {
        "id": "RT4oEJgEza21",
        "colab_type": "code",
        "colab": {}
      },
      "source": [
        "import numpy as np\n",
        "from skmultiflow.trees.hoeffding_adaptive_tree import HoeffdingTree\n",
        "from sklearn.metrics import roc_auc_score\n",
        "from modAL.uncertainty import classifier_uncertainty\n",
        "import random\n",
        "\n",
        "\n",
        "class ActivePipeline:\n",
        "    '''inspired by modAL.models.ActiveLearner\n",
        "    '''\n",
        "    def __init__(self, model, preprocessor, class_weights):\n",
        "        self.model = model\n",
        "        self.preprocessor = preprocessor\n",
        "        self.class_weights = class_weights\n",
        "\n",
        "    @staticmethod\n",
        "    def values(X):\n",
        "        if isinstance(X, (np.ndarray, np.int64)):\n",
        "            return X\n",
        "        else:\n",
        "            return X.values\n",
        "\n",
        "    def preprocess(self, X):\n",
        "        X_ = pd.DataFrame(\n",
        "            data=self.values(X),\n",
        "            columns=['V1', 'V2', 'V3', 'V4',\n",
        "                     'V5', 'V6', 'V7', 'V8',\n",
        "                     'V9', 'V10', 'V11',\n",
        "                     'V12', 'V13', 'V14',\n",
        "                     'V15', 'V16']\n",
        "        )\n",
        "        return self.preprocessor.transform(X_)\n",
        "\n",
        "    def fit(self, X, ys):\n",
        "        weights = [self.class_weights[y] for y in ys]\n",
        "        self.model.fit(self.preprocess(X), self.values(ys))  #, classes=ys.unique(), weight=weights)  # classes\n",
        "\n",
        "    def update(self, X, ys):\n",
        "        if isinstance(ys, (int, float)):\n",
        "            weight = self.class_weights[y]\n",
        "        else:\n",
        "            weight = [self.class_weights[y] for y in ys]\n",
        "        self.model.partial_fit(\n",
        "            self.preprocess(X),\n",
        "            self.values(ys),\n",
        "            weight\n",
        "        )\n",
        "\n",
        "    def predict(self, X):\n",
        "        return self.model.predict(\n",
        "            self.preprocess(X)\n",
        "        )\n",
        "\n",
        "    def predict_proba(self, X):\n",
        "        return self.model.predict_proba(\n",
        "            self.preprocess(X)\n",
        "        )\n",
        "\n",
        "    def max_margin_uncertainty(self, X):\n",
        "        '''similar to modAL.uncertainty.margin_uncertainty\n",
        "\n",
        "        Returns\n",
        "        - the index of the highest margin uncertainty\n",
        "        - the uncertainty\n",
        "        '''\n",
        "        probs = self.predict_proba(X)\n",
        "        uncertainties = ((probs[:,2] - probs[:, 1]) + 1.0) / 2.0\n",
        "        ind = random.choices(range(len(uncertainties)), uncertainties)\n",
        "        #ind = np.argmax(uncertainties)\n",
        "        return ind, uncertainties[ind]\n",
        "\n",
        "    def score(self, X, y):\n",
        "        return roc_auc_score(y, self.predict(X))\n",
        "\n",
        "active_pipeline = ActivePipeline(HoeffdingTree(), preprocessor, class_weights.to_dict())\n",
        "active_pipeline.model.classes = [0, 1, 2]"
      ],
      "execution_count": 0,
      "outputs": []
    },
    {
      "cell_type": "code",
      "metadata": {
        "id": "lK7YcicKO2BK",
        "colab_type": "code",
        "colab": {}
      },
      "source": [
        "from collections import namedtuple\n",
        "\n",
        "X_all = X.copy().reset_index(drop=True)\n",
        "y_all = y.copy().reset_index(drop=True)\n",
        "\n",
        "N = len(X)\n",
        "n_initial = 100\n",
        "initial_idx = np.random.choice(\n",
        "    len(X_all), size=n_initial, replace=False\n",
        ")\n",
        "X_train, y_train = X_all.iloc[initial_idx], y_all.iloc[initial_idx]\n",
        "\n",
        "# learner = ActiveLearner(\n",
        "#     estimator=model,\n",
        "#     X_training=X_train,\n",
        "#     y_training=y_train,\n",
        "# )\n",
        "active_pipeline.fit(X_train, y_train.astype(int))"
      ],
      "execution_count": 0,
      "outputs": []
    },
    {
      "cell_type": "code",
      "metadata": {
        "id": "bCpCV3l1lVZW",
        "colab_type": "code",
        "colab": {
          "base_uri": "https://localhost:8080/",
          "height": 34
        },
        "outputId": "39cc77e0-60a4-48f6-c8fe-8325161fd33d"
      },
      "source": [
        "Iteration = namedtuple(\n",
        "    'Iteration',\n",
        "    ['iteration',\n",
        "     'score',\n",
        "     'uncertainty',\n",
        "     'target']\n",
        ")\n",
        "\n",
        "history = []\n",
        "it = 0\n",
        "learned = []\n",
        "print(learner.score(X, y))\n",
        "while score < 0.90 and it <= N:\n",
        "    stream_idx, uncertainty = active_pipeline.max_margin_uncertainty(X_all)\n",
        "    active_pipeline.update(\n",
        "        np.array(X_all.iloc[stream_idx], ndmin=2),\n",
        "        np.array(y_all.astype(int).iloc[stream_idx], ndmin=1)\n",
        "    )\n",
        "    score = learner.score(X, y)\n",
        "    history.append(\n",
        "        Iteration(\n",
        "            iteration=it,\n",
        "            score=score,\n",
        "            uncertainty=uncertainty,\n",
        "            target=y_all.iloc[stream_idx]\n",
        "        )\n",
        "    )\n",
        "    X_all = X_all.drop(stream_idx).reset_index(drop=True)\n",
        "    y_all = y_all.drop(stream_idx).reset_index(drop=True)\n",
        "    it += 1\n"
      ],
      "execution_count": 0,
      "outputs": [
        {
          "output_type": "stream",
          "text": [
            "0.8739023688925261\n"
          ],
          "name": "stdout"
        }
      ]
    },
    {
      "cell_type": "code",
      "metadata": {
        "id": "0wzt9M_L1y3L",
        "colab_type": "code",
        "colab": {
          "base_uri": "https://localhost:8080/",
          "height": 34
        },
        "outputId": "42cb6e5e-f3a0-4040-9927-eb7208c01958"
      },
      "source": [
        "history[1].iteration"
      ],
      "execution_count": 264,
      "outputs": [
        {
          "output_type": "execute_result",
          "data": {
            "text/plain": [
              "0"
            ]
          },
          "metadata": {
            "tags": []
          },
          "execution_count": 264
        }
      ]
    },
    {
      "cell_type": "code",
      "metadata": {
        "id": "n7kHNdXJ1y6W",
        "colab_type": "code",
        "colab": {
          "base_uri": "https://localhost:8080/",
          "height": 34
        },
        "outputId": "249be246-1b96-4423-f1e5-adf74544d321"
      },
      "source": [
        "len(history)"
      ],
      "execution_count": 254,
      "outputs": [
        {
          "output_type": "execute_result",
          "data": {
            "text/plain": [
              "1247"
            ]
          },
          "metadata": {
            "tags": []
          },
          "execution_count": 254
        }
      ]
    },
    {
      "cell_type": "code",
      "metadata": {
        "id": "RssB0AEQOlc8",
        "colab_type": "code",
        "colab": {
          "base_uri": "https://localhost:8080/",
          "height": 296
        },
        "outputId": "4e10f7ad-42b1-4dcd-aa56-f3865c27e285"
      },
      "source": [
        "plt.plot(\n",
        "    [hist.iteration for hist in history if not isinstance(hist, float)],\n",
        "    [hist.uncertainty for hist in history if not isinstance(hist, float)],\n",
        "    color='red',\n",
        "    marker='o',\n",
        "    linestyle='dashed',\n",
        "    linewidth=1,\n",
        "    markersize=8\n",
        ")\n",
        "plt.plot(\n",
        "    [hist.iteration for hist in history if not isinstance(hist, float)],\n",
        "    [hist.score for hist in history if not isinstance(hist, float)],\n",
        "    color='blue',\n",
        "    marker='o',\n",
        "    linestyle='dashed',\n",
        "    linewidth=1,\n",
        "    markersize=8\n",
        ")\n",
        "\n",
        "plt.xlabel(\"iteration\")\n",
        "#plt.ylabel(\"uncertainty\")\n",
        "plt.legend([\"uncertainty\", 'score'])\n"
      ],
      "execution_count": 278,
      "outputs": [
        {
          "output_type": "execute_result",
          "data": {
            "text/plain": [
              "<matplotlib.legend.Legend at 0x7fe6610dc780>"
            ]
          },
          "metadata": {
            "tags": []
          },
          "execution_count": 278
        },
        {
          "output_type": "display_data",
          "data": {
            "image/png": "[encoded data removed]",
            "text/plain": [
              "<Figure size 432x288 with 1 Axes>"
            ]
          },
          "metadata": {
            "tags": []
          }
        }
      ]
    },
    {
      "cell_type": "code",
      "metadata": {
        "id": "QJsSkinT2G9x",
        "colab_type": "code",
        "colab": {
          "base_uri": "https://localhost:8080/",
          "height": 323
        },
        "outputId": "4f2c3b93-a066-4b8f-f9d7-c2b5f3e2fecc"
      },
      "source": [
        "[hist.score for hist in history if not isinstance(hist, float)],"
      ],
      "execution_count": 279,
      "outputs": [
        {
          "output_type": "execute_result",
          "data": {
            "text/plain": [
              "([0.8739023688925261,\n",
              "  0.8739023688925261,\n",
              "  0.8739023688925261,\n",
              "  0.8739023688925261,\n",
              "  0.8739023688925261,\n",
              "  0.8739023688925261,\n",
              "  0.8739023688925261,\n",
              "  0.8739023688925261,\n",
              "  0.8739023688925261,\n",
              "  0.8739023688925261,\n",
              "  0.8739023688925261,\n",
              "  0.8739023688925261,\n",
              "  0.8739023688925261,\n",
              "  0.8739023688925261,\n",
              "  0.8739023688925261,\n",
              "  0.8739023688925261,\n",
              "  0.8739023688925261,\n",
              "  0.8739023688925261],)"
            ]
          },
          "metadata": {
            "tags": []
          },
          "execution_count": 279
        }
      ]
    },
    {
      "cell_type": "code",
      "metadata": {
        "id": "UAn8nL2QDbac",
        "colab_type": "code",
        "colab": {}
      },
      "source": [
        "from mlxtend.plotting import plot_decision_regions\n",
        "plot_decision_regions(X_train, y_train, clf=resampling_pipeline_brf, legend=2)"
      ],
      "execution_count": 0,
      "outputs": []
    }
  ]
}