{
 "cells": [
  {
   "cell_type": "code",
   "execution_count": null,
   "metadata": {},
   "outputs": [],
   "source": [
    "%tensorflow_version 1.x\n",
    "!pip install -q gpt-2-simple"
   ]
  },
  {
   "cell_type": "markdown",
   "metadata": {},
   "source": [
    "# Finetuning the gpt2 model"
   ]
  },
  {
   "cell_type": "code",
   "execution_count": null,
   "metadata": {},
   "outputs": [],
   "source": [
    "import gpt_2_simple as gpt2\n",
    "gpt2.download_gpt2(model_name='124M')"
   ]
  },
  {
   "cell_type": "code",
   "execution_count": null,
   "metadata": {},
   "outputs": [],
   "source": [
    "gpt2.mount_gdrive()"
   ]
  },
  {
   "cell_type": "code",
   "execution_count": null,
   "metadata": {},
   "outputs": [],
   "source": [
    "gpt2.copy_file_from_gdrive('pride_and_prejudice.txt')"
   ]
  },
  {
   "cell_type": "code",
   "execution_count": null,
   "metadata": {},
   "outputs": [],
   "source": [
    "sess = gpt2.start_tf_sess()\n",
    "\n",
    "gpt2.finetune(\n",
    "    sess,\n",
    "    dataset=file_name,\n",
    "    model_name='124M',\n",
    "    steps=1000,\n",
    "    restore_from='fresh',\n",
    "    run_name='run1',\n",
    "    print_every=10,\n",
    "    sample_every=200,\n",
    "    save_every=500\n",
    ")"
   ]
  },
  {
   "cell_type": "markdown",
   "metadata": {},
   "source": [
    "      she will now make her opinions known to the whole of the family, and\n",
    "      to all their friends.\n",
    "\n",
    "      “At a time when so many middle-aged people are moving into\n",
    "      town, when many couples are making fortunes off each other, when\n",
    "      many professions of taste are forming in the society, I am\n",
    "      really anxious to find some time here in the course of the next three\n",
    "      months to write to my dear Elizabeth, to seek her informed opinion\n",
    "      on this happy event, and to recommend it to her husband’s conduct as well\n",
    "      as her own. I often tell people to be cautious when they see\n",
    "      connections of importance here. What is to be done after my death?\n",
    "      To go through the world in such a way as to be forgotten?”\n",
    "\n",
    "      Mr. Bennet replied that he would write again at length to write\n",
    "      very near to the last lines of his letter. Elizabeth cried\n",
    "      out in alarm, and while she remained, a sense of shame had\n",
    "      entered her of her being the less attentive companion she had been\n",
    "      when she first distinguished her acquaintance. Anxiety increased\n",
    "      every moment for the other to return to her senses, and\n",
    "      every opportunity for Mr. Bennet to shine any brighter was given\n",
    "      by the very first letter.\n"
   ]
  },
  {
   "cell_type": "code",
   "execution_count": null,
   "metadata": {},
   "outputs": [],
   "source": [
    "# save model checkpoints to google drive:\n",
    "gpt2.copy_checkpoint_to_gdrive(run_name='run1')"
   ]
  },
  {
   "cell_type": "code",
   "execution_count": null,
   "metadata": {},
   "outputs": [],
   "source": [
    "# for more training after colab restarts\n",
    "\n",
    "# 1. copy checkpoint from google drive:\n",
    "gpt2.copy_checkpoint_from_gdrive(run_name='run1')\n",
    "\n",
    "# 2. continue training:\n",
    "sess = gpt2.start_tf_sess()\n",
    "\n",
    "gpt2.finetune(\n",
    "    sess,\n",
    "    dataset=file_name,\n",
    "    model_name='124M',\n",
    "    steps=500,\n",
    "    restore_from='latest',\n",
    "    run_name='run1',\n",
    "    print_every=10,\n",
    "    overwrite=True,\n",
    "    sample_every=200,\n",
    "    save_every=100\n",
    ")\n",
    "# copy checkpoints to google drive again:\n",
    "gpt2.copy_checkpoint_to_gdrive(run_name='run1')"
   ]
  },
  {
   "cell_type": "markdown",
   "metadata": {},
   "source": [
    "# Generating text"
   ]
  },
  {
   "cell_type": "code",
   "execution_count": null,
   "metadata": {},
   "outputs": [],
   "source": [
    "gpt2.copy_checkpoint_from_gdrive(run_name='run1')\n",
    "sess = gpt2.start_tf_sess()\n",
    "gpt2.load_gpt2(sess, run_name='run1')"
   ]
  },
  {
   "cell_type": "code",
   "execution_count": null,
   "metadata": {},
   "outputs": [],
   "source": [
    "gen_file = 'gpt2_gentext_{:%Y%m%d_%H%M%S}.txt'.format(datetime.utcnow())\n",
    "\n",
    "gpt2.generate_to_file(\n",
    "  sess,\n",
    "  destination_path=gen_file,\n",
    "  #length=500,\n",
    "  temperature=0.7,\n",
    "  nsamples=100,\n",
    "  batch_size=20\n",
    ")\n",
    "files.download(gen_file)"
   ]
  }
 ],
 "metadata": {
  "kernelspec": {
   "display_name": "Python 3",
   "language": "python",
   "name": "python3"
  },
  "language_info": {
   "codemirror_mode": {
    "name": "ipython",
    "version": 3
   },
   "file_extension": ".py",
   "mimetype": "text/x-python",
   "name": "python",
   "nbconvert_exporter": "python",
   "pygments_lexer": "ipython3",
   "version": "3.6.7"
  }
 },
 "nbformat": 4,
 "nbformat_minor": 2
}
