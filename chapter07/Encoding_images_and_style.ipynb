{
  "nbformat": 4,
  "nbformat_minor": 0,
  "metadata": {
    "kernelspec": {
      "display_name": "Python 3",
      "language": "python",
      "name": "python3"
    },
    "language_info": {
      "codemirror_mode": {
        "name": "ipython",
        "version": 3
      },
      "file_extension": ".py",
      "mimetype": "text/x-python",
      "name": "python",
      "nbconvert_exporter": "python",
      "pygments_lexer": "ipython3",
      "version": "3.6.8"
    },
    "colab": {
      "name": "Adversarial Autoencoder",
      "provenance": [],
      "collapsed_sections": []
    },
    "accelerator": "GPU",
    "widgets": {
      "application/vnd.jupyter.widget-state+json": {
        "5055a419f76b4eeeb1631d10437c16d2": {
          "model_module": "@jupyter-widgets/controls",
          "model_name": "HBoxModel",
          "state": {
            "_view_name": "HBoxView",
            "_dom_classes": [],
            "_model_name": "HBoxModel",
            "_view_module": "@jupyter-widgets/controls",
            "_model_module_version": "1.5.0",
            "_view_count": null,
            "_view_module_version": "1.5.0",
            "box_style": "",
            "layout": "IPY_MODEL_89a872adae744a66ac143f5366643c8a",
            "_model_module": "@jupyter-widgets/controls",
            "children": [
              "IPY_MODEL_7c8be8c5987e467aad2600e21cfe5d97",
              "IPY_MODEL_519ef18a6353416c8d0336da063863ce"
            ]
          }
        },
        "89a872adae744a66ac143f5366643c8a": {
          "model_module": "@jupyter-widgets/base",
          "model_name": "LayoutModel",
          "state": {
            "_view_name": "LayoutView",
            "grid_template_rows": null,
            "right": null,
            "justify_content": null,
            "_view_module": "@jupyter-widgets/base",
            "overflow": null,
            "_model_module_version": "1.2.0",
            "_view_count": null,
            "flex_flow": null,
            "width": null,
            "min_width": null,
            "border": null,
            "align_items": null,
            "bottom": null,
            "_model_module": "@jupyter-widgets/base",
            "top": null,
            "grid_column": null,
            "overflow_y": null,
            "overflow_x": null,
            "grid_auto_flow": null,
            "grid_area": null,
            "grid_template_columns": null,
            "flex": null,
            "_model_name": "LayoutModel",
            "justify_items": null,
            "grid_row": null,
            "max_height": null,
            "align_content": null,
            "visibility": null,
            "align_self": null,
            "height": null,
            "min_height": null,
            "padding": null,
            "grid_auto_rows": null,
            "grid_gap": null,
            "max_width": null,
            "order": null,
            "_view_module_version": "1.2.0",
            "grid_template_areas": null,
            "object_position": null,
            "object_fit": null,
            "grid_auto_columns": null,
            "margin": null,
            "display": null,
            "left": null
          }
        },
        "7c8be8c5987e467aad2600e21cfe5d97": {
          "model_module": "@jupyter-widgets/controls",
          "model_name": "FloatProgressModel",
          "state": {
            "_view_name": "ProgressView",
            "style": "IPY_MODEL_4d012b794f8541e08e095afcd855432b",
            "_dom_classes": [],
            "description": "",
            "_model_name": "FloatProgressModel",
            "bar_style": "info",
            "max": 1,
            "_view_module": "@jupyter-widgets/controls",
            "_model_module_version": "1.5.0",
            "value": 1,
            "_view_count": null,
            "_view_module_version": "1.5.0",
            "orientation": "horizontal",
            "min": 0,
            "description_tooltip": null,
            "_model_module": "@jupyter-widgets/controls",
            "layout": "IPY_MODEL_6709262cb785487497a4d64c4fc5fe2d"
          }
        },
        "519ef18a6353416c8d0336da063863ce": {
          "model_module": "@jupyter-widgets/controls",
          "model_name": "HTMLModel",
          "state": {
            "_view_name": "HTMLView",
            "style": "IPY_MODEL_351fe5aa61f844b6bed585d5aa331261",
            "_dom_classes": [],
            "description": "",
            "_model_name": "HTMLModel",
            "placeholder": "​",
            "_view_module": "@jupyter-widgets/controls",
            "_model_module_version": "1.5.0",
            "value": " 9920512/? [00:20&lt;00:00, 1218267.24it/s]",
            "_view_count": null,
            "_view_module_version": "1.5.0",
            "description_tooltip": null,
            "_model_module": "@jupyter-widgets/controls",
            "layout": "IPY_MODEL_3a909ad161d14ee6b054e60762ed9895"
          }
        },
        "4d012b794f8541e08e095afcd855432b": {
          "model_module": "@jupyter-widgets/controls",
          "model_name": "ProgressStyleModel",
          "state": {
            "_view_name": "StyleView",
            "_model_name": "ProgressStyleModel",
            "description_width": "initial",
            "_view_module": "@jupyter-widgets/base",
            "_model_module_version": "1.5.0",
            "_view_count": null,
            "_view_module_version": "1.2.0",
            "bar_color": null,
            "_model_module": "@jupyter-widgets/controls"
          }
        },
        "6709262cb785487497a4d64c4fc5fe2d": {
          "model_module": "@jupyter-widgets/base",
          "model_name": "LayoutModel",
          "state": {
            "_view_name": "LayoutView",
            "grid_template_rows": null,
            "right": null,
            "justify_content": null,
            "_view_module": "@jupyter-widgets/base",
            "overflow": null,
            "_model_module_version": "1.2.0",
            "_view_count": null,
            "flex_flow": null,
            "width": null,
            "min_width": null,
            "border": null,
            "align_items": null,
            "bottom": null,
            "_model_module": "@jupyter-widgets/base",
            "top": null,
            "grid_column": null,
            "overflow_y": null,
            "overflow_x": null,
            "grid_auto_flow": null,
            "grid_area": null,
            "grid_template_columns": null,
            "flex": null,
            "_model_name": "LayoutModel",
            "justify_items": null,
            "grid_row": null,
            "max_height": null,
            "align_content": null,
            "visibility": null,
            "align_self": null,
            "height": null,
            "min_height": null,
            "padding": null,
            "grid_auto_rows": null,
            "grid_gap": null,
            "max_width": null,
            "order": null,
            "_view_module_version": "1.2.0",
            "grid_template_areas": null,
            "object_position": null,
            "object_fit": null,
            "grid_auto_columns": null,
            "margin": null,
            "display": null,
            "left": null
          }
        },
        "351fe5aa61f844b6bed585d5aa331261": {
          "model_module": "@jupyter-widgets/controls",
          "model_name": "DescriptionStyleModel",
          "state": {
            "_view_name": "StyleView",
            "_model_name": "DescriptionStyleModel",
            "description_width": "",
            "_view_module": "@jupyter-widgets/base",
            "_model_module_version": "1.5.0",
            "_view_count": null,
            "_view_module_version": "1.2.0",
            "_model_module": "@jupyter-widgets/controls"
          }
        },
        "3a909ad161d14ee6b054e60762ed9895": {
          "model_module": "@jupyter-widgets/base",
          "model_name": "LayoutModel",
          "state": {
            "_view_name": "LayoutView",
            "grid_template_rows": null,
            "right": null,
            "justify_content": null,
            "_view_module": "@jupyter-widgets/base",
            "overflow": null,
            "_model_module_version": "1.2.0",
            "_view_count": null,
            "flex_flow": null,
            "width": null,
            "min_width": null,
            "border": null,
            "align_items": null,
            "bottom": null,
            "_model_module": "@jupyter-widgets/base",
            "top": null,
            "grid_column": null,
            "overflow_y": null,
            "overflow_x": null,
            "grid_auto_flow": null,
            "grid_area": null,
            "grid_template_columns": null,
            "flex": null,
            "_model_name": "LayoutModel",
            "justify_items": null,
            "grid_row": null,
            "max_height": null,
            "align_content": null,
            "visibility": null,
            "align_self": null,
            "height": null,
            "min_height": null,
            "padding": null,
            "grid_auto_rows": null,
            "grid_gap": null,
            "max_width": null,
            "order": null,
            "_view_module_version": "1.2.0",
            "grid_template_areas": null,
            "object_position": null,
            "object_fit": null,
            "grid_auto_columns": null,
            "margin": null,
            "display": null,
            "left": null
          }
        },
        "ab5d7fed15db410c9ed0b934573f81ee": {
          "model_module": "@jupyter-widgets/controls",
          "model_name": "HBoxModel",
          "state": {
            "_view_name": "HBoxView",
            "_dom_classes": [],
            "_model_name": "HBoxModel",
            "_view_module": "@jupyter-widgets/controls",
            "_model_module_version": "1.5.0",
            "_view_count": null,
            "_view_module_version": "1.5.0",
            "box_style": "",
            "layout": "IPY_MODEL_ed53c9655ffd454e901b7b435d1c4411",
            "_model_module": "@jupyter-widgets/controls",
            "children": [
              "IPY_MODEL_3c1a66919b2e4b3088ff421e72895c4a",
              "IPY_MODEL_e359288fff3e496eb2f98ea40b9da8bc"
            ]
          }
        },
        "ed53c9655ffd454e901b7b435d1c4411": {
          "model_module": "@jupyter-widgets/base",
          "model_name": "LayoutModel",
          "state": {
            "_view_name": "LayoutView",
            "grid_template_rows": null,
            "right": null,
            "justify_content": null,
            "_view_module": "@jupyter-widgets/base",
            "overflow": null,
            "_model_module_version": "1.2.0",
            "_view_count": null,
            "flex_flow": null,
            "width": null,
            "min_width": null,
            "border": null,
            "align_items": null,
            "bottom": null,
            "_model_module": "@jupyter-widgets/base",
            "top": null,
            "grid_column": null,
            "overflow_y": null,
            "overflow_x": null,
            "grid_auto_flow": null,
            "grid_area": null,
            "grid_template_columns": null,
            "flex": null,
            "_model_name": "LayoutModel",
            "justify_items": null,
            "grid_row": null,
            "max_height": null,
            "align_content": null,
            "visibility": null,
            "align_self": null,
            "height": null,
            "min_height": null,
            "padding": null,
            "grid_auto_rows": null,
            "grid_gap": null,
            "max_width": null,
            "order": null,
            "_view_module_version": "1.2.0",
            "grid_template_areas": null,
            "object_position": null,
            "object_fit": null,
            "grid_auto_columns": null,
            "margin": null,
            "display": null,
            "left": null
          }
        },
        "3c1a66919b2e4b3088ff421e72895c4a": {
          "model_module": "@jupyter-widgets/controls",
          "model_name": "FloatProgressModel",
          "state": {
            "_view_name": "ProgressView",
            "style": "IPY_MODEL_2b00a5528f0141ce9945e7972669e909",
            "_dom_classes": [],
            "description": "",
            "_model_name": "FloatProgressModel",
            "bar_style": "success",
            "max": 1,
            "_view_module": "@jupyter-widgets/controls",
            "_model_module_version": "1.5.0",
            "value": 1,
            "_view_count": null,
            "_view_module_version": "1.5.0",
            "orientation": "horizontal",
            "min": 0,
            "description_tooltip": null,
            "_model_module": "@jupyter-widgets/controls",
            "layout": "IPY_MODEL_9e052da52d304563982accb3165a7897"
          }
        },
        "e359288fff3e496eb2f98ea40b9da8bc": {
          "model_module": "@jupyter-widgets/controls",
          "model_name": "HTMLModel",
          "state": {
            "_view_name": "HTMLView",
            "style": "IPY_MODEL_b6d0b55e6c3741fb83937e578bc51c8f",
            "_dom_classes": [],
            "description": "",
            "_model_name": "HTMLModel",
            "placeholder": "​",
            "_view_module": "@jupyter-widgets/controls",
            "_model_module_version": "1.5.0",
            "value": " 32768/? [00:00&lt;00:00, 44203.32it/s]",
            "_view_count": null,
            "_view_module_version": "1.5.0",
            "description_tooltip": null,
            "_model_module": "@jupyter-widgets/controls",
            "layout": "IPY_MODEL_e9af099daf9349f68e1c1eefab2388d5"
          }
        },
        "2b00a5528f0141ce9945e7972669e909": {
          "model_module": "@jupyter-widgets/controls",
          "model_name": "ProgressStyleModel",
          "state": {
            "_view_name": "StyleView",
            "_model_name": "ProgressStyleModel",
            "description_width": "initial",
            "_view_module": "@jupyter-widgets/base",
            "_model_module_version": "1.5.0",
            "_view_count": null,
            "_view_module_version": "1.2.0",
            "bar_color": null,
            "_model_module": "@jupyter-widgets/controls"
          }
        },
        "9e052da52d304563982accb3165a7897": {
          "model_module": "@jupyter-widgets/base",
          "model_name": "LayoutModel",
          "state": {
            "_view_name": "LayoutView",
            "grid_template_rows": null,
            "right": null,
            "justify_content": null,
            "_view_module": "@jupyter-widgets/base",
            "overflow": null,
            "_model_module_version": "1.2.0",
            "_view_count": null,
            "flex_flow": null,
            "width": null,
            "min_width": null,
            "border": null,
            "align_items": null,
            "bottom": null,
            "_model_module": "@jupyter-widgets/base",
            "top": null,
            "grid_column": null,
            "overflow_y": null,
            "overflow_x": null,
            "grid_auto_flow": null,
            "grid_area": null,
            "grid_template_columns": null,
            "flex": null,
            "_model_name": "LayoutModel",
            "justify_items": null,
            "grid_row": null,
            "max_height": null,
            "align_content": null,
            "visibility": null,
            "align_self": null,
            "height": null,
            "min_height": null,
            "padding": null,
            "grid_auto_rows": null,
            "grid_gap": null,
            "max_width": null,
            "order": null,
            "_view_module_version": "1.2.0",
            "grid_template_areas": null,
            "object_position": null,
            "object_fit": null,
            "grid_auto_columns": null,
            "margin": null,
            "display": null,
            "left": null
          }
        },
        "b6d0b55e6c3741fb83937e578bc51c8f": {
          "model_module": "@jupyter-widgets/controls",
          "model_name": "DescriptionStyleModel",
          "state": {
            "_view_name": "StyleView",
            "_model_name": "DescriptionStyleModel",
            "description_width": "",
            "_view_module": "@jupyter-widgets/base",
            "_model_module_version": "1.5.0",
            "_view_count": null,
            "_view_module_version": "1.2.0",
            "_model_module": "@jupyter-widgets/controls"
          }
        },
        "e9af099daf9349f68e1c1eefab2388d5": {
          "model_module": "@jupyter-widgets/base",
          "model_name": "LayoutModel",
          "state": {
            "_view_name": "LayoutView",
            "grid_template_rows": null,
            "right": null,
            "justify_content": null,
            "_view_module": "@jupyter-widgets/base",
            "overflow": null,
            "_model_module_version": "1.2.0",
            "_view_count": null,
            "flex_flow": null,
            "width": null,
            "min_width": null,
            "border": null,
            "align_items": null,
            "bottom": null,
            "_model_module": "@jupyter-widgets/base",
            "top": null,
            "grid_column": null,
            "overflow_y": null,
            "overflow_x": null,
            "grid_auto_flow": null,
            "grid_area": null,
            "grid_template_columns": null,
            "flex": null,
            "_model_name": "LayoutModel",
            "justify_items": null,
            "grid_row": null,
            "max_height": null,
            "align_content": null,
            "visibility": null,
            "align_self": null,
            "height": null,
            "min_height": null,
            "padding": null,
            "grid_auto_rows": null,
            "grid_gap": null,
            "max_width": null,
            "order": null,
            "_view_module_version": "1.2.0",
            "grid_template_areas": null,
            "object_position": null,
            "object_fit": null,
            "grid_auto_columns": null,
            "margin": null,
            "display": null,
            "left": null
          }
        },
        "7e370014a54d4cdc957e4ea9dc6d17a8": {
          "model_module": "@jupyter-widgets/controls",
          "model_name": "HBoxModel",
          "state": {
            "_view_name": "HBoxView",
            "_dom_classes": [],
            "_model_name": "HBoxModel",
            "_view_module": "@jupyter-widgets/controls",
            "_model_module_version": "1.5.0",
            "_view_count": null,
            "_view_module_version": "1.5.0",
            "box_style": "",
            "layout": "IPY_MODEL_cd27b4e78ada4c51b46c423ee0130276",
            "_model_module": "@jupyter-widgets/controls",
            "children": [
              "IPY_MODEL_7753e3b34ec8450881619cd1ef10f238",
              "IPY_MODEL_d25a5f4e315e4b47a73779a0bf81bba3"
            ]
          }
        },
        "cd27b4e78ada4c51b46c423ee0130276": {
          "model_module": "@jupyter-widgets/base",
          "model_name": "LayoutModel",
          "state": {
            "_view_name": "LayoutView",
            "grid_template_rows": null,
            "right": null,
            "justify_content": null,
            "_view_module": "@jupyter-widgets/base",
            "overflow": null,
            "_model_module_version": "1.2.0",
            "_view_count": null,
            "flex_flow": null,
            "width": null,
            "min_width": null,
            "border": null,
            "align_items": null,
            "bottom": null,
            "_model_module": "@jupyter-widgets/base",
            "top": null,
            "grid_column": null,
            "overflow_y": null,
            "overflow_x": null,
            "grid_auto_flow": null,
            "grid_area": null,
            "grid_template_columns": null,
            "flex": null,
            "_model_name": "LayoutModel",
            "justify_items": null,
            "grid_row": null,
            "max_height": null,
            "align_content": null,
            "visibility": null,
            "align_self": null,
            "height": null,
            "min_height": null,
            "padding": null,
            "grid_auto_rows": null,
            "grid_gap": null,
            "max_width": null,
            "order": null,
            "_view_module_version": "1.2.0",
            "grid_template_areas": null,
            "object_position": null,
            "object_fit": null,
            "grid_auto_columns": null,
            "margin": null,
            "display": null,
            "left": null
          }
        },
        "7753e3b34ec8450881619cd1ef10f238": {
          "model_module": "@jupyter-widgets/controls",
          "model_name": "FloatProgressModel",
          "state": {
            "_view_name": "ProgressView",
            "style": "IPY_MODEL_83521e57da3c49ad8ba31e89c4ab5450",
            "_dom_classes": [],
            "description": "",
            "_model_name": "FloatProgressModel",
            "bar_style": "info",
            "max": 1,
            "_view_module": "@jupyter-widgets/controls",
            "_model_module_version": "1.5.0",
            "value": 1,
            "_view_count": null,
            "_view_module_version": "1.5.0",
            "orientation": "horizontal",
            "min": 0,
            "description_tooltip": null,
            "_model_module": "@jupyter-widgets/controls",
            "layout": "IPY_MODEL_51b6165ac6764ac8a4c8049647989ec7"
          }
        },
        "d25a5f4e315e4b47a73779a0bf81bba3": {
          "model_module": "@jupyter-widgets/controls",
          "model_name": "HTMLModel",
          "state": {
            "_view_name": "HTMLView",
            "style": "IPY_MODEL_41883abe8ac24c2b91a64dd6f78072ff",
            "_dom_classes": [],
            "description": "",
            "_model_name": "HTMLModel",
            "placeholder": "​",
            "_view_module": "@jupyter-widgets/controls",
            "_model_module_version": "1.5.0",
            "value": " 1654784/? [00:15&lt;00:00, 232712.53it/s]",
            "_view_count": null,
            "_view_module_version": "1.5.0",
            "description_tooltip": null,
            "_model_module": "@jupyter-widgets/controls",
            "layout": "IPY_MODEL_6f7e40f293344103ba4023a6994732ce"
          }
        },
        "83521e57da3c49ad8ba31e89c4ab5450": {
          "model_module": "@jupyter-widgets/controls",
          "model_name": "ProgressStyleModel",
          "state": {
            "_view_name": "StyleView",
            "_model_name": "ProgressStyleModel",
            "description_width": "initial",
            "_view_module": "@jupyter-widgets/base",
            "_model_module_version": "1.5.0",
            "_view_count": null,
            "_view_module_version": "1.2.0",
            "bar_color": null,
            "_model_module": "@jupyter-widgets/controls"
          }
        },
        "51b6165ac6764ac8a4c8049647989ec7": {
          "model_module": "@jupyter-widgets/base",
          "model_name": "LayoutModel",
          "state": {
            "_view_name": "LayoutView",
            "grid_template_rows": null,
            "right": null,
            "justify_content": null,
            "_view_module": "@jupyter-widgets/base",
            "overflow": null,
            "_model_module_version": "1.2.0",
            "_view_count": null,
            "flex_flow": null,
            "width": null,
            "min_width": null,
            "border": null,
            "align_items": null,
            "bottom": null,
            "_model_module": "@jupyter-widgets/base",
            "top": null,
            "grid_column": null,
            "overflow_y": null,
            "overflow_x": null,
            "grid_auto_flow": null,
            "grid_area": null,
            "grid_template_columns": null,
            "flex": null,
            "_model_name": "LayoutModel",
            "justify_items": null,
            "grid_row": null,
            "max_height": null,
            "align_content": null,
            "visibility": null,
            "align_self": null,
            "height": null,
            "min_height": null,
            "padding": null,
            "grid_auto_rows": null,
            "grid_gap": null,
            "max_width": null,
            "order": null,
            "_view_module_version": "1.2.0",
            "grid_template_areas": null,
            "object_position": null,
            "object_fit": null,
            "grid_auto_columns": null,
            "margin": null,
            "display": null,
            "left": null
          }
        },
        "41883abe8ac24c2b91a64dd6f78072ff": {
          "model_module": "@jupyter-widgets/controls",
          "model_name": "DescriptionStyleModel",
          "state": {
            "_view_name": "StyleView",
            "_model_name": "DescriptionStyleModel",
            "description_width": "",
            "_view_module": "@jupyter-widgets/base",
            "_model_module_version": "1.5.0",
            "_view_count": null,
            "_view_module_version": "1.2.0",
            "_model_module": "@jupyter-widgets/controls"
          }
        },
        "6f7e40f293344103ba4023a6994732ce": {
          "model_module": "@jupyter-widgets/base",
          "model_name": "LayoutModel",
          "state": {
            "_view_name": "LayoutView",
            "grid_template_rows": null,
            "right": null,
            "justify_content": null,
            "_view_module": "@jupyter-widgets/base",
            "overflow": null,
            "_model_module_version": "1.2.0",
            "_view_count": null,
            "flex_flow": null,
            "width": null,
            "min_width": null,
            "border": null,
            "align_items": null,
            "bottom": null,
            "_model_module": "@jupyter-widgets/base",
            "top": null,
            "grid_column": null,
            "overflow_y": null,
            "overflow_x": null,
            "grid_auto_flow": null,
            "grid_area": null,
            "grid_template_columns": null,
            "flex": null,
            "_model_name": "LayoutModel",
            "justify_items": null,
            "grid_row": null,
            "max_height": null,
            "align_content": null,
            "visibility": null,
            "align_self": null,
            "height": null,
            "min_height": null,
            "padding": null,
            "grid_auto_rows": null,
            "grid_gap": null,
            "max_width": null,
            "order": null,
            "_view_module_version": "1.2.0",
            "grid_template_areas": null,
            "object_position": null,
            "object_fit": null,
            "grid_auto_columns": null,
            "margin": null,
            "display": null,
            "left": null
          }
        },
        "18cdc20f99fb42f284806dfdd9771397": {
          "model_module": "@jupyter-widgets/controls",
          "model_name": "HBoxModel",
          "state": {
            "_view_name": "HBoxView",
            "_dom_classes": [],
            "_model_name": "HBoxModel",
            "_view_module": "@jupyter-widgets/controls",
            "_model_module_version": "1.5.0",
            "_view_count": null,
            "_view_module_version": "1.5.0",
            "box_style": "",
            "layout": "IPY_MODEL_e22349aa34e14d6fa7d4054e3f9d979d",
            "_model_module": "@jupyter-widgets/controls",
            "children": [
              "IPY_MODEL_b57006eb245143ea8947b40a874e10b8",
              "IPY_MODEL_3b4781e8ad04419a900b3ddc4f370982"
            ]
          }
        },
        "e22349aa34e14d6fa7d4054e3f9d979d": {
          "model_module": "@jupyter-widgets/base",
          "model_name": "LayoutModel",
          "state": {
            "_view_name": "LayoutView",
            "grid_template_rows": null,
            "right": null,
            "justify_content": null,
            "_view_module": "@jupyter-widgets/base",
            "overflow": null,
            "_model_module_version": "1.2.0",
            "_view_count": null,
            "flex_flow": null,
            "width": null,
            "min_width": null,
            "border": null,
            "align_items": null,
            "bottom": null,
            "_model_module": "@jupyter-widgets/base",
            "top": null,
            "grid_column": null,
            "overflow_y": null,
            "overflow_x": null,
            "grid_auto_flow": null,
            "grid_area": null,
            "grid_template_columns": null,
            "flex": null,
            "_model_name": "LayoutModel",
            "justify_items": null,
            "grid_row": null,
            "max_height": null,
            "align_content": null,
            "visibility": null,
            "align_self": null,
            "height": null,
            "min_height": null,
            "padding": null,
            "grid_auto_rows": null,
            "grid_gap": null,
            "max_width": null,
            "order": null,
            "_view_module_version": "1.2.0",
            "grid_template_areas": null,
            "object_position": null,
            "object_fit": null,
            "grid_auto_columns": null,
            "margin": null,
            "display": null,
            "left": null
          }
        },
        "b57006eb245143ea8947b40a874e10b8": {
          "model_module": "@jupyter-widgets/controls",
          "model_name": "FloatProgressModel",
          "state": {
            "_view_name": "ProgressView",
            "style": "IPY_MODEL_bcb3083db1334ec1bcbf9428c769eab2",
            "_dom_classes": [],
            "description": "  0%",
            "_model_name": "FloatProgressModel",
            "bar_style": "info",
            "max": 1,
            "_view_module": "@jupyter-widgets/controls",
            "_model_module_version": "1.5.0",
            "value": 0,
            "_view_count": null,
            "_view_module_version": "1.5.0",
            "orientation": "horizontal",
            "min": 0,
            "description_tooltip": null,
            "_model_module": "@jupyter-widgets/controls",
            "layout": "IPY_MODEL_a8053f35634d4c32984f449b91a5da99"
          }
        },
        "3b4781e8ad04419a900b3ddc4f370982": {
          "model_module": "@jupyter-widgets/controls",
          "model_name": "HTMLModel",
          "state": {
            "_view_name": "HTMLView",
            "style": "IPY_MODEL_37ddc97412824314893cc8dafedf0751",
            "_dom_classes": [],
            "description": "",
            "_model_name": "HTMLModel",
            "placeholder": "​",
            "_view_module": "@jupyter-widgets/controls",
            "_model_module_version": "1.5.0",
            "value": " 0/4542 [00:00&lt;?, ?it/s]",
            "_view_count": null,
            "_view_module_version": "1.5.0",
            "description_tooltip": null,
            "_model_module": "@jupyter-widgets/controls",
            "layout": "IPY_MODEL_ed98963ec51c4b65ae345e838a9fde68"
          }
        },
        "bcb3083db1334ec1bcbf9428c769eab2": {
          "model_module": "@jupyter-widgets/controls",
          "model_name": "ProgressStyleModel",
          "state": {
            "_view_name": "StyleView",
            "_model_name": "ProgressStyleModel",
            "description_width": "initial",
            "_view_module": "@jupyter-widgets/base",
            "_model_module_version": "1.5.0",
            "_view_count": null,
            "_view_module_version": "1.2.0",
            "bar_color": null,
            "_model_module": "@jupyter-widgets/controls"
          }
        },
        "a8053f35634d4c32984f449b91a5da99": {
          "model_module": "@jupyter-widgets/base",
          "model_name": "LayoutModel",
          "state": {
            "_view_name": "LayoutView",
            "grid_template_rows": null,
            "right": null,
            "justify_content": null,
            "_view_module": "@jupyter-widgets/base",
            "overflow": null,
            "_model_module_version": "1.2.0",
            "_view_count": null,
            "flex_flow": null,
            "width": null,
            "min_width": null,
            "border": null,
            "align_items": null,
            "bottom": null,
            "_model_module": "@jupyter-widgets/base",
            "top": null,
            "grid_column": null,
            "overflow_y": null,
            "overflow_x": null,
            "grid_auto_flow": null,
            "grid_area": null,
            "grid_template_columns": null,
            "flex": null,
            "_model_name": "LayoutModel",
            "justify_items": null,
            "grid_row": null,
            "max_height": null,
            "align_content": null,
            "visibility": null,
            "align_self": null,
            "height": null,
            "min_height": null,
            "padding": null,
            "grid_auto_rows": null,
            "grid_gap": null,
            "max_width": null,
            "order": null,
            "_view_module_version": "1.2.0",
            "grid_template_areas": null,
            "object_position": null,
            "object_fit": null,
            "grid_auto_columns": null,
            "margin": null,
            "display": null,
            "left": null
          }
        },
        "37ddc97412824314893cc8dafedf0751": {
          "model_module": "@jupyter-widgets/controls",
          "model_name": "DescriptionStyleModel",
          "state": {
            "_view_name": "StyleView",
            "_model_name": "DescriptionStyleModel",
            "description_width": "",
            "_view_module": "@jupyter-widgets/base",
            "_model_module_version": "1.5.0",
            "_view_count": null,
            "_view_module_version": "1.2.0",
            "_model_module": "@jupyter-widgets/controls"
          }
        },
        "ed98963ec51c4b65ae345e838a9fde68": {
          "model_module": "@jupyter-widgets/base",
          "model_name": "LayoutModel",
          "state": {
            "_view_name": "LayoutView",
            "grid_template_rows": null,
            "right": null,
            "justify_content": null,
            "_view_module": "@jupyter-widgets/base",
            "overflow": null,
            "_model_module_version": "1.2.0",
            "_view_count": null,
            "flex_flow": null,
            "width": null,
            "min_width": null,
            "border": null,
            "align_items": null,
            "bottom": null,
            "_model_module": "@jupyter-widgets/base",
            "top": null,
            "grid_column": null,
            "overflow_y": null,
            "overflow_x": null,
            "grid_auto_flow": null,
            "grid_area": null,
            "grid_template_columns": null,
            "flex": null,
            "_model_name": "LayoutModel",
            "justify_items": null,
            "grid_row": null,
            "max_height": null,
            "align_content": null,
            "visibility": null,
            "align_self": null,
            "height": null,
            "min_height": null,
            "padding": null,
            "grid_auto_rows": null,
            "grid_gap": null,
            "max_width": null,
            "order": null,
            "_view_module_version": "1.2.0",
            "grid_template_areas": null,
            "object_position": null,
            "object_fit": null,
            "grid_auto_columns": null,
            "margin": null,
            "display": null,
            "left": null
          }
        },
        "524a7ded117845c0a510bb774fda1a85": {
          "model_module": "@jupyter-widgets/controls",
          "model_name": "HBoxModel",
          "state": {
            "_view_name": "HBoxView",
            "_dom_classes": [],
            "_model_name": "HBoxModel",
            "_view_module": "@jupyter-widgets/controls",
            "_model_module_version": "1.5.0",
            "_view_count": null,
            "_view_module_version": "1.5.0",
            "box_style": "",
            "layout": "IPY_MODEL_d2719cf151ac40d09ed52a3cd4a0260a",
            "_model_module": "@jupyter-widgets/controls",
            "children": [
              "IPY_MODEL_1923d5e145e64519a94fa786cffb025b",
              "IPY_MODEL_e9549f5b3055490798772c5624f05fa2"
            ]
          }
        },
        "d2719cf151ac40d09ed52a3cd4a0260a": {
          "model_module": "@jupyter-widgets/base",
          "model_name": "LayoutModel",
          "state": {
            "_view_name": "LayoutView",
            "grid_template_rows": null,
            "right": null,
            "justify_content": null,
            "_view_module": "@jupyter-widgets/base",
            "overflow": null,
            "_model_module_version": "1.2.0",
            "_view_count": null,
            "flex_flow": null,
            "width": null,
            "min_width": null,
            "border": null,
            "align_items": null,
            "bottom": null,
            "_model_module": "@jupyter-widgets/base",
            "top": null,
            "grid_column": null,
            "overflow_y": null,
            "overflow_x": null,
            "grid_auto_flow": null,
            "grid_area": null,
            "grid_template_columns": null,
            "flex": null,
            "_model_name": "LayoutModel",
            "justify_items": null,
            "grid_row": null,
            "max_height": null,
            "align_content": null,
            "visibility": null,
            "align_self": null,
            "height": null,
            "min_height": null,
            "padding": null,
            "grid_auto_rows": null,
            "grid_gap": null,
            "max_width": null,
            "order": null,
            "_view_module_version": "1.2.0",
            "grid_template_areas": null,
            "object_position": null,
            "object_fit": null,
            "grid_auto_columns": null,
            "margin": null,
            "display": null,
            "left": null
          }
        },
        "1923d5e145e64519a94fa786cffb025b": {
          "model_module": "@jupyter-widgets/controls",
          "model_name": "FloatProgressModel",
          "state": {
            "_view_name": "ProgressView",
            "style": "IPY_MODEL_3cf62f8e27bd4383958a9d515c00f1e8",
            "_dom_classes": [],
            "description": "",
            "_model_name": "FloatProgressModel",
            "bar_style": "info",
            "max": 1,
            "_view_module": "@jupyter-widgets/controls",
            "_model_module_version": "1.5.0",
            "value": 1,
            "_view_count": null,
            "_view_module_version": "1.5.0",
            "orientation": "horizontal",
            "min": 0,
            "description_tooltip": null,
            "_model_module": "@jupyter-widgets/controls",
            "layout": "IPY_MODEL_baf17221257744c9bf05d66d4a8ca2b4"
          }
        },
        "e9549f5b3055490798772c5624f05fa2": {
          "model_module": "@jupyter-widgets/controls",
          "model_name": "HTMLModel",
          "state": {
            "_view_name": "HTMLView",
            "style": "IPY_MODEL_6e9e679eeed546d7ab1b878c431aab6c",
            "_dom_classes": [],
            "description": "",
            "_model_name": "HTMLModel",
            "placeholder": "​",
            "_view_module": "@jupyter-widgets/controls",
            "_model_module_version": "1.5.0",
            "value": " 9920512/? [00:23&lt;00:00, 1478052.66it/s]",
            "_view_count": null,
            "_view_module_version": "1.5.0",
            "description_tooltip": null,
            "_model_module": "@jupyter-widgets/controls",
            "layout": "IPY_MODEL_9550b0521f134e6cb754484aa06e7c24"
          }
        },
        "3cf62f8e27bd4383958a9d515c00f1e8": {
          "model_module": "@jupyter-widgets/controls",
          "model_name": "ProgressStyleModel",
          "state": {
            "_view_name": "StyleView",
            "_model_name": "ProgressStyleModel",
            "description_width": "initial",
            "_view_module": "@jupyter-widgets/base",
            "_model_module_version": "1.5.0",
            "_view_count": null,
            "_view_module_version": "1.2.0",
            "bar_color": null,
            "_model_module": "@jupyter-widgets/controls"
          }
        },
        "baf17221257744c9bf05d66d4a8ca2b4": {
          "model_module": "@jupyter-widgets/base",
          "model_name": "LayoutModel",
          "state": {
            "_view_name": "LayoutView",
            "grid_template_rows": null,
            "right": null,
            "justify_content": null,
            "_view_module": "@jupyter-widgets/base",
            "overflow": null,
            "_model_module_version": "1.2.0",
            "_view_count": null,
            "flex_flow": null,
            "width": null,
            "min_width": null,
            "border": null,
            "align_items": null,
            "bottom": null,
            "_model_module": "@jupyter-widgets/base",
            "top": null,
            "grid_column": null,
            "overflow_y": null,
            "overflow_x": null,
            "grid_auto_flow": null,
            "grid_area": null,
            "grid_template_columns": null,
            "flex": null,
            "_model_name": "LayoutModel",
            "justify_items": null,
            "grid_row": null,
            "max_height": null,
            "align_content": null,
            "visibility": null,
            "align_self": null,
            "height": null,
            "min_height": null,
            "padding": null,
            "grid_auto_rows": null,
            "grid_gap": null,
            "max_width": null,
            "order": null,
            "_view_module_version": "1.2.0",
            "grid_template_areas": null,
            "object_position": null,
            "object_fit": null,
            "grid_auto_columns": null,
            "margin": null,
            "display": null,
            "left": null
          }
        },
        "6e9e679eeed546d7ab1b878c431aab6c": {
          "model_module": "@jupyter-widgets/controls",
          "model_name": "DescriptionStyleModel",
          "state": {
            "_view_name": "StyleView",
            "_model_name": "DescriptionStyleModel",
            "description_width": "",
            "_view_module": "@jupyter-widgets/base",
            "_model_module_version": "1.5.0",
            "_view_count": null,
            "_view_module_version": "1.2.0",
            "_model_module": "@jupyter-widgets/controls"
          }
        },
        "9550b0521f134e6cb754484aa06e7c24": {
          "model_module": "@jupyter-widgets/base",
          "model_name": "LayoutModel",
          "state": {
            "_view_name": "LayoutView",
            "grid_template_rows": null,
            "right": null,
            "justify_content": null,
            "_view_module": "@jupyter-widgets/base",
            "overflow": null,
            "_model_module_version": "1.2.0",
            "_view_count": null,
            "flex_flow": null,
            "width": null,
            "min_width": null,
            "border": null,
            "align_items": null,
            "bottom": null,
            "_model_module": "@jupyter-widgets/base",
            "top": null,
            "grid_column": null,
            "overflow_y": null,
            "overflow_x": null,
            "grid_auto_flow": null,
            "grid_area": null,
            "grid_template_columns": null,
            "flex": null,
            "_model_name": "LayoutModel",
            "justify_items": null,
            "grid_row": null,
            "max_height": null,
            "align_content": null,
            "visibility": null,
            "align_self": null,
            "height": null,
            "min_height": null,
            "padding": null,
            "grid_auto_rows": null,
            "grid_gap": null,
            "max_width": null,
            "order": null,
            "_view_module_version": "1.2.0",
            "grid_template_areas": null,
            "object_position": null,
            "object_fit": null,
            "grid_auto_columns": null,
            "margin": null,
            "display": null,
            "left": null
          }
        },
        "54f61ee5814643fd80792202779689d7": {
          "model_module": "@jupyter-widgets/controls",
          "model_name": "HBoxModel",
          "state": {
            "_view_name": "HBoxView",
            "_dom_classes": [],
            "_model_name": "HBoxModel",
            "_view_module": "@jupyter-widgets/controls",
            "_model_module_version": "1.5.0",
            "_view_count": null,
            "_view_module_version": "1.5.0",
            "box_style": "",
            "layout": "IPY_MODEL_055a4a1d46824764b7270b4db08bd511",
            "_model_module": "@jupyter-widgets/controls",
            "children": [
              "IPY_MODEL_3aee8446080d473fa33113fad84d39d2",
              "IPY_MODEL_460e681edf264d6587287f8b598e14d5"
            ]
          }
        },
        "055a4a1d46824764b7270b4db08bd511": {
          "model_module": "@jupyter-widgets/base",
          "model_name": "LayoutModel",
          "state": {
            "_view_name": "LayoutView",
            "grid_template_rows": null,
            "right": null,
            "justify_content": null,
            "_view_module": "@jupyter-widgets/base",
            "overflow": null,
            "_model_module_version": "1.2.0",
            "_view_count": null,
            "flex_flow": null,
            "width": null,
            "min_width": null,
            "border": null,
            "align_items": null,
            "bottom": null,
            "_model_module": "@jupyter-widgets/base",
            "top": null,
            "grid_column": null,
            "overflow_y": null,
            "overflow_x": null,
            "grid_auto_flow": null,
            "grid_area": null,
            "grid_template_columns": null,
            "flex": null,
            "_model_name": "LayoutModel",
            "justify_items": null,
            "grid_row": null,
            "max_height": null,
            "align_content": null,
            "visibility": null,
            "align_self": null,
            "height": null,
            "min_height": null,
            "padding": null,
            "grid_auto_rows": null,
            "grid_gap": null,
            "max_width": null,
            "order": null,
            "_view_module_version": "1.2.0",
            "grid_template_areas": null,
            "object_position": null,
            "object_fit": null,
            "grid_auto_columns": null,
            "margin": null,
            "display": null,
            "left": null
          }
        },
        "3aee8446080d473fa33113fad84d39d2": {
          "model_module": "@jupyter-widgets/controls",
          "model_name": "FloatProgressModel",
          "state": {
            "_view_name": "ProgressView",
            "style": "IPY_MODEL_f7ef66916a1542a497d11bf2bae52c69",
            "_dom_classes": [],
            "description": "",
            "_model_name": "FloatProgressModel",
            "bar_style": "info",
            "max": 1,
            "_view_module": "@jupyter-widgets/controls",
            "_model_module_version": "1.5.0",
            "value": 1,
            "_view_count": null,
            "_view_module_version": "1.5.0",
            "orientation": "horizontal",
            "min": 0,
            "description_tooltip": null,
            "_model_module": "@jupyter-widgets/controls",
            "layout": "IPY_MODEL_3a5669e6cd834605bd9c92a10ed4b11e"
          }
        },
        "460e681edf264d6587287f8b598e14d5": {
          "model_module": "@jupyter-widgets/controls",
          "model_name": "HTMLModel",
          "state": {
            "_view_name": "HTMLView",
            "style": "IPY_MODEL_520d85523aa84599a232ce01a093e305",
            "_dom_classes": [],
            "description": "",
            "_model_name": "HTMLModel",
            "placeholder": "​",
            "_view_module": "@jupyter-widgets/controls",
            "_model_module_version": "1.5.0",
            "value": " 32768/? [00:19&lt;00:00, 70207.38it/s]",
            "_view_count": null,
            "_view_module_version": "1.5.0",
            "description_tooltip": null,
            "_model_module": "@jupyter-widgets/controls",
            "layout": "IPY_MODEL_f95bea4eb9f34e77bb0e6b6ded60b53c"
          }
        },
        "f7ef66916a1542a497d11bf2bae52c69": {
          "model_module": "@jupyter-widgets/controls",
          "model_name": "ProgressStyleModel",
          "state": {
            "_view_name": "StyleView",
            "_model_name": "ProgressStyleModel",
            "description_width": "initial",
            "_view_module": "@jupyter-widgets/base",
            "_model_module_version": "1.5.0",
            "_view_count": null,
            "_view_module_version": "1.2.0",
            "bar_color": null,
            "_model_module": "@jupyter-widgets/controls"
          }
        },
        "3a5669e6cd834605bd9c92a10ed4b11e": {
          "model_module": "@jupyter-widgets/base",
          "model_name": "LayoutModel",
          "state": {
            "_view_name": "LayoutView",
            "grid_template_rows": null,
            "right": null,
            "justify_content": null,
            "_view_module": "@jupyter-widgets/base",
            "overflow": null,
            "_model_module_version": "1.2.0",
            "_view_count": null,
            "flex_flow": null,
            "width": null,
            "min_width": null,
            "border": null,
            "align_items": null,
            "bottom": null,
            "_model_module": "@jupyter-widgets/base",
            "top": null,
            "grid_column": null,
            "overflow_y": null,
            "overflow_x": null,
            "grid_auto_flow": null,
            "grid_area": null,
            "grid_template_columns": null,
            "flex": null,
            "_model_name": "LayoutModel",
            "justify_items": null,
            "grid_row": null,
            "max_height": null,
            "align_content": null,
            "visibility": null,
            "align_self": null,
            "height": null,
            "min_height": null,
            "padding": null,
            "grid_auto_rows": null,
            "grid_gap": null,
            "max_width": null,
            "order": null,
            "_view_module_version": "1.2.0",
            "grid_template_areas": null,
            "object_position": null,
            "object_fit": null,
            "grid_auto_columns": null,
            "margin": null,
            "display": null,
            "left": null
          }
        },
        "520d85523aa84599a232ce01a093e305": {
          "model_module": "@jupyter-widgets/controls",
          "model_name": "DescriptionStyleModel",
          "state": {
            "_view_name": "StyleView",
            "_model_name": "DescriptionStyleModel",
            "description_width": "",
            "_view_module": "@jupyter-widgets/base",
            "_model_module_version": "1.5.0",
            "_view_count": null,
            "_view_module_version": "1.2.0",
            "_model_module": "@jupyter-widgets/controls"
          }
        },
        "f95bea4eb9f34e77bb0e6b6ded60b53c": {
          "model_module": "@jupyter-widgets/base",
          "model_name": "LayoutModel",
          "state": {
            "_view_name": "LayoutView",
            "grid_template_rows": null,
            "right": null,
            "justify_content": null,
            "_view_module": "@jupyter-widgets/base",
            "overflow": null,
            "_model_module_version": "1.2.0",
            "_view_count": null,
            "flex_flow": null,
            "width": null,
            "min_width": null,
            "border": null,
            "align_items": null,
            "bottom": null,
            "_model_module": "@jupyter-widgets/base",
            "top": null,
            "grid_column": null,
            "overflow_y": null,
            "overflow_x": null,
            "grid_auto_flow": null,
            "grid_area": null,
            "grid_template_columns": null,
            "flex": null,
            "_model_name": "LayoutModel",
            "justify_items": null,
            "grid_row": null,
            "max_height": null,
            "align_content": null,
            "visibility": null,
            "align_self": null,
            "height": null,
            "min_height": null,
            "padding": null,
            "grid_auto_rows": null,
            "grid_gap": null,
            "max_width": null,
            "order": null,
            "_view_module_version": "1.2.0",
            "grid_template_areas": null,
            "object_position": null,
            "object_fit": null,
            "grid_auto_columns": null,
            "margin": null,
            "display": null,
            "left": null
          }
        },
        "fddd1b12997842db8562796bd1e773c9": {
          "model_module": "@jupyter-widgets/controls",
          "model_name": "HBoxModel",
          "state": {
            "_view_name": "HBoxView",
            "_dom_classes": [],
            "_model_name": "HBoxModel",
            "_view_module": "@jupyter-widgets/controls",
            "_model_module_version": "1.5.0",
            "_view_count": null,
            "_view_module_version": "1.5.0",
            "box_style": "",
            "layout": "IPY_MODEL_ae3218c233cc4fdba17d70339a43e552",
            "_model_module": "@jupyter-widgets/controls",
            "children": [
              "IPY_MODEL_958907c8baf54674a394a40c9bf73695",
              "IPY_MODEL_71499b940e5642e8b432c63a95226ec2"
            ]
          }
        },
        "ae3218c233cc4fdba17d70339a43e552": {
          "model_module": "@jupyter-widgets/base",
          "model_name": "LayoutModel",
          "state": {
            "_view_name": "LayoutView",
            "grid_template_rows": null,
            "right": null,
            "justify_content": null,
            "_view_module": "@jupyter-widgets/base",
            "overflow": null,
            "_model_module_version": "1.2.0",
            "_view_count": null,
            "flex_flow": null,
            "width": null,
            "min_width": null,
            "border": null,
            "align_items": null,
            "bottom": null,
            "_model_module": "@jupyter-widgets/base",
            "top": null,
            "grid_column": null,
            "overflow_y": null,
            "overflow_x": null,
            "grid_auto_flow": null,
            "grid_area": null,
            "grid_template_columns": null,
            "flex": null,
            "_model_name": "LayoutModel",
            "justify_items": null,
            "grid_row": null,
            "max_height": null,
            "align_content": null,
            "visibility": null,
            "align_self": null,
            "height": null,
            "min_height": null,
            "padding": null,
            "grid_auto_rows": null,
            "grid_gap": null,
            "max_width": null,
            "order": null,
            "_view_module_version": "1.2.0",
            "grid_template_areas": null,
            "object_position": null,
            "object_fit": null,
            "grid_auto_columns": null,
            "margin": null,
            "display": null,
            "left": null
          }
        },
        "958907c8baf54674a394a40c9bf73695": {
          "model_module": "@jupyter-widgets/controls",
          "model_name": "FloatProgressModel",
          "state": {
            "_view_name": "ProgressView",
            "style": "IPY_MODEL_6b8b151c8cf745679915be2b12369745",
            "_dom_classes": [],
            "description": "",
            "_model_name": "FloatProgressModel",
            "bar_style": "info",
            "max": 1,
            "_view_module": "@jupyter-widgets/controls",
            "_model_module_version": "1.5.0",
            "value": 1,
            "_view_count": null,
            "_view_module_version": "1.5.0",
            "orientation": "horizontal",
            "min": 0,
            "description_tooltip": null,
            "_model_module": "@jupyter-widgets/controls",
            "layout": "IPY_MODEL_c3462f5954894aea8fc2da672f4d577a"
          }
        },
        "71499b940e5642e8b432c63a95226ec2": {
          "model_module": "@jupyter-widgets/controls",
          "model_name": "HTMLModel",
          "state": {
            "_view_name": "HTMLView",
            "style": "IPY_MODEL_fde4cdfd198e45be9d3fe29b2072dd30",
            "_dom_classes": [],
            "description": "",
            "_model_name": "HTMLModel",
            "placeholder": "​",
            "_view_module": "@jupyter-widgets/controls",
            "_model_module_version": "1.5.0",
            "value": " 1654784/? [00:18&lt;00:00, 233839.51it/s]",
            "_view_count": null,
            "_view_module_version": "1.5.0",
            "description_tooltip": null,
            "_model_module": "@jupyter-widgets/controls",
            "layout": "IPY_MODEL_47b56deafd2649b48bc27420a2cb6a9a"
          }
        },
        "6b8b151c8cf745679915be2b12369745": {
          "model_module": "@jupyter-widgets/controls",
          "model_name": "ProgressStyleModel",
          "state": {
            "_view_name": "StyleView",
            "_model_name": "ProgressStyleModel",
            "description_width": "initial",
            "_view_module": "@jupyter-widgets/base",
            "_model_module_version": "1.5.0",
            "_view_count": null,
            "_view_module_version": "1.2.0",
            "bar_color": null,
            "_model_module": "@jupyter-widgets/controls"
          }
        },
        "c3462f5954894aea8fc2da672f4d577a": {
          "model_module": "@jupyter-widgets/base",
          "model_name": "LayoutModel",
          "state": {
            "_view_name": "LayoutView",
            "grid_template_rows": null,
            "right": null,
            "justify_content": null,
            "_view_module": "@jupyter-widgets/base",
            "overflow": null,
            "_model_module_version": "1.2.0",
            "_view_count": null,
            "flex_flow": null,
            "width": null,
            "min_width": null,
            "border": null,
            "align_items": null,
            "bottom": null,
            "_model_module": "@jupyter-widgets/base",
            "top": null,
            "grid_column": null,
            "overflow_y": null,
            "overflow_x": null,
            "grid_auto_flow": null,
            "grid_area": null,
            "grid_template_columns": null,
            "flex": null,
            "_model_name": "LayoutModel",
            "justify_items": null,
            "grid_row": null,
            "max_height": null,
            "align_content": null,
            "visibility": null,
            "align_self": null,
            "height": null,
            "min_height": null,
            "padding": null,
            "grid_auto_rows": null,
            "grid_gap": null,
            "max_width": null,
            "order": null,
            "_view_module_version": "1.2.0",
            "grid_template_areas": null,
            "object_position": null,
            "object_fit": null,
            "grid_auto_columns": null,
            "margin": null,
            "display": null,
            "left": null
          }
        },
        "fde4cdfd198e45be9d3fe29b2072dd30": {
          "model_module": "@jupyter-widgets/controls",
          "model_name": "DescriptionStyleModel",
          "state": {
            "_view_name": "StyleView",
            "_model_name": "DescriptionStyleModel",
            "description_width": "",
            "_view_module": "@jupyter-widgets/base",
            "_model_module_version": "1.5.0",
            "_view_count": null,
            "_view_module_version": "1.2.0",
            "_model_module": "@jupyter-widgets/controls"
          }
        },
        "47b56deafd2649b48bc27420a2cb6a9a": {
          "model_module": "@jupyter-widgets/base",
          "model_name": "LayoutModel",
          "state": {
            "_view_name": "LayoutView",
            "grid_template_rows": null,
            "right": null,
            "justify_content": null,
            "_view_module": "@jupyter-widgets/base",
            "overflow": null,
            "_model_module_version": "1.2.0",
            "_view_count": null,
            "flex_flow": null,
            "width": null,
            "min_width": null,
            "border": null,
            "align_items": null,
            "bottom": null,
            "_model_module": "@jupyter-widgets/base",
            "top": null,
            "grid_column": null,
            "overflow_y": null,
            "overflow_x": null,
            "grid_auto_flow": null,
            "grid_area": null,
            "grid_template_columns": null,
            "flex": null,
            "_model_name": "LayoutModel",
            "justify_items": null,
            "grid_row": null,
            "max_height": null,
            "align_content": null,
            "visibility": null,
            "align_self": null,
            "height": null,
            "min_height": null,
            "padding": null,
            "grid_auto_rows": null,
            "grid_gap": null,
            "max_width": null,
            "order": null,
            "_view_module_version": "1.2.0",
            "grid_template_areas": null,
            "object_position": null,
            "object_fit": null,
            "grid_auto_columns": null,
            "margin": null,
            "display": null,
            "left": null
          }
        },
        "87856dac2b5a4df185f27383de4e9c5f": {
          "model_module": "@jupyter-widgets/controls",
          "model_name": "HBoxModel",
          "state": {
            "_view_name": "HBoxView",
            "_dom_classes": [],
            "_model_name": "HBoxModel",
            "_view_module": "@jupyter-widgets/controls",
            "_model_module_version": "1.5.0",
            "_view_count": null,
            "_view_module_version": "1.5.0",
            "box_style": "",
            "layout": "IPY_MODEL_7ac3aaa9592d4e869fe8edd80d7b9203",
            "_model_module": "@jupyter-widgets/controls",
            "children": [
              "IPY_MODEL_97617fc556fb419fb74e1eb5febc3758",
              "IPY_MODEL_2b001a158b424becb64ee88ec772fd49"
            ]
          }
        },
        "7ac3aaa9592d4e869fe8edd80d7b9203": {
          "model_module": "@jupyter-widgets/base",
          "model_name": "LayoutModel",
          "state": {
            "_view_name": "LayoutView",
            "grid_template_rows": null,
            "right": null,
            "justify_content": null,
            "_view_module": "@jupyter-widgets/base",
            "overflow": null,
            "_model_module_version": "1.2.0",
            "_view_count": null,
            "flex_flow": null,
            "width": null,
            "min_width": null,
            "border": null,
            "align_items": null,
            "bottom": null,
            "_model_module": "@jupyter-widgets/base",
            "top": null,
            "grid_column": null,
            "overflow_y": null,
            "overflow_x": null,
            "grid_auto_flow": null,
            "grid_area": null,
            "grid_template_columns": null,
            "flex": null,
            "_model_name": "LayoutModel",
            "justify_items": null,
            "grid_row": null,
            "max_height": null,
            "align_content": null,
            "visibility": null,
            "align_self": null,
            "height": null,
            "min_height": null,
            "padding": null,
            "grid_auto_rows": null,
            "grid_gap": null,
            "max_width": null,
            "order": null,
            "_view_module_version": "1.2.0",
            "grid_template_areas": null,
            "object_position": null,
            "object_fit": null,
            "grid_auto_columns": null,
            "margin": null,
            "display": null,
            "left": null
          }
        },
        "97617fc556fb419fb74e1eb5febc3758": {
          "model_module": "@jupyter-widgets/controls",
          "model_name": "FloatProgressModel",
          "state": {
            "_view_name": "ProgressView",
            "style": "IPY_MODEL_6d52d8e228954fdd8dcc878ba4d11918",
            "_dom_classes": [],
            "description": "  0%",
            "_model_name": "FloatProgressModel",
            "bar_style": "info",
            "max": 1,
            "_view_module": "@jupyter-widgets/controls",
            "_model_module_version": "1.5.0",
            "value": 0,
            "_view_count": null,
            "_view_module_version": "1.5.0",
            "orientation": "horizontal",
            "min": 0,
            "description_tooltip": null,
            "_model_module": "@jupyter-widgets/controls",
            "layout": "IPY_MODEL_e8b247459e4e4ee298428b3b03e2afe0"
          }
        },
        "2b001a158b424becb64ee88ec772fd49": {
          "model_module": "@jupyter-widgets/controls",
          "model_name": "HTMLModel",
          "state": {
            "_view_name": "HTMLView",
            "style": "IPY_MODEL_d139025d06a449a9b6054fdd8657d358",
            "_dom_classes": [],
            "description": "",
            "_model_name": "HTMLModel",
            "placeholder": "​",
            "_view_module": "@jupyter-widgets/controls",
            "_model_module_version": "1.5.0",
            "value": " 0/4542 [00:00&lt;?, ?it/s]",
            "_view_count": null,
            "_view_module_version": "1.5.0",
            "description_tooltip": null,
            "_model_module": "@jupyter-widgets/controls",
            "layout": "IPY_MODEL_fe86ea0ffd1146ddaff0ee1754457ae1"
          }
        },
        "6d52d8e228954fdd8dcc878ba4d11918": {
          "model_module": "@jupyter-widgets/controls",
          "model_name": "ProgressStyleModel",
          "state": {
            "_view_name": "StyleView",
            "_model_name": "ProgressStyleModel",
            "description_width": "initial",
            "_view_module": "@jupyter-widgets/base",
            "_model_module_version": "1.5.0",
            "_view_count": null,
            "_view_module_version": "1.2.0",
            "bar_color": null,
            "_model_module": "@jupyter-widgets/controls"
          }
        },
        "e8b247459e4e4ee298428b3b03e2afe0": {
          "model_module": "@jupyter-widgets/base",
          "model_name": "LayoutModel",
          "state": {
            "_view_name": "LayoutView",
            "grid_template_rows": null,
            "right": null,
            "justify_content": null,
            "_view_module": "@jupyter-widgets/base",
            "overflow": null,
            "_model_module_version": "1.2.0",
            "_view_count": null,
            "flex_flow": null,
            "width": null,
            "min_width": null,
            "border": null,
            "align_items": null,
            "bottom": null,
            "_model_module": "@jupyter-widgets/base",
            "top": null,
            "grid_column": null,
            "overflow_y": null,
            "overflow_x": null,
            "grid_auto_flow": null,
            "grid_area": null,
            "grid_template_columns": null,
            "flex": null,
            "_model_name": "LayoutModel",
            "justify_items": null,
            "grid_row": null,
            "max_height": null,
            "align_content": null,
            "visibility": null,
            "align_self": null,
            "height": null,
            "min_height": null,
            "padding": null,
            "grid_auto_rows": null,
            "grid_gap": null,
            "max_width": null,
            "order": null,
            "_view_module_version": "1.2.0",
            "grid_template_areas": null,
            "object_position": null,
            "object_fit": null,
            "grid_auto_columns": null,
            "margin": null,
            "display": null,
            "left": null
          }
        },
        "d139025d06a449a9b6054fdd8657d358": {
          "model_module": "@jupyter-widgets/controls",
          "model_name": "DescriptionStyleModel",
          "state": {
            "_view_name": "StyleView",
            "_model_name": "DescriptionStyleModel",
            "description_width": "",
            "_view_module": "@jupyter-widgets/base",
            "_model_module_version": "1.5.0",
            "_view_count": null,
            "_view_module_version": "1.2.0",
            "_model_module": "@jupyter-widgets/controls"
          }
        },
        "fe86ea0ffd1146ddaff0ee1754457ae1": {
          "model_module": "@jupyter-widgets/base",
          "model_name": "LayoutModel",
          "state": {
            "_view_name": "LayoutView",
            "grid_template_rows": null,
            "right": null,
            "justify_content": null,
            "_view_module": "@jupyter-widgets/base",
            "overflow": null,
            "_model_module_version": "1.2.0",
            "_view_count": null,
            "flex_flow": null,
            "width": null,
            "min_width": null,
            "border": null,
            "align_items": null,
            "bottom": null,
            "_model_module": "@jupyter-widgets/base",
            "top": null,
            "grid_column": null,
            "overflow_y": null,
            "overflow_x": null,
            "grid_auto_flow": null,
            "grid_area": null,
            "grid_template_columns": null,
            "flex": null,
            "_model_name": "LayoutModel",
            "justify_items": null,
            "grid_row": null,
            "max_height": null,
            "align_content": null,
            "visibility": null,
            "align_self": null,
            "height": null,
            "min_height": null,
            "padding": null,
            "grid_auto_rows": null,
            "grid_gap": null,
            "max_width": null,
            "order": null,
            "_view_module_version": "1.2.0",
            "grid_template_areas": null,
            "object_position": null,
            "object_fit": null,
            "grid_auto_columns": null,
            "margin": null,
            "display": null,
            "left": null
          }
        },
        "c2c4d7e04a0c4454810005ea48825e67": {
          "model_module": "@jupyter-widgets/controls",
          "model_name": "HBoxModel",
          "state": {
            "_view_name": "HBoxView",
            "_dom_classes": [],
            "_model_name": "HBoxModel",
            "_view_module": "@jupyter-widgets/controls",
            "_model_module_version": "1.5.0",
            "_view_count": null,
            "_view_module_version": "1.5.0",
            "box_style": "",
            "layout": "IPY_MODEL_d0e4269289e24b06bc41ad817a591c40",
            "_model_module": "@jupyter-widgets/controls",
            "children": [
              "IPY_MODEL_ca66f7f7fcbd4eb48f9b177071d4d266",
              "IPY_MODEL_19c6b20130d74c69a637fbdf4299d504"
            ]
          }
        },
        "d0e4269289e24b06bc41ad817a591c40": {
          "model_module": "@jupyter-widgets/base",
          "model_name": "LayoutModel",
          "state": {
            "_view_name": "LayoutView",
            "grid_template_rows": null,
            "right": null,
            "justify_content": null,
            "_view_module": "@jupyter-widgets/base",
            "overflow": null,
            "_model_module_version": "1.2.0",
            "_view_count": null,
            "flex_flow": null,
            "width": null,
            "min_width": null,
            "border": null,
            "align_items": null,
            "bottom": null,
            "_model_module": "@jupyter-widgets/base",
            "top": null,
            "grid_column": null,
            "overflow_y": null,
            "overflow_x": null,
            "grid_auto_flow": null,
            "grid_area": null,
            "grid_template_columns": null,
            "flex": null,
            "_model_name": "LayoutModel",
            "justify_items": null,
            "grid_row": null,
            "max_height": null,
            "align_content": null,
            "visibility": null,
            "align_self": null,
            "height": null,
            "min_height": null,
            "padding": null,
            "grid_auto_rows": null,
            "grid_gap": null,
            "max_width": null,
            "order": null,
            "_view_module_version": "1.2.0",
            "grid_template_areas": null,
            "object_position": null,
            "object_fit": null,
            "grid_auto_columns": null,
            "margin": null,
            "display": null,
            "left": null
          }
        },
        "ca66f7f7fcbd4eb48f9b177071d4d266": {
          "model_module": "@jupyter-widgets/controls",
          "model_name": "FloatProgressModel",
          "state": {
            "_view_name": "ProgressView",
            "style": "IPY_MODEL_05ba0fd37d2e41be80484def973b084e",
            "_dom_classes": [],
            "description": "100%",
            "_model_name": "FloatProgressModel",
            "bar_style": "success",
            "max": 100,
            "_view_module": "@jupyter-widgets/controls",
            "_model_module_version": "1.5.0",
            "value": 100,
            "_view_count": null,
            "_view_module_version": "1.5.0",
            "orientation": "horizontal",
            "min": 0,
            "description_tooltip": null,
            "_model_module": "@jupyter-widgets/controls",
            "layout": "IPY_MODEL_d5746226bd6948c6b8ef1c005a1fcf5b"
          }
        },
        "19c6b20130d74c69a637fbdf4299d504": {
          "model_module": "@jupyter-widgets/controls",
          "model_name": "HTMLModel",
          "state": {
            "_view_name": "HTMLView",
            "style": "IPY_MODEL_ac3d1fed8e8b4128bcd2a6fc4c1fc733",
            "_dom_classes": [],
            "description": "",
            "_model_name": "HTMLModel",
            "placeholder": "​",
            "_view_module": "@jupyter-widgets/controls",
            "_model_module_version": "1.5.0",
            "value": " 100/100 [16:14&lt;00:00,  9.75s/it]",
            "_view_count": null,
            "_view_module_version": "1.5.0",
            "description_tooltip": null,
            "_model_module": "@jupyter-widgets/controls",
            "layout": "IPY_MODEL_d7be0fa5d4814d9f96df68b59eea66ce"
          }
        },
        "05ba0fd37d2e41be80484def973b084e": {
          "model_module": "@jupyter-widgets/controls",
          "model_name": "ProgressStyleModel",
          "state": {
            "_view_name": "StyleView",
            "_model_name": "ProgressStyleModel",
            "description_width": "initial",
            "_view_module": "@jupyter-widgets/base",
            "_model_module_version": "1.5.0",
            "_view_count": null,
            "_view_module_version": "1.2.0",
            "bar_color": null,
            "_model_module": "@jupyter-widgets/controls"
          }
        },
        "d5746226bd6948c6b8ef1c005a1fcf5b": {
          "model_module": "@jupyter-widgets/base",
          "model_name": "LayoutModel",
          "state": {
            "_view_name": "LayoutView",
            "grid_template_rows": null,
            "right": null,
            "justify_content": null,
            "_view_module": "@jupyter-widgets/base",
            "overflow": null,
            "_model_module_version": "1.2.0",
            "_view_count": null,
            "flex_flow": null,
            "width": null,
            "min_width": null,
            "border": null,
            "align_items": null,
            "bottom": null,
            "_model_module": "@jupyter-widgets/base",
            "top": null,
            "grid_column": null,
            "overflow_y": null,
            "overflow_x": null,
            "grid_auto_flow": null,
            "grid_area": null,
            "grid_template_columns": null,
            "flex": null,
            "_model_name": "LayoutModel",
            "justify_items": null,
            "grid_row": null,
            "max_height": null,
            "align_content": null,
            "visibility": null,
            "align_self": null,
            "height": null,
            "min_height": null,
            "padding": null,
            "grid_auto_rows": null,
            "grid_gap": null,
            "max_width": null,
            "order": null,
            "_view_module_version": "1.2.0",
            "grid_template_areas": null,
            "object_position": null,
            "object_fit": null,
            "grid_auto_columns": null,
            "margin": null,
            "display": null,
            "left": null
          }
        },
        "ac3d1fed8e8b4128bcd2a6fc4c1fc733": {
          "model_module": "@jupyter-widgets/controls",
          "model_name": "DescriptionStyleModel",
          "state": {
            "_view_name": "StyleView",
            "_model_name": "DescriptionStyleModel",
            "description_width": "",
            "_view_module": "@jupyter-widgets/base",
            "_model_module_version": "1.5.0",
            "_view_count": null,
            "_view_module_version": "1.2.0",
            "_model_module": "@jupyter-widgets/controls"
          }
        },
        "d7be0fa5d4814d9f96df68b59eea66ce": {
          "model_module": "@jupyter-widgets/base",
          "model_name": "LayoutModel",
          "state": {
            "_view_name": "LayoutView",
            "grid_template_rows": null,
            "right": null,
            "justify_content": null,
            "_view_module": "@jupyter-widgets/base",
            "overflow": null,
            "_model_module_version": "1.2.0",
            "_view_count": null,
            "flex_flow": null,
            "width": null,
            "min_width": null,
            "border": null,
            "align_items": null,
            "bottom": null,
            "_model_module": "@jupyter-widgets/base",
            "top": null,
            "grid_column": null,
            "overflow_y": null,
            "overflow_x": null,
            "grid_auto_flow": null,
            "grid_area": null,
            "grid_template_columns": null,
            "flex": null,
            "_model_name": "LayoutModel",
            "justify_items": null,
            "grid_row": null,
            "max_height": null,
            "align_content": null,
            "visibility": null,
            "align_self": null,
            "height": null,
            "min_height": null,
            "padding": null,
            "grid_auto_rows": null,
            "grid_gap": null,
            "max_width": null,
            "order": null,
            "_view_module_version": "1.2.0",
            "grid_template_areas": null,
            "object_position": null,
            "object_fit": null,
            "grid_auto_columns": null,
            "margin": null,
            "display": null,
            "left": null
          }
        }
      }
    }
  },
  "cells": [
    {
      "cell_type": "markdown",
      "metadata": {
        "id": "rfu0mkFT7Fsp",
        "colab_type": "text"
      },
      "source": [
        "Pytorch implementation of AAE \\\n",
        "A. Makhzani, J. Shlens, N. Jaitly, I. Goodfellow, B. Frey, Adversarial Autoencoders, ICLR, 2018\\\n",
        "https://ai.google/research/pubs/pub44904"
      ]
    },
    {
      "cell_type": "code",
      "metadata": {
        "id": "8CVQvgat-70F",
        "colab_type": "code",
        "colab": {}
      },
      "source": [
        "# based on https://github.com/shidilrzf/Adversarial-Autoencoders/blob/master/train.py"
      ],
      "execution_count": 32,
      "outputs": []
    },
    {
      "cell_type": "code",
      "metadata": {
        "id": "xt7lLIFvwRqt",
        "colab_type": "code",
        "colab": {
          "base_uri": "https://localhost:8080/",
          "height": 122
        },
        "outputId": "1c82ef00-8163-4d8d-cb49-18e9bc0ed91f"
      },
      "source": [
        "from google.colab import drive\n",
        "drive.mount('/content/drive')"
      ],
      "execution_count": 1,
      "outputs": [
        {
          "output_type": "stream",
          "text": [
            "Go to this URL in a browser: https://accounts.google.com/o/oauth2/auth?client_id=947318989803-6bn6qk8qdgf4n4g3pfee6491hc0brc4i.apps.googleusercontent.com&redirect_uri=urn%3aietf%3awg%3aoauth%3a2.0%3aoob&response_type=code&scope=email%20https%3a%2f%2fwww.googleapis.com%2fauth%2fdocs.test%20https%3a%2f%2fwww.googleapis.com%2fauth%2fdrive%20https%3a%2f%2fwww.googleapis.com%2fauth%2fdrive.photos.readonly%20https%3a%2f%2fwww.googleapis.com%2fauth%2fpeopleapi.readonly\n",
            "\n",
            "Enter your authorization code:\n",
            "··········\n",
            "Mounted at /content/drive\n"
          ],
          "name": "stdout"
        }
      ]
    },
    {
      "cell_type": "code",
      "metadata": {
        "id": "QJmNhIFu8Gom",
        "colab_type": "code",
        "colab": {
          "base_uri": "https://localhost:8080/",
          "height": 34
        },
        "outputId": "1b64487f-d155-4c39-aecc-9570617c7bb8"
      },
      "source": [
        "EPS = 1e-15\n",
        "\n",
        "\"\"\" GPU \"\"\"\n",
        "# Enable CUDA, set tensor type and device\n",
        "import torch\n",
        "\n",
        "use_cuda = True\n",
        "use_cuda = use_cuda and torch.cuda.is_available()\n",
        "print(use_cuda)\n",
        "if use_cuda:\n",
        "    dtype = torch.cuda.FloatTensor\n",
        "    device = torch.device('cuda:0')\n",
        "else:\n",
        "    dtype = torch.FloatTensor\n",
        "    device = torch.device('cpu')\n"
      ],
      "execution_count": 2,
      "outputs": [
        {
          "output_type": "stream",
          "text": [
            "True\n"
          ],
          "name": "stdout"
        }
      ]
    },
    {
      "cell_type": "code",
      "metadata": {
        "id": "WDESDDo4wirW",
        "colab_type": "code",
        "colab": {
          "base_uri": "https://localhost:8080/",
          "height": 34
        },
        "outputId": "5c799c12-c0b9-4094-b76a-6e2e9be7261f"
      },
      "source": [
        "!mkdir /content/drive/My\\ Drive/aae"
      ],
      "execution_count": 3,
      "outputs": [
        {
          "output_type": "stream",
          "text": [
            "mkdir: cannot create directory ‘/content/drive/My Drive/aae’: File exists\n"
          ],
          "name": "stdout"
        }
      ]
    },
    {
      "cell_type": "code",
      "metadata": {
        "id": "fCO54wjJ88hb",
        "colab_type": "code",
        "colab": {
          "base_uri": "https://localhost:8080/",
          "height": 71
        },
        "outputId": "f7ec0886-d36f-418f-a65e-d88685c029f7"
      },
      "source": [
        "import numpy as np\n",
        "\n",
        "import matplotlib.pyplot as plt\n",
        "import seaborn as sns\n",
        "\n",
        "from torch import autograd\n",
        "import torch.nn as nn\n",
        "from torch.utils.data import DataLoader, dataset\n",
        "from torchvision.datasets import MNIST\n",
        "import torchvision.transforms as T\n",
        "eps = np.finfo(float).eps\n",
        "\n",
        "from tqdm.notebook import trange\n",
        "from torchsummary import summary\n",
        "import argparse\n",
        "import os\n",
        "import time\n"
      ],
      "execution_count": 4,
      "outputs": [
        {
          "output_type": "stream",
          "text": [
            "/usr/local/lib/python3.6/dist-packages/statsmodels/tools/_testing.py:19: FutureWarning: pandas.util.testing is deprecated. Use the functions in the public API at pandas.testing instead.\n",
            "  import pandas.util.testing as tm\n"
          ],
          "name": "stderr"
        }
      ]
    },
    {
      "cell_type": "code",
      "metadata": {
        "id": "joLHyjRt9IBg",
        "colab_type": "code",
        "colab": {}
      },
      "source": [
        "batch_size = 1024\n",
        "n_classes = 10"
      ],
      "execution_count": 5,
      "outputs": []
    },
    {
      "cell_type": "code",
      "metadata": {
        "id": "bYckim6I8WMu",
        "colab_type": "code",
        "colab": {
          "base_uri": "https://localhost:8080/",
          "height": 667,
          "referenced_widgets": [
            "5055a419f76b4eeeb1631d10437c16d2",
            "89a872adae744a66ac143f5366643c8a",
            "7c8be8c5987e467aad2600e21cfe5d97",
            "519ef18a6353416c8d0336da063863ce",
            "4d012b794f8541e08e095afcd855432b",
            "6709262cb785487497a4d64c4fc5fe2d",
            "351fe5aa61f844b6bed585d5aa331261",
            "3a909ad161d14ee6b054e60762ed9895",
            "ab5d7fed15db410c9ed0b934573f81ee",
            "ed53c9655ffd454e901b7b435d1c4411",
            "3c1a66919b2e4b3088ff421e72895c4a",
            "e359288fff3e496eb2f98ea40b9da8bc",
            "2b00a5528f0141ce9945e7972669e909",
            "9e052da52d304563982accb3165a7897",
            "b6d0b55e6c3741fb83937e578bc51c8f",
            "e9af099daf9349f68e1c1eefab2388d5",
            "7e370014a54d4cdc957e4ea9dc6d17a8",
            "cd27b4e78ada4c51b46c423ee0130276",
            "7753e3b34ec8450881619cd1ef10f238",
            "d25a5f4e315e4b47a73779a0bf81bba3",
            "83521e57da3c49ad8ba31e89c4ab5450",
            "51b6165ac6764ac8a4c8049647989ec7",
            "41883abe8ac24c2b91a64dd6f78072ff",
            "6f7e40f293344103ba4023a6994732ce",
            "18cdc20f99fb42f284806dfdd9771397",
            "e22349aa34e14d6fa7d4054e3f9d979d",
            "b57006eb245143ea8947b40a874e10b8",
            "3b4781e8ad04419a900b3ddc4f370982",
            "bcb3083db1334ec1bcbf9428c769eab2",
            "a8053f35634d4c32984f449b91a5da99",
            "37ddc97412824314893cc8dafedf0751",
            "ed98963ec51c4b65ae345e838a9fde68",
            "524a7ded117845c0a510bb774fda1a85",
            "d2719cf151ac40d09ed52a3cd4a0260a",
            "1923d5e145e64519a94fa786cffb025b",
            "e9549f5b3055490798772c5624f05fa2",
            "3cf62f8e27bd4383958a9d515c00f1e8",
            "baf17221257744c9bf05d66d4a8ca2b4",
            "6e9e679eeed546d7ab1b878c431aab6c",
            "9550b0521f134e6cb754484aa06e7c24",
            "54f61ee5814643fd80792202779689d7",
            "055a4a1d46824764b7270b4db08bd511",
            "3aee8446080d473fa33113fad84d39d2",
            "460e681edf264d6587287f8b598e14d5",
            "f7ef66916a1542a497d11bf2bae52c69",
            "3a5669e6cd834605bd9c92a10ed4b11e",
            "520d85523aa84599a232ce01a093e305",
            "f95bea4eb9f34e77bb0e6b6ded60b53c",
            "fddd1b12997842db8562796bd1e773c9",
            "ae3218c233cc4fdba17d70339a43e552",
            "958907c8baf54674a394a40c9bf73695",
            "71499b940e5642e8b432c63a95226ec2",
            "6b8b151c8cf745679915be2b12369745",
            "c3462f5954894aea8fc2da672f4d577a",
            "fde4cdfd198e45be9d3fe29b2072dd30",
            "47b56deafd2649b48bc27420a2cb6a9a",
            "87856dac2b5a4df185f27383de4e9c5f",
            "7ac3aaa9592d4e869fe8edd80d7b9203",
            "97617fc556fb419fb74e1eb5febc3758",
            "2b001a158b424becb64ee88ec772fd49",
            "6d52d8e228954fdd8dcc878ba4d11918",
            "e8b247459e4e4ee298428b3b03e2afe0",
            "d139025d06a449a9b6054fdd8657d358",
            "fe86ea0ffd1146ddaff0ee1754457ae1"
          ]
        },
        "outputId": "3cdac951-0c7e-4b73-daf4-4681e1b6f709"
      },
      "source": [
        "train_loader = torch.utils.data.DataLoader(\n",
        "    MNIST(\n",
        "        'Data/',\n",
        "        train=True,\n",
        "        download=True,\n",
        "        transform=T.Compose([\n",
        "                T.transforms.ToTensor(),\n",
        "                T.Normalize((0.1307,), (0.3081,))  # mean and std deviation of the MNIST dataset\n",
        "        ])\n",
        "    ),\n",
        "    batch_size=batch_size,\n",
        "    shuffle=True\n",
        ")\n",
        "\n",
        "val_loader = torch.utils.data.DataLoader(\n",
        "    MNIST(\n",
        "        'Diles/',\n",
        "        train=False,\n",
        "        download=True,\n",
        "        transform=T.Compose([\n",
        "                T.transforms.ToTensor(),\n",
        "                T.Normalize((0.1307,), (0.3081,))\n",
        "        ])\n",
        "    ),\n",
        "    batch_size=batch_size,\n",
        "    shuffle=False\n",
        ")"
      ],
      "execution_count": 6,
      "outputs": [
        {
          "output_type": "stream",
          "text": [
            "Downloading http://yann.lecun.com/exdb/mnist/train-images-idx3-ubyte.gz to Data/MNIST/raw/train-images-idx3-ubyte.gz\n"
          ],
          "name": "stdout"
        },
        {
          "output_type": "display_data",
          "data": {
            "application/vnd.jupyter.widget-view+json": {
              "model_id": "5055a419f76b4eeeb1631d10437c16d2",
              "version_minor": 0,
              "version_major": 2
            },
            "text/plain": [
              "HBox(children=(FloatProgress(value=1.0, bar_style='info', max=1.0), HTML(value='')))"
            ]
          },
          "metadata": {
            "tags": []
          }
        },
        {
          "output_type": "stream",
          "text": [
            "Extracting Data/MNIST/raw/train-images-idx3-ubyte.gz to Data/MNIST/raw\n",
            "Downloading http://yann.lecun.com/exdb/mnist/train-labels-idx1-ubyte.gz to Data/MNIST/raw/train-labels-idx1-ubyte.gz\n"
          ],
          "name": "stdout"
        },
        {
          "output_type": "display_data",
          "data": {
            "application/vnd.jupyter.widget-view+json": {
              "model_id": "ab5d7fed15db410c9ed0b934573f81ee",
              "version_minor": 0,
              "version_major": 2
            },
            "text/plain": [
              "HBox(children=(FloatProgress(value=1.0, bar_style='info', max=1.0), HTML(value='')))"
            ]
          },
          "metadata": {
            "tags": []
          }
        },
        {
          "output_type": "stream",
          "text": [
            "Extracting Data/MNIST/raw/train-labels-idx1-ubyte.gz to Data/MNIST/raw\n",
            "Downloading http://yann.lecun.com/exdb/mnist/t10k-images-idx3-ubyte.gz to Data/MNIST/raw/t10k-images-idx3-ubyte.gz\n",
            "\n"
          ],
          "name": "stdout"
        },
        {
          "output_type": "display_data",
          "data": {
            "application/vnd.jupyter.widget-view+json": {
              "model_id": "7e370014a54d4cdc957e4ea9dc6d17a8",
              "version_minor": 0,
              "version_major": 2
            },
            "text/plain": [
              "HBox(children=(FloatProgress(value=1.0, bar_style='info', max=1.0), HTML(value='')))"
            ]
          },
          "metadata": {
            "tags": []
          }
        },
        {
          "output_type": "stream",
          "text": [
            "Extracting Data/MNIST/raw/t10k-images-idx3-ubyte.gz to Data/MNIST/raw\n",
            "Downloading http://yann.lecun.com/exdb/mnist/t10k-labels-idx1-ubyte.gz to Data/MNIST/raw/t10k-labels-idx1-ubyte.gz\n"
          ],
          "name": "stdout"
        },
        {
          "output_type": "display_data",
          "data": {
            "application/vnd.jupyter.widget-view+json": {
              "model_id": "18cdc20f99fb42f284806dfdd9771397",
              "version_minor": 0,
              "version_major": 2
            },
            "text/plain": [
              "HBox(children=(FloatProgress(value=1.0, bar_style='info', max=1.0), HTML(value='')))"
            ]
          },
          "metadata": {
            "tags": []
          }
        },
        {
          "output_type": "stream",
          "text": [
            "Extracting Data/MNIST/raw/t10k-labels-idx1-ubyte.gz to Data/MNIST/raw\n",
            "Processing...\n",
            "Done!\n",
            "Downloading http://yann.lecun.com/exdb/mnist/train-images-idx3-ubyte.gz to Diles/MNIST/raw/train-images-idx3-ubyte.gz\n"
          ],
          "name": "stdout"
        },
        {
          "output_type": "stream",
          "text": [
            "/pytorch/torch/csrc/utils/tensor_numpy.cpp:141: UserWarning: The given NumPy array is not writeable, and PyTorch does not support non-writeable tensors. This means you can write to the underlying (supposedly non-writeable) NumPy array using the tensor. You may want to copy the array to protect its data or make it writeable before converting it to a tensor. This type of warning will be suppressed for the rest of this program.\n"
          ],
          "name": "stderr"
        },
        {
          "output_type": "display_data",
          "data": {
            "application/vnd.jupyter.widget-view+json": {
              "model_id": "524a7ded117845c0a510bb774fda1a85",
              "version_minor": 0,
              "version_major": 2
            },
            "text/plain": [
              "HBox(children=(FloatProgress(value=1.0, bar_style='info', max=1.0), HTML(value='')))"
            ]
          },
          "metadata": {
            "tags": []
          }
        },
        {
          "output_type": "stream",
          "text": [
            "Extracting Diles/MNIST/raw/train-images-idx3-ubyte.gz to Diles/MNIST/raw\n",
            "Downloading http://yann.lecun.com/exdb/mnist/train-labels-idx1-ubyte.gz to Diles/MNIST/raw/train-labels-idx1-ubyte.gz\n"
          ],
          "name": "stdout"
        },
        {
          "output_type": "display_data",
          "data": {
            "application/vnd.jupyter.widget-view+json": {
              "model_id": "54f61ee5814643fd80792202779689d7",
              "version_minor": 0,
              "version_major": 2
            },
            "text/plain": [
              "HBox(children=(FloatProgress(value=1.0, bar_style='info', max=1.0), HTML(value='')))"
            ]
          },
          "metadata": {
            "tags": []
          }
        },
        {
          "output_type": "stream",
          "text": [
            "Extracting Diles/MNIST/raw/train-labels-idx1-ubyte.gz to Diles/MNIST/raw\n",
            "Downloading http://yann.lecun.com/exdb/mnist/t10k-images-idx3-ubyte.gz to Diles/MNIST/raw/t10k-images-idx3-ubyte.gz\n"
          ],
          "name": "stdout"
        },
        {
          "output_type": "display_data",
          "data": {
            "application/vnd.jupyter.widget-view+json": {
              "model_id": "fddd1b12997842db8562796bd1e773c9",
              "version_minor": 0,
              "version_major": 2
            },
            "text/plain": [
              "HBox(children=(FloatProgress(value=1.0, bar_style='info', max=1.0), HTML(value='')))"
            ]
          },
          "metadata": {
            "tags": []
          }
        },
        {
          "output_type": "stream",
          "text": [
            "Extracting Diles/MNIST/raw/t10k-images-idx3-ubyte.gz to Diles/MNIST/raw\n",
            "Downloading http://yann.lecun.com/exdb/mnist/t10k-labels-idx1-ubyte.gz to Diles/MNIST/raw/t10k-labels-idx1-ubyte.gz\n"
          ],
          "name": "stdout"
        },
        {
          "output_type": "display_data",
          "data": {
            "application/vnd.jupyter.widget-view+json": {
              "model_id": "87856dac2b5a4df185f27383de4e9c5f",
              "version_minor": 0,
              "version_major": 2
            },
            "text/plain": [
              "HBox(children=(FloatProgress(value=1.0, bar_style='info', max=1.0), HTML(value='')))"
            ]
          },
          "metadata": {
            "tags": []
          }
        },
        {
          "output_type": "stream",
          "text": [
            "Extracting Diles/MNIST/raw/t10k-labels-idx1-ubyte.gz to Diles/MNIST/raw\n",
            "Processing...\n",
            "Done!\n"
          ],
          "name": "stdout"
        }
      ]
    },
    {
      "cell_type": "code",
      "metadata": {
        "id": "Sspvj-NI9ZxS",
        "colab_type": "code",
        "colab": {}
      },
      "source": [
        "supervised = True\n",
        "dims = 10  if not supervised else 2  # size of representation layer\n",
        "Model_dir = '/content/drive/My Drive/aae/'\n",
        "Fig_dir = '/content/drive/My Drive/aae/'"
      ],
      "execution_count": 275,
      "outputs": []
    },
    {
      "cell_type": "code",
      "metadata": {
        "id": "QWzKYuqt8Csz",
        "colab_type": "code",
        "colab": {}
      },
      "source": [
        "from torch import nn\n",
        "import torch.nn.functional as F\n",
        "\n",
        "\n",
        "class Encoder(nn.Module):\n",
        "    '''Q-net'''\n",
        "    def __init__(self, dim_input, hidden_dim, dim_z):\n",
        "        super(Encoder, self).__init__()\n",
        "        self.dim_input = dim_input  # image size\n",
        "        self.hidden_dim = hidden_dim\n",
        "        self.dim_z = dim_z\n",
        "        self.network = []\n",
        "        self.network.extend([\n",
        "            nn.Linear(self.dim_input, self.hidden_dim),\n",
        "            nn.Dropout(p=0.2),\n",
        "            nn.ReLU(),\n",
        "            nn.Linear(self.hidden_dim, self.hidden_dim),\n",
        "            nn.Dropout(p=0.2),\n",
        "            nn.ReLU(),\n",
        "            nn.Linear(self.hidden_dim, self.dim_z),\n",
        "        ])\n",
        "        self.network = nn.Sequential(*self.network)\n",
        "    def forward(self, x):\n",
        "        z = self.network(x)\n",
        "        return z\n",
        "\n",
        "class Decoder(nn.Module):\n",
        "    '''P-net'''\n",
        "    def __init__(self, dim_input , hidden_dim, dim_z, supervised=False):\n",
        "        super(Decoder, self).__init__()\n",
        "        self.dim_input = dim_input\n",
        "        self.hidden_dim = hidden_dim\n",
        "        self.dim_z = dim_z\n",
        "        self.supervised = supervised\n",
        "        self.network = []\n",
        "        input_dim = self.dim_z if not self.supervised else self.dim_z + n_classes\n",
        "        self.network.extend([\n",
        "            nn.Linear(input_dim, self.hidden_dim),\n",
        "            nn.ReLU(),\n",
        "            nn.Dropout(p=0.2),\n",
        "            nn.Linear(self.hidden_dim, self.hidden_dim),\n",
        "            nn.ReLU(),\n",
        "            nn.Dropout(p=0.2),\n",
        "            nn.Linear(self.hidden_dim, self.dim_input),\n",
        "            nn.Sigmoid(),\n",
        "        ])\n",
        "        self.network = nn.Sequential(*self.network)\n",
        "    def forward(self, z):\n",
        "        x_recon = self.network(z)\n",
        "        return x_recon\n",
        "\n",
        "class Discriminator(nn.Module):\n",
        "    def __init__(self, dims, dim_h):\n",
        "        super(Discriminator,self).__init__()\n",
        "        self.dim_z = dims\n",
        "        self.dim_h = dim_h\n",
        "        self.network = []\n",
        "        self.network.extend([\n",
        "            nn.Linear(self.dim_z, self.dim_h),\n",
        "            nn.ReLU(),\n",
        "            nn.Dropout(p=0.2),                         \n",
        "            nn.Linear(self.dim_h, self.dim_h),\n",
        "            nn.ReLU(),\n",
        "            nn.Dropout(p=0.2),                         \n",
        "            nn.Linear(self.dim_h, 1),\n",
        "            nn.Sigmoid(),\n",
        "        ])\n",
        "        self.network = nn.Sequential(*self.network)\n",
        "\n",
        "    def forward(self, z):\n",
        "        disc = self.network(z)\n",
        "        return disc\n"
      ],
      "execution_count": 276,
      "outputs": []
    },
    {
      "cell_type": "code",
      "metadata": {
        "id": "26owCMpC2yuJ",
        "colab_type": "code",
        "colab": {}
      },
      "source": [
        "def one_hot_encoding(labels, n_classes=10):\n",
        "    cat = np.array(labels.data.tolist())\n",
        "    cat = np.eye(n_classes)[cat].astype('float32')\n",
        "    cat = torch.from_numpy(cat)\n",
        "    return autograd.Variable(cat)\n"
      ],
      "execution_count": 277,
      "outputs": []
    },
    {
      "cell_type": "code",
      "metadata": {
        "id": "DkvFSgO4846R",
        "colab_type": "code",
        "colab": {}
      },
      "source": [
        "autoencoder_loss = nn.MSELoss()\n",
        "\n",
        "def train_validate(\n",
        "        encoder,\n",
        "        decoder,\n",
        "        discriminator,\n",
        "        dataloader,\n",
        "        optim_encoder,\n",
        "        optim_decoder,\n",
        "        optim_D,\n",
        "        train\n",
        "    ):\n",
        "    total_rec_loss = 0\n",
        "    total_disc_loss = 0\n",
        "    total_gen_loss = 0\n",
        "    if train:\n",
        "        encoder.train()\n",
        "        decoder.train()\n",
        "        discriminator.train()\n",
        "    else:\n",
        "        encoder.eval()\n",
        "        decoder.eval()\n",
        "        discriminator.eval()\n",
        "\n",
        "    iteration = 0\n",
        "    for (data, labels) in dataloader:\n",
        "        # Reconstruction loss:\n",
        "        for p in discriminator.parameters():\n",
        "            p.requires_grad = False\n",
        "\n",
        "        real_data = autograd.Variable(data).to(device).view(-1, 784)\n",
        "        encoding = encoder(real_data)\n",
        "\n",
        "        if decoder.supervised:\n",
        "            label_hot = one_hot_encoding(labels, n_classes=10).to(device)\n",
        "            restored_image = decoder(torch.cat((label_hot, encoding), 1))\n",
        "        else:\n",
        "            restored_image = decoder(encoding)\n",
        "\n",
        "        # autoencoder_loss or F.binary_cross_entropy\n",
        "        reconstruction_loss = autoencoder_loss(restored_image, real_data)\n",
        "        total_rec_loss += reconstruction_loss.item()\n",
        "        if train:\n",
        "            optim_encoder.zero_grad()\n",
        "            optim_decoder.zero_grad()\n",
        "            reconstruction_loss.backward()\n",
        "            optim_encoder.step()\n",
        "            optim_decoder.step()\n",
        "\n",
        "        # Discriminator loss:\n",
        "        # i) latent representation\n",
        "        encoder.eval()\n",
        "        z_real_gauss = autograd.Variable(\n",
        "            torch.randn(data.size()[0], dims)\n",
        "        ).to(device)\n",
        "        z_fake_gauss = encoder(real_data)\n",
        "        # ii) feed into discriminator\n",
        "        D_real_gauss = discriminator(z_real_gauss)\n",
        "        D_fake_gauss = discriminator(z_fake_gauss)\n",
        "\n",
        "        D_loss = -torch.mean(  # cross entropy\n",
        "            torch.log(D_real_gauss + EPS) +\n",
        "            torch.log(1 - D_fake_gauss + EPS)\n",
        "        )\n",
        "        total_disc_loss += D_loss.item()\n",
        "\n",
        "        if train:\n",
        "            optim_D.zero_grad()\n",
        "            D_loss.backward()\n",
        "            optim_D.step()\n",
        "\n",
        "        # Generator (encoder) loss\n",
        "        if train:\n",
        "            encoder.train()\n",
        "        else:\n",
        "            encoder.eval()\n",
        "        z_fake_gauss = encoder(real_data)\n",
        "        D_fake_gauss = discriminator(z_fake_gauss)\n",
        "\n",
        "        G_loss = -torch.mean(torch.log(D_fake_gauss + EPS))\n",
        "        total_gen_loss += G_loss.item()\n",
        "\n",
        "        if train:\n",
        "            optim_encoder_reg.zero_grad()\n",
        "            G_loss.backward()\n",
        "            optim_encoder_reg.step()\n",
        "\n",
        "        if (iteration % 100) == 0:\n",
        "            print(\n",
        "                'reconstruction loss: %.4f, discriminator loss: %.4f, generator loss: %.4f' %\n",
        "                (reconstruction_loss.item(), D_loss.item(), G_loss.item()))\n",
        "            \n",
        "        iteration += 1\n",
        "\n",
        "    M = len(dataloader.dataset)\n",
        "    return total_rec_loss / M, total_disc_loss / M, total_gen_loss / M\n",
        "              "
      ],
      "execution_count": 278,
      "outputs": []
    },
    {
      "cell_type": "code",
      "metadata": {
        "id": "ew1_l2JR9Sol",
        "colab_type": "code",
        "colab": {}
      },
      "source": [
        "encoder = Encoder(784, 1000, dims).to(device)      \n",
        "decoder = Decoder(784, 1000, dims, supervised=supervised).to(device)\n",
        "discriminator = Discriminator(dims, 500).to(device)"
      ],
      "execution_count": 279,
      "outputs": []
    },
    {
      "cell_type": "code",
      "metadata": {
        "id": "aDlhDta89s0W",
        "colab_type": "code",
        "colab": {}
      },
      "source": [
        "lr = 0.00025"
      ],
      "execution_count": 280,
      "outputs": []
    },
    {
      "cell_type": "code",
      "metadata": {
        "id": "1F_bcZ1S9V2D",
        "colab_type": "code",
        "colab": {}
      },
      "source": [
        "#encode/decode optimizers\n",
        "optim_encoder = torch.optim.Adam(encoder.parameters(), lr=lr)\n",
        "optim_decoder = torch.optim.Adam(decoder.parameters(), lr=lr)\n",
        "optim_D = torch.optim.Adam(discriminator.parameters(), lr=lr)\n",
        "optim_encoder_reg = torch.optim.Adam(encoder.parameters(), lr=lr * 0.1)"
      ],
      "execution_count": 281,
      "outputs": []
    },
    {
      "cell_type": "code",
      "metadata": {
        "id": "04c-NtiJ96x_",
        "colab_type": "code",
        "colab": {}
      },
      "source": [
        "n_epochs = 100"
      ],
      "execution_count": 282,
      "outputs": []
    },
    {
      "cell_type": "code",
      "metadata": {
        "id": "9fKQW3GtA27V",
        "colab_type": "code",
        "colab": {}
      },
      "source": [
        "#encoder.load_state_dict(torch.load(Model_dir + 'encoder_z' + str(dims)+'_epch' + str(100) + '.pt'))\n",
        "#decoder.load_state_dict(torch.load(Model_dir +'decoder_z' + str(dims)+'_epch' + str(100) + '.pt'))\n",
        "#discriminator.load_state_dict(torch.load(Model_dir +'disc_z' + str(dims)+'_epch'+str(100) + '.pt'))"
      ],
      "execution_count": 283,
      "outputs": []
    },
    {
      "cell_type": "code",
      "metadata": {
        "id": "IIC0dMvR9qbZ",
        "colab_type": "code",
        "colab": {
          "base_uri": "https://localhost:8080/",
          "height": 1000,
          "referenced_widgets": [
            "c2c4d7e04a0c4454810005ea48825e67",
            "d0e4269289e24b06bc41ad817a591c40",
            "ca66f7f7fcbd4eb48f9b177071d4d266",
            "19c6b20130d74c69a637fbdf4299d504",
            "05ba0fd37d2e41be80484def973b084e",
            "d5746226bd6948c6b8ef1c005a1fcf5b",
            "ac3d1fed8e8b4128bcd2a6fc4c1fc733",
            "d7be0fa5d4814d9f96df68b59eea66ce"
          ]
        },
        "outputId": "e7ac1b09-60f7-4a94-a0a9-09400ba806a9"
      },
      "source": [
        "train_loss = []\n",
        "val_loss = []\n",
        "for epoch in trange(n_epochs):\n",
        "    l1, l2, l3 = train_validate(\n",
        "        encoder, decoder, discriminator,\n",
        "        train_loader, optim_encoder, optim_decoder,\n",
        "        optim_D, train=True\n",
        "    )\n",
        "    print('epoch: {} ---- training loss: {:.8f}'.format(epoch, l1))\n",
        "    train_loss.append(l1)\n",
        "\n",
        "    if (epoch % 5) == 0:\n",
        "        l1, l2, l3 = train_validate(\n",
        "            encoder, decoder, discriminator,\n",
        "            val_loader, optim_encoder,\n",
        "            optim_decoder, optim_D, False\n",
        "        )\n",
        "        print('epoch: {} ---- validation loss: {:.8f}'.format(epoch, l1))\n",
        "        val_loss.append(l1)\n"
      ],
      "execution_count": 284,
      "outputs": [
        {
          "output_type": "display_data",
          "data": {
            "application/vnd.jupyter.widget-view+json": {
              "model_id": "c2c4d7e04a0c4454810005ea48825e67",
              "version_minor": 0,
              "version_major": 2
            },
            "text/plain": [
              "HBox(children=(FloatProgress(value=0.0), HTML(value='')))"
            ]
          },
          "metadata": {
            "tags": []
          }
        },
        {
          "output_type": "stream",
          "text": [
            "reconstruction loss: 1.2567, discriminator loss: 1.4004, generator loss: 0.7610\n",
            "epoch: 0 ---- training loss: 0.00084947\n",
            "reconstruction loss: 0.7448, discriminator loss: 1.0729, generator loss: 1.3378\n",
            "epoch: 0 ---- validation loss: 0.00077451\n",
            "reconstruction loss: 0.7877, discriminator loss: 1.0814, generator loss: 1.4391\n",
            "epoch: 1 ---- training loss: 0.00074236\n",
            "reconstruction loss: 0.7339, discriminator loss: 1.1838, generator loss: 1.1680\n",
            "epoch: 2 ---- training loss: 0.00070829\n",
            "reconstruction loss: 0.6965, discriminator loss: 1.2426, generator loss: 1.0365\n",
            "epoch: 3 ---- training loss: 0.00067801\n",
            "reconstruction loss: 0.6790, discriminator loss: 1.2719, generator loss: 0.9977\n",
            "epoch: 4 ---- training loss: 0.00065683\n",
            "reconstruction loss: 0.6615, discriminator loss: 1.2960, generator loss: 0.9432\n",
            "epoch: 5 ---- training loss: 0.00064449\n",
            "reconstruction loss: 0.6218, discriminator loss: 1.3282, generator loss: 0.8504\n",
            "epoch: 5 ---- validation loss: 0.00064946\n",
            "reconstruction loss: 0.6587, discriminator loss: 1.3171, generator loss: 0.9154\n",
            "epoch: 6 ---- training loss: 0.00063685\n",
            "reconstruction loss: 0.6451, discriminator loss: 1.3253, generator loss: 0.8996\n",
            "epoch: 7 ---- training loss: 0.00063102\n",
            "reconstruction loss: 0.6423, discriminator loss: 1.3345, generator loss: 0.8902\n",
            "epoch: 8 ---- training loss: 0.00062651\n",
            "reconstruction loss: 0.6401, discriminator loss: 1.3326, generator loss: 0.8911\n",
            "epoch: 9 ---- training loss: 0.00062280\n",
            "reconstruction loss: 0.6278, discriminator loss: 1.3388, generator loss: 0.8736\n",
            "epoch: 10 ---- training loss: 0.00062027\n",
            "reconstruction loss: 0.6011, discriminator loss: 1.3568, generator loss: 0.8095\n",
            "epoch: 10 ---- validation loss: 0.00062910\n",
            "reconstruction loss: 0.6326, discriminator loss: 1.3471, generator loss: 0.8724\n",
            "epoch: 11 ---- training loss: 0.00061794\n",
            "reconstruction loss: 0.6191, discriminator loss: 1.3454, generator loss: 0.8727\n",
            "epoch: 12 ---- training loss: 0.00061585\n",
            "reconstruction loss: 0.6265, discriminator loss: 1.3376, generator loss: 0.8703\n",
            "epoch: 13 ---- training loss: 0.00061410\n",
            "reconstruction loss: 0.6264, discriminator loss: 1.3481, generator loss: 0.8608\n",
            "epoch: 14 ---- training loss: 0.00061199\n",
            "reconstruction loss: 0.6189, discriminator loss: 1.3412, generator loss: 0.8738\n",
            "epoch: 15 ---- training loss: 0.00061062\n",
            "reconstruction loss: 0.5935, discriminator loss: 1.3635, generator loss: 0.7989\n",
            "epoch: 15 ---- validation loss: 0.00062103\n",
            "reconstruction loss: 0.6181, discriminator loss: 1.3560, generator loss: 0.8742\n",
            "epoch: 16 ---- training loss: 0.00060957\n",
            "reconstruction loss: 0.6200, discriminator loss: 1.3553, generator loss: 0.8532\n",
            "epoch: 17 ---- training loss: 0.00060867\n",
            "reconstruction loss: 0.6177, discriminator loss: 1.3547, generator loss: 0.8587\n",
            "epoch: 18 ---- training loss: 0.00060780\n",
            "reconstruction loss: 0.6255, discriminator loss: 1.3445, generator loss: 0.8700\n",
            "epoch: 19 ---- training loss: 0.00060701\n",
            "reconstruction loss: 0.6149, discriminator loss: 1.3562, generator loss: 0.8469\n",
            "epoch: 20 ---- training loss: 0.00060637\n",
            "reconstruction loss: 0.5900, discriminator loss: 1.3716, generator loss: 0.7892\n",
            "epoch: 20 ---- validation loss: 0.00061740\n",
            "reconstruction loss: 0.6256, discriminator loss: 1.3467, generator loss: 0.8593\n",
            "epoch: 21 ---- training loss: 0.00060546\n",
            "reconstruction loss: 0.6106, discriminator loss: 1.3510, generator loss: 0.8647\n",
            "epoch: 22 ---- training loss: 0.00060457\n",
            "reconstruction loss: 0.6244, discriminator loss: 1.3538, generator loss: 0.8464\n",
            "epoch: 23 ---- training loss: 0.00060359\n",
            "reconstruction loss: 0.6142, discriminator loss: 1.3614, generator loss: 0.8606\n",
            "epoch: 24 ---- training loss: 0.00060307\n",
            "reconstruction loss: 0.6094, discriminator loss: 1.3563, generator loss: 0.8521\n",
            "epoch: 25 ---- training loss: 0.00060217\n",
            "reconstruction loss: 0.5872, discriminator loss: 1.3739, generator loss: 0.7864\n",
            "epoch: 25 ---- validation loss: 0.00061398\n",
            "reconstruction loss: 0.6204, discriminator loss: 1.3553, generator loss: 0.8469\n",
            "epoch: 26 ---- training loss: 0.00060154\n",
            "reconstruction loss: 0.6162, discriminator loss: 1.3525, generator loss: 0.8710\n",
            "epoch: 27 ---- training loss: 0.00060108\n",
            "reconstruction loss: 0.6083, discriminator loss: 1.3492, generator loss: 0.8404\n",
            "epoch: 28 ---- training loss: 0.00060057\n",
            "reconstruction loss: 0.6134, discriminator loss: 1.3654, generator loss: 0.8405\n",
            "epoch: 29 ---- training loss: 0.00060015\n",
            "reconstruction loss: 0.6147, discriminator loss: 1.3608, generator loss: 0.8504\n",
            "epoch: 30 ---- training loss: 0.00059963\n",
            "reconstruction loss: 0.5854, discriminator loss: 1.3773, generator loss: 0.7815\n",
            "epoch: 30 ---- validation loss: 0.00061211\n",
            "reconstruction loss: 0.6003, discriminator loss: 1.3561, generator loss: 0.8366\n",
            "epoch: 31 ---- training loss: 0.00059909\n",
            "reconstruction loss: 0.6154, discriminator loss: 1.3554, generator loss: 0.8512\n",
            "epoch: 32 ---- training loss: 0.00059868\n",
            "reconstruction loss: 0.6062, discriminator loss: 1.3581, generator loss: 0.8557\n",
            "epoch: 33 ---- training loss: 0.00059819\n",
            "reconstruction loss: 0.6045, discriminator loss: 1.3529, generator loss: 0.8490\n",
            "epoch: 34 ---- training loss: 0.00059776\n",
            "reconstruction loss: 0.6109, discriminator loss: 1.3526, generator loss: 0.8513\n",
            "epoch: 35 ---- training loss: 0.00059730\n",
            "reconstruction loss: 0.5836, discriminator loss: 1.3786, generator loss: 0.7809\n",
            "epoch: 35 ---- validation loss: 0.00060996\n",
            "reconstruction loss: 0.6067, discriminator loss: 1.3558, generator loss: 0.8389\n",
            "epoch: 36 ---- training loss: 0.00059658\n",
            "reconstruction loss: 0.6024, discriminator loss: 1.3491, generator loss: 0.8473\n",
            "epoch: 37 ---- training loss: 0.00059632\n",
            "reconstruction loss: 0.6036, discriminator loss: 1.3569, generator loss: 0.8405\n",
            "epoch: 38 ---- training loss: 0.00059588\n",
            "reconstruction loss: 0.6092, discriminator loss: 1.3588, generator loss: 0.8407\n",
            "epoch: 39 ---- training loss: 0.00059570\n",
            "reconstruction loss: 0.6112, discriminator loss: 1.3608, generator loss: 0.8345\n",
            "epoch: 40 ---- training loss: 0.00059542\n",
            "reconstruction loss: 0.5823, discriminator loss: 1.3825, generator loss: 0.7787\n",
            "epoch: 40 ---- validation loss: 0.00060860\n",
            "reconstruction loss: 0.5992, discriminator loss: 1.3608, generator loss: 0.8385\n",
            "epoch: 41 ---- training loss: 0.00059495\n",
            "reconstruction loss: 0.6090, discriminator loss: 1.3641, generator loss: 0.8348\n",
            "epoch: 42 ---- training loss: 0.00059468\n",
            "reconstruction loss: 0.6019, discriminator loss: 1.3650, generator loss: 0.8405\n",
            "epoch: 43 ---- training loss: 0.00059416\n",
            "reconstruction loss: 0.6189, discriminator loss: 1.3551, generator loss: 0.8440\n",
            "epoch: 44 ---- training loss: 0.00059400\n",
            "reconstruction loss: 0.5993, discriminator loss: 1.3614, generator loss: 0.8383\n",
            "epoch: 45 ---- training loss: 0.00059355\n",
            "reconstruction loss: 0.5816, discriminator loss: 1.3810, generator loss: 0.7765\n",
            "epoch: 45 ---- validation loss: 0.00060770\n",
            "reconstruction loss: 0.6043, discriminator loss: 1.3621, generator loss: 0.8409\n",
            "epoch: 46 ---- training loss: 0.00059339\n",
            "reconstruction loss: 0.6103, discriminator loss: 1.3626, generator loss: 0.8392\n",
            "epoch: 47 ---- training loss: 0.00059310\n",
            "reconstruction loss: 0.6107, discriminator loss: 1.3585, generator loss: 0.8410\n",
            "epoch: 48 ---- training loss: 0.00059275\n",
            "reconstruction loss: 0.6052, discriminator loss: 1.3646, generator loss: 0.8413\n",
            "epoch: 49 ---- training loss: 0.00059236\n",
            "reconstruction loss: 0.6038, discriminator loss: 1.3556, generator loss: 0.8437\n",
            "epoch: 50 ---- training loss: 0.00059225\n",
            "reconstruction loss: 0.5803, discriminator loss: 1.3807, generator loss: 0.7751\n",
            "epoch: 50 ---- validation loss: 0.00060628\n",
            "reconstruction loss: 0.5972, discriminator loss: 1.3517, generator loss: 0.8395\n",
            "epoch: 51 ---- training loss: 0.00059203\n",
            "reconstruction loss: 0.6030, discriminator loss: 1.3620, generator loss: 0.8321\n",
            "epoch: 52 ---- training loss: 0.00059180\n",
            "reconstruction loss: 0.6047, discriminator loss: 1.3649, generator loss: 0.8569\n",
            "epoch: 53 ---- training loss: 0.00059155\n",
            "reconstruction loss: 0.6038, discriminator loss: 1.3659, generator loss: 0.8416\n",
            "epoch: 54 ---- training loss: 0.00059118\n",
            "reconstruction loss: 0.5890, discriminator loss: 1.3511, generator loss: 0.8392\n",
            "epoch: 55 ---- training loss: 0.00059106\n",
            "reconstruction loss: 0.5797, discriminator loss: 1.3844, generator loss: 0.7749\n",
            "epoch: 55 ---- validation loss: 0.00060568\n",
            "reconstruction loss: 0.5983, discriminator loss: 1.3572, generator loss: 0.8309\n",
            "epoch: 56 ---- training loss: 0.00059072\n",
            "reconstruction loss: 0.5979, discriminator loss: 1.3654, generator loss: 0.8262\n",
            "epoch: 57 ---- training loss: 0.00059049\n",
            "reconstruction loss: 0.6000, discriminator loss: 1.3614, generator loss: 0.8265\n",
            "epoch: 58 ---- training loss: 0.00059034\n",
            "reconstruction loss: 0.6086, discriminator loss: 1.3641, generator loss: 0.8473\n",
            "epoch: 59 ---- training loss: 0.00059013\n",
            "reconstruction loss: 0.6031, discriminator loss: 1.3640, generator loss: 0.8395\n",
            "epoch: 60 ---- training loss: 0.00058984\n",
            "reconstruction loss: 0.5789, discriminator loss: 1.3850, generator loss: 0.7727\n",
            "epoch: 60 ---- validation loss: 0.00060471\n",
            "reconstruction loss: 0.6100, discriminator loss: 1.3621, generator loss: 0.8273\n",
            "epoch: 61 ---- training loss: 0.00058974\n",
            "reconstruction loss: 0.5855, discriminator loss: 1.3700, generator loss: 0.8223\n",
            "epoch: 62 ---- training loss: 0.00058948\n",
            "reconstruction loss: 0.6031, discriminator loss: 1.3630, generator loss: 0.8448\n",
            "epoch: 63 ---- training loss: 0.00058925\n",
            "reconstruction loss: 0.6015, discriminator loss: 1.3530, generator loss: 0.8363\n",
            "epoch: 64 ---- training loss: 0.00058919\n",
            "reconstruction loss: 0.5949, discriminator loss: 1.3587, generator loss: 0.8414\n",
            "epoch: 65 ---- training loss: 0.00058907\n",
            "reconstruction loss: 0.5783, discriminator loss: 1.3860, generator loss: 0.7716\n",
            "epoch: 65 ---- validation loss: 0.00060401\n",
            "reconstruction loss: 0.5936, discriminator loss: 1.3685, generator loss: 0.8347\n",
            "epoch: 66 ---- training loss: 0.00058893\n",
            "reconstruction loss: 0.5969, discriminator loss: 1.3673, generator loss: 0.8218\n",
            "epoch: 67 ---- training loss: 0.00058872\n",
            "reconstruction loss: 0.6003, discriminator loss: 1.3609, generator loss: 0.8356\n",
            "epoch: 68 ---- training loss: 0.00058845\n",
            "reconstruction loss: 0.5867, discriminator loss: 1.3589, generator loss: 0.8193\n",
            "epoch: 69 ---- training loss: 0.00058836\n",
            "reconstruction loss: 0.5937, discriminator loss: 1.3673, generator loss: 0.8249\n",
            "epoch: 70 ---- training loss: 0.00058807\n",
            "reconstruction loss: 0.5782, discriminator loss: 1.3875, generator loss: 0.7693\n",
            "epoch: 70 ---- validation loss: 0.00060348\n",
            "reconstruction loss: 0.5870, discriminator loss: 1.3662, generator loss: 0.8187\n",
            "epoch: 71 ---- training loss: 0.00058797\n",
            "reconstruction loss: 0.5874, discriminator loss: 1.3638, generator loss: 0.8364\n",
            "epoch: 72 ---- training loss: 0.00058781\n",
            "reconstruction loss: 0.5909, discriminator loss: 1.3698, generator loss: 0.8318\n",
            "epoch: 73 ---- training loss: 0.00058763\n",
            "reconstruction loss: 0.5969, discriminator loss: 1.3689, generator loss: 0.8338\n",
            "epoch: 74 ---- training loss: 0.00058754\n",
            "reconstruction loss: 0.5886, discriminator loss: 1.3674, generator loss: 0.8103\n",
            "epoch: 75 ---- training loss: 0.00058745\n",
            "reconstruction loss: 0.5772, discriminator loss: 1.3899, generator loss: 0.7689\n",
            "epoch: 75 ---- validation loss: 0.00060287\n",
            "reconstruction loss: 0.6001, discriminator loss: 1.3628, generator loss: 0.8282\n",
            "epoch: 76 ---- training loss: 0.00058715\n",
            "reconstruction loss: 0.5935, discriminator loss: 1.3626, generator loss: 0.8300\n",
            "epoch: 77 ---- training loss: 0.00058700\n",
            "reconstruction loss: 0.5979, discriminator loss: 1.3653, generator loss: 0.8241\n",
            "epoch: 78 ---- training loss: 0.00058678\n",
            "reconstruction loss: 0.6032, discriminator loss: 1.3701, generator loss: 0.8267\n",
            "epoch: 79 ---- training loss: 0.00058670\n",
            "reconstruction loss: 0.5905, discriminator loss: 1.3638, generator loss: 0.8276\n",
            "epoch: 80 ---- training loss: 0.00058661\n",
            "reconstruction loss: 0.5771, discriminator loss: 1.3879, generator loss: 0.7678\n",
            "epoch: 80 ---- validation loss: 0.00060250\n",
            "reconstruction loss: 0.5981, discriminator loss: 1.3695, generator loss: 0.8349\n",
            "epoch: 81 ---- training loss: 0.00058644\n",
            "reconstruction loss: 0.5914, discriminator loss: 1.3619, generator loss: 0.8313\n",
            "epoch: 82 ---- training loss: 0.00058631\n",
            "reconstruction loss: 0.5996, discriminator loss: 1.3730, generator loss: 0.8237\n",
            "epoch: 83 ---- training loss: 0.00058612\n",
            "reconstruction loss: 0.5961, discriminator loss: 1.3671, generator loss: 0.8382\n",
            "epoch: 84 ---- training loss: 0.00058604\n",
            "reconstruction loss: 0.6018, discriminator loss: 1.3633, generator loss: 0.8226\n",
            "epoch: 85 ---- training loss: 0.00058597\n",
            "reconstruction loss: 0.5771, discriminator loss: 1.3897, generator loss: 0.7663\n",
            "epoch: 85 ---- validation loss: 0.00060205\n",
            "reconstruction loss: 0.5912, discriminator loss: 1.3655, generator loss: 0.8142\n",
            "epoch: 86 ---- training loss: 0.00058594\n",
            "reconstruction loss: 0.5920, discriminator loss: 1.3777, generator loss: 0.8250\n",
            "epoch: 87 ---- training loss: 0.00058568\n",
            "reconstruction loss: 0.5921, discriminator loss: 1.3704, generator loss: 0.8218\n",
            "epoch: 88 ---- training loss: 0.00058559\n",
            "reconstruction loss: 0.5879, discriminator loss: 1.3813, generator loss: 0.8351\n",
            "epoch: 89 ---- training loss: 0.00058554\n",
            "reconstruction loss: 0.5814, discriminator loss: 1.3756, generator loss: 0.8282\n",
            "epoch: 90 ---- training loss: 0.00058547\n",
            "reconstruction loss: 0.5769, discriminator loss: 1.3928, generator loss: 0.7645\n",
            "epoch: 90 ---- validation loss: 0.00060214\n",
            "reconstruction loss: 0.5921, discriminator loss: 1.3694, generator loss: 0.8370\n",
            "epoch: 91 ---- training loss: 0.00058534\n",
            "reconstruction loss: 0.5966, discriminator loss: 1.3650, generator loss: 0.8227\n",
            "epoch: 92 ---- training loss: 0.00058524\n",
            "reconstruction loss: 0.5984, discriminator loss: 1.3720, generator loss: 0.8199\n",
            "epoch: 93 ---- training loss: 0.00058517\n",
            "reconstruction loss: 0.5915, discriminator loss: 1.3701, generator loss: 0.8224\n",
            "epoch: 94 ---- training loss: 0.00058510\n",
            "reconstruction loss: 0.5896, discriminator loss: 1.3796, generator loss: 0.8253\n",
            "epoch: 95 ---- training loss: 0.00058499\n",
            "reconstruction loss: 0.5764, discriminator loss: 1.3908, generator loss: 0.7654\n",
            "epoch: 95 ---- validation loss: 0.00060162\n",
            "reconstruction loss: 0.5922, discriminator loss: 1.3685, generator loss: 0.8260\n",
            "epoch: 96 ---- training loss: 0.00058487\n",
            "reconstruction loss: 0.5861, discriminator loss: 1.3693, generator loss: 0.8348\n",
            "epoch: 97 ---- training loss: 0.00058477\n",
            "reconstruction loss: 0.5972, discriminator loss: 1.3620, generator loss: 0.8287\n",
            "epoch: 98 ---- training loss: 0.00058474\n",
            "reconstruction loss: 0.5896, discriminator loss: 1.3791, generator loss: 0.8204\n",
            "epoch: 99 ---- training loss: 0.00058453\n",
            "\n"
          ],
          "name": "stdout"
        }
      ]
    },
    {
      "cell_type": "markdown",
      "metadata": {
        "id": "yT98bCMeeoGs",
        "colab_type": "text"
      },
      "source": [
        "it's interesting to see how generator loss and discriminator loss drive each other."
      ]
    },
    {
      "cell_type": "code",
      "metadata": {
        "id": "HCTCEj6H95Zk",
        "colab_type": "code",
        "colab": {
          "base_uri": "https://localhost:8080/",
          "height": 355
        },
        "outputId": "2fd1ae1b-7529-4e7e-b47b-f372129dde87"
      },
      "source": [
        "%matplotlib inline\n",
        "from matplotlib import pyplot as plt\n",
        "import seaborn as sns\n",
        "\n",
        "sns.set()\n",
        "plt.rcParams['figure.figsize'] = 5, 5\n",
        "plt.plot(np.arange(len(train_loss)), train_loss, label='train')\n",
        "plt.plot(np.arange(0, len(val_loss) * 5, 5), val_loss, label='val')\n",
        "plt.title('Training')\n",
        "plt.xlabel('Step')\n",
        "plt.ylabel('Reconstruction loss')\n",
        "plt.legend()\n",
        "plt.grid(True)\n",
        "plt.savefig(Fig_dir + 'training_' + str(n_epochs) + 'epochs.png')"
      ],
      "execution_count": 285,
      "outputs": [
        {
          "output_type": "display_data",
          "data": {
            "image/png": "[encoded data removed]",
            "text/plain": [
              "<Figure size 360x360 with 1 Axes>"
            ]
          },
          "metadata": {
            "tags": []
          }
        }
      ]
    },
    {
      "cell_type": "code",
      "metadata": {
        "id": "j3wjevto_eXH",
        "colab_type": "code",
        "colab": {}
      },
      "source": [
        "#torch.save(encoder.state_dict(), Model_dir + 'encoder_z' + str(dims)+'_epch' + str(n_epochs) + '.pt')\n",
        "#torch.save(decoder.state_dict(), Model_dir +'decoder_z' + str(dims)+'_epch' + str(n_epochs) + '.pt')\n",
        "#torch.save(discriminator.state_dict(), Model_dir +'disc_z' + str(dims)+'_epch'+str(n_epochs) + '.pt')"
      ],
      "execution_count": 286,
      "outputs": []
    },
    {
      "cell_type": "code",
      "metadata": {
        "id": "rVbiIP9axI1S",
        "colab_type": "code",
        "colab": {}
      },
      "source": [
        "from sklearn.manifold import TSNE\n",
        "\n",
        "\n",
        "def plot_vis(X_enc, y, dims=2):\n",
        "    '''Performing t-SNE dimensionality reduction\n",
        "    and plot in 2 or 3 dimensions.\n",
        "    '''\n",
        "    X_tsne = TSNE(n_components=dims).fit_transform(X_enc)\n",
        "    cmap = plt.get_cmap('rainbow', 10)\n",
        "\n",
        "    if dims == 2:\n",
        "      plt.scatter(\n",
        "          X_tsne[:, 0], X_tsne[:, 1], \n",
        "          c=y, edgecolor='black', cmap=cmap\n",
        "      )\n",
        "    else:\n",
        "        fig = plt.figure()\n",
        "        ax = plt.axes(projection='3d')\n",
        "        p = ax.scatter3D(\n",
        "            X_tsne[:, 0], X_tsne[:, 1], X_tsne[:, 2], \n",
        "            c=y, cmap=cmap, edgecolor='black'\n",
        "        )\n",
        "        fig.colorbar(p, drawedges=True)\n",
        "\n"
      ],
      "execution_count": 22,
      "outputs": []
    },
    {
      "cell_type": "code",
      "metadata": {
        "id": "VfyggSMS1Q-T",
        "colab_type": "code",
        "colab": {}
      },
      "source": [
        "# visualization of the unsupervised case\n",
        "# Does our encoder distinguish the classes?\n",
        "import math\n",
        "n_points = 1000\n",
        "\n",
        "X = []\n",
        "y = []\n",
        "for (data, labels) in val_loader:\n",
        "  images = autograd.Variable(data).to(device).view(-1, 784)\n",
        "  X.append(encoder(images).cpu().data.numpy())\n",
        "  y.append(labels.cpu().data.numpy())\n",
        "  if len(X) * images.shape[0] > n_points:\n",
        "      break\n",
        "\n",
        "X = np.concatenate(X, 0)\n",
        "y = np.concatenate(y, 0)\n",
        "X = X[:n_points, :]\n",
        "y = y[:n_points]"
      ],
      "execution_count": 287,
      "outputs": []
    },
    {
      "cell_type": "code",
      "metadata": {
        "id": "8XlG88eFbazP",
        "colab_type": "code",
        "colab": {
          "base_uri": "https://localhost:8080/",
          "height": 322
        },
        "outputId": "2e509f8f-b207-4a19-e066-a0bb136f8322"
      },
      "source": [
        "plot_vis(X, y, dims=2)"
      ],
      "execution_count": 288,
      "outputs": [
        {
          "output_type": "display_data",
          "data": {
            "image/png": "[encoded data removed]",
            "text/plain": [
              "<Figure size 360x360 with 1 Axes>"
            ]
          },
          "metadata": {
            "tags": []
          }
        }
      ]
    },
    {
      "cell_type": "code",
      "metadata": {
        "id": "jBtMo496bZci",
        "colab_type": "code",
        "colab": {
          "base_uri": "https://localhost:8080/",
          "height": 313
        },
        "outputId": "181e7823-c8e8-4934-cac3-5049459d21fb"
      },
      "source": [
        "plot_vis(X, y, dims=3)"
      ],
      "execution_count": 289,
      "outputs": [
        {
          "output_type": "display_data",
          "data": {
            "image/png": "[encoded data removed]",
            "text/plain": [
              "<Figure size 360x360 with 2 Axes>"
            ]
          },
          "metadata": {
            "tags": []
          }
        }
      ]
    },
    {
      "cell_type": "code",
      "metadata": {
        "id": "rMgM1fycV1Bf",
        "colab_type": "code",
        "colab": {}
      },
      "source": [
        "# visualization of the supervised case\n",
        "# Does our decoder produce the classes and different styles?\n",
        "\n",
        "styles = styles + torch.randn(10, dims).reshape(1, -1).repeat(10, 1).reshape(100, dims)\n",
        "numbers = torch.Tensor(np.eye(10)).repeat(10, 1)\n",
        "coded = torch.cat([numbers, styles], 1).to(device)\n",
        "decoded = decoder(coded).cpu().data.numpy()"
      ],
      "execution_count": 296,
      "outputs": []
    },
    {
      "cell_type": "code",
      "metadata": {
        "id": "fSkNNAQyZ75N",
        "colab_type": "code",
        "colab": {
          "base_uri": "https://localhost:8080/",
          "height": 339
        },
        "outputId": "7252d2ff-eb55-4cf9-f9df-273444d1fcfa"
      },
      "source": [
        "plt.imshow(decoded.reshape(10, 10, 28, 28)[0, 4])"
      ],
      "execution_count": 297,
      "outputs": [
        {
          "output_type": "execute_result",
          "data": {
            "text/plain": [
              "<matplotlib.image.AxesImage at 0x7f7ecd2f01d0>"
            ]
          },
          "metadata": {
            "tags": []
          },
          "execution_count": 297
        },
        {
          "output_type": "display_data",
          "data": {
            "image/png": "[encoded data removed]",
            "text/plain": [
              "<Figure size 360x360 with 1 Axes>"
            ]
          },
          "metadata": {
            "tags": []
          }
        }
      ]
    },
    {
      "cell_type": "code",
      "metadata": {
        "id": "EqZxXJCw8ArV",
        "colab_type": "code",
        "colab": {}
      },
      "source": [
        "styles = torch.Tensor(\n",
        "    np.concatenate([\n",
        "        np.concatenate([np.linspace(-3., 3., 5).reshape(5, 1), np.zeros(shape=(5, 1))], axis=1),\n",
        "        np.concatenate([np.zeros(shape=(5, 1)), np.linspace(-3., 3., 5).reshape(5, 1)], axis=1),\n",
        "    ], axis=0)\n",
        ")"
      ],
      "execution_count": 312,
      "outputs": []
    },
    {
      "cell_type": "code",
      "metadata": {
        "id": "XcHe6BGlmP2Z",
        "colab_type": "code",
        "colab": {
          "base_uri": "https://localhost:8080/",
          "height": 1000
        },
        "outputId": "e480aeea-8dd0-4875-f39f-0f8d532a149d"
      },
      "source": [
        "import random\n",
        "\n",
        "nrows = styles.shape[0]\n",
        "ncols = 10\n",
        "fig, axes = plt.subplots(nrows, ncols, figsize=(15, 15 * nrows / 10))\n",
        "numbers = torch.Tensor(np.eye(10))\n",
        "for row, style in enumerate(styles):\n",
        "    for col, number in enumerate(numbers):\n",
        "        coded = torch.cat([number, style], -1).to(device)\n",
        "        decoded = decoder(coded).cpu().data.numpy()\n",
        "        ax = axes[row, col]\n",
        "        ax.imshow(decoded.reshape(28, 28))\n",
        "        ax.grid(False)\n",
        "        ax.get_xaxis().set_visible(False)\n",
        "        ax.get_yaxis().set_visible(False)\n",
        "\n",
        "fig.tight_layout(pad=-.2)"
      ],
      "execution_count": 320,
      "outputs": [
        {
          "output_type": "display_data",
          "data": {
            "image/png": "[encoded data removed]",
            "text/plain": [
              "<Figure size 1080x1080 with 100 Axes>"
            ]
          },
          "metadata": {
            "tags": []
          }
        }
      ]
    },
    {
      "cell_type": "code",
      "metadata": {
        "id": "siplushU_xbb",
        "colab_type": "code",
        "colab": {}
      },
      "source": [
        ""
      ],
      "execution_count": 301,
      "outputs": []
    }
  ]
}