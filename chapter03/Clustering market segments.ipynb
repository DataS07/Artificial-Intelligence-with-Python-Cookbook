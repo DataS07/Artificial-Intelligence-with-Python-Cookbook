{
 "cells": [
  {
   "cell_type": "markdown",
   "metadata": {
    "colab_type": "text",
    "id": "wC2P9rnjUrw1"
   },
   "source": [
    "Clustering is a very common visualization technique in Business Intelligence. In marketing, you'll target people differently, say teens versus pensioners, and some groups are more valuable than others. Often very simple methods such as Principal component analysis (PCA) and k-means are employed for that purpose. In a first step dimensionality is reduced, then groups are separated by applying a clustering algorithm. \n",
    "\n",
    "Personally, I find it often frustrating to see these methods, especially when there are so many better methods. After all, PCA was proposed in 1901 (Karl Pearson, \"On Lines and Planes of Closest Fit to Systems of Points in Space\") and k-means in 1967 (James MacQueen, \"Some Methods for classification and Analysis of Multivariate Observations\"). While both methods had their place when data and computing resources were hard to come by, today many alternatives exist. \n",
    "\n",
    "Both PCA and k-means have serious shortcomings that affect its usefulness in practice. Since PCA operates over the correlation matrix, it can only find linear correlations between datapoints. This means that if variables are related, but not linearly (as you would see in a scatter-plot), then PCA would fail. Further, PCA is based on mean and variance, which are parameters for the Gaussian distribution. K-means, being a centroid based clustering algorithm, can only find spherical groups in a Euclidean space - i.e. if fails to uncover any more complicated structures [many limitations](https://developers.google.com/machine-learning/clustering/algorithm/advantages-disadvantages). Much more can be said about that, however, let's look at more modern ways to solve a typical application for clustering.\n",
    "\n",
    "In this recipe, we'll go through a typical application of marketing segmentation, and we'll use modern, robust, nonlinear methods. In the end, we'll link to even more modern methods."
   ]
  },
  {
   "cell_type": "markdown",
   "metadata": {
    "colab_type": "text",
    "id": "JadXAqo4hDv8"
   },
   "source": [
    "We download our [dataset from UCI](http://archive.ics.uci.edu/ml/machine-learning-databases/statlog/german/). This dataset includes customer data that can serve to devise different strategy dependent on customer types. \n",
    "\n",
    "The dataset contains demographical and payment information about the customers. Depending on the group, \n",
    "\n",
    "\n"
   ]
  },
  {
   "cell_type": "code",
   "execution_count": 1,
   "metadata": {
    "colab": {},
    "colab_type": "code",
    "id": "70Mqvv1xhCgx"
   },
   "outputs": [],
   "source": [
    "import pandas as pd\n",
    "import numpy as np"
   ]
  },
  {
   "cell_type": "code",
   "execution_count": 2,
   "metadata": {
    "colab": {
     "base_uri": "https://localhost:8080/",
     "height": 204
    },
    "colab_type": "code",
    "id": "BFoUVT0LCnFb",
    "outputId": "1b56ff44-1e31-4521-a989-085074852f44"
   },
   "outputs": [
    {
     "name": "stdout",
     "output_type": "stream",
     "text": [
      "--2020-10-11 23:29:37--  http://archive.ics.uci.edu/ml/machine-learning-databases/statlog/german/german.data\n",
      "Resolving archive.ics.uci.edu (archive.ics.uci.edu)... 128.195.10.252\n",
      "Connecting to archive.ics.uci.edu (archive.ics.uci.edu)|128.195.10.252|:80... connected.\n",
      "HTTP request sent, awaiting response... 200 OK\n",
      "Length: 79793 (78K) [application/x-httpd-php]\n",
      "Saving to: ‘german.data.1’\n",
      "\n",
      "german.data.1       100%[===================>]  77.92K   165KB/s    in 0.5s    \n",
      "\n",
      "2020-10-11 23:29:38 (165 KB/s) - ‘german.data.1’ saved [79793/79793]\n",
      "\n"
     ]
    }
   ],
   "source": [
    "!wget http://archive.ics.uci.edu/ml/machine-learning-databases/statlog/german/german.data"
   ]
  },
  {
   "cell_type": "code",
   "execution_count": 3,
   "metadata": {
    "colab": {},
    "colab_type": "code",
    "id": "1ps-viXDbcgL"
   },
   "outputs": [],
   "source": [
    "names = ['existingchecking', 'duration', 'credithistory', 'purpose', 'creditamount', \n",
    "         'savings', 'employmentsince', 'installmentrate', 'statussex', 'otherdebtors', \n",
    "         'residencesince', 'property', 'age', 'otherinstallmentplans', 'housing', \n",
    "         'existingcredits', 'job', 'peopleliable', 'telephone', 'foreignworker', 'classification']\n",
    "\n",
    "customers = pd.read_csv('german.data', names=names, delimiter=' ')\n"
   ]
  },
  {
   "cell_type": "code",
   "execution_count": 4,
   "metadata": {
    "colab": {
     "base_uri": "https://localhost:8080/",
     "height": 224
    },
    "colab_type": "code",
    "id": "vu-US39_jFCA",
    "outputId": "85590fb0-63e4-4e0b-934c-9fb05bf3f55c"
   },
   "outputs": [
    {
     "data": {
      "text/html": [
       "<div>\n",
       "<style scoped>\n",
       "    .dataframe tbody tr th:only-of-type {\n",
       "        vertical-align: middle;\n",
       "    }\n",
       "\n",
       "    .dataframe tbody tr th {\n",
       "        vertical-align: top;\n",
       "    }\n",
       "\n",
       "    .dataframe thead th {\n",
       "        text-align: right;\n",
       "    }\n",
       "</style>\n",
       "<table border=\"1\" class=\"dataframe\">\n",
       "  <thead>\n",
       "    <tr style=\"text-align: right;\">\n",
       "      <th></th>\n",
       "      <th>existingchecking</th>\n",
       "      <th>duration</th>\n",
       "      <th>credithistory</th>\n",
       "      <th>purpose</th>\n",
       "      <th>creditamount</th>\n",
       "      <th>savings</th>\n",
       "      <th>employmentsince</th>\n",
       "      <th>installmentrate</th>\n",
       "      <th>statussex</th>\n",
       "      <th>otherdebtors</th>\n",
       "      <th>...</th>\n",
       "      <th>property</th>\n",
       "      <th>age</th>\n",
       "      <th>otherinstallmentplans</th>\n",
       "      <th>housing</th>\n",
       "      <th>existingcredits</th>\n",
       "      <th>job</th>\n",
       "      <th>peopleliable</th>\n",
       "      <th>telephone</th>\n",
       "      <th>foreignworker</th>\n",
       "      <th>classification</th>\n",
       "    </tr>\n",
       "  </thead>\n",
       "  <tbody>\n",
       "    <tr>\n",
       "      <th>0</th>\n",
       "      <td>A11</td>\n",
       "      <td>6</td>\n",
       "      <td>A34</td>\n",
       "      <td>A43</td>\n",
       "      <td>1169</td>\n",
       "      <td>A65</td>\n",
       "      <td>A75</td>\n",
       "      <td>4</td>\n",
       "      <td>A93</td>\n",
       "      <td>A101</td>\n",
       "      <td>...</td>\n",
       "      <td>A121</td>\n",
       "      <td>67</td>\n",
       "      <td>A143</td>\n",
       "      <td>A152</td>\n",
       "      <td>2</td>\n",
       "      <td>A173</td>\n",
       "      <td>1</td>\n",
       "      <td>A192</td>\n",
       "      <td>A201</td>\n",
       "      <td>1</td>\n",
       "    </tr>\n",
       "    <tr>\n",
       "      <th>1</th>\n",
       "      <td>A12</td>\n",
       "      <td>48</td>\n",
       "      <td>A32</td>\n",
       "      <td>A43</td>\n",
       "      <td>5951</td>\n",
       "      <td>A61</td>\n",
       "      <td>A73</td>\n",
       "      <td>2</td>\n",
       "      <td>A92</td>\n",
       "      <td>A101</td>\n",
       "      <td>...</td>\n",
       "      <td>A121</td>\n",
       "      <td>22</td>\n",
       "      <td>A143</td>\n",
       "      <td>A152</td>\n",
       "      <td>1</td>\n",
       "      <td>A173</td>\n",
       "      <td>1</td>\n",
       "      <td>A191</td>\n",
       "      <td>A201</td>\n",
       "      <td>2</td>\n",
       "    </tr>\n",
       "    <tr>\n",
       "      <th>2</th>\n",
       "      <td>A14</td>\n",
       "      <td>12</td>\n",
       "      <td>A34</td>\n",
       "      <td>A46</td>\n",
       "      <td>2096</td>\n",
       "      <td>A61</td>\n",
       "      <td>A74</td>\n",
       "      <td>2</td>\n",
       "      <td>A93</td>\n",
       "      <td>A101</td>\n",
       "      <td>...</td>\n",
       "      <td>A121</td>\n",
       "      <td>49</td>\n",
       "      <td>A143</td>\n",
       "      <td>A152</td>\n",
       "      <td>1</td>\n",
       "      <td>A172</td>\n",
       "      <td>2</td>\n",
       "      <td>A191</td>\n",
       "      <td>A201</td>\n",
       "      <td>1</td>\n",
       "    </tr>\n",
       "    <tr>\n",
       "      <th>3</th>\n",
       "      <td>A11</td>\n",
       "      <td>42</td>\n",
       "      <td>A32</td>\n",
       "      <td>A42</td>\n",
       "      <td>7882</td>\n",
       "      <td>A61</td>\n",
       "      <td>A74</td>\n",
       "      <td>2</td>\n",
       "      <td>A93</td>\n",
       "      <td>A103</td>\n",
       "      <td>...</td>\n",
       "      <td>A122</td>\n",
       "      <td>45</td>\n",
       "      <td>A143</td>\n",
       "      <td>A153</td>\n",
       "      <td>1</td>\n",
       "      <td>A173</td>\n",
       "      <td>2</td>\n",
       "      <td>A191</td>\n",
       "      <td>A201</td>\n",
       "      <td>1</td>\n",
       "    </tr>\n",
       "    <tr>\n",
       "      <th>4</th>\n",
       "      <td>A11</td>\n",
       "      <td>24</td>\n",
       "      <td>A33</td>\n",
       "      <td>A40</td>\n",
       "      <td>4870</td>\n",
       "      <td>A61</td>\n",
       "      <td>A73</td>\n",
       "      <td>3</td>\n",
       "      <td>A93</td>\n",
       "      <td>A101</td>\n",
       "      <td>...</td>\n",
       "      <td>A124</td>\n",
       "      <td>53</td>\n",
       "      <td>A143</td>\n",
       "      <td>A153</td>\n",
       "      <td>2</td>\n",
       "      <td>A173</td>\n",
       "      <td>2</td>\n",
       "      <td>A191</td>\n",
       "      <td>A201</td>\n",
       "      <td>2</td>\n",
       "    </tr>\n",
       "  </tbody>\n",
       "</table>\n",
       "<p>5 rows × 21 columns</p>\n",
       "</div>"
      ],
      "text/plain": [
       "  existingchecking  duration credithistory purpose  creditamount savings  \\\n",
       "0              A11         6           A34     A43          1169     A65   \n",
       "1              A12        48           A32     A43          5951     A61   \n",
       "2              A14        12           A34     A46          2096     A61   \n",
       "3              A11        42           A32     A42          7882     A61   \n",
       "4              A11        24           A33     A40          4870     A61   \n",
       "\n",
       "  employmentsince  installmentrate statussex otherdebtors  ...  property age  \\\n",
       "0             A75                4       A93         A101  ...      A121  67   \n",
       "1             A73                2       A92         A101  ...      A121  22   \n",
       "2             A74                2       A93         A101  ...      A121  49   \n",
       "3             A74                2       A93         A103  ...      A122  45   \n",
       "4             A73                3       A93         A101  ...      A124  53   \n",
       "\n",
       "   otherinstallmentplans housing existingcredits   job peopleliable  \\\n",
       "0                   A143    A152               2  A173            1   \n",
       "1                   A143    A152               1  A173            1   \n",
       "2                   A143    A152               1  A172            2   \n",
       "3                   A143    A153               1  A173            2   \n",
       "4                   A143    A153               2  A173            2   \n",
       "\n",
       "   telephone foreignworker classification  \n",
       "0       A192          A201              1  \n",
       "1       A191          A201              2  \n",
       "2       A191          A201              1  \n",
       "3       A191          A201              1  \n",
       "4       A191          A201              2  \n",
       "\n",
       "[5 rows x 21 columns]"
      ]
     },
     "execution_count": 4,
     "metadata": {},
     "output_type": "execute_result"
    }
   ],
   "source": [
    "customers.head()"
   ]
  },
  {
   "cell_type": "code",
   "execution_count": 5,
   "metadata": {
    "colab": {},
    "colab_type": "code",
    "id": "kwAuikn9EBCt"
   },
   "outputs": [],
   "source": [
    "from sklearn.preprocessing import LabelEncoder\n",
    "\n",
    "catvars = ['existingchecking', 'credithistory', 'purpose', 'savings', 'employmentsince',\n",
    "           'statussex', 'otherdebtors', 'property', 'otherinstallmentplans', 'housing', 'job', \n",
    "           'telephone', 'foreignworker']\n",
    "numvars = ['creditamount', 'duration', 'installmentrate', 'residencesince', 'age', \n",
    "           'existingcredits', 'peopleliable', 'classification']\n",
    "\n",
    "dummyvars = pd.get_dummies(customers[catvars])\n",
    "transactions = pd.concat([customers[numvars], dummyvars], axis = 1)"
   ]
  },
  {
   "cell_type": "code",
   "execution_count": 6,
   "metadata": {
    "colab": {
     "base_uri": "https://localhost:8080/",
     "height": 224
    },
    "colab_type": "code",
    "id": "n8Ld_uXzrPJz",
    "outputId": "390e2cf6-b654-4c8c-8f31-58baac7476b5"
   },
   "outputs": [
    {
     "data": {
      "text/html": [
       "<div>\n",
       "<style scoped>\n",
       "    .dataframe tbody tr th:only-of-type {\n",
       "        vertical-align: middle;\n",
       "    }\n",
       "\n",
       "    .dataframe tbody tr th {\n",
       "        vertical-align: top;\n",
       "    }\n",
       "\n",
       "    .dataframe thead th {\n",
       "        text-align: right;\n",
       "    }\n",
       "</style>\n",
       "<table border=\"1\" class=\"dataframe\">\n",
       "  <thead>\n",
       "    <tr style=\"text-align: right;\">\n",
       "      <th></th>\n",
       "      <th>creditamount</th>\n",
       "      <th>duration</th>\n",
       "      <th>installmentrate</th>\n",
       "      <th>residencesince</th>\n",
       "      <th>age</th>\n",
       "      <th>existingcredits</th>\n",
       "      <th>peopleliable</th>\n",
       "      <th>classification</th>\n",
       "      <th>existingchecking_A11</th>\n",
       "      <th>existingchecking_A12</th>\n",
       "      <th>...</th>\n",
       "      <th>housing_A152</th>\n",
       "      <th>housing_A153</th>\n",
       "      <th>job_A171</th>\n",
       "      <th>job_A172</th>\n",
       "      <th>job_A173</th>\n",
       "      <th>job_A174</th>\n",
       "      <th>telephone_A191</th>\n",
       "      <th>telephone_A192</th>\n",
       "      <th>foreignworker_A201</th>\n",
       "      <th>foreignworker_A202</th>\n",
       "    </tr>\n",
       "  </thead>\n",
       "  <tbody>\n",
       "    <tr>\n",
       "      <th>0</th>\n",
       "      <td>1169</td>\n",
       "      <td>6</td>\n",
       "      <td>4</td>\n",
       "      <td>4</td>\n",
       "      <td>67</td>\n",
       "      <td>2</td>\n",
       "      <td>1</td>\n",
       "      <td>1</td>\n",
       "      <td>1</td>\n",
       "      <td>0</td>\n",
       "      <td>...</td>\n",
       "      <td>1</td>\n",
       "      <td>0</td>\n",
       "      <td>0</td>\n",
       "      <td>0</td>\n",
       "      <td>1</td>\n",
       "      <td>0</td>\n",
       "      <td>0</td>\n",
       "      <td>1</td>\n",
       "      <td>1</td>\n",
       "      <td>0</td>\n",
       "    </tr>\n",
       "    <tr>\n",
       "      <th>1</th>\n",
       "      <td>5951</td>\n",
       "      <td>48</td>\n",
       "      <td>2</td>\n",
       "      <td>2</td>\n",
       "      <td>22</td>\n",
       "      <td>1</td>\n",
       "      <td>1</td>\n",
       "      <td>2</td>\n",
       "      <td>0</td>\n",
       "      <td>1</td>\n",
       "      <td>...</td>\n",
       "      <td>1</td>\n",
       "      <td>0</td>\n",
       "      <td>0</td>\n",
       "      <td>0</td>\n",
       "      <td>1</td>\n",
       "      <td>0</td>\n",
       "      <td>1</td>\n",
       "      <td>0</td>\n",
       "      <td>1</td>\n",
       "      <td>0</td>\n",
       "    </tr>\n",
       "    <tr>\n",
       "      <th>2</th>\n",
       "      <td>2096</td>\n",
       "      <td>12</td>\n",
       "      <td>2</td>\n",
       "      <td>3</td>\n",
       "      <td>49</td>\n",
       "      <td>1</td>\n",
       "      <td>2</td>\n",
       "      <td>1</td>\n",
       "      <td>0</td>\n",
       "      <td>0</td>\n",
       "      <td>...</td>\n",
       "      <td>1</td>\n",
       "      <td>0</td>\n",
       "      <td>0</td>\n",
       "      <td>1</td>\n",
       "      <td>0</td>\n",
       "      <td>0</td>\n",
       "      <td>1</td>\n",
       "      <td>0</td>\n",
       "      <td>1</td>\n",
       "      <td>0</td>\n",
       "    </tr>\n",
       "    <tr>\n",
       "      <th>3</th>\n",
       "      <td>7882</td>\n",
       "      <td>42</td>\n",
       "      <td>2</td>\n",
       "      <td>4</td>\n",
       "      <td>45</td>\n",
       "      <td>1</td>\n",
       "      <td>2</td>\n",
       "      <td>1</td>\n",
       "      <td>1</td>\n",
       "      <td>0</td>\n",
       "      <td>...</td>\n",
       "      <td>0</td>\n",
       "      <td>1</td>\n",
       "      <td>0</td>\n",
       "      <td>0</td>\n",
       "      <td>1</td>\n",
       "      <td>0</td>\n",
       "      <td>1</td>\n",
       "      <td>0</td>\n",
       "      <td>1</td>\n",
       "      <td>0</td>\n",
       "    </tr>\n",
       "    <tr>\n",
       "      <th>4</th>\n",
       "      <td>4870</td>\n",
       "      <td>24</td>\n",
       "      <td>3</td>\n",
       "      <td>4</td>\n",
       "      <td>53</td>\n",
       "      <td>2</td>\n",
       "      <td>2</td>\n",
       "      <td>2</td>\n",
       "      <td>1</td>\n",
       "      <td>0</td>\n",
       "      <td>...</td>\n",
       "      <td>0</td>\n",
       "      <td>1</td>\n",
       "      <td>0</td>\n",
       "      <td>0</td>\n",
       "      <td>1</td>\n",
       "      <td>0</td>\n",
       "      <td>1</td>\n",
       "      <td>0</td>\n",
       "      <td>1</td>\n",
       "      <td>0</td>\n",
       "    </tr>\n",
       "  </tbody>\n",
       "</table>\n",
       "<p>5 rows × 62 columns</p>\n",
       "</div>"
      ],
      "text/plain": [
       "   creditamount  duration  installmentrate  residencesince  age  \\\n",
       "0          1169         6                4               4   67   \n",
       "1          5951        48                2               2   22   \n",
       "2          2096        12                2               3   49   \n",
       "3          7882        42                2               4   45   \n",
       "4          4870        24                3               4   53   \n",
       "\n",
       "   existingcredits  peopleliable  classification  existingchecking_A11  \\\n",
       "0                2             1               1                     1   \n",
       "1                1             1               2                     0   \n",
       "2                1             2               1                     0   \n",
       "3                1             2               1                     1   \n",
       "4                2             2               2                     1   \n",
       "\n",
       "   existingchecking_A12  ...  housing_A152  housing_A153  job_A171  job_A172  \\\n",
       "0                     0  ...             1             0         0         0   \n",
       "1                     1  ...             1             0         0         0   \n",
       "2                     0  ...             1             0         0         1   \n",
       "3                     0  ...             0             1         0         0   \n",
       "4                     0  ...             0             1         0         0   \n",
       "\n",
       "   job_A173  job_A174  telephone_A191  telephone_A192  foreignworker_A201  \\\n",
       "0         1         0               0               1                   1   \n",
       "1         1         0               1               0                   1   \n",
       "2         0         0               1               0                   1   \n",
       "3         1         0               1               0                   1   \n",
       "4         1         0               1               0                   1   \n",
       "\n",
       "   foreignworker_A202  \n",
       "0                   0  \n",
       "1                   0  \n",
       "2                   0  \n",
       "3                   0  \n",
       "4                   0  \n",
       "\n",
       "[5 rows x 62 columns]"
      ]
     },
     "execution_count": 6,
     "metadata": {},
     "output_type": "execute_result"
    }
   ],
   "source": [
    "transactions.head()"
   ]
  },
  {
   "cell_type": "code",
   "execution_count": 7,
   "metadata": {
    "colab": {
     "base_uri": "https://localhost:8080/",
     "height": 54
    },
    "colab_type": "code",
    "id": "hKV2o7BcjH5e",
    "outputId": "d0fe50a8-14ab-4af4-a8c8-b1676fd4040c"
   },
   "outputs": [
    {
     "data": {
      "text/plain": [
       "'\\nitems_dict = {}\\n\\nfor _, customer in customers.iterrows():\\n    purchases = list(customer.values)\\n    for purchase in purchases:\\n      if purchase not in items_dict:\\n        items_dict[purchase] = len(items_dict)\\n\\ntransactions = np.zeros((len(customers), len(items_dict)))\\n\\nfor customer_index, customer in customers.iterrows():\\n    purchases = list(customer.values)\\n    for purchase in purchases:\\n      transactions[customer_index, items_dict[purchase]] = 1        \\n'"
      ]
     },
     "execution_count": 7,
     "metadata": {},
     "output_type": "execute_result"
    }
   ],
   "source": [
    "'''\n",
    "items_dict = {}\n",
    "\n",
    "for _, customer in customers.iterrows():\n",
    "    purchases = list(customer.values)\n",
    "    for purchase in purchases:\n",
    "      if purchase not in items_dict:\n",
    "        items_dict[purchase] = len(items_dict)\n",
    "\n",
    "transactions = np.zeros((len(customers), len(items_dict)))\n",
    "\n",
    "for customer_index, customer in customers.iterrows():\n",
    "    purchases = list(customer.values)\n",
    "    for purchase in purchases:\n",
    "      transactions[customer_index, items_dict[purchase]] = 1        \n",
    "'''"
   ]
  },
  {
   "cell_type": "code",
   "execution_count": 8,
   "metadata": {
    "colab": {
     "base_uri": "https://localhost:8080/",
     "height": 296
    },
    "colab_type": "code",
    "id": "R19vxGAY1j3g",
    "outputId": "e443aec1-9e18-4b6f-f8ac-65b2120089fa"
   },
   "outputs": [
    {
     "data": {
      "text/plain": [
       "Text(0.5, 0, 'dimensions')"
      ]
     },
     "execution_count": 8,
     "metadata": {},
     "output_type": "execute_result"
    },
    {
     "data": {
      "image/png": "[encoded data removed]",
      "text/plain": [
       "<Figure size 432x288 with 1 Axes>"
      ]
     },
     "metadata": {
      "needs_background": "light"
     },
     "output_type": "display_data"
    }
   ],
   "source": [
    "from sklearn.preprocessing import StandardScaler\n",
    "from sklearn.decomposition import PCA, FastICA\n",
    "import matplotlib.pyplot as plt\n",
    "\n",
    "pca = PCA().fit(\n",
    "    StandardScaler().fit_transform(transactions)\n",
    ")\n",
    "ax = plt.plot(\n",
    "    range(len(pca.explained_variance_ratio_)), \n",
    "    np.cumsum(pca.explained_variance_ratio_)\n",
    ")\n",
    "plt.ylabel('explained variance (cummulative)')\n",
    "plt.xlabel('dimensions')"
   ]
  },
  {
   "cell_type": "code",
   "execution_count": 9,
   "metadata": {
    "colab": {
     "base_uri": "https://localhost:8080/",
     "height": 34
    },
    "colab_type": "code",
    "id": "5w2RICX_FLYP",
    "outputId": "b9cf96e1-393d-4215-cc87-e5fd56d7a01e"
   },
   "outputs": [
    {
     "data": {
      "text/plain": [
       "62"
      ]
     },
     "execution_count": 9,
     "metadata": {},
     "output_type": "execute_result"
    }
   ],
   "source": [
    "len(transactions.columns)"
   ]
  },
  {
   "cell_type": "code",
   "execution_count": 10,
   "metadata": {
    "colab": {},
    "colab_type": "code",
    "id": "r_cMYGVfvS6n"
   },
   "outputs": [],
   "source": [
    "#let's find a good dimensionality reduction\n",
    "from sklearn.manifold import LocallyLinearEmbedding\n",
    "\n",
    "dimensions_range = [10, 20]\n",
    "reconstruction_errors = np.zeros((dimensions_range[1]))\n",
    "for n_components in range(*dimensions_range):\n",
    "  lle = LocallyLinearEmbedding(\n",
    "      n_components=n_components, n_jobs=-1, #eigen_solver='auto', n_neighbors=2\n",
    "  ).fit(transactions)\n",
    "  reconstruction_errors[n_components] = lle.reconstruction_error_"
   ]
  },
  {
   "cell_type": "code",
   "execution_count": 11,
   "metadata": {
    "colab": {
     "base_uri": "https://localhost:8080/",
     "height": 296
    },
    "colab_type": "code",
    "id": "xuhh0Ko6y3zJ",
    "outputId": "96adc8fb-07a7-4de0-c97a-017322fd9de5"
   },
   "outputs": [
    {
     "data": {
      "text/plain": [
       "Text(0.5, 0, 'dimensions')"
      ]
     },
     "execution_count": 11,
     "metadata": {},
     "output_type": "execute_result"
    },
    {
     "data": {
      "image/png": "[encoded data removed]",
      "text/plain": [
       "<Figure size 432x288 with 1 Axes>"
      ]
     },
     "metadata": {
      "needs_background": "light"
     },
     "output_type": "display_data"
    }
   ],
   "source": [
    "import matplotlib.pyplot as plt\n",
    "plt.plot(list(range(dimensions_range[1])), reconstruction_errors)\n",
    "plt.ylabel('reconstruction error')\n",
    "plt.xlabel('dimensions')"
   ]
  },
  {
   "cell_type": "code",
   "execution_count": 12,
   "metadata": {
    "colab": {
     "base_uri": "https://localhost:8080/",
     "height": 68
    },
    "colab_type": "code",
    "id": "LdyBjzklKFLX",
    "outputId": "6c954151-f159-45bd-8295-5f8752ffcf49"
   },
   "outputs": [
    {
     "data": {
      "text/plain": [
       "array([0.00000000e+00, 5.97277824e-15, 4.53648713e-15, 2.67953071e-09,\n",
       "       1.55691443e-08, 8.63104004e-08, 2.11263688e-07, 3.52622045e-07,\n",
       "       5.93974854e-07, 9.35832024e-07, 1.47094691e-06])"
      ]
     },
     "execution_count": 12,
     "metadata": {},
     "output_type": "execute_result"
    }
   ],
   "source": [
    "reconstruction_errors[dimensions_range[0]-1:]"
   ]
  },
  {
   "cell_type": "code",
   "execution_count": 13,
   "metadata": {
    "colab": {
     "base_uri": "https://localhost:8080/",
     "height": 34
    },
    "colab_type": "code",
    "id": "snLLb37Rv5EF",
    "outputId": "a0031ea8-1345-4086-8b64-b7c27467a6d5"
   },
   "outputs": [
    {
     "name": "stdout",
     "output_type": "stream",
     "text": [
      "chosen dimensions: 12\n"
     ]
    }
   ],
   "source": [
    "n_components = np.argmin(reconstruction_errors[dimensions_range[0]:]) + dimensions_range[0]+1\n",
    "print('chosen dimensions: {}'.format(n_components))\n",
    "lle = LocallyLinearEmbedding(\n",
    "    n_components=n_components, eigen_solver='auto', n_neighbors=2\n",
    ").fit(transactions)\n",
    "transactions_reduced = lle.transform(transactions)"
   ]
  },
  {
   "cell_type": "code",
   "execution_count": 14,
   "metadata": {
    "colab": {},
    "colab_type": "code",
    "id": "QH9gr1XTxBcU"
   },
   "outputs": [
    {
     "name": "stderr",
     "output_type": "stream",
     "text": [
      "/Users/ben/anaconda3/lib/python3.6/site-packages/sklearn/cluster/_affinity_propagation.py:152: FutureWarning: 'random_state' has been introduced in 0.23. It will be set to None starting from 0.25 which means that results will differ at every function call. Set 'random_state' to None to silence this warning, or to 0 to keep the behavior of versions <0.23.\n",
      "  FutureWarning)\n"
     ]
    }
   ],
   "source": [
    "from sklearn.cluster import AffinityPropagation\n",
    "clustering = AffinityPropagation(damping=0.9).fit(transactions_reduced)"
   ]
  },
  {
   "cell_type": "code",
   "execution_count": 15,
   "metadata": {
    "colab": {
     "base_uri": "https://localhost:8080/",
     "height": 34
    },
    "colab_type": "code",
    "id": "KbB0hCjVyMge",
    "outputId": "e6d70b45-ebd0-43fc-89b9-aeb3691ab19e"
   },
   "outputs": [
    {
     "data": {
      "text/plain": [
       "array([0])"
      ]
     },
     "execution_count": 15,
     "metadata": {},
     "output_type": "execute_result"
    }
   ],
   "source": [
    "np.unique(clustering.predict(transactions_reduced))"
   ]
  },
  {
   "cell_type": "code",
   "execution_count": 18,
   "metadata": {
    "colab": {},
    "colab_type": "code",
    "id": "Gih71BlXwTfv"
   },
   "outputs": [],
   "source": [
    "import matplotlib.pyplot as plt\n",
    "from sklearn.pipeline import make_pipeline\n",
    "from sklearn.preprocessing import StandardScaler\n",
    "from sklearn.decomposition import FastICA\n",
    "from sklearn.pipeline import make_pipeline\n",
    "from sklearn.svm import SVC\n",
    "from sklearn.base import TransformerMixin\n",
    "\n",
    "class Reduce(TransformerMixin):\n",
    "  def fit(self, X, y=None):\n",
    "    return self\n",
    "  def transform(self, X):\n",
    "    return X[:, :2]\n",
    "\n",
    "\n",
    "def plot_decision_boundary(data, kmeans, title='No title', h=.001, model=None, highlight_centroids=False, ica=Reduce()):\n",
    "    '''Based on https://scikit-learn.org/stable/auto_examples/cluster/plot_kmeans_digits.html\n",
    "  \n",
    "    Parameters\n",
    "    ----------\n",
    "    data - the dataset to be visualized with clusters\n",
    "    kmeans - the clustering algorithm\n",
    "    title - the title to displayed with the plot\n",
    "    h - Step size of the mesh. Decrease to increase the quality of the VQ.\n",
    "    model - model to re-learn projections in lower-dimensional space. Don't if None.\n",
    "    highlight_centroids - whether to show the centroids (False)\n",
    "      centroids might have little bearing in a different space.\n",
    "    ica - a dimensionality reduction method with fit and transform. This has to result in\n",
    "      two dimensions, e.g. FastICA(n_components=2)\n",
    "    '''\n",
    "    #ica = ica.fit(data)\n",
    "    reduced_data = ica.fit_transform(data)\n",
    "    if model is not None:\n",
    "      svc = model.fit(reduced_data, kmeans.predict(data))\n",
    "    # Plot the decision boundary. For that, we will assign a color to each\n",
    "    x_min, x_max = reduced_data[:, 0].min() - 1e-15, reduced_data[:, 0].max() + 1e-15\n",
    "    y_min, y_max = reduced_data[:, 1].min() - 1e-15, reduced_data[:, 1].max() + 1e-15\n",
    "    xx, yy = np.meshgrid(np.arange(x_min, x_max, h), np.arange(y_min, y_max, h))\n",
    "\n",
    "    # Obtain labels for each point in mesh. Use last trained model.\n",
    "    if model:\n",
    "      preds = svc.predict(\n",
    "              np.c_[xx.ravel(), yy.ravel()]\n",
    "      )\n",
    "    elif data.shape[1] == 2:\n",
    "      preds = kmeans.predict(\n",
    "              np.c_[xx.ravel(), yy.ravel()]\n",
    "      )\n",
    "    else:\n",
    "      preds = kmeans.predict(\n",
    "          ica.inverse_transform(\n",
    "              np.c_[xx.ravel(), yy.ravel()]\n",
    "          )\n",
    "      )\n",
    "    pred_dict = {predval: i for i, predval in enumerate(np.unique(preds))}\n",
    "    Z = preds.reshape(xx.shape)\n",
    "    plt.figure(1)\n",
    "    plt.clf()\n",
    "    plt.imshow(\n",
    "        Z, interpolation=None,\n",
    "        extent=(xx.min(), xx.max(), yy.min(), yy.max()),\n",
    "        cmap=plt.cm.Paired,\n",
    "        aspect='auto', origin='lower',\n",
    "    )\n",
    "\n",
    "    plt.plot(reduced_data[:, 0], reduced_data[:, 1], 'k.', markersize=2)\n",
    "    plt.colorbar()\n",
    "    if highlight_centroids:\n",
    "    # Plot the centroids as a white X\n",
    "      centroids = ica.transform(kmeans.cluster_centers_)\n",
    "      centroids = np.array(\n",
    "          [centroid for i, centroid in enumerate(centroids) if i in pred_dict]\n",
    "      )\n",
    "      plt.scatter(\n",
    "          centroids[:, 0], centroids[:, 1],\n",
    "          marker='x', s=169, linewidths=3,\n",
    "          color='w', zorder=10\n",
    "      )\n",
    "    plt.title(title)\n",
    "    plt.xlim(x_min, x_max)\n",
    "    plt.ylim(y_min, y_max)\n",
    "    plt.xticks(())\n",
    "    plt.yticks(())\n",
    "    plt.show()\n"
   ]
  },
  {
   "cell_type": "code",
   "execution_count": 19,
   "metadata": {
    "colab": {},
    "colab_type": "code",
    "id": "E7yLql3fizSL"
   },
   "outputs": [],
   "source": [
    "y = clustering.predict(lle.transform(transactions))"
   ]
  },
  {
   "cell_type": "code",
   "execution_count": 20,
   "metadata": {
    "colab": {
     "base_uri": "https://localhost:8080/",
     "height": 503
    },
    "colab_type": "code",
    "id": "fzvwP6GRJawX",
    "outputId": "2efca8f1-6228-484e-fe73-3c276b760657"
   },
   "outputs": [
    {
     "data": {
      "text/html": [
       "<div>\n",
       "<style scoped>\n",
       "    .dataframe tbody tr th:only-of-type {\n",
       "        vertical-align: middle;\n",
       "    }\n",
       "\n",
       "    .dataframe tbody tr th {\n",
       "        vertical-align: top;\n",
       "    }\n",
       "\n",
       "    .dataframe thead th {\n",
       "        text-align: right;\n",
       "    }\n",
       "</style>\n",
       "<table border=\"1\" class=\"dataframe\">\n",
       "  <thead>\n",
       "    <tr style=\"text-align: right;\">\n",
       "      <th></th>\n",
       "      <th>creditamount</th>\n",
       "      <th>duration</th>\n",
       "      <th>installmentrate</th>\n",
       "      <th>residencesince</th>\n",
       "      <th>age</th>\n",
       "      <th>existingcredits</th>\n",
       "      <th>peopleliable</th>\n",
       "      <th>classification</th>\n",
       "      <th>existingchecking_A11</th>\n",
       "      <th>existingchecking_A12</th>\n",
       "      <th>...</th>\n",
       "      <th>housing_A152</th>\n",
       "      <th>housing_A153</th>\n",
       "      <th>job_A171</th>\n",
       "      <th>job_A172</th>\n",
       "      <th>job_A173</th>\n",
       "      <th>job_A174</th>\n",
       "      <th>telephone_A191</th>\n",
       "      <th>telephone_A192</th>\n",
       "      <th>foreignworker_A201</th>\n",
       "      <th>foreignworker_A202</th>\n",
       "    </tr>\n",
       "    <tr>\n",
       "      <th>y</th>\n",
       "      <th></th>\n",
       "      <th></th>\n",
       "      <th></th>\n",
       "      <th></th>\n",
       "      <th></th>\n",
       "      <th></th>\n",
       "      <th></th>\n",
       "      <th></th>\n",
       "      <th></th>\n",
       "      <th></th>\n",
       "      <th></th>\n",
       "      <th></th>\n",
       "      <th></th>\n",
       "      <th></th>\n",
       "      <th></th>\n",
       "      <th></th>\n",
       "      <th></th>\n",
       "      <th></th>\n",
       "      <th></th>\n",
       "      <th></th>\n",
       "      <th></th>\n",
       "    </tr>\n",
       "  </thead>\n",
       "  <tbody>\n",
       "    <tr>\n",
       "      <th>0</th>\n",
       "      <td>3271.258</td>\n",
       "      <td>20.903</td>\n",
       "      <td>2.973</td>\n",
       "      <td>2.845</td>\n",
       "      <td>35.546</td>\n",
       "      <td>1.407</td>\n",
       "      <td>1.155</td>\n",
       "      <td>1.3</td>\n",
       "      <td>0.274</td>\n",
       "      <td>0.269</td>\n",
       "      <td>...</td>\n",
       "      <td>0.713</td>\n",
       "      <td>0.108</td>\n",
       "      <td>0.022</td>\n",
       "      <td>0.2</td>\n",
       "      <td>0.63</td>\n",
       "      <td>0.148</td>\n",
       "      <td>0.596</td>\n",
       "      <td>0.404</td>\n",
       "      <td>0.963</td>\n",
       "      <td>0.037</td>\n",
       "    </tr>\n",
       "  </tbody>\n",
       "</table>\n",
       "<p>1 rows × 62 columns</p>\n",
       "</div>"
      ],
      "text/plain": [
       "   creditamount  duration  installmentrate  residencesince     age  \\\n",
       "y                                                                    \n",
       "0      3271.258    20.903            2.973           2.845  35.546   \n",
       "\n",
       "   existingcredits  peopleliable  classification  existingchecking_A11  \\\n",
       "y                                                                        \n",
       "0            1.407         1.155             1.3                 0.274   \n",
       "\n",
       "   existingchecking_A12  ...  housing_A152  housing_A153  job_A171  job_A172  \\\n",
       "y                        ...                                                   \n",
       "0                 0.269  ...         0.713         0.108     0.022       0.2   \n",
       "\n",
       "   job_A173  job_A174  telephone_A191  telephone_A192  foreignworker_A201  \\\n",
       "y                                                                           \n",
       "0      0.63     0.148           0.596           0.404               0.963   \n",
       "\n",
       "   foreignworker_A202  \n",
       "y                      \n",
       "0               0.037  \n",
       "\n",
       "[1 rows x 62 columns]"
      ]
     },
     "execution_count": 20,
     "metadata": {},
     "output_type": "execute_result"
    }
   ],
   "source": [
    "transactions.join(pd.DataFrame(data=y, columns=['y'])).groupby(by='y').mean()"
   ]
  },
  {
   "cell_type": "markdown",
   "metadata": {
    "colab_type": "text",
    "id": "2j8ReVhwBfG3"
   },
   "source": [
    "We could also argue that what really matters to us is that customers can pay back the loans. For example, when we pay marketing expenses, we want to really spend on the potential customers that we can make money with or (reversely) don't lose with."
   ]
  },
  {
   "cell_type": "code",
   "execution_count": 21,
   "metadata": {
    "colab": {},
    "colab_type": "code",
    "id": "0KXlsFV5A7z3"
   },
   "outputs": [],
   "source": [
    "X = transactions.drop(columns=['classification'])\n",
    "y = transactions['classification']"
   ]
  },
  {
   "cell_type": "code",
   "execution_count": 22,
   "metadata": {
    "colab": {},
    "colab_type": "code",
    "id": "PD8vQJAqCwt_"
   },
   "outputs": [],
   "source": [
    "from sklearn.ensemble import RandomForestClassifier\n",
    "\n",
    "rf = RandomForestClassifier().fit(X, y)"
   ]
  },
  {
   "cell_type": "code",
   "execution_count": 23,
   "metadata": {
    "colab": {},
    "colab_type": "code",
    "id": "okIvJse_C4Fd"
   },
   "outputs": [],
   "source": [
    "DP, n_nodes_ptr = rf.decision_path(X)\n",
    "# The columns from indicator[n_nodes_ptr[i]:n_nodes_ptr[i+1]] gives the indicator value for the i-th estimator.\n"
   ]
  },
  {
   "cell_type": "code",
   "execution_count": 24,
   "metadata": {
    "colab": {
     "base_uri": "https://localhost:8080/",
     "height": 221
    },
    "colab_type": "code",
    "id": "IGCIC2B5KGaW",
    "outputId": "da33bd5f-3adc-4098-96ca-ad5a3fc37997"
   },
   "outputs": [
    {
     "data": {
      "text/plain": [
       "array([    0,   481,   912,  1403,  1842,  2301,  2774,  3249,  3734,\n",
       "        4203,  4738,  5251,  5726,  6197,  6662,  7127,  7588,  8115,\n",
       "        8576,  9051,  9482,  9957, 10404, 10915, 11338, 11799, 12282,\n",
       "       12747, 13202, 13687, 14160, 14623, 15044, 15493, 15904, 16385,\n",
       "       16886, 17381, 17824, 18235, 18694, 19181, 19656, 20129, 20604,\n",
       "       21075, 21540, 21959, 22398, 22861, 23350, 23791, 24240, 24729,\n",
       "       25252, 25723, 26198, 26627, 27092, 27557, 28024, 28495, 28986,\n",
       "       29489, 29974, 30413, 30834, 31267, 31758, 32243, 32694, 33179,\n",
       "       33640, 34113, 34604, 35085, 35572, 36057, 36528, 37031, 37496,\n",
       "       37977, 38466, 38953, 39428, 39859, 40340, 40787, 41242, 41699,\n",
       "       42138, 42651, 43126, 43659, 44142, 44645, 45134, 45591, 46024,\n",
       "       46483, 46892])"
      ]
     },
     "execution_count": 24,
     "metadata": {},
     "output_type": "execute_result"
    }
   ],
   "source": [
    "n_nodes_ptr"
   ]
  },
  {
   "cell_type": "code",
   "execution_count": 25,
   "metadata": {
    "colab": {
     "base_uri": "https://localhost:8080/",
     "height": 34
    },
    "colab_type": "code",
    "id": "ZpbDD_6KKzj8",
    "outputId": "74148ce4-9236-4aa3-f776-3682055cfe82"
   },
   "outputs": [
    {
     "data": {
      "text/plain": [
       "(1000, 46892)"
      ]
     },
     "execution_count": 25,
     "metadata": {},
     "output_type": "execute_result"
    }
   ],
   "source": [
    "DP.shape"
   ]
  },
  {
   "cell_type": "code",
   "execution_count": 26,
   "metadata": {
    "colab": {},
    "colab_type": "code",
    "id": "Zi1QTmMJHycf"
   },
   "outputs": [],
   "source": [
    "def reduce_decision_path(indicator, n_nodes_ptr, level=2):\n",
    "  def level_offsets(level):\n",
    "    if level > 0:\n",
    "      return np.array([2**(level-1), 2**level], dtype=np.int64)\n",
    "    else:\n",
    "      return np.array([0, 1], dtype=np.int64)\n",
    "\n",
    "  n_estimators = len(n_nodes_ptr)\n",
    "  X = indicator.todense()\n",
    "  offsets = level_offsets(level)\n",
    "  nodes = []\n",
    "  for est_ptr in n_nodes_ptr:\n",
    "    indices = offsets+est_ptr\n",
    "    if indices[-1] <= X.shape[1]:\n",
    "      nodes.append(X[:, indices[0]: indices[1]])  #.reshape(X.shape[0], indices.shape[-1]))\n",
    "  return np.column_stack(nodes)"
   ]
  },
  {
   "cell_type": "code",
   "execution_count": 27,
   "metadata": {
    "colab": {},
    "colab_type": "code",
    "id": "_516aQK_KtzC"
   },
   "outputs": [],
   "source": [
    "matrix = StandardScaler().fit_transform(np.column_stack([                                                      \n",
    "  reduce_decision_path(DP, n_nodes_ptr, level=1).mean(axis=-1),\n",
    "  reduce_decision_path(DP, n_nodes_ptr, level=2).mean(axis=-1),\n",
    "]))"
   ]
  },
  {
   "cell_type": "code",
   "execution_count": 28,
   "metadata": {
    "colab": {},
    "colab_type": "code",
    "id": "GZXFqHZ_DM1I"
   },
   "outputs": [
    {
     "name": "stderr",
     "output_type": "stream",
     "text": [
      "/Users/ben/anaconda3/lib/python3.6/site-packages/sklearn/cluster/_affinity_propagation.py:152: FutureWarning: 'random_state' has been introduced in 0.23. It will be set to None starting from 0.25 which means that results will differ at every function call. Set 'random_state' to None to silence this warning, or to 0 to keep the behavior of versions <0.23.\n",
      "  FutureWarning)\n"
     ]
    }
   ],
   "source": [
    "from sklearn.cluster import AffinityPropagation\n",
    "from sklearn.cluster import AgglomerativeClustering\n",
    "from scipy.spatial.distance import pdist, squareform\n",
    "\n",
    "distances = squareform(pdist(matrix))\n",
    "clustering = AffinityPropagation(damping=0.9).fit(distances)\n",
    "clustering2 = AgglomerativeClustering(\n",
    "    n_clusters=5, affinity='precomputed', linkage='average'\n",
    ").fit(distances)"
   ]
  },
  {
   "cell_type": "code",
   "execution_count": 29,
   "metadata": {
    "colab": {
     "base_uri": "https://localhost:8080/",
     "height": 34
    },
    "colab_type": "code",
    "id": "ESdKCq9tRgB5",
    "outputId": "018c886c-50e3-4e28-a9f0-8d7906aee77a"
   },
   "outputs": [
    {
     "data": {
      "text/plain": [
       "14"
      ]
     },
     "execution_count": 29,
     "metadata": {},
     "output_type": "execute_result"
    }
   ],
   "source": [
    "np.max(clustering.predict(distances))"
   ]
  },
  {
   "cell_type": "code",
   "execution_count": 30,
   "metadata": {
    "colab": {
     "base_uri": "https://localhost:8080/",
     "height": 545
    },
    "colab_type": "code",
    "id": "N0R4zu2cnghI",
    "outputId": "6251b318-2b00-4518-8379-c9d3912dd3a1"
   },
   "outputs": [
    {
     "data": {
      "text/html": [
       "<div>\n",
       "<style scoped>\n",
       "    .dataframe tbody tr th:only-of-type {\n",
       "        vertical-align: middle;\n",
       "    }\n",
       "\n",
       "    .dataframe tbody tr th {\n",
       "        vertical-align: top;\n",
       "    }\n",
       "\n",
       "    .dataframe thead th {\n",
       "        text-align: right;\n",
       "    }\n",
       "</style>\n",
       "<table border=\"1\" class=\"dataframe\">\n",
       "  <thead>\n",
       "    <tr style=\"text-align: right;\">\n",
       "      <th></th>\n",
       "      <th>age_mean</th>\n",
       "      <th>age_std</th>\n",
       "      <th>creditamount</th>\n",
       "      <th>duration</th>\n",
       "      <th>count</th>\n",
       "      <th>class_mean</th>\n",
       "      <th>class_std</th>\n",
       "    </tr>\n",
       "    <tr>\n",
       "      <th>cluster</th>\n",
       "      <th></th>\n",
       "      <th></th>\n",
       "      <th></th>\n",
       "      <th></th>\n",
       "      <th></th>\n",
       "      <th></th>\n",
       "      <th></th>\n",
       "    </tr>\n",
       "  </thead>\n",
       "  <tbody>\n",
       "    <tr>\n",
       "      <th>5</th>\n",
       "      <td>34.864865</td>\n",
       "      <td>11.394933</td>\n",
       "      <td>2518.837838</td>\n",
       "      <td>17.459459</td>\n",
       "      <td>74</td>\n",
       "      <td>1.202703</td>\n",
       "      <td>0.404757</td>\n",
       "    </tr>\n",
       "    <tr>\n",
       "      <th>0</th>\n",
       "      <td>34.029851</td>\n",
       "      <td>11.262663</td>\n",
       "      <td>2578.492537</td>\n",
       "      <td>17.835821</td>\n",
       "      <td>67</td>\n",
       "      <td>1.208955</td>\n",
       "      <td>0.409631</td>\n",
       "    </tr>\n",
       "    <tr>\n",
       "      <th>11</th>\n",
       "      <td>39.740741</td>\n",
       "      <td>13.357777</td>\n",
       "      <td>6341.259259</td>\n",
       "      <td>34.370370</td>\n",
       "      <td>27</td>\n",
       "      <td>1.222222</td>\n",
       "      <td>0.423659</td>\n",
       "    </tr>\n",
       "    <tr>\n",
       "      <th>12</th>\n",
       "      <td>39.445946</td>\n",
       "      <td>11.125858</td>\n",
       "      <td>4091.094595</td>\n",
       "      <td>26.972973</td>\n",
       "      <td>74</td>\n",
       "      <td>1.229730</td>\n",
       "      <td>0.423530</td>\n",
       "    </tr>\n",
       "    <tr>\n",
       "      <th>2</th>\n",
       "      <td>32.523810</td>\n",
       "      <td>10.704998</td>\n",
       "      <td>2472.476190</td>\n",
       "      <td>16.738095</td>\n",
       "      <td>42</td>\n",
       "      <td>1.238095</td>\n",
       "      <td>0.431081</td>\n",
       "    </tr>\n",
       "    <tr>\n",
       "      <th>3</th>\n",
       "      <td>37.851064</td>\n",
       "      <td>11.313668</td>\n",
       "      <td>5182.255319</td>\n",
       "      <td>27.170213</td>\n",
       "      <td>47</td>\n",
       "      <td>1.255319</td>\n",
       "      <td>0.440755</td>\n",
       "    </tr>\n",
       "    <tr>\n",
       "      <th>4</th>\n",
       "      <td>33.000000</td>\n",
       "      <td>11.904926</td>\n",
       "      <td>1741.434783</td>\n",
       "      <td>13.217391</td>\n",
       "      <td>23</td>\n",
       "      <td>1.260870</td>\n",
       "      <td>0.448978</td>\n",
       "    </tr>\n",
       "    <tr>\n",
       "      <th>7</th>\n",
       "      <td>39.000000</td>\n",
       "      <td>11.317636</td>\n",
       "      <td>4075.659341</td>\n",
       "      <td>23.307692</td>\n",
       "      <td>91</td>\n",
       "      <td>1.263736</td>\n",
       "      <td>0.443099</td>\n",
       "    </tr>\n",
       "    <tr>\n",
       "      <th>1</th>\n",
       "      <td>33.183673</td>\n",
       "      <td>10.821272</td>\n",
       "      <td>3266.959184</td>\n",
       "      <td>20.663265</td>\n",
       "      <td>98</td>\n",
       "      <td>1.285714</td>\n",
       "      <td>0.454077</td>\n",
       "    </tr>\n",
       "    <tr>\n",
       "      <th>13</th>\n",
       "      <td>32.611111</td>\n",
       "      <td>10.165144</td>\n",
       "      <td>1695.000000</td>\n",
       "      <td>12.194444</td>\n",
       "      <td>36</td>\n",
       "      <td>1.305556</td>\n",
       "      <td>0.467177</td>\n",
       "    </tr>\n",
       "    <tr>\n",
       "      <th>6</th>\n",
       "      <td>32.092105</td>\n",
       "      <td>11.413650</td>\n",
       "      <td>2423.460526</td>\n",
       "      <td>16.276316</td>\n",
       "      <td>76</td>\n",
       "      <td>1.315789</td>\n",
       "      <td>0.467918</td>\n",
       "    </tr>\n",
       "    <tr>\n",
       "      <th>10</th>\n",
       "      <td>36.292929</td>\n",
       "      <td>10.589996</td>\n",
       "      <td>3404.424242</td>\n",
       "      <td>21.181818</td>\n",
       "      <td>99</td>\n",
       "      <td>1.353535</td>\n",
       "      <td>0.480500</td>\n",
       "    </tr>\n",
       "    <tr>\n",
       "      <th>14</th>\n",
       "      <td>31.000000</td>\n",
       "      <td>12.363541</td>\n",
       "      <td>1932.250000</td>\n",
       "      <td>12.750000</td>\n",
       "      <td>8</td>\n",
       "      <td>1.375000</td>\n",
       "      <td>0.517549</td>\n",
       "    </tr>\n",
       "    <tr>\n",
       "      <th>8</th>\n",
       "      <td>34.620690</td>\n",
       "      <td>11.243282</td>\n",
       "      <td>2827.034483</td>\n",
       "      <td>20.232759</td>\n",
       "      <td>116</td>\n",
       "      <td>1.379310</td>\n",
       "      <td>0.487320</td>\n",
       "    </tr>\n",
       "    <tr>\n",
       "      <th>9</th>\n",
       "      <td>37.040984</td>\n",
       "      <td>11.192085</td>\n",
       "      <td>3557.418033</td>\n",
       "      <td>23.278689</td>\n",
       "      <td>122</td>\n",
       "      <td>1.418033</td>\n",
       "      <td>0.495270</td>\n",
       "    </tr>\n",
       "  </tbody>\n",
       "</table>\n",
       "</div>"
      ],
      "text/plain": [
       "          age_mean    age_std  creditamount   duration  count  class_mean  \\\n",
       "cluster                                                                     \n",
       "5        34.864865  11.394933   2518.837838  17.459459     74    1.202703   \n",
       "0        34.029851  11.262663   2578.492537  17.835821     67    1.208955   \n",
       "11       39.740741  13.357777   6341.259259  34.370370     27    1.222222   \n",
       "12       39.445946  11.125858   4091.094595  26.972973     74    1.229730   \n",
       "2        32.523810  10.704998   2472.476190  16.738095     42    1.238095   \n",
       "3        37.851064  11.313668   5182.255319  27.170213     47    1.255319   \n",
       "4        33.000000  11.904926   1741.434783  13.217391     23    1.260870   \n",
       "7        39.000000  11.317636   4075.659341  23.307692     91    1.263736   \n",
       "1        33.183673  10.821272   3266.959184  20.663265     98    1.285714   \n",
       "13       32.611111  10.165144   1695.000000  12.194444     36    1.305556   \n",
       "6        32.092105  11.413650   2423.460526  16.276316     76    1.315789   \n",
       "10       36.292929  10.589996   3404.424242  21.181818     99    1.353535   \n",
       "14       31.000000  12.363541   1932.250000  12.750000      8    1.375000   \n",
       "8        34.620690  11.243282   2827.034483  20.232759    116    1.379310   \n",
       "9        37.040984  11.192085   3557.418033  23.278689    122    1.418033   \n",
       "\n",
       "         class_std  \n",
       "cluster             \n",
       "5         0.404757  \n",
       "0         0.409631  \n",
       "11        0.423659  \n",
       "12        0.423530  \n",
       "2         0.431081  \n",
       "3         0.440755  \n",
       "4         0.448978  \n",
       "7         0.443099  \n",
       "1         0.454077  \n",
       "13        0.467177  \n",
       "6         0.467918  \n",
       "10        0.480500  \n",
       "14        0.517549  \n",
       "8         0.487320  \n",
       "9         0.495270  "
      ]
     },
     "execution_count": 30,
     "metadata": {},
     "output_type": "execute_result"
    }
   ],
   "source": [
    "y = clustering.predict(distances)\n",
    "clusters = transactions.join(\n",
    "    pd.DataFrame(data=y, columns=['cluster'])\n",
    ").groupby(by='cluster').agg(\n",
    "    age_mean=pd.NamedAgg(column='age', aggfunc='mean'),\n",
    "    age_std=pd.NamedAgg(column='age', aggfunc='std'),\n",
    "    creditamount=pd.NamedAgg(column='creditamount', aggfunc='mean'),\n",
    "    duration=pd.NamedAgg(column='duration', aggfunc='mean'),\n",
    "    count=pd.NamedAgg(column='age', aggfunc='count'),\n",
    "    class_mean=pd.NamedAgg(column='classification', aggfunc='mean'),\n",
    "    class_std=pd.NamedAgg(column='classification', aggfunc='std'),\n",
    ").sort_values(by='class_mean')\n",
    "clusters"
   ]
  },
  {
   "cell_type": "code",
   "execution_count": 31,
   "metadata": {
    "colab": {
     "base_uri": "https://localhost:8080/",
     "height": 343
    },
    "colab_type": "code",
    "id": "xltIqbaeFner",
    "outputId": "008a3d25-0b00-4f7a-d571-18aafdc67f75"
   },
   "outputs": [
    {
     "name": "stdout",
     "output_type": "stream",
     "text": [
      "Requirement already satisfied: dython in /Users/ben/anaconda3/lib/python3.6/site-packages (0.6.1)\n",
      "Requirement already satisfied: matplotlib in /Users/ben/.local/lib/python3.6/site-packages (from dython) (3.2.2)\n",
      "Requirement already satisfied: seaborn in /Users/ben/anaconda3/lib/python3.6/site-packages (from dython) (0.9.0)\n",
      "Requirement already satisfied: scipy in /Users/ben/anaconda3/lib/python3.6/site-packages (from dython) (1.5.2)\n",
      "Requirement already satisfied: numpy in /Users/ben/anaconda3/lib/python3.6/site-packages (from dython) (1.19.1)\n",
      "Requirement already satisfied: pandas>=0.23.4 in /Users/ben/anaconda3/lib/python3.6/site-packages (from dython) (1.1.0)\n",
      "Requirement already satisfied: scikit-learn in /Users/ben/anaconda3/lib/python3.6/site-packages (from dython) (0.23.2)\n",
      "Requirement already satisfied: kiwisolver>=1.0.1 in /Users/ben/anaconda3/lib/python3.6/site-packages (from matplotlib->dython) (1.0.1)\n",
      "Requirement already satisfied: pyparsing!=2.0.4,!=2.1.2,!=2.1.6,>=2.0.1 in /Users/ben/anaconda3/lib/python3.6/site-packages (from matplotlib->dython) (2.4.7)\n",
      "Requirement already satisfied: cycler>=0.10 in /Users/ben/anaconda3/lib/python3.6/site-packages (from matplotlib->dython) (0.10.0)\n",
      "Requirement already satisfied: python-dateutil>=2.1 in /Users/ben/anaconda3/lib/python3.6/site-packages (from matplotlib->dython) (2.8.1)\n",
      "Requirement already satisfied: pytz>=2017.2 in /Users/ben/anaconda3/lib/python3.6/site-packages (from pandas>=0.23.4->dython) (2018.7)\n",
      "Requirement already satisfied: joblib>=0.11 in /Users/ben/anaconda3/lib/python3.6/site-packages (from scikit-learn->dython) (0.16.0)\n",
      "Requirement already satisfied: threadpoolctl>=2.0.0 in /Users/ben/anaconda3/lib/python3.6/site-packages (from scikit-learn->dython) (2.1.0)\n",
      "Requirement already satisfied: setuptools in /Users/ben/anaconda3/lib/python3.6/site-packages (from kiwisolver>=1.0.1->matplotlib->dython) (49.6.0.post20200814)\n",
      "Requirement already satisfied: six in /Users/ben/anaconda3/lib/python3.6/site-packages (from cycler>=0.10->matplotlib->dython) (1.15.0)\n",
      "Note: you may need to restart the kernel to use updated packages.\n"
     ]
    }
   ],
   "source": [
    "pip install dython"
   ]
  },
  {
   "cell_type": "code",
   "execution_count": 32,
   "metadata": {
    "colab": {
     "base_uri": "https://localhost:8080/",
     "height": 300
    },
    "colab_type": "code",
    "id": "TH3hCLb5Foj_",
    "outputId": "2f99727b-c922-491e-a329-191f29ca9fb6"
   },
   "outputs": [],
   "source": [
    "from dython.nominal import correlation_ratio"
   ]
  },
  {
   "cell_type": "code",
   "execution_count": 33,
   "metadata": {
    "colab": {
     "base_uri": "https://localhost:8080/",
     "height": 300
    },
    "colab_type": "code",
    "id": "y5gyf7b6z3tr",
    "outputId": "e15f1d35-ba25-4d4d-96ec-e1d4954ffab3"
   },
   "outputs": [],
   "source": [
    "from dython.nominal import associations"
   ]
  },
  {
   "cell_type": "code",
   "execution_count": 34,
   "metadata": {
    "colab": {
     "base_uri": "https://localhost:8080/",
     "height": 34
    },
    "colab_type": "code",
    "id": "qnCPhhmRF_gR",
    "outputId": "c20c654d-0716-4a15-fa61-e7f1b93a7787"
   },
   "outputs": [
    {
     "data": {
      "text/plain": [
       "0.06483765834312989"
      ]
     },
     "execution_count": 34,
     "metadata": {},
     "output_type": "execute_result"
    }
   ],
   "source": [
    "correlation_ratio(transactions['classification'].values, y)"
   ]
  },
  {
   "cell_type": "code",
   "execution_count": 35,
   "metadata": {
    "colab": {
     "base_uri": "https://localhost:8080/",
     "height": 235
    },
    "colab_type": "code",
    "id": "0welHRx7EcsT",
    "outputId": "9a2ba5e8-62ff-4d32-a4d3-3c34e451d70d"
   },
   "outputs": [
    {
     "data": {
      "text/html": [
       "<div>\n",
       "<style scoped>\n",
       "    .dataframe tbody tr th:only-of-type {\n",
       "        vertical-align: middle;\n",
       "    }\n",
       "\n",
       "    .dataframe tbody tr th {\n",
       "        vertical-align: top;\n",
       "    }\n",
       "\n",
       "    .dataframe thead th {\n",
       "        text-align: right;\n",
       "    }\n",
       "</style>\n",
       "<table border=\"1\" class=\"dataframe\">\n",
       "  <thead>\n",
       "    <tr style=\"text-align: right;\">\n",
       "      <th></th>\n",
       "      <th>age_mean</th>\n",
       "      <th>age_std</th>\n",
       "      <th>creditamount</th>\n",
       "      <th>duration</th>\n",
       "      <th>count</th>\n",
       "      <th>class_mean</th>\n",
       "      <th>class_std</th>\n",
       "    </tr>\n",
       "    <tr>\n",
       "      <th>cluster</th>\n",
       "      <th></th>\n",
       "      <th></th>\n",
       "      <th></th>\n",
       "      <th></th>\n",
       "      <th></th>\n",
       "      <th></th>\n",
       "      <th></th>\n",
       "    </tr>\n",
       "  </thead>\n",
       "  <tbody>\n",
       "    <tr>\n",
       "      <th>3</th>\n",
       "      <td>47.000000</td>\n",
       "      <td>NaN</td>\n",
       "      <td>5103.000000</td>\n",
       "      <td>24.000000</td>\n",
       "      <td>1</td>\n",
       "      <td>1.000000</td>\n",
       "      <td>NaN</td>\n",
       "    </tr>\n",
       "    <tr>\n",
       "      <th>1</th>\n",
       "      <td>38.979079</td>\n",
       "      <td>11.482339</td>\n",
       "      <td>4533.991632</td>\n",
       "      <td>26.326360</td>\n",
       "      <td>239</td>\n",
       "      <td>1.238494</td>\n",
       "      <td>0.427057</td>\n",
       "    </tr>\n",
       "    <tr>\n",
       "      <th>2</th>\n",
       "      <td>33.959108</td>\n",
       "      <td>11.343443</td>\n",
       "      <td>2616.107807</td>\n",
       "      <td>17.613383</td>\n",
       "      <td>269</td>\n",
       "      <td>1.249071</td>\n",
       "      <td>0.433281</td>\n",
       "    </tr>\n",
       "    <tr>\n",
       "      <th>0</th>\n",
       "      <td>31.202703</td>\n",
       "      <td>10.389641</td>\n",
       "      <td>1752.094595</td>\n",
       "      <td>13.108108</td>\n",
       "      <td>74</td>\n",
       "      <td>1.283784</td>\n",
       "      <td>0.453911</td>\n",
       "    </tr>\n",
       "    <tr>\n",
       "      <th>4</th>\n",
       "      <td>35.345324</td>\n",
       "      <td>11.016844</td>\n",
       "      <td>3235.354916</td>\n",
       "      <td>21.292566</td>\n",
       "      <td>417</td>\n",
       "      <td>1.371703</td>\n",
       "      <td>0.483840</td>\n",
       "    </tr>\n",
       "  </tbody>\n",
       "</table>\n",
       "</div>"
      ],
      "text/plain": [
       "          age_mean    age_std  creditamount   duration  count  class_mean  \\\n",
       "cluster                                                                     \n",
       "3        47.000000        NaN   5103.000000  24.000000      1    1.000000   \n",
       "1        38.979079  11.482339   4533.991632  26.326360    239    1.238494   \n",
       "2        33.959108  11.343443   2616.107807  17.613383    269    1.249071   \n",
       "0        31.202703  10.389641   1752.094595  13.108108     74    1.283784   \n",
       "4        35.345324  11.016844   3235.354916  21.292566    417    1.371703   \n",
       "\n",
       "         class_std  \n",
       "cluster             \n",
       "3              NaN  \n",
       "1         0.427057  \n",
       "2         0.433281  \n",
       "0         0.453911  \n",
       "4         0.483840  "
      ]
     },
     "execution_count": 35,
     "metadata": {},
     "output_type": "execute_result"
    }
   ],
   "source": [
    "y = clustering2.labels_\n",
    "clusters = transactions.join(\n",
    "    pd.DataFrame(data=y, columns=['cluster'])\n",
    ").groupby(by='cluster').agg(\n",
    "    age_mean=pd.NamedAgg(column='age', aggfunc='mean'),\n",
    "    age_std=pd.NamedAgg(column='age', aggfunc='std'),\n",
    "    creditamount=pd.NamedAgg(column='creditamount', aggfunc='mean'),\n",
    "    duration=pd.NamedAgg(column='duration', aggfunc='mean'),\n",
    "    count=pd.NamedAgg(column='age', aggfunc='count'),\n",
    "    class_mean=pd.NamedAgg(column='classification', aggfunc='mean'),\n",
    "    class_std=pd.NamedAgg(column='classification', aggfunc='std'),\n",
    ").sort_values(by='class_mean')\n",
    "clusters"
   ]
  },
  {
   "cell_type": "code",
   "execution_count": 36,
   "metadata": {
    "colab": {
     "base_uri": "https://localhost:8080/",
     "height": 34
    },
    "colab_type": "code",
    "id": "8M1YzhIJGq5x",
    "outputId": "43c99ab0-83bf-4679-ca97-1e481a4f5aaa"
   },
   "outputs": [
    {
     "data": {
      "text/plain": [
       "0.11809909247898157"
      ]
     },
     "execution_count": 36,
     "metadata": {},
     "output_type": "execute_result"
    }
   ],
   "source": [
    "correlation_ratio(transactions['classification'].values, y)"
   ]
  },
  {
   "cell_type": "code",
   "execution_count": 37,
   "metadata": {
    "colab": {},
    "colab_type": "code",
    "id": "YiKVmys0H9eb"
   },
   "outputs": [
    {
     "name": "stderr",
     "output_type": "stream",
     "text": [
      "/Users/ben/anaconda3/lib/python3.6/site-packages/sklearn/cluster/_affinity_propagation.py:152: FutureWarning: 'random_state' has been introduced in 0.23. It will be set to None starting from 0.25 which means that results will differ at every function call. Set 'random_state' to None to silence this warning, or to 0 to keep the behavior of versions <0.23.\n",
      "  FutureWarning)\n"
     ]
    }
   ],
   "source": [
    "distances = squareform(pdist(\n",
    "    StandardScaler().fit_transform(\n",
    "        transactions[['classification', 'creditamount', 'duration']]\n",
    "    )\n",
    "))\n",
    "clustering3 = AffinityPropagation(damping=0.9).fit(distances)\n",
    "clustering4 = AgglomerativeClustering(\n",
    "    n_clusters=5, affinity='precomputed', linkage='average'\n",
    ").fit(distances)"
   ]
  },
  {
   "cell_type": "code",
   "execution_count": 38,
   "metadata": {
    "colab": {
     "base_uri": "https://localhost:8080/",
     "height": 68
    },
    "colab_type": "code",
    "id": "YJx_NKI2IZWp",
    "outputId": "1bc83c60-c332-4dd0-9448-879b3d74ba62"
   },
   "outputs": [
    {
     "name": "stdout",
     "output_type": "stream",
     "text": [
      "23\n",
      "0.00887681559456858\n",
      "0.3178388028194592\n"
     ]
    }
   ],
   "source": [
    "print(np.max(clustering3.predict(distances)))\n",
    "print(correlation_ratio(transactions['classification'].values, clustering3.predict(distances)))\n",
    "print(correlation_ratio(transactions['classification'].values, clustering4.labels_))"
   ]
  },
  {
   "cell_type": "code",
   "execution_count": 39,
   "metadata": {
    "colab": {
     "base_uri": "https://localhost:8080/",
     "height": 235
    },
    "colab_type": "code",
    "id": "6YOehaj2IxbX",
    "outputId": "45ff341e-5691-4e0d-d60b-bbc07892ff55"
   },
   "outputs": [
    {
     "data": {
      "text/html": [
       "<div>\n",
       "<style scoped>\n",
       "    .dataframe tbody tr th:only-of-type {\n",
       "        vertical-align: middle;\n",
       "    }\n",
       "\n",
       "    .dataframe tbody tr th {\n",
       "        vertical-align: top;\n",
       "    }\n",
       "\n",
       "    .dataframe thead th {\n",
       "        text-align: right;\n",
       "    }\n",
       "</style>\n",
       "<table border=\"1\" class=\"dataframe\">\n",
       "  <thead>\n",
       "    <tr style=\"text-align: right;\">\n",
       "      <th></th>\n",
       "      <th>age_mean</th>\n",
       "      <th>age_std</th>\n",
       "      <th>creditamount</th>\n",
       "      <th>duration</th>\n",
       "      <th>count</th>\n",
       "      <th>class_mean</th>\n",
       "      <th>class_std</th>\n",
       "    </tr>\n",
       "    <tr>\n",
       "      <th>cluster</th>\n",
       "      <th></th>\n",
       "      <th></th>\n",
       "      <th></th>\n",
       "      <th></th>\n",
       "      <th></th>\n",
       "      <th></th>\n",
       "      <th></th>\n",
       "    </tr>\n",
       "  </thead>\n",
       "  <tbody>\n",
       "    <tr>\n",
       "      <th>4</th>\n",
       "      <td>35.920000</td>\n",
       "      <td>7.348025</td>\n",
       "      <td>8289.740000</td>\n",
       "      <td>42.640000</td>\n",
       "      <td>50</td>\n",
       "      <td>1.000000</td>\n",
       "      <td>0.000000</td>\n",
       "    </tr>\n",
       "    <tr>\n",
       "      <th>2</th>\n",
       "      <td>35.548165</td>\n",
       "      <td>11.489624</td>\n",
       "      <td>2473.405963</td>\n",
       "      <td>17.779817</td>\n",
       "      <td>872</td>\n",
       "      <td>1.259174</td>\n",
       "      <td>0.438433</td>\n",
       "    </tr>\n",
       "    <tr>\n",
       "      <th>0</th>\n",
       "      <td>38.200000</td>\n",
       "      <td>16.457352</td>\n",
       "      <td>15271.600000</td>\n",
       "      <td>51.300000</td>\n",
       "      <td>10</td>\n",
       "      <td>1.600000</td>\n",
       "      <td>0.516398</td>\n",
       "    </tr>\n",
       "    <tr>\n",
       "      <th>1</th>\n",
       "      <td>34.530303</td>\n",
       "      <td>10.989813</td>\n",
       "      <td>7845.363636</td>\n",
       "      <td>41.545455</td>\n",
       "      <td>66</td>\n",
       "      <td>2.000000</td>\n",
       "      <td>0.000000</td>\n",
       "    </tr>\n",
       "    <tr>\n",
       "      <th>3</th>\n",
       "      <td>45.500000</td>\n",
       "      <td>31.819805</td>\n",
       "      <td>14725.500000</td>\n",
       "      <td>6.000000</td>\n",
       "      <td>2</td>\n",
       "      <td>2.000000</td>\n",
       "      <td>0.000000</td>\n",
       "    </tr>\n",
       "  </tbody>\n",
       "</table>\n",
       "</div>"
      ],
      "text/plain": [
       "          age_mean    age_std  creditamount   duration  count  class_mean  \\\n",
       "cluster                                                                     \n",
       "4        35.920000   7.348025   8289.740000  42.640000     50    1.000000   \n",
       "2        35.548165  11.489624   2473.405963  17.779817    872    1.259174   \n",
       "0        38.200000  16.457352  15271.600000  51.300000     10    1.600000   \n",
       "1        34.530303  10.989813   7845.363636  41.545455     66    2.000000   \n",
       "3        45.500000  31.819805  14725.500000   6.000000      2    2.000000   \n",
       "\n",
       "         class_std  \n",
       "cluster             \n",
       "4         0.000000  \n",
       "2         0.438433  \n",
       "0         0.516398  \n",
       "1         0.000000  \n",
       "3         0.000000  "
      ]
     },
     "execution_count": 39,
     "metadata": {},
     "output_type": "execute_result"
    }
   ],
   "source": [
    "y = clustering4.labels_\n",
    "clusters = transactions.join(\n",
    "    pd.DataFrame(data=y, columns=['cluster'])\n",
    ").groupby(by='cluster').agg(\n",
    "    age_mean=pd.NamedAgg(column='age', aggfunc='mean'),\n",
    "    age_std=pd.NamedAgg(column='age', aggfunc='std'),\n",
    "    creditamount=pd.NamedAgg(column='creditamount', aggfunc='mean'),\n",
    "    duration=pd.NamedAgg(column='duration', aggfunc='mean'),\n",
    "    count=pd.NamedAgg(column='age', aggfunc='count'),\n",
    "    class_mean=pd.NamedAgg(column='classification', aggfunc='mean'),\n",
    "    class_std=pd.NamedAgg(column='classification', aggfunc='std'),\n",
    ").sort_values(by='class_mean')\n",
    "clusters"
   ]
  },
  {
   "cell_type": "code",
   "execution_count": 41,
   "metadata": {
    "colab": {},
    "colab_type": "code",
    "id": "QxJSfAqMqVYF"
   },
   "outputs": [],
   "source": [
    "# this is from napkin-ml\n",
    "# https://github.com/eriklindernoren/NapkinML/blob/master/napkin_ml/utils/misc.py\n",
    "class Plot():\n",
    "    def __init__(self, colormap='viridis'):\n",
    "        self.cmap = plt.get_cmap(colormap)\n",
    "\n",
    "    def _transform(self, X, dim):\n",
    "        e_val, e_vec = np.linalg.eig(np.cov(X, rowvar=False))\n",
    "        idx = e_val.argsort()[::-1]\n",
    "        e_vec = e_vec[:, idx][:, :dim]\n",
    "        return X.dot(e_vec)\n",
    "\n",
    "    # Plot the dataset X and the corresponding labels y in 2D using PCA.\n",
    "    def plot_in_2d(self, X, y=None, title=None, accuracy=None, legend_labels=None):\n",
    "        X_transformed = self._transform(X, dim=2)\n",
    "        x1 = X_transformed[:, 0]\n",
    "        x2 = X_transformed[:, 1]\n",
    "        class_distr = []\n",
    "\n",
    "        y = np.array(y).astype(int)\n",
    "\n",
    "        colors = [self.cmap(i) for i in np.linspace(0, 1, len(np.unique(y)))]\n",
    "\n",
    "        # Plot the different class distributions\n",
    "        for i, l in enumerate(np.unique(y)):\n",
    "            _x1 = x1[y == l]\n",
    "            _x2 = x2[y == l]\n",
    "            _y = y[y == l]\n",
    "            class_distr.append(plt.scatter(_x1, _x2, color=colors[i]))\n",
    "\n",
    "        # Plot legend\n",
    "        if not legend_labels is None:\n",
    "            plt.legend(class_distr, legend_labels, loc=1)\n",
    "\n",
    "        # Plot title\n",
    "        if title:\n",
    "            if accuracy:\n",
    "                perc = 100 * accuracy\n",
    "                plt.suptitle(title)\n",
    "                plt.title(\"Accuracy: %.1f%%\" % perc, fontsize=10)\n",
    "            else:\n",
    "                plt.title(title)\n",
    "\n",
    "        # Axis labels\n",
    "        plt.xlabel('Principal Component 1')\n",
    "        plt.ylabel('Principal Component 2')\n",
    "\n",
    "        plt.show()\n"
   ]
  },
  {
   "cell_type": "code",
   "execution_count": 42,
   "metadata": {
    "colab": {},
    "colab_type": "code",
    "id": "lvQPqRAXpAeW"
   },
   "outputs": [
    {
     "name": "stderr",
     "output_type": "stream",
     "text": [
      "/Users/ben/anaconda3/lib/python3.6/site-packages/jax/lib/xla_bridge.py:125: UserWarning: No GPU/TPU found, falling back to CPU.\n",
      "  warnings.warn('No GPU/TPU found, falling back to CPU.')\n"
     ]
    },
    {
     "name": "stdout",
     "output_type": "stream",
     "text": [
      "(2, 4)\n",
      "(150,)\n",
      "(3, 4)\n"
     ]
    },
    {
     "data": {
      "text/plain": [
       "DeviceArray([2, 2, 2, 2, 2, 2, 2, 2, 2, 2, 2, 2, 2, 2, 2, 2, 2, 2, 2, 2,\n",
       "             2, 2, 2, 2, 2, 2, 2, 2, 2, 2, 2, 2, 2, 2, 2, 2, 2, 2, 2, 2,\n",
       "             2, 1, 2, 2, 2, 2, 2, 2, 2, 2, 0, 0, 0, 1, 0, 0, 0, 1, 0, 2,\n",
       "             1, 2, 1, 0, 2, 0, 0, 2, 0, 1, 0, 2, 0, 0, 0, 0, 0, 0, 0, 2,\n",
       "             1, 1, 2, 0, 2, 0, 0, 0, 2, 1, 2, 0, 2, 1, 2, 2, 2, 0, 1, 2,\n",
       "             0, 0, 0, 0, 0, 0, 1, 0, 0, 0, 0, 0, 0, 0, 0, 0, 0, 0, 0, 0,\n",
       "             0, 0, 0, 0, 0, 0, 0, 0, 0, 0, 0, 0, 0, 0, 0, 0, 0, 0, 0, 0,\n",
       "             0, 0, 0, 0, 0, 0, 0, 0, 0, 0], dtype=int32)"
      ]
     },
     "execution_count": 42,
     "metadata": {},
     "output_type": "execute_result"
    }
   ],
   "source": [
    "import jax.numpy as jnp\n",
    "import numpy as np\n",
    "from jax import grad, jit, vmap\n",
    "from sklearn.base import ClassifierMixin\n",
    "import jax\n",
    "import random\n",
    "from scipy.stats import hmean\n",
    "\n",
    "\n",
    "class KMeans(ClassifierMixin):\n",
    "    def __init__(self, k, n_iter=100):\n",
    "      self.k = k\n",
    "      self.n_iter = n_iter\n",
    "      self.euclidean = jit(vmap(\n",
    "          lambda x, y: jnp.linalg.norm(\n",
    "              x - y, ord=2, axis=-1, keepdims=False\n",
    "          ), in_axes=(0, None), out_axes=0\n",
    "      ))\n",
    "      \n",
    "    def adjust_centers(self, X):\n",
    "        jnp.row_stack([X[self.clusters == c].mean(axis=0)\n",
    "          for c in self.clusters\n",
    "        ])\n",
    "\n",
    "    def initialize_centers(self):\n",
    "        '''roughly the kmeans++ initialization\n",
    "        '''\n",
    "        key = jax.random.PRNGKey(0)\n",
    "        # jax doesn't have uniform_multivariate\n",
    "        self.centers = jax.random.multivariate_normal(\n",
    "            key, jnp.mean(X, axis=0), jnp.cov(X, rowvar=False), shape=(1,)\n",
    "        )\n",
    "        for c in range(1, self.k):\n",
    "            weights = self.euclidean(X, self.centers)\n",
    "            if c>1:\n",
    "              weights = hmean(weights ,axis=-1)\n",
    "              print(weights.shape)\n",
    "\n",
    "            new_center = jnp.array(\n",
    "                random.choices(X, weights=weights, k=1)[0],\n",
    "                ndmin=2\n",
    "            )\n",
    "            self.centers = jnp.row_stack(\n",
    "                (self.centers, new_center)\n",
    "            )\n",
    "            print(self.centers.shape)\n",
    "\n",
    "    def fit(self, X, y=None):\n",
    "        self.initialize_centers()\n",
    "        for iter in range(self.n_iter):\n",
    "            dists = self.euclidean(X, self.centers)\n",
    "            self.clusters = jnp.argmin(dists, axis=-1)\n",
    "            self.adjust_centers(X)\n",
    "        return self.clusters\n",
    "\n",
    "import matplotlib.pyplot as plt\n",
    "from sklearn.datasets import load_iris\n",
    "\n",
    "X, y = load_iris(return_X_y=True)\n",
    "\n",
    "kmeans = KMeans(k=3)\n",
    "kmeans.fit(X)"
   ]
  },
  {
   "cell_type": "code",
   "execution_count": 43,
   "metadata": {
    "colab": {},
    "colab_type": "code",
    "id": "mq6IYpxj29US"
   },
   "outputs": [
    {
     "data": {
      "image/png": "[encoded data removed]",
      "text/plain": [
       "<Figure size 432x288 with 1 Axes>"
      ]
     },
     "metadata": {
      "needs_background": "light"
     },
     "output_type": "display_data"
    }
   ],
   "source": [
    "Plot().plot_in_2d(X, kmeans.clusters, \"K-Means\")"
   ]
  },
  {
   "cell_type": "markdown",
   "metadata": {
    "colab_type": "text",
    "id": "7cwctM0Bz3Tm"
   },
   "source": [
    "You can find a good comparison of [clustering methods in the scikit-learn documentation](https://scikit-learn.org/stable/auto_examples/cluster/plot_cluster_comparison.html#sphx-glr-auto-examples-cluster-plot-cluster-comparison-py).\n",
    "\n"
   ]
  }
 ],
 "metadata": {
  "colab": {
   "collapsed_sections": [],
   "name": "marketing segmentation",
   "provenance": [],
   "toc_visible": true
  },
  "kernelspec": {
   "display_name": "Python 3",
   "language": "python",
   "name": "python3"
  },
  "language_info": {
   "codemirror_mode": {
    "name": "ipython",
    "version": 3
   },
   "file_extension": ".py",
   "mimetype": "text/x-python",
   "name": "python",
   "nbconvert_exporter": "python",
   "pygments_lexer": "ipython3",
   "version": "3.6.11"
  }
 },
 "nbformat": 4,
 "nbformat_minor": 1
}
