{
  "nbformat": 4,
  "nbformat_minor": 0,
  "metadata": {
    "colab": {
      "name": "Recommender system",
      "provenance": [],
      "collapsed_sections": [],
      "toc_visible": true
    },
    "kernelspec": {
      "name": "python3",
      "display_name": "Python 3"
    }
  },
  "cells": [
    {
      "cell_type": "markdown",
      "metadata": {
        "id": "NmAgD1Ta057u",
        "colab_type": "text"
      },
      "source": [
        "Libraries:\n",
        "----------\n",
        "- demonstration of library functionality with a dataset: https://github.com/cheungdaven/DeepRec/blob/master/test/test_item_ranking.py\n",
        "- https://github.com/lyst/lightfm\n",
        "- https://github.com/Microsoft/Recommenders\n",
        "- https://maciejkula.github.io/spotlight\n",
        "\n",
        "Reading list: https://github.com/DeepGraphLearning/RecommenderSystems/blob/master/readingList.md\n",
        "\n",
        "Datasets\n",
        "----------\n",
        "http://cseweb.ucsd.edu/~jmcauley/datasets.html#goodreads\n",
        "* Items:\t1,561,465\n",
        "* Users:\t808,749\n",
        "* Interactions:\t225,394,930\n",
        "\n",
        "```json\n",
        "{\n",
        "  \"user_id\": \"8842281e1d1347389f2ab93d60773d4d\",\n",
        "  \"book_id\": \"130580\",\n",
        "  \"review_id\": \"330f9c153c8d3347eb914c06b89c94da\",\n",
        "  \"isRead\": true,\n",
        "  \"rating\": 4,\n",
        "  \"date_added\": \"Mon Aug 01 13:41:57 -0700 2011\",\n",
        "  \"date_updated\": \"Mon Aug 01 13:42:41 -0700 2011\",\n",
        "  \"read_at\": \"Fri Jan 01 00:00:00 -0800 1988\",\n",
        "  \"started_at\": \"\"\n",
        "}\n",
        "```\n",
        "\n",
        "https://snap.stanford.edu/data/amazon-meta.html\n",
        "\n",
        "\n"
      ]
    },
    {
      "cell_type": "code",
      "metadata": {
        "id": "ch-tCyn66gPI",
        "colab_type": "code",
        "outputId": "dce50827-6627-41f2-89a3-14221d2ad104",
        "colab": {
          "base_uri": "https://localhost:8080/",
          "height": 224
        }
      },
      "source": [
        "pip install git+https://github.com/maciejkula/spotlight.git"
      ],
      "execution_count": 1,
      "outputs": [
        {
          "output_type": "stream",
          "text": [
            "Collecting git+https://github.com/maciejkula/spotlight.git\n",
            "  Cloning https://github.com/maciejkula/spotlight.git to /tmp/pip-req-build-ktb6jy_n\n",
            "  Running command git clone -q https://github.com/maciejkula/spotlight.git /tmp/pip-req-build-ktb6jy_n\n",
            "Requirement already satisfied: torch>=0.4.0 in /usr/local/lib/python3.6/dist-packages (from spotlight==0.1.6) (1.4.0)\n",
            "Building wheels for collected packages: spotlight\n",
            "  Building wheel for spotlight (setup.py) ... \u001b[?25l\u001b[?25hdone\n",
            "  Created wheel for spotlight: filename=spotlight-0.1.6-cp36-none-any.whl size=33920 sha256=74e452ea107e62378a9064698daa3a12b469875135a32c4482e53739d43fe4bc\n",
            "  Stored in directory: /tmp/pip-ephem-wheel-cache-lcv8z7zq/wheels/0a/33/c8/e8510ea648aaacf6031e128dfa92bcd3750f02db2aaf0922fe\n",
            "Successfully built spotlight\n",
            "Installing collected packages: spotlight\n",
            "Successfully installed spotlight-0.1.6\n"
          ],
          "name": "stdout"
        }
      ]
    },
    {
      "cell_type": "code",
      "metadata": {
        "id": "fyJ0Beol6jqd",
        "colab_type": "code",
        "colab": {}
      },
      "source": [
        "from spotlight.datasets.goodbooks import get_goodbooks_dataset, _get_dataset\n",
        "from spotlight.interactions import Interactions\n"
      ],
      "execution_count": 0,
      "outputs": []
    },
    {
      "cell_type": "code",
      "metadata": {
        "id": "o11d-z9xW23o",
        "colab_type": "code",
        "outputId": "f4a557d5-df34-4b2c-b9a8-8ff6c4a2330d",
        "colab": {
          "base_uri": "https://localhost:8080/",
          "height": 224
        }
      },
      "source": [
        "!wget https://raw.githubusercontent.com/zygmuntz/goodbooks-10k/master/books.csv"
      ],
      "execution_count": 3,
      "outputs": [
        {
          "output_type": "stream",
          "text": [
            "--2020-02-11 12:13:22--  https://raw.githubusercontent.com/zygmuntz/goodbooks-10k/master/books.csv\n",
            "Resolving raw.githubusercontent.com (raw.githubusercontent.com)... 151.101.0.133, 151.101.64.133, 151.101.128.133, ...\n",
            "Connecting to raw.githubusercontent.com (raw.githubusercontent.com)|151.101.0.133|:443... connected.\n",
            "HTTP request sent, awaiting response... 200 OK\n",
            "Length: 3286659 (3.1M) [text/plain]\n",
            "Saving to: ‘books.csv’\n",
            "\n",
            "\rbooks.csv             0%[                    ]       0  --.-KB/s               \rbooks.csv           100%[===================>]   3.13M  --.-KB/s    in 0.07s   \n",
            "\n",
            "2020-02-11 12:13:22 (45.8 MB/s) - ‘books.csv’ saved [3286659/3286659]\n",
            "\n"
          ],
          "name": "stdout"
        }
      ]
    },
    {
      "cell_type": "code",
      "metadata": {
        "id": "DawSG98zWFOQ",
        "colab_type": "code",
        "colab": {}
      },
      "source": [
        "import pandas as pd\n",
        "books = pd.read_csv('books.csv', index_col=0)"
      ],
      "execution_count": 0,
      "outputs": []
    },
    {
      "cell_type": "code",
      "metadata": {
        "id": "o8HTfPwRW8F_",
        "colab_type": "code",
        "outputId": "bde2619b-0e43-4c7f-96ae-bb15c9f46b1f",
        "colab": {
          "base_uri": "https://localhost:8080/",
          "height": 459
        }
      },
      "source": [
        "books.head()"
      ],
      "execution_count": 5,
      "outputs": [
        {
          "output_type": "execute_result",
          "data": {
            "text/html": [
              "<div>\n",
              "<style scoped>\n",
              "    .dataframe tbody tr th:only-of-type {\n",
              "        vertical-align: middle;\n",
              "    }\n",
              "\n",
              "    .dataframe tbody tr th {\n",
              "        vertical-align: top;\n",
              "    }\n",
              "\n",
              "    .dataframe thead th {\n",
              "        text-align: right;\n",
              "    }\n",
              "</style>\n",
              "<table border=\"1\" class=\"dataframe\">\n",
              "  <thead>\n",
              "    <tr style=\"text-align: right;\">\n",
              "      <th></th>\n",
              "      <th>goodreads_book_id</th>\n",
              "      <th>best_book_id</th>\n",
              "      <th>work_id</th>\n",
              "      <th>books_count</th>\n",
              "      <th>isbn</th>\n",
              "      <th>isbn13</th>\n",
              "      <th>authors</th>\n",
              "      <th>original_publication_year</th>\n",
              "      <th>original_title</th>\n",
              "      <th>title</th>\n",
              "      <th>language_code</th>\n",
              "      <th>average_rating</th>\n",
              "      <th>ratings_count</th>\n",
              "      <th>work_ratings_count</th>\n",
              "      <th>work_text_reviews_count</th>\n",
              "      <th>ratings_1</th>\n",
              "      <th>ratings_2</th>\n",
              "      <th>ratings_3</th>\n",
              "      <th>ratings_4</th>\n",
              "      <th>ratings_5</th>\n",
              "      <th>image_url</th>\n",
              "      <th>small_image_url</th>\n",
              "    </tr>\n",
              "    <tr>\n",
              "      <th>book_id</th>\n",
              "      <th></th>\n",
              "      <th></th>\n",
              "      <th></th>\n",
              "      <th></th>\n",
              "      <th></th>\n",
              "      <th></th>\n",
              "      <th></th>\n",
              "      <th></th>\n",
              "      <th></th>\n",
              "      <th></th>\n",
              "      <th></th>\n",
              "      <th></th>\n",
              "      <th></th>\n",
              "      <th></th>\n",
              "      <th></th>\n",
              "      <th></th>\n",
              "      <th></th>\n",
              "      <th></th>\n",
              "      <th></th>\n",
              "      <th></th>\n",
              "      <th></th>\n",
              "      <th></th>\n",
              "    </tr>\n",
              "  </thead>\n",
              "  <tbody>\n",
              "    <tr>\n",
              "      <th>1</th>\n",
              "      <td>2767052</td>\n",
              "      <td>2767052</td>\n",
              "      <td>2792775</td>\n",
              "      <td>272</td>\n",
              "      <td>439023483</td>\n",
              "      <td>9.780439e+12</td>\n",
              "      <td>Suzanne Collins</td>\n",
              "      <td>2008.0</td>\n",
              "      <td>The Hunger Games</td>\n",
              "      <td>The Hunger Games (The Hunger Games, #1)</td>\n",
              "      <td>eng</td>\n",
              "      <td>4.34</td>\n",
              "      <td>4780653</td>\n",
              "      <td>4942365</td>\n",
              "      <td>155254</td>\n",
              "      <td>66715</td>\n",
              "      <td>127936</td>\n",
              "      <td>560092</td>\n",
              "      <td>1481305</td>\n",
              "      <td>2706317</td>\n",
              "      <td>https://images.gr-assets.com/books/1447303603m...</td>\n",
              "      <td>https://images.gr-assets.com/books/1447303603s...</td>\n",
              "    </tr>\n",
              "    <tr>\n",
              "      <th>2</th>\n",
              "      <td>3</td>\n",
              "      <td>3</td>\n",
              "      <td>4640799</td>\n",
              "      <td>491</td>\n",
              "      <td>439554934</td>\n",
              "      <td>9.780440e+12</td>\n",
              "      <td>J.K. Rowling, Mary GrandPré</td>\n",
              "      <td>1997.0</td>\n",
              "      <td>Harry Potter and the Philosopher's Stone</td>\n",
              "      <td>Harry Potter and the Sorcerer's Stone (Harry P...</td>\n",
              "      <td>eng</td>\n",
              "      <td>4.44</td>\n",
              "      <td>4602479</td>\n",
              "      <td>4800065</td>\n",
              "      <td>75867</td>\n",
              "      <td>75504</td>\n",
              "      <td>101676</td>\n",
              "      <td>455024</td>\n",
              "      <td>1156318</td>\n",
              "      <td>3011543</td>\n",
              "      <td>https://images.gr-assets.com/books/1474154022m...</td>\n",
              "      <td>https://images.gr-assets.com/books/1474154022s...</td>\n",
              "    </tr>\n",
              "    <tr>\n",
              "      <th>3</th>\n",
              "      <td>41865</td>\n",
              "      <td>41865</td>\n",
              "      <td>3212258</td>\n",
              "      <td>226</td>\n",
              "      <td>316015849</td>\n",
              "      <td>9.780316e+12</td>\n",
              "      <td>Stephenie Meyer</td>\n",
              "      <td>2005.0</td>\n",
              "      <td>Twilight</td>\n",
              "      <td>Twilight (Twilight, #1)</td>\n",
              "      <td>en-US</td>\n",
              "      <td>3.57</td>\n",
              "      <td>3866839</td>\n",
              "      <td>3916824</td>\n",
              "      <td>95009</td>\n",
              "      <td>456191</td>\n",
              "      <td>436802</td>\n",
              "      <td>793319</td>\n",
              "      <td>875073</td>\n",
              "      <td>1355439</td>\n",
              "      <td>https://images.gr-assets.com/books/1361039443m...</td>\n",
              "      <td>https://images.gr-assets.com/books/1361039443s...</td>\n",
              "    </tr>\n",
              "    <tr>\n",
              "      <th>4</th>\n",
              "      <td>2657</td>\n",
              "      <td>2657</td>\n",
              "      <td>3275794</td>\n",
              "      <td>487</td>\n",
              "      <td>61120081</td>\n",
              "      <td>9.780061e+12</td>\n",
              "      <td>Harper Lee</td>\n",
              "      <td>1960.0</td>\n",
              "      <td>To Kill a Mockingbird</td>\n",
              "      <td>To Kill a Mockingbird</td>\n",
              "      <td>eng</td>\n",
              "      <td>4.25</td>\n",
              "      <td>3198671</td>\n",
              "      <td>3340896</td>\n",
              "      <td>72586</td>\n",
              "      <td>60427</td>\n",
              "      <td>117415</td>\n",
              "      <td>446835</td>\n",
              "      <td>1001952</td>\n",
              "      <td>1714267</td>\n",
              "      <td>https://images.gr-assets.com/books/1361975680m...</td>\n",
              "      <td>https://images.gr-assets.com/books/1361975680s...</td>\n",
              "    </tr>\n",
              "    <tr>\n",
              "      <th>5</th>\n",
              "      <td>4671</td>\n",
              "      <td>4671</td>\n",
              "      <td>245494</td>\n",
              "      <td>1356</td>\n",
              "      <td>743273567</td>\n",
              "      <td>9.780743e+12</td>\n",
              "      <td>F. Scott Fitzgerald</td>\n",
              "      <td>1925.0</td>\n",
              "      <td>The Great Gatsby</td>\n",
              "      <td>The Great Gatsby</td>\n",
              "      <td>eng</td>\n",
              "      <td>3.89</td>\n",
              "      <td>2683664</td>\n",
              "      <td>2773745</td>\n",
              "      <td>51992</td>\n",
              "      <td>86236</td>\n",
              "      <td>197621</td>\n",
              "      <td>606158</td>\n",
              "      <td>936012</td>\n",
              "      <td>947718</td>\n",
              "      <td>https://images.gr-assets.com/books/1490528560m...</td>\n",
              "      <td>https://images.gr-assets.com/books/1490528560s...</td>\n",
              "    </tr>\n",
              "  </tbody>\n",
              "</table>\n",
              "</div>"
            ],
            "text/plain": [
              "         goodreads_book_id  ...                                    small_image_url\n",
              "book_id                     ...                                                   \n",
              "1                  2767052  ...  https://images.gr-assets.com/books/1447303603s...\n",
              "2                        3  ...  https://images.gr-assets.com/books/1474154022s...\n",
              "3                    41865  ...  https://images.gr-assets.com/books/1361039443s...\n",
              "4                     2657  ...  https://images.gr-assets.com/books/1361975680s...\n",
              "5                     4671  ...  https://images.gr-assets.com/books/1490528560s...\n",
              "\n",
              "[5 rows x 22 columns]"
            ]
          },
          "metadata": {
            "tags": []
          },
          "execution_count": 5
        }
      ]
    },
    {
      "cell_type": "code",
      "metadata": {
        "id": "IUeJXtMpXKOj",
        "colab_type": "code",
        "colab": {}
      },
      "source": [
        "def get_book_titles(book_ids):\n",
        "  '''Get book titles by book ids\n",
        "  Example:\n",
        "  --------\n",
        "  >> get_book_titles(1)\n",
        "  ['The Hunger Games (The Hunger Games, #1)']\n",
        "  '''\n",
        "  if isinstance(book_ids, int):\n",
        "    book_ids = [book_ids]\n",
        "  titles = []\n",
        "  for book_id in book_ids:\n",
        "    titles.append(books.loc[book_id, 'title'])\n",
        "  return titles"
      ],
      "execution_count": 0,
      "outputs": []
    },
    {
      "cell_type": "code",
      "metadata": {
        "id": "pZlOY_lC4Mkg",
        "colab_type": "code",
        "colab": {}
      },
      "source": [
        "data = _get_dataset()\n",
        "interactions = Interactions(*data)"
      ],
      "execution_count": 0,
      "outputs": []
    },
    {
      "cell_type": "code",
      "metadata": {
        "id": "AMi2kZX_VRkk",
        "colab_type": "code",
        "outputId": "c1cefeb6-7565-4729-e5ea-8f6bbee97ded",
        "colab": {
          "base_uri": "https://localhost:8080/",
          "height": 102
        }
      },
      "source": [
        "data"
      ],
      "execution_count": 8,
      "outputs": [
        {
          "output_type": "execute_result",
          "data": {
            "text/plain": [
              "(array([    1,     2,     2, ..., 49925, 49925, 49925], dtype=int32),\n",
              " array([ 258, 4081,  260, ...,  722,  949, 1023], dtype=int32),\n",
              " array([5., 4., 5., ..., 4., 5., 4.], dtype=float32),\n",
              " array([      0,       1,       2, ..., 5976476, 5976477, 5976478],\n",
              "       dtype=int32))"
            ]
          },
          "metadata": {
            "tags": []
          },
          "execution_count": 8
        }
      ]
    },
    {
      "cell_type": "code",
      "metadata": {
        "id": "BKtSQq047pju",
        "colab_type": "code",
        "outputId": "54be53b8-de92-4120-8865-e1b3c531824f",
        "colab": {
          "base_uri": "https://localhost:8080/",
          "height": 34
        }
      },
      "source": [
        "print(interactions)"
      ],
      "execution_count": 9,
      "outputs": [
        {
          "output_type": "stream",
          "text": [
            "<Interactions dataset (53425 users x 10001 items x 5976479 interactions)>\n"
          ],
          "name": "stdout"
        }
      ]
    },
    {
      "cell_type": "code",
      "metadata": {
        "id": "By5n99R57yrp",
        "colab_type": "code",
        "colab": {}
      },
      "source": [
        "import torch\n",
        "\n",
        "from spotlight.factorization.explicit import ExplicitFactorizationModel\n",
        "\n",
        "model = ExplicitFactorizationModel(loss='regression',\n",
        "                                   embedding_dim=128,  # latent dimensionality\n",
        "                                   n_iter=10,  # number of epochs of training\n",
        "                                   batch_size=1024,  # minibatch size\n",
        "                                   l2=1e-9,  # strength of L2 regularization\n",
        "                                   learning_rate=1e-3,\n",
        "                                   use_cuda=torch.cuda.is_available())\n"
      ],
      "execution_count": 0,
      "outputs": []
    },
    {
      "cell_type": "code",
      "metadata": {
        "id": "fO9GM0Zx7z_x",
        "colab_type": "code",
        "colab": {}
      },
      "source": [
        "from spotlight.cross_validation import random_train_test_split\n",
        "import numpy as np\n",
        "\n",
        "train, test = random_train_test_split(interactions, random_state=np.random.RandomState(42))\n"
      ],
      "execution_count": 0,
      "outputs": []
    },
    {
      "cell_type": "code",
      "metadata": {
        "id": "Nk7jhvaZ8FsD",
        "colab_type": "code",
        "outputId": "dff782f2-596b-43e8-ed36-3e23f36b2927",
        "colab": {
          "base_uri": "https://localhost:8080/",
          "height": 68
        }
      },
      "source": [
        "print('Split into \\n {} and \\n {}.'.format(train, test))"
      ],
      "execution_count": 12,
      "outputs": [
        {
          "output_type": "stream",
          "text": [
            "Split into \n",
            " <Interactions dataset (53425 users x 10001 items x 4781183 interactions)> and \n",
            " <Interactions dataset (53425 users x 10001 items x 1195296 interactions)>.\n"
          ],
          "name": "stdout"
        }
      ]
    },
    {
      "cell_type": "code",
      "metadata": {
        "id": "ekZwgODA8Jz0",
        "colab_type": "code",
        "outputId": "67a7bfb9-de38-46c7-ec41-6e30fa3561ff",
        "colab": {
          "base_uri": "https://localhost:8080/",
          "height": 238
        }
      },
      "source": [
        "model.fit(train, verbose=True)\n",
        "from spotlight.evaluation import rmse_score, precision_recall_score\n",
        "\n",
        "train_rmse = rmse_score(model, train)\n",
        "test_rmse = rmse_score(model, test)``\n",
        "train_precision, train_recall = precision_recall_score(model, train, k=5)\n",
        "test_precision, test_recall = precision_recall_score(model, test, k=5)\n",
        "\n",
        "print('Train RMSE {:.3f}, test RMSE {:.3f}'.format(train_rmse, test_rmse))\n",
        "print(\n",
        "    'mean train precision at 5: {:.3f}'.format(\n",
        "        train_precision.mean()\n",
        "))\n",
        "print(\n",
        "    'mean test precision at 5: {:.3f}'.format(\n",
        "        test_precision.mean()\n",
        "))"
      ],
      "execution_count": 30,
      "outputs": [
        {
          "output_type": "stream",
          "text": [
            "Epoch 0: loss 0.08782204981789599\n",
            "Epoch 1: loss 0.07508557955445264\n",
            "Epoch 2: loss 0.06620433954661613\n",
            "Epoch 3: loss 0.05987947982370981\n",
            "Epoch 4: loss 0.05520968570890467\n",
            "Epoch 5: loss 0.05163776899749768\n",
            "Epoch 6: loss 0.04881051659296871\n",
            "Epoch 7: loss 0.046574856045733685\n",
            "Epoch 8: loss 0.04472420661205653\n",
            "Epoch 9: loss 0.043194792465939\n",
            "Train RMSE 0.199, test RMSE 1.052\n",
            "mean train precision at 5: 0.008\n",
            "mean test precision at 5: 0.013\n"
          ],
          "name": "stdout"
        }
      ]
    },
    {
      "cell_type": "code",
      "metadata": {
        "id": "Fs9I0Vk0oHiT",
        "colab_type": "code",
        "colab": {}
      },
      "source": [
        "# explaining predictions. Based on https://github.com/lyst/lightfm/blob/master/examples/quickstart/quickstart.ipynb\n",
        "\n",
        "def sample_recommendation(model, user_ids, train, item_labels):\n",
        "    '''Give recommendations for users given a model and explain recommendations.\n",
        "    '''\n",
        "    n_users, n_items = train.shape\n",
        "\n",
        "    for user_id in user_ids:\n",
        "        known_positives = item_labels[train[user_id].indices]\n",
        "        \n",
        "        scores = model.predict(user_id, np.arange(n_items))\n",
        "        top_items = item_labels[np.argsort(-scores)]\n",
        "        \n",
        "        print(\"User %s\" % user_id)\n",
        "        print(\"     Known positives:\")\n",
        "        \n",
        "        for x in known_positives[:3]:\n",
        "            print(\"        %s\" % x)\n",
        "\n",
        "        print(\"     Recommended:\")\n",
        "        \n",
        "        for x in top_items[:3]:\n",
        "            print(\"        %s\" % x)"
      ],
      "execution_count": 0,
      "outputs": []
    },
    {
      "cell_type": "code",
      "metadata": {
        "id": "TCHsBHOLoTgD",
        "colab_type": "code",
        "outputId": "16d8000b-3920-469d-9f57-ddb34e0d6c44",
        "colab": {
          "base_uri": "https://localhost:8080/",
          "height": 187
        }
      },
      "source": [
        "book_labels = get_book_titles(list(train.item_ids))\n",
        "book_labels[:10]"
      ],
      "execution_count": 15,
      "outputs": [
        {
          "output_type": "execute_result",
          "data": {
            "text/plain": [
              "[\"Ahab's Wife, or The Star-Gazer\",\n",
              " 'City of Glass (The Mortal Instruments, #3)',\n",
              " \"Enchanters' End Game (The Belgariad, #5)\",\n",
              " 'Frankenstein',\n",
              " 'The Atlantis Complex (Artemis Fowl, #7)',\n",
              " 'The Life and Times of the Thunderbolt Kid',\n",
              " 'A Game of Thrones (A Song of Ice and Fire, #1)',\n",
              " 'Disgrace',\n",
              " 'Beautiful Creatures (Caster Chronicles, #1)',\n",
              " 'The Alchemist']"
            ]
          },
          "metadata": {
            "tags": []
          },
          "execution_count": 15
        }
      ]
    },
    {
      "cell_type": "code",
      "metadata": {
        "id": "OIi2bGhEoc5l",
        "colab_type": "code",
        "outputId": "69a2d39f-70ef-4f90-b341-58b8ae6da564",
        "colab": {
          "base_uri": "https://localhost:8080/",
          "height": 476
        }
      },
      "source": [
        "sample_recommendation(model, [3, 9999, 15000], train.tocsr(), np.array(book_labels))"
      ],
      "execution_count": 16,
      "outputs": [
        {
          "output_type": "stream",
          "text": [
            "User 3\n",
            "     Known positives:\n",
            "        The Atlantis Complex (Artemis Fowl, #7)\n",
            "        Sentinel (Covenant, #5)\n",
            "        The Devil Wears Prada (The Devil Wears Prada, #1)\n",
            "     Recommended:\n",
            "        Beautiful Creatures (Caster Chronicles, #1)\n",
            "        The Silver Chair (Chronicles of Narnia, #4)\n",
            "        The Husband's Secret\n",
            "User 9999\n",
            "     Known positives:\n",
            "        City of Glass (The Mortal Instruments, #3)\n",
            "        The Magicians' Guild (Black Magician Trilogy, #1)\n",
            "        Bridge to Terabithia\n",
            "     Recommended:\n",
            "        Fearless Fourteen (Stephanie Plum, #14)\n",
            "        Futures and Frosting (Chocolate Lovers, #2)\n",
            "        The Selfish Gene\n",
            "User 15000\n",
            "     Known positives:\n",
            "        Enchanters' End Game (The Belgariad, #5)\n",
            "        The Life and Times of the Thunderbolt Kid\n",
            "        Beautiful Creatures (Caster Chronicles, #1)\n",
            "     Recommended:\n",
            "        Matilda\n",
            "        Othello\n",
            "        Founding Brothers: The Revolutionary Generation\n"
          ],
          "name": "stdout"
        }
      ]
    },
    {
      "cell_type": "code",
      "metadata": {
        "id": "muIudpFLK_Q4",
        "colab_type": "code",
        "colab": {
          "base_uri": "https://localhost:8080/",
          "height": 34
        },
        "outputId": "5c03b24b-a861-4c77-e9cd-c0c1db304209"
      },
      "source": [
        "from spotlight.evaluation import precision_recall_score\n",
        "\n",
        "train_prs = precision_recall_score(model, train, k=5)\n",
        "test_prs = precision_recall_score(model, test, k=5)\n",
        "\n",
        "print('Train PRS {:.3f}, test PRS {:.3f}'.format(train_rmse, test_rmse))\n"
      ],
      "execution_count": 17,
      "outputs": [
        {
          "output_type": "stream",
          "text": [
            "Train PRS 0.266, test PRS 0.964\n"
          ],
          "name": "stdout"
        }
      ]
    },
    {
      "cell_type": "code",
      "metadata": {
        "id": "cCJShAJmuivw",
        "colab_type": "code",
        "colab": {}
      },
      "source": [
        "precision_train, _ = train_prs\n",
        "precision_test, _ = test_prs"
      ],
      "execution_count": 0,
      "outputs": []
    },
    {
      "cell_type": "code",
      "metadata": {
        "id": "0HmxqtCuug8a",
        "colab_type": "code",
        "colab": {
          "base_uri": "https://localhost:8080/",
          "height": 51
        },
        "outputId": "d3ba1284-a8bc-4167-da99-da3b80fb4e0b"
      },
      "source": [
        "print(\n",
        "    'mean train precision at 5: {:.3f}'.format(\n",
        "        precision_train.mean()\n",
        "))\n",
        "print(\n",
        "    'mean test precision at 5: {:.3f}'.format(\n",
        "        precision_test.mean()\n",
        "))"
      ],
      "execution_count": 29,
      "outputs": [
        {
          "output_type": "stream",
          "text": [
            "mean train precision at 5: 0.028\n",
            "mean test precision at 5: 0.020\n"
          ],
          "name": "stdout"
        }
      ]
    },
    {
      "cell_type": "code",
      "metadata": {
        "id": "OW-H7qRVtBjs",
        "colab_type": "code",
        "colab": {
          "base_uri": "https://localhost:8080/",
          "height": 34
        },
        "outputId": "2f26d1d0-0da9-44f2-ef6c-c8171674de10"
      },
      "source": [
        "train_prs[0].mean()"
      ],
      "execution_count": 20,
      "outputs": [
        {
          "output_type": "execute_result",
          "data": {
            "text/plain": [
              "0.02811096136567835"
            ]
          },
          "metadata": {
            "tags": []
          },
          "execution_count": 20
        }
      ]
    },
    {
      "cell_type": "code",
      "metadata": {
        "id": "VKQitCJutPKh",
        "colab_type": "code",
        "colab": {
          "base_uri": "https://localhost:8080/",
          "height": 34
        },
        "outputId": "8c741a17-0daf-4791-ef4a-3bda0abae73d"
      },
      "source": [
        "test_prs[0].mean()"
      ],
      "execution_count": 24,
      "outputs": [
        {
          "output_type": "execute_result",
          "data": {
            "text/plain": [
              "0.01989068174160458"
            ]
          },
          "metadata": {
            "tags": []
          },
          "execution_count": 24
        }
      ]
    },
    {
      "cell_type": "markdown",
      "metadata": {
        "id": "9RTyQ_ofor3X",
        "colab_type": "text"
      },
      "source": [
        "Epoch 0: loss 2.750798608710475\n",
        "Epoch 1: loss 0.749443441718753\n",
        "Epoch 2: loss 0.6722490007157499\n",
        "Epoch 3: loss 0.5743380024997274\n",
        "Epoch 4: loss 0.45117901287318807\n",
        "Epoch 5: loss 0.3322077094168428\n",
        "Epoch 6: loss 0.24039550715901867\n",
        "Epoch 7: loss 0.176841794404279\n",
        "Epoch 8: loss 0.13474581096425045\n",
        "Epoch 9: loss 0.10675936884683511"
      ]
    },
    {
      "cell_type": "code",
      "metadata": {
        "id": "pTX9var4n_nP",
        "colab_type": "code",
        "colab": {}
      },
      "source": [
        "import os\n",
        "import shutil\n",
        "from sklearn.model_selection import ParameterSampler\n",
        "\n",
        "CUDA = (os.environ.get('CUDA') is not None or\n",
        "        shutil.which('nvidia-smi') is not None)\n",
        "\n",
        "NUM_SAMPLES = 100\n",
        "\n",
        "LEARNING_RATES = [1e-3, 1e-2, 5 * 1e-2, 1e-1]\n",
        "LOSSES = ['bpr', 'hinge', 'adaptive_hinge', 'pointwise']\n",
        "BATCH_SIZE = [8, 16, 32, 256]\n",
        "EMBEDDING_DIM = [8, 16, 32, 64, 128, 256]\n",
        "N_ITER = list(range(5, 20))\n",
        "L2 = [1e-6, 1e-5, 1e-4, 1e-3, 1e-2, 0.0]\n",
        "\n",
        "\n",
        "\n",
        "def sample_cnn_hyperparameters(random_state, num):\n",
        "\n",
        "    space = {\n",
        "        'n_iter': N_ITER,\n",
        "        'batch_size': BATCH_SIZE,\n",
        "        'l2': L2,\n",
        "        'learning_rate': LEARNING_RATES,\n",
        "        'loss': LOSSES,\n",
        "        'embedding_dim': EMBEDDING_DIM,\n",
        "        'kernel_width': [3, 5, 7],\n",
        "        'num_layers': list(range(1, 10)),\n",
        "        'dilation_multiplier': [1, 2],\n",
        "        'nonlinearity': ['tanh', 'relu'],\n",
        "        'residual': [True, False]\n",
        "    }\n",
        "\n",
        "    sampler = ParameterSampler(space,\n",
        "                               n_iter=num,\n",
        "                               random_state=random_state)\n",
        "\n",
        "    for params in sampler:\n",
        "        params['dilation'] = list(params['dilation_multiplier'] ** (i % 8)\n",
        "                                  for i in range(params['num_layers']))\n",
        "\n",
        "        yield params\n"
      ],
      "execution_count": 0,
      "outputs": []
    },
    {
      "cell_type": "code",
      "metadata": {
        "id": "ZyuVxMraoAqE",
        "colab_type": "code",
        "colab": {}
      },
      "source": [
        "seed = 41\n",
        "random_state = np.random.RandomState(seed)\n",
        "hyperparameters = next(sample_cnn_hyperparameters(random_state, 1))"
      ],
      "execution_count": 0,
      "outputs": []
    },
    {
      "cell_type": "code",
      "metadata": {
        "id": "CKRL-Ogookrh",
        "colab_type": "code",
        "outputId": "7ad9e7ea-077a-4308-ab9e-e4d39bad486b",
        "colab": {
          "base_uri": "https://localhost:8080/",
          "height": 221
        }
      },
      "source": [
        "hyperparameters"
      ],
      "execution_count": 0,
      "outputs": [
        {
          "output_type": "execute_result",
          "data": {
            "text/plain": [
              "{'batch_size': 32,\n",
              " 'dilation': [1],\n",
              " 'dilation_multiplier': 1,\n",
              " 'embedding_dim': 16,\n",
              " 'kernel_width': 5,\n",
              " 'l2': 0.001,\n",
              " 'learning_rate': 0.001,\n",
              " 'loss': 'adaptive_hinge',\n",
              " 'n_iter': 7,\n",
              " 'nonlinearity': 'tanh',\n",
              " 'num_layers': 1,\n",
              " 'residual': True}"
            ]
          },
          "metadata": {
            "tags": []
          },
          "execution_count": 16
        }
      ]
    },
    {
      "cell_type": "code",
      "metadata": {
        "id": "SY60cjDUsfC8",
        "colab_type": "code",
        "outputId": "661cc3f8-a950-4acc-853a-3e3e1e6f1aa6",
        "colab": {
          "base_uri": "https://localhost:8080/",
          "height": 34
        }
      },
      "source": [
        "train.to_sequence()"
      ],
      "execution_count": 0,
      "outputs": [
        {
          "output_type": "execute_result",
          "data": {
            "text/plain": [
              "<Sequence interactions dataset (502153 sequences x 10 sequence length)>"
            ]
          },
          "metadata": {
            "tags": []
          },
          "execution_count": 17
        }
      ]
    },
    {
      "cell_type": "code",
      "metadata": {
        "id": "4FQIYt6v8neH",
        "colab_type": "code",
        "outputId": "101927ac-47e9-4ed7-9594-8d24be18d4a4",
        "colab": {
          "base_uri": "https://localhost:8080/",
          "height": 71
        }
      },
      "source": [
        "# https://github.com/maciejkula/spotlight/tree/master/examples/movielens_sequence\n",
        "import torch\n",
        "\n",
        "from spotlight.sequence.implicit import ImplicitSequenceModel\n",
        "from spotlight.sequence.representations import CNNNet\n",
        "from spotlight.evaluation import sequence_mrr_score\n",
        "\n",
        "\n",
        "net = CNNNet(train.num_items,\n",
        "             embedding_dim=hyperparameters['embedding_dim'],\n",
        "             kernel_width=hyperparameters['kernel_width'],\n",
        "             dilation=hyperparameters['dilation'],\n",
        "             num_layers=hyperparameters['num_layers'],\n",
        "             nonlinearity=hyperparameters['nonlinearity'],\n",
        "             residual_connections=hyperparameters['residual'])\n",
        "\n",
        "model = ImplicitSequenceModel(loss=hyperparameters['loss'],\n",
        "                              representation=net,\n",
        "                              batch_size=hyperparameters['batch_size'],\n",
        "                              learning_rate=hyperparameters['learning_rate'],\n",
        "                              l2=hyperparameters['l2'],\n",
        "                              n_iter=hyperparameters['n_iter'],\n",
        "                              use_cuda=torch.cuda.is_available(),\n",
        "                              random_state=random_state)\n",
        "\n",
        "model.fit(train.to_sequence())\n",
        "\n",
        "test_mrr = sequence_mrr_score(model, test.to_sequence())\n",
        "#val_mrr = sequence_mrr_score(model, validation.to_sequence())\n"
      ],
      "execution_count": 0,
      "outputs": [
        {
          "output_type": "stream",
          "text": [
            "/usr/local/lib/python3.6/dist-packages/torch/nn/functional.py:1340: UserWarning: nn.functional.tanh is deprecated. Use torch.tanh instead.\n",
            "  warnings.warn(\"nn.functional.tanh is deprecated. Use torch.tanh instead.\")\n"
          ],
          "name": "stderr"
        }
      ]
    },
    {
      "cell_type": "code",
      "metadata": {
        "id": "-0S4Su4g8lJZ",
        "colab_type": "code",
        "outputId": "e772def7-2129-44b8-e817-709f87f862cf",
        "colab": {
          "base_uri": "https://localhost:8080/",
          "height": 71
        }
      },
      "source": [
        "# Mean reciprocal rank\n",
        "train_mrr = sequence_mrr_score(model, train.to_sequence())\n",
        "test_mrr = sequence_mrr_score(model, test.to_sequence())"
      ],
      "execution_count": 0,
      "outputs": [
        {
          "output_type": "stream",
          "text": [
            "/usr/local/lib/python3.6/dist-packages/torch/nn/functional.py:1340: UserWarning: nn.functional.tanh is deprecated. Use torch.tanh instead.\n",
            "  warnings.warn(\"nn.functional.tanh is deprecated. Use torch.tanh instead.\")\n"
          ],
          "name": "stderr"
        }
      ]
    },
    {
      "cell_type": "code",
      "metadata": {
        "id": "FDMSvfrODTwZ",
        "colab_type": "code",
        "outputId": "53c48ca5-4444-43f8-fb6e-c2362fdc0b7f",
        "colab": {
          "base_uri": "https://localhost:8080/",
          "height": 34
        }
      },
      "source": [
        "print('Train overall MRR {:.3f}, test overall MRR {:.3f}'.format(train_mrr.mean(), test_mrr.mean()))"
      ],
      "execution_count": 0,
      "outputs": [
        {
          "output_type": "stream",
          "text": [
            "Train overall MRR 0.017, test overall MRR 0.013\n"
          ],
          "name": "stdout"
        }
      ]
    },
    {
      "cell_type": "code",
      "metadata": {
        "id": "8WrUL7bZ86mF",
        "colab_type": "code",
        "outputId": "c6200e76-dd03-4afa-8d70-eb126fc6f4ca",
        "colab": {
          "base_uri": "https://localhost:8080/",
          "height": 341
        }
      },
      "source": [
        "train_rmse = rmse_score(model, train)\n",
        "test_rmse = rmse_score(model, test)\n",
        "print('Train RMSE {:.3f}, test RMSE {:.3f}'.format(train_rmse, test_rmse))"
      ],
      "execution_count": 0,
      "outputs": [
        {
          "output_type": "error",
          "ename": "ValueError",
          "evalue": "ignored",
          "traceback": [
            "\u001b[0;31m---------------------------------------------------------------------------\u001b[0m",
            "\u001b[0;31mValueError\u001b[0m                                Traceback (most recent call last)",
            "\u001b[0;32m<ipython-input-28-a4daaaad536e>\u001b[0m in \u001b[0;36m<module>\u001b[0;34m()\u001b[0m\n\u001b[0;32m----> 1\u001b[0;31m \u001b[0mtrain_rmse\u001b[0m \u001b[0;34m=\u001b[0m \u001b[0mrmse_score\u001b[0m\u001b[0;34m(\u001b[0m\u001b[0mmodel\u001b[0m\u001b[0;34m,\u001b[0m \u001b[0mtrain\u001b[0m\u001b[0;34m)\u001b[0m\u001b[0;34m\u001b[0m\u001b[0;34m\u001b[0m\u001b[0m\n\u001b[0m\u001b[1;32m      2\u001b[0m \u001b[0mtest_rmse\u001b[0m \u001b[0;34m=\u001b[0m \u001b[0mrmse_score\u001b[0m\u001b[0;34m(\u001b[0m\u001b[0mmodel\u001b[0m\u001b[0;34m,\u001b[0m \u001b[0mtest\u001b[0m\u001b[0;34m)\u001b[0m\u001b[0;34m\u001b[0m\u001b[0;34m\u001b[0m\u001b[0m\n\u001b[1;32m      3\u001b[0m \u001b[0mprint\u001b[0m\u001b[0;34m(\u001b[0m\u001b[0;34m'Train RMSE {:.3f}, test RMSE {:.3f}'\u001b[0m\u001b[0;34m.\u001b[0m\u001b[0mformat\u001b[0m\u001b[0;34m(\u001b[0m\u001b[0mtrain_rmse\u001b[0m\u001b[0;34m,\u001b[0m \u001b[0mtest_rmse\u001b[0m\u001b[0;34m)\u001b[0m\u001b[0;34m)\u001b[0m\u001b[0;34m\u001b[0m\u001b[0;34m\u001b[0m\u001b[0m\n",
            "\u001b[0;32m/usr/local/lib/python3.6/dist-packages/spotlight/evaluation.py\u001b[0m in \u001b[0;36mrmse_score\u001b[0;34m(model, test)\u001b[0m\n\u001b[1;32m    240\u001b[0m     \"\"\"\n\u001b[1;32m    241\u001b[0m \u001b[0;34m\u001b[0m\u001b[0m\n\u001b[0;32m--> 242\u001b[0;31m     \u001b[0mpredictions\u001b[0m \u001b[0;34m=\u001b[0m \u001b[0mmodel\u001b[0m\u001b[0;34m.\u001b[0m\u001b[0mpredict\u001b[0m\u001b[0;34m(\u001b[0m\u001b[0mtest\u001b[0m\u001b[0;34m.\u001b[0m\u001b[0muser_ids\u001b[0m\u001b[0;34m,\u001b[0m \u001b[0mtest\u001b[0m\u001b[0;34m.\u001b[0m\u001b[0mitem_ids\u001b[0m\u001b[0;34m)\u001b[0m\u001b[0;34m\u001b[0m\u001b[0;34m\u001b[0m\u001b[0m\n\u001b[0m\u001b[1;32m    243\u001b[0m \u001b[0;34m\u001b[0m\u001b[0m\n\u001b[1;32m    244\u001b[0m     \u001b[0;32mreturn\u001b[0m \u001b[0mnp\u001b[0m\u001b[0;34m.\u001b[0m\u001b[0msqrt\u001b[0m\u001b[0;34m(\u001b[0m\u001b[0;34m(\u001b[0m\u001b[0;34m(\u001b[0m\u001b[0mtest\u001b[0m\u001b[0;34m.\u001b[0m\u001b[0mratings\u001b[0m \u001b[0;34m-\u001b[0m \u001b[0mpredictions\u001b[0m\u001b[0;34m)\u001b[0m \u001b[0;34m**\u001b[0m \u001b[0;36m2\u001b[0m\u001b[0;34m)\u001b[0m\u001b[0;34m.\u001b[0m\u001b[0mmean\u001b[0m\u001b[0;34m(\u001b[0m\u001b[0;34m)\u001b[0m\u001b[0;34m)\u001b[0m\u001b[0;34m\u001b[0m\u001b[0;34m\u001b[0m\u001b[0m\n",
            "\u001b[0;32m/usr/local/lib/python3.6/dist-packages/spotlight/sequence/implicit.py\u001b[0m in \u001b[0;36mpredict\u001b[0;34m(self, sequences, item_ids)\u001b[0m\n\u001b[1;32m    316\u001b[0m \u001b[0;34m\u001b[0m\u001b[0m\n\u001b[1;32m    317\u001b[0m         \u001b[0mself\u001b[0m\u001b[0;34m.\u001b[0m\u001b[0m_check_input\u001b[0m\u001b[0;34m(\u001b[0m\u001b[0mitem_ids\u001b[0m\u001b[0;34m)\u001b[0m\u001b[0;34m\u001b[0m\u001b[0;34m\u001b[0m\u001b[0m\n\u001b[0;32m--> 318\u001b[0;31m         \u001b[0mself\u001b[0m\u001b[0;34m.\u001b[0m\u001b[0m_check_input\u001b[0m\u001b[0;34m(\u001b[0m\u001b[0msequences\u001b[0m\u001b[0;34m)\u001b[0m\u001b[0;34m\u001b[0m\u001b[0;34m\u001b[0m\u001b[0m\n\u001b[0m\u001b[1;32m    319\u001b[0m \u001b[0;34m\u001b[0m\u001b[0m\n\u001b[1;32m    320\u001b[0m         \u001b[0msequences\u001b[0m \u001b[0;34m=\u001b[0m \u001b[0mtorch\u001b[0m\u001b[0;34m.\u001b[0m\u001b[0mfrom_numpy\u001b[0m\u001b[0;34m(\u001b[0m\u001b[0msequences\u001b[0m\u001b[0;34m.\u001b[0m\u001b[0mastype\u001b[0m\u001b[0;34m(\u001b[0m\u001b[0mnp\u001b[0m\u001b[0;34m.\u001b[0m\u001b[0mint64\u001b[0m\u001b[0;34m)\u001b[0m\u001b[0;34m.\u001b[0m\u001b[0mreshape\u001b[0m\u001b[0;34m(\u001b[0m\u001b[0;36m1\u001b[0m\u001b[0;34m,\u001b[0m \u001b[0;34m-\u001b[0m\u001b[0;36m1\u001b[0m\u001b[0;34m)\u001b[0m\u001b[0;34m)\u001b[0m\u001b[0;34m\u001b[0m\u001b[0;34m\u001b[0m\u001b[0m\n",
            "\u001b[0;32m/usr/local/lib/python3.6/dist-packages/spotlight/sequence/implicit.py\u001b[0m in \u001b[0;36m_check_input\u001b[0;34m(self, item_ids)\u001b[0m\n\u001b[1;32m    188\u001b[0m \u001b[0;34m\u001b[0m\u001b[0m\n\u001b[1;32m    189\u001b[0m         \u001b[0;32mif\u001b[0m \u001b[0mitem_id_max\u001b[0m \u001b[0;34m>=\u001b[0m \u001b[0mself\u001b[0m\u001b[0;34m.\u001b[0m\u001b[0m_num_items\u001b[0m\u001b[0;34m:\u001b[0m\u001b[0;34m\u001b[0m\u001b[0;34m\u001b[0m\u001b[0m\n\u001b[0;32m--> 190\u001b[0;31m             raise ValueError('Maximum item id greater '\n\u001b[0m\u001b[1;32m    191\u001b[0m                              'than number of items in model.')\n\u001b[1;32m    192\u001b[0m \u001b[0;34m\u001b[0m\u001b[0m\n",
            "\u001b[0;31mValueError\u001b[0m: Maximum item id greater than number of items in model."
          ]
        }
      ]
    },
    {
      "cell_type": "code",
      "metadata": {
        "id": "N3RLK0Nc50RH",
        "colab_type": "code",
        "outputId": "79e93fda-8a7d-4615-a225-d74668ec10e3",
        "colab": {
          "base_uri": "https://localhost:8080/",
          "height": 361
        }
      },
      "source": [
        "sample_recommendation(model, [3, 9999, 15000], train.tocsr(), np.array(book_labels))"
      ],
      "execution_count": 0,
      "outputs": [
        {
          "output_type": "stream",
          "text": [
            "/usr/local/lib/python3.6/dist-packages/torch/nn/functional.py:1340: UserWarning: nn.functional.tanh is deprecated. Use torch.tanh instead.\n",
            "  warnings.warn(\"nn.functional.tanh is deprecated. Use torch.tanh instead.\")\n"
          ],
          "name": "stderr"
        },
        {
          "output_type": "error",
          "ename": "RuntimeError",
          "evalue": "ignored",
          "traceback": [
            "\u001b[0;31m---------------------------------------------------------------------------\u001b[0m",
            "\u001b[0;31mRuntimeError\u001b[0m                              Traceback (most recent call last)",
            "\u001b[0;32m<ipython-input-21-32c4d32cb2a9>\u001b[0m in \u001b[0;36m<module>\u001b[0;34m()\u001b[0m\n\u001b[0;32m----> 1\u001b[0;31m \u001b[0msample_recommendation\u001b[0m\u001b[0;34m(\u001b[0m\u001b[0mmodel\u001b[0m\u001b[0;34m,\u001b[0m \u001b[0;34m[\u001b[0m\u001b[0;36m3\u001b[0m\u001b[0;34m,\u001b[0m \u001b[0;36m9999\u001b[0m\u001b[0;34m,\u001b[0m \u001b[0;36m15000\u001b[0m\u001b[0;34m]\u001b[0m\u001b[0;34m,\u001b[0m \u001b[0mtrain\u001b[0m\u001b[0;34m.\u001b[0m\u001b[0mtocsr\u001b[0m\u001b[0;34m(\u001b[0m\u001b[0;34m)\u001b[0m\u001b[0;34m,\u001b[0m \u001b[0mnp\u001b[0m\u001b[0;34m.\u001b[0m\u001b[0marray\u001b[0m\u001b[0;34m(\u001b[0m\u001b[0mbook_labels\u001b[0m\u001b[0;34m)\u001b[0m\u001b[0;34m)\u001b[0m\u001b[0;34m\u001b[0m\u001b[0;34m\u001b[0m\u001b[0m\n\u001b[0m",
            "\u001b[0;32m<ipython-input-8-b1978cc27e7e>\u001b[0m in \u001b[0;36msample_recommendation\u001b[0;34m(model, user_ids, train, item_labels)\u001b[0m\n\u001b[1;32m      8\u001b[0m         \u001b[0mknown_positives\u001b[0m \u001b[0;34m=\u001b[0m \u001b[0mitem_labels\u001b[0m\u001b[0;34m[\u001b[0m\u001b[0mtrain\u001b[0m\u001b[0;34m[\u001b[0m\u001b[0muser_id\u001b[0m\u001b[0;34m]\u001b[0m\u001b[0;34m.\u001b[0m\u001b[0mindices\u001b[0m\u001b[0;34m]\u001b[0m\u001b[0;34m\u001b[0m\u001b[0;34m\u001b[0m\u001b[0m\n\u001b[1;32m      9\u001b[0m \u001b[0;34m\u001b[0m\u001b[0m\n\u001b[0;32m---> 10\u001b[0;31m         \u001b[0mscores\u001b[0m \u001b[0;34m=\u001b[0m \u001b[0mmodel\u001b[0m\u001b[0;34m.\u001b[0m\u001b[0mpredict\u001b[0m\u001b[0;34m(\u001b[0m\u001b[0muser_id\u001b[0m\u001b[0;34m,\u001b[0m \u001b[0mnp\u001b[0m\u001b[0;34m.\u001b[0m\u001b[0marange\u001b[0m\u001b[0;34m(\u001b[0m\u001b[0mn_items\u001b[0m\u001b[0;34m)\u001b[0m\u001b[0;34m)\u001b[0m\u001b[0;34m\u001b[0m\u001b[0;34m\u001b[0m\u001b[0m\n\u001b[0m\u001b[1;32m     11\u001b[0m         \u001b[0mtop_items\u001b[0m \u001b[0;34m=\u001b[0m \u001b[0mitem_labels\u001b[0m\u001b[0;34m[\u001b[0m\u001b[0mnp\u001b[0m\u001b[0;34m.\u001b[0m\u001b[0margsort\u001b[0m\u001b[0;34m(\u001b[0m\u001b[0;34m-\u001b[0m\u001b[0mscores\u001b[0m\u001b[0;34m)\u001b[0m\u001b[0;34m]\u001b[0m\u001b[0;34m\u001b[0m\u001b[0;34m\u001b[0m\u001b[0m\n\u001b[1;32m     12\u001b[0m \u001b[0;34m\u001b[0m\u001b[0m\n",
            "\u001b[0;32m/usr/local/lib/python3.6/dist-packages/spotlight/sequence/implicit.py\u001b[0m in \u001b[0;36mpredict\u001b[0;34m(self, sequences, item_ids)\u001b[0m\n\u001b[1;32m    327\u001b[0m         \u001b[0msize\u001b[0m \u001b[0;34m=\u001b[0m \u001b[0;34m(\u001b[0m\u001b[0mlen\u001b[0m\u001b[0;34m(\u001b[0m\u001b[0mitem_var\u001b[0m\u001b[0;34m)\u001b[0m\u001b[0;34m,\u001b[0m\u001b[0;34m)\u001b[0m \u001b[0;34m+\u001b[0m \u001b[0msequence_representations\u001b[0m\u001b[0;34m.\u001b[0m\u001b[0msize\u001b[0m\u001b[0;34m(\u001b[0m\u001b[0;34m)\u001b[0m\u001b[0;34m[\u001b[0m\u001b[0;36m1\u001b[0m\u001b[0;34m:\u001b[0m\u001b[0;34m]\u001b[0m\u001b[0;34m\u001b[0m\u001b[0;34m\u001b[0m\u001b[0m\n\u001b[1;32m    328\u001b[0m         out = self._net(sequence_representations.expand(*size),\n\u001b[0;32m--> 329\u001b[0;31m                         item_var)\n\u001b[0m\u001b[1;32m    330\u001b[0m \u001b[0;34m\u001b[0m\u001b[0m\n\u001b[1;32m    331\u001b[0m         \u001b[0;32mreturn\u001b[0m \u001b[0mcpu\u001b[0m\u001b[0;34m(\u001b[0m\u001b[0mout\u001b[0m\u001b[0;34m)\u001b[0m\u001b[0;34m.\u001b[0m\u001b[0mdetach\u001b[0m\u001b[0;34m(\u001b[0m\u001b[0;34m)\u001b[0m\u001b[0;34m.\u001b[0m\u001b[0mnumpy\u001b[0m\u001b[0;34m(\u001b[0m\u001b[0;34m)\u001b[0m\u001b[0;34m.\u001b[0m\u001b[0mflatten\u001b[0m\u001b[0;34m(\u001b[0m\u001b[0;34m)\u001b[0m\u001b[0;34m\u001b[0m\u001b[0;34m\u001b[0m\u001b[0m\n",
            "\u001b[0;32m/usr/local/lib/python3.6/dist-packages/torch/nn/modules/module.py\u001b[0m in \u001b[0;36m__call__\u001b[0;34m(self, *input, **kwargs)\u001b[0m\n\u001b[1;32m    539\u001b[0m             \u001b[0mresult\u001b[0m \u001b[0;34m=\u001b[0m \u001b[0mself\u001b[0m\u001b[0;34m.\u001b[0m\u001b[0m_slow_forward\u001b[0m\u001b[0;34m(\u001b[0m\u001b[0;34m*\u001b[0m\u001b[0minput\u001b[0m\u001b[0;34m,\u001b[0m \u001b[0;34m**\u001b[0m\u001b[0mkwargs\u001b[0m\u001b[0;34m)\u001b[0m\u001b[0;34m\u001b[0m\u001b[0;34m\u001b[0m\u001b[0m\n\u001b[1;32m    540\u001b[0m         \u001b[0;32melse\u001b[0m\u001b[0;34m:\u001b[0m\u001b[0;34m\u001b[0m\u001b[0;34m\u001b[0m\u001b[0m\n\u001b[0;32m--> 541\u001b[0;31m             \u001b[0mresult\u001b[0m \u001b[0;34m=\u001b[0m \u001b[0mself\u001b[0m\u001b[0;34m.\u001b[0m\u001b[0mforward\u001b[0m\u001b[0;34m(\u001b[0m\u001b[0;34m*\u001b[0m\u001b[0minput\u001b[0m\u001b[0;34m,\u001b[0m \u001b[0;34m**\u001b[0m\u001b[0mkwargs\u001b[0m\u001b[0;34m)\u001b[0m\u001b[0;34m\u001b[0m\u001b[0;34m\u001b[0m\u001b[0m\n\u001b[0m\u001b[1;32m    542\u001b[0m         \u001b[0;32mfor\u001b[0m \u001b[0mhook\u001b[0m \u001b[0;32min\u001b[0m \u001b[0mself\u001b[0m\u001b[0;34m.\u001b[0m\u001b[0m_forward_hooks\u001b[0m\u001b[0;34m.\u001b[0m\u001b[0mvalues\u001b[0m\u001b[0;34m(\u001b[0m\u001b[0;34m)\u001b[0m\u001b[0;34m:\u001b[0m\u001b[0;34m\u001b[0m\u001b[0;34m\u001b[0m\u001b[0m\n\u001b[1;32m    543\u001b[0m             \u001b[0mhook_result\u001b[0m \u001b[0;34m=\u001b[0m \u001b[0mhook\u001b[0m\u001b[0;34m(\u001b[0m\u001b[0mself\u001b[0m\u001b[0;34m,\u001b[0m \u001b[0minput\u001b[0m\u001b[0;34m,\u001b[0m \u001b[0mresult\u001b[0m\u001b[0;34m)\u001b[0m\u001b[0;34m\u001b[0m\u001b[0;34m\u001b[0m\u001b[0m\n",
            "\u001b[0;32m/usr/local/lib/python3.6/dist-packages/spotlight/sequence/representations.py\u001b[0m in \u001b[0;36mforward\u001b[0;34m(self, user_representations, targets)\u001b[0m\n\u001b[1;32m    443\u001b[0m \u001b[0;34m\u001b[0m\u001b[0m\n\u001b[1;32m    444\u001b[0m         target_embedding = (self.item_embeddings(targets)\n\u001b[0;32m--> 445\u001b[0;31m                             \u001b[0;34m.\u001b[0m\u001b[0mpermute\u001b[0m\u001b[0;34m(\u001b[0m\u001b[0;36m0\u001b[0m\u001b[0;34m,\u001b[0m \u001b[0;36m2\u001b[0m\u001b[0;34m,\u001b[0m \u001b[0;36m1\u001b[0m\u001b[0;34m)\u001b[0m\u001b[0;34m\u001b[0m\u001b[0;34m\u001b[0m\u001b[0m\n\u001b[0m\u001b[1;32m    446\u001b[0m                             .squeeze())\n\u001b[1;32m    447\u001b[0m         \u001b[0mtarget_bias\u001b[0m \u001b[0;34m=\u001b[0m \u001b[0mself\u001b[0m\u001b[0;34m.\u001b[0m\u001b[0mitem_biases\u001b[0m\u001b[0;34m(\u001b[0m\u001b[0mtargets\u001b[0m\u001b[0;34m)\u001b[0m\u001b[0;34m.\u001b[0m\u001b[0msqueeze\u001b[0m\u001b[0;34m(\u001b[0m\u001b[0;34m)\u001b[0m\u001b[0;34m\u001b[0m\u001b[0;34m\u001b[0m\u001b[0m\n",
            "\u001b[0;31mRuntimeError\u001b[0m: number of dims don't match in permute"
          ]
        }
      ]
    },
    {
      "cell_type": "code",
      "metadata": {
        "id": "UBpy156e9vGq",
        "colab_type": "code",
        "outputId": "4fbfc1c9-68da-434b-ebb1-54a35819b578",
        "colab": {
          "base_uri": "https://localhost:8080/",
          "height": 326
        }
      },
      "source": [
        "pip install lightfm"
      ],
      "execution_count": 0,
      "outputs": [
        {
          "output_type": "stream",
          "text": [
            "Collecting lightfm\n",
            "\u001b[?25l  Downloading https://files.pythonhosted.org/packages/e9/8e/5485ac5a8616abe1c673d1e033e2f232b4319ab95424b42499fabff2257f/lightfm-1.15.tar.gz (302kB)\n",
            "\r\u001b[K     |█                               | 10kB 18.7MB/s eta 0:00:01\r\u001b[K     |██▏                             | 20kB 3.3MB/s eta 0:00:01\r\u001b[K     |███▎                            | 30kB 4.8MB/s eta 0:00:01\r\u001b[K     |████▍                           | 40kB 3.1MB/s eta 0:00:01\r\u001b[K     |█████▍                          | 51kB 3.8MB/s eta 0:00:01\r\u001b[K     |██████▌                         | 61kB 4.6MB/s eta 0:00:01\r\u001b[K     |███████▋                        | 71kB 5.2MB/s eta 0:00:01\r\u001b[K     |████████▊                       | 81kB 5.9MB/s eta 0:00:01\r\u001b[K     |█████████▊                      | 92kB 6.6MB/s eta 0:00:01\r\u001b[K     |██████████▉                     | 102kB 5.1MB/s eta 0:00:01\r\u001b[K     |████████████                    | 112kB 5.1MB/s eta 0:00:01\r\u001b[K     |█████████████                   | 122kB 5.1MB/s eta 0:00:01\r\u001b[K     |██████████████                  | 133kB 5.1MB/s eta 0:00:01\r\u001b[K     |███████████████▏                | 143kB 5.1MB/s eta 0:00:01\r\u001b[K     |████████████████▎               | 153kB 5.1MB/s eta 0:00:01\r\u001b[K     |█████████████████▍              | 163kB 5.1MB/s eta 0:00:01\r\u001b[K     |██████████████████▍             | 174kB 5.1MB/s eta 0:00:01\r\u001b[K     |███████████████████▌            | 184kB 5.1MB/s eta 0:00:01\r\u001b[K     |████████████████████▋           | 194kB 5.1MB/s eta 0:00:01\r\u001b[K     |█████████████████████▊          | 204kB 5.1MB/s eta 0:00:01\r\u001b[K     |██████████████████████▊         | 215kB 5.1MB/s eta 0:00:01\r\u001b[K     |███████████████████████▉        | 225kB 5.1MB/s eta 0:00:01\r\u001b[K     |█████████████████████████       | 235kB 5.1MB/s eta 0:00:01\r\u001b[K     |██████████████████████████      | 245kB 5.1MB/s eta 0:00:01\r\u001b[K     |███████████████████████████     | 256kB 5.1MB/s eta 0:00:01\r\u001b[K     |████████████████████████████▏   | 266kB 5.1MB/s eta 0:00:01\r\u001b[K     |█████████████████████████████▎  | 276kB 5.1MB/s eta 0:00:01\r\u001b[K     |██████████████████████████████▍ | 286kB 5.1MB/s eta 0:00:01\r\u001b[K     |███████████████████████████████▍| 296kB 5.1MB/s eta 0:00:01\r\u001b[K     |████████████████████████████████| 307kB 5.1MB/s \n",
            "\u001b[?25hRequirement already satisfied: numpy in /usr/local/lib/python3.6/dist-packages (from lightfm) (1.17.5)\n",
            "Requirement already satisfied: scipy>=0.17.0 in /usr/local/lib/python3.6/dist-packages (from lightfm) (1.4.1)\n",
            "Requirement already satisfied: requests in /usr/local/lib/python3.6/dist-packages (from lightfm) (2.21.0)\n",
            "Requirement already satisfied: chardet<3.1.0,>=3.0.2 in /usr/local/lib/python3.6/dist-packages (from requests->lightfm) (3.0.4)\n",
            "Requirement already satisfied: certifi>=2017.4.17 in /usr/local/lib/python3.6/dist-packages (from requests->lightfm) (2019.11.28)\n",
            "Requirement already satisfied: idna<2.9,>=2.5 in /usr/local/lib/python3.6/dist-packages (from requests->lightfm) (2.8)\n",
            "Requirement already satisfied: urllib3<1.25,>=1.21.1 in /usr/local/lib/python3.6/dist-packages (from requests->lightfm) (1.24.3)\n",
            "Building wheels for collected packages: lightfm\n",
            "  Building wheel for lightfm (setup.py) ... \u001b[?25l\u001b[?25hdone\n",
            "  Created wheel for lightfm: filename=lightfm-1.15-cp36-cp36m-linux_x86_64.whl size=707628 sha256=ad788f67a328a6cb3c8d2b3402eb9cd2ab9119596665b3d64006a7f527b70276\n",
            "  Stored in directory: /root/.cache/pip/wheels/eb/bb/ac/188385a5da6627956be5d9663928483b36da576149ab5b8f79\n",
            "Successfully built lightfm\n",
            "Installing collected packages: lightfm\n",
            "Successfully installed lightfm-1.15\n"
          ],
          "name": "stdout"
        }
      ]
    },
    {
      "cell_type": "code",
      "metadata": {
        "id": "o6E15CB99xr9",
        "colab_type": "code",
        "outputId": "cf75db0c-a7cd-4b65-a448-42b57b773f59",
        "colab": {
          "base_uri": "https://localhost:8080/",
          "height": 34
        }
      },
      "source": [
        "# from tutorial at https://github.com/lyst/lightfm\n",
        "from lightfm import LightFM\n",
        "from lightfm.evaluation import precision_at_k\n",
        "\n",
        "# Load the MovieLens 100k dataset. Only five\n",
        "# star ratings are treated as positive.\n",
        "#data = fetch_movielens(min_rating=5.0)\n",
        "\n",
        "# Instantiate and train the model\n",
        "model = LightFM(loss='warp')\n",
        "model.fit(train.tocoo(), epochs=30, num_threads=2)"
      ],
      "execution_count": 0,
      "outputs": [
        {
          "output_type": "execute_result",
          "data": {
            "text/plain": [
              "<lightfm.lightfm.LightFM at 0x7f05f786c5f8>"
            ]
          },
          "metadata": {
            "tags": []
          },
          "execution_count": 23
        }
      ]
    },
    {
      "cell_type": "code",
      "metadata": {
        "id": "nzXuYWpBPmby",
        "colab_type": "code",
        "colab": {}
      },
      "source": [
        "# Evaluate the trained model\n",
        "test_precision = precision_at_k(model, test.tocoo(), k=5)"
      ],
      "execution_count": 0,
      "outputs": []
    },
    {
      "cell_type": "code",
      "metadata": {
        "id": "Djh5X7d5PqTg",
        "colab_type": "code",
        "outputId": "b0b8c854-672a-49f1-ad4f-4385da307b4c",
        "colab": {
          "base_uri": "https://localhost:8080/"
        }
      },
      "source": [
        "test_precision  # .mean()"
      ],
      "execution_count": 0,
      "outputs": [
        {
          "output_type": "execute_result",
          "data": {
            "text/plain": [
              "array([0.6, 0. , 0. , ..., 0.2, 0.2, 0.4], dtype=float32)"
            ]
          },
          "metadata": {
            "tags": []
          },
          "execution_count": 25
        }
      ]
    },
    {
      "cell_type": "code",
      "metadata": {
        "id": "GhIKv53VSvnr",
        "colab_type": "code",
        "outputId": "b9146bea-38dc-4bda-9b8e-a0d4c668a1be",
        "colab": {
          "base_uri": "https://localhost:8080/"
        }
      },
      "source": [
        "test_precision.mean()"
      ],
      "execution_count": 0,
      "outputs": [
        {
          "output_type": "execute_result",
          "data": {
            "text/plain": [
              "0.11494516"
            ]
          },
          "metadata": {
            "tags": []
          },
          "execution_count": 26
        }
      ]
    },
    {
      "cell_type": "code",
      "metadata": {
        "id": "JmARW1jjS7y6",
        "colab_type": "code",
        "outputId": "6d6db8a8-544e-45ec-ed53-23e0e971f1c4",
        "colab": {
          "base_uri": "https://localhost:8080/",
          "height": 476
        }
      },
      "source": [
        "sample_recommendation(model, [3, 9999, 15000], train.tocsr(), np.array(book_labels))"
      ],
      "execution_count": 0,
      "outputs": [
        {
          "output_type": "stream",
          "text": [
            "User 3\n",
            "     Known positives:\n",
            "        The Atlantis Complex (Artemis Fowl, #7)\n",
            "        Sentinel (Covenant, #5)\n",
            "        The Devil Wears Prada (The Devil Wears Prada, #1)\n",
            "     Recommended:\n",
            "        The Life and Times of the Thunderbolt Kid\n",
            "        The Atlantis Complex (Artemis Fowl, #7)\n",
            "        Beautiful Creatures (Caster Chronicles, #1)\n",
            "User 9999\n",
            "     Known positives:\n",
            "        City of Glass (The Mortal Instruments, #3)\n",
            "        The Magicians' Guild (Black Magician Trilogy, #1)\n",
            "        Bridge to Terabithia\n",
            "     Recommended:\n",
            "        Enchanters' End Game (The Belgariad, #5)\n",
            "        City of Glass (The Mortal Instruments, #3)\n",
            "        Frankenstein\n",
            "User 15000\n",
            "     Known positives:\n",
            "        Enchanters' End Game (The Belgariad, #5)\n",
            "        The Life and Times of the Thunderbolt Kid\n",
            "        Beautiful Creatures (Caster Chronicles, #1)\n",
            "     Recommended:\n",
            "        Where the Heart Is\n",
            "        Mockingjay (The Hunger Games, #3)\n",
            "        A Map of the World\n"
          ],
          "name": "stdout"
        }
      ]
    },
    {
      "cell_type": "code",
      "metadata": {
        "id": "zFqwh1ZL8PPU",
        "colab_type": "code",
        "colab": {}
      },
      "source": [
        "https://github.com/cheungdaven/DeepRec/blob/master/test/test_item_ranking.py"
      ],
      "execution_count": 0,
      "outputs": []
    },
    {
      "cell_type": "code",
      "metadata": {
        "id": "6gj9oab0-HI3",
        "colab_type": "code",
        "colab": {}
      },
      "source": [
        "https://github.com/microsoft/recommenders/blob/master/benchmarks/movielens.ipynb"
      ],
      "execution_count": 0,
      "outputs": []
    },
    {
      "cell_type": "code",
      "metadata": {
        "id": "gDBItHUWQZo0",
        "colab_type": "code",
        "colab": {}
      },
      "source": [
        ""
      ],
      "execution_count": 0,
      "outputs": []
    }
  ]
}