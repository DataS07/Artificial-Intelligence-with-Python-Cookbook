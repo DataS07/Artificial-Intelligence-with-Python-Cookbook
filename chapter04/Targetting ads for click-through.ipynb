{
 "cells": [
  {
   "cell_type": "code",
   "execution_count": 6,
   "metadata": {},
   "outputs": [],
   "source": [
    "import pandas as pd\n",
    "import numpy as np"
   ]
  },
  {
   "cell_type": "code",
   "execution_count": 7,
   "metadata": {},
   "outputs": [],
   "source": [
    "data = pd.read_csv('advertising.csv')"
   ]
  },
  {
   "cell_type": "code",
   "execution_count": 8,
   "metadata": {},
   "outputs": [
    {
     "data": {
      "text/html": [
       "<div>\n",
       "<style scoped>\n",
       "    .dataframe tbody tr th:only-of-type {\n",
       "        vertical-align: middle;\n",
       "    }\n",
       "\n",
       "    .dataframe tbody tr th {\n",
       "        vertical-align: top;\n",
       "    }\n",
       "\n",
       "    .dataframe thead th {\n",
       "        text-align: right;\n",
       "    }\n",
       "</style>\n",
       "<table border=\"1\" class=\"dataframe\">\n",
       "  <thead>\n",
       "    <tr style=\"text-align: right;\">\n",
       "      <th></th>\n",
       "      <th>Daily Time Spent on Site</th>\n",
       "      <th>Age</th>\n",
       "      <th>Area Income</th>\n",
       "      <th>Daily Internet Usage</th>\n",
       "      <th>Ad Topic Line</th>\n",
       "      <th>City</th>\n",
       "      <th>Male</th>\n",
       "      <th>Country</th>\n",
       "      <th>Timestamp</th>\n",
       "      <th>Clicked on Ad</th>\n",
       "    </tr>\n",
       "  </thead>\n",
       "  <tbody>\n",
       "    <tr>\n",
       "      <th>0</th>\n",
       "      <td>68.95</td>\n",
       "      <td>35</td>\n",
       "      <td>61833.90</td>\n",
       "      <td>256.09</td>\n",
       "      <td>Cloned 5thgeneration orchestration</td>\n",
       "      <td>Wrightburgh</td>\n",
       "      <td>0</td>\n",
       "      <td>Tunisia</td>\n",
       "      <td>2016-03-27 00:53:11</td>\n",
       "      <td>0</td>\n",
       "    </tr>\n",
       "    <tr>\n",
       "      <th>1</th>\n",
       "      <td>80.23</td>\n",
       "      <td>31</td>\n",
       "      <td>68441.85</td>\n",
       "      <td>193.77</td>\n",
       "      <td>Monitored national standardization</td>\n",
       "      <td>West Jodi</td>\n",
       "      <td>1</td>\n",
       "      <td>Nauru</td>\n",
       "      <td>2016-04-04 01:39:02</td>\n",
       "      <td>0</td>\n",
       "    </tr>\n",
       "    <tr>\n",
       "      <th>2</th>\n",
       "      <td>69.47</td>\n",
       "      <td>26</td>\n",
       "      <td>59785.94</td>\n",
       "      <td>236.50</td>\n",
       "      <td>Organic bottom-line service-desk</td>\n",
       "      <td>Davidton</td>\n",
       "      <td>0</td>\n",
       "      <td>San Marino</td>\n",
       "      <td>2016-03-13 20:35:42</td>\n",
       "      <td>0</td>\n",
       "    </tr>\n",
       "    <tr>\n",
       "      <th>3</th>\n",
       "      <td>74.15</td>\n",
       "      <td>29</td>\n",
       "      <td>54806.18</td>\n",
       "      <td>245.89</td>\n",
       "      <td>Triple-buffered reciprocal time-frame</td>\n",
       "      <td>West Terrifurt</td>\n",
       "      <td>1</td>\n",
       "      <td>Italy</td>\n",
       "      <td>2016-01-10 02:31:19</td>\n",
       "      <td>0</td>\n",
       "    </tr>\n",
       "    <tr>\n",
       "      <th>4</th>\n",
       "      <td>68.37</td>\n",
       "      <td>35</td>\n",
       "      <td>73889.99</td>\n",
       "      <td>225.58</td>\n",
       "      <td>Robust logistical utilization</td>\n",
       "      <td>South Manuel</td>\n",
       "      <td>0</td>\n",
       "      <td>Iceland</td>\n",
       "      <td>2016-06-03 03:36:18</td>\n",
       "      <td>0</td>\n",
       "    </tr>\n",
       "  </tbody>\n",
       "</table>\n",
       "</div>"
      ],
      "text/plain": [
       "   Daily Time Spent on Site  Age  Area Income  Daily Internet Usage  \\\n",
       "0                     68.95   35     61833.90                256.09   \n",
       "1                     80.23   31     68441.85                193.77   \n",
       "2                     69.47   26     59785.94                236.50   \n",
       "3                     74.15   29     54806.18                245.89   \n",
       "4                     68.37   35     73889.99                225.58   \n",
       "\n",
       "                           Ad Topic Line            City  Male     Country  \\\n",
       "0     Cloned 5thgeneration orchestration     Wrightburgh     0     Tunisia   \n",
       "1     Monitored national standardization       West Jodi     1       Nauru   \n",
       "2       Organic bottom-line service-desk        Davidton     0  San Marino   \n",
       "3  Triple-buffered reciprocal time-frame  West Terrifurt     1       Italy   \n",
       "4          Robust logistical utilization    South Manuel     0     Iceland   \n",
       "\n",
       "             Timestamp  Clicked on Ad  \n",
       "0  2016-03-27 00:53:11              0  \n",
       "1  2016-04-04 01:39:02              0  \n",
       "2  2016-03-13 20:35:42              0  \n",
       "3  2016-01-10 02:31:19              0  \n",
       "4  2016-06-03 03:36:18              0  "
      ]
     },
     "execution_count": 8,
     "metadata": {},
     "output_type": "execute_result"
    }
   ],
   "source": [
    "data.head()"
   ]
  },
  {
   "cell_type": "code",
   "execution_count": 9,
   "metadata": {
    "scrolled": true
   },
   "outputs": [
    {
     "data": {
      "text/plain": [
       "1000"
      ]
     },
     "execution_count": 9,
     "metadata": {},
     "output_type": "execute_result"
    }
   ],
   "source": [
    "data['Ad Topic Line'].nunique()"
   ]
  },
  {
   "cell_type": "code",
   "execution_count": 10,
   "metadata": {},
   "outputs": [
    {
     "data": {
      "text/plain": [
       "969"
      ]
     },
     "execution_count": 10,
     "metadata": {},
     "output_type": "execute_result"
    }
   ],
   "source": [
    "data['City'].nunique()"
   ]
  },
  {
   "cell_type": "code",
   "execution_count": 11,
   "metadata": {},
   "outputs": [
    {
     "data": {
      "text/plain": [
       "237"
      ]
     },
     "execution_count": 11,
     "metadata": {},
     "output_type": "execute_result"
    }
   ],
   "source": [
    "data['Country'].nunique()"
   ]
  },
  {
   "cell_type": "code",
   "execution_count": 12,
   "metadata": {},
   "outputs": [
    {
     "data": {
      "text/plain": [
       "1000"
      ]
     },
     "execution_count": 12,
     "metadata": {},
     "output_type": "execute_result"
    }
   ],
   "source": [
    "len(data)"
   ]
  },
  {
   "cell_type": "code",
   "execution_count": 13,
   "metadata": {},
   "outputs": [
    {
     "data": {
      "text/plain": [
       "0.5"
      ]
     },
     "execution_count": 13,
     "metadata": {},
     "output_type": "execute_result"
    }
   ],
   "source": [
    "data['Clicked on Ad'].mean()"
   ]
  },
  {
   "cell_type": "code",
   "execution_count": 14,
   "metadata": {},
   "outputs": [
    {
     "data": {
      "text/plain": [
       "array([0, 1])"
      ]
     },
     "execution_count": 14,
     "metadata": {},
     "output_type": "execute_result"
    }
   ],
   "source": [
    "data['Male'].unique()"
   ]
  },
  {
   "cell_type": "code",
   "execution_count": 15,
   "metadata": {},
   "outputs": [],
   "source": [
    "import datetime"
   ]
  },
  {
   "cell_type": "code",
   "execution_count": 16,
   "metadata": {},
   "outputs": [],
   "source": [
    "#pd.to_datetime(data['Timestamp']).apply(lambda x: x.day)"
   ]
  },
  {
   "cell_type": "code",
   "execution_count": 17,
   "metadata": {},
   "outputs": [
    {
     "data": {
      "text/plain": [
       "Index(['Daily Time Spent on Site', 'Age', 'Area Income',\n",
       "       'Daily Internet Usage', 'Ad Topic Line', 'City', 'Male', 'Country',\n",
       "       'Timestamp', 'Clicked on Ad'],\n",
       "      dtype='object')"
      ]
     },
     "execution_count": 17,
     "metadata": {},
     "output_type": "execute_result"
    }
   ],
   "source": [
    "data.columns"
   ]
  },
  {
   "cell_type": "code",
   "execution_count": 18,
   "metadata": {},
   "outputs": [
    {
     "data": {
      "text/plain": [
       "Daily Time Spent on Site    float64\n",
       "Age                           int64\n",
       "Area Income                 float64\n",
       "Daily Internet Usage        float64\n",
       "Ad Topic Line                object\n",
       "City                         object\n",
       "Male                          int64\n",
       "Country                      object\n",
       "Timestamp                    object\n",
       "Clicked on Ad                 int64\n",
       "dtype: object"
      ]
     },
     "execution_count": 18,
     "metadata": {},
     "output_type": "execute_result"
    }
   ],
   "source": [
    "data.dtypes"
   ]
  },
  {
   "cell_type": "code",
   "execution_count": 19,
   "metadata": {},
   "outputs": [],
   "source": [
    "from sklearn.preprocessing import StandardScaler\n",
    "scaler = StandardScaler()\n",
    "X = scaler.fit_transform(\n",
    "    data[['Daily Time Spent on Site', 'Age', \n",
    "         'Area Income', 'Daily Internet Usage', 'Male']]\n",
    ")"
   ]
  },
  {
   "cell_type": "code",
   "execution_count": 20,
   "metadata": {},
   "outputs": [],
   "source": [
    "from sklearn.model_selection import train_test_split\n",
    "\n",
    "X_train, X_test, y_train, y_test = train_test_split(\n",
    "    X, data['Clicked on Ad'], test_size=0.33, random_state=42\n",
    ")"
   ]
  },
  {
   "cell_type": "code",
   "execution_count": 28,
   "metadata": {},
   "outputs": [],
   "source": [
    "import tensorflow as tf\n",
    "import tensorflow_probability as tfp\n",
    "import matplotlib.pyplot as plt\n",
    "#import tensorflow.compat.v2 as tf\n",
    "tfd = tfp.distributions\n",
    "%matplotlib inline"
   ]
  },
  {
   "cell_type": "code",
   "execution_count": 29,
   "metadata": {},
   "outputs": [],
   "source": [
    "negloglik = lambda y, rv_y: -rv_y.log_prob(y)"
   ]
  },
  {
   "cell_type": "code",
   "execution_count": 30,
   "metadata": {},
   "outputs": [],
   "source": [
    "# Specify the prior over `keras.layers.Dense` `kernel` and `bias`.\n",
    "def prior_trainable(kernel_size, bias_size=0, dtype=None):\n",
    "    n = kernel_size + bias_size\n",
    "    return tf.keras.Sequential([\n",
    "    tfp.layers.VariableLayer(n, dtype=dtype),\n",
    "    tfp.layers.DistributionLambda(lambda t: tfd.Independent(\n",
    "        tfd.Normal(loc=t, scale=1),\n",
    "        reinterpreted_batch_ndims=1)),\n",
    "    ])"
   ]
  },
  {
   "cell_type": "code",
   "execution_count": 32,
   "metadata": {},
   "outputs": [],
   "source": [
    "# Specify the surrogate posterior over `keras.layers.Dense` `kernel` and `bias`.\n",
    "def posterior_mean_field(kernel_size, bias_size=0, dtype=None):\n",
    "    n = kernel_size + bias_size\n",
    "    c = np.log(np.expm1(1.))\n",
    "    return tf.keras.Sequential([\n",
    "    tfp.layers.VariableLayer(2 * n, dtype=dtype),\n",
    "    tfp.layers.DistributionLambda(lambda t: tfd.Independent(\n",
    "        tfd.Normal(\n",
    "            loc=t[..., :n],\n",
    "            scale=1e-5 + tf.nn.softplus(c + t[..., n:])\n",
    "        ),\n",
    "    reinterpreted_batch_ndims=1)),\n",
    "    ])"
   ]
  },
  {
   "cell_type": "code",
   "execution_count": 220,
   "metadata": {},
   "outputs": [],
   "source": [
    "model = tf.keras.Sequential([\n",
    "    #tfp.layers.DenseVariational(10, posterior_mean_field, prior_trainable, kl_weight=1/X.shape[0], activation='relu'),\n",
    "    tfp.layers.DenseVariational(1, posterior_mean_field, prior_trainable, kl_weight=1/X.shape[0]),\n",
    "    tfp.layers.DistributionLambda(\n",
    "        #lambda t: tfd.Normal(\n",
    "        #    loc=t[..., :1],\n",
    "        #    scale=1e-3 + tf.math.softplus(0.01 * t[...,1:])\n",
    "        #)\n",
    "        lambda t: tfd.Bernoulli(\n",
    "          logits=t[..., :1]#, total_count=100\n",
    "        )\n",
    "    ),\n",
    "])"
   ]
  },
  {
   "cell_type": "code",
   "execution_count": 221,
   "metadata": {},
   "outputs": [
    {
     "data": {
      "text/plain": [
       "<tensorflow.python.keras.callbacks.History at 0x7fe3914ee390>"
      ]
     },
     "execution_count": 221,
     "metadata": {},
     "output_type": "execute_result"
    }
   ],
   "source": [
    "model.compile(\n",
    "    optimizer=tf.optimizers.Adam(learning_rate=0.01),\n",
    "    loss=negloglik\n",
    ")\n",
    "model.fit(X_train, y_train, epochs=1000, verbose=False)"
   ]
  },
  {
   "cell_type": "code",
   "execution_count": 206,
   "metadata": {},
   "outputs": [
    {
     "name": "stdout",
     "output_type": "stream",
     "text": [
      "WARNING:tensorflow:Layer dense_variational_29 is casting an input tensor from dtype float64 to the layer's dtype of float32, which is new behavior in TensorFlow 2.  The layer has dtype float32 because it's dtype defaults to floatx.\n",
      "\n",
      "If you intended to run this layer in float32, you can safely ignore this warning. If in doubt, this warning is likely only an issue if you are porting a TensorFlow 1.X model to TensorFlow 2.\n",
      "\n",
      "To change all layers to have dtype float64 by default, call `tf.keras.backend.set_floatx('float64')`. To change just this layer, pass dtype='float64' to the layer constructor. If you are the author of this layer, you can disable autocasting by passing autocast=False to the base Layer constructor.\n",
      "\n"
     ]
    }
   ],
   "source": [
    "preds = model(X_test)"
   ]
  },
  {
   "cell_type": "code",
   "execution_count": 207,
   "metadata": {},
   "outputs": [
    {
     "data": {
      "text/plain": [
       "array([[0.99692994],\n",
       "       [0.99996054],\n",
       "       [0.9998487 ],\n",
       "       [0.99940157],\n",
       "       [0.01452786],\n",
       "       [0.6816558 ],\n",
       "       [0.02285549],\n",
       "       [0.9999728 ],\n",
       "       [0.00597924],\n",
       "       [0.999997  ],\n",
       "       [0.00348011],\n",
       "       [0.9998691 ],\n",
       "       [0.9999946 ],\n",
       "       [0.01676834],\n",
       "       [0.9999738 ],\n",
       "       [0.9999979 ],\n",
       "       [0.9999995 ],\n",
       "       [0.9997256 ],\n",
       "       [0.06978163],\n",
       "       [0.99999154],\n",
       "       [0.00380453],\n",
       "       [0.9980155 ],\n",
       "       [0.99999696],\n",
       "       [0.21866459],\n",
       "       [0.00390309],\n",
       "       [0.9999984 ],\n",
       "       [0.03422147],\n",
       "       [0.0027318 ],\n",
       "       [0.9999949 ],\n",
       "       [0.9998077 ],\n",
       "       [0.22325158],\n",
       "       [0.6789272 ],\n",
       "       [0.00715011],\n",
       "       [0.9972608 ],\n",
       "       [0.9999958 ],\n",
       "       [0.01405767],\n",
       "       [0.00649586],\n",
       "       [0.85304224],\n",
       "       [0.9999597 ],\n",
       "       [0.9999989 ],\n",
       "       [0.0305649 ],\n",
       "       [0.9999927 ],\n",
       "       [0.80408955],\n",
       "       [0.9999958 ],\n",
       "       [0.0127247 ],\n",
       "       [0.08392632],\n",
       "       [0.9937537 ],\n",
       "       [0.9999975 ],\n",
       "       [0.44455075],\n",
       "       [0.99996287],\n",
       "       [0.99999905],\n",
       "       [0.06566265],\n",
       "       [0.99987054],\n",
       "       [0.02704105],\n",
       "       [0.00494745],\n",
       "       [0.00929672],\n",
       "       [0.01486248],\n",
       "       [0.9999989 ],\n",
       "       [0.0270749 ],\n",
       "       [0.9999856 ],\n",
       "       [0.00725719],\n",
       "       [0.99981225],\n",
       "       [0.03658628],\n",
       "       [0.99999624],\n",
       "       [0.9994536 ],\n",
       "       [0.9998359 ],\n",
       "       [0.9999976 ],\n",
       "       [0.0108076 ],\n",
       "       [0.9997134 ],\n",
       "       [0.9999668 ],\n",
       "       [0.9998425 ],\n",
       "       [0.999664  ],\n",
       "       [0.9678296 ],\n",
       "       [0.08839813],\n",
       "       [0.95347536],\n",
       "       [0.8093984 ],\n",
       "       [0.00317276],\n",
       "       [0.9999982 ],\n",
       "       [0.99978185],\n",
       "       [0.00555301],\n",
       "       [0.9999944 ],\n",
       "       [0.9999443 ],\n",
       "       [0.9999748 ],\n",
       "       [0.99901164],\n",
       "       [0.04719093],\n",
       "       [0.00490496],\n",
       "       [0.96653503],\n",
       "       [0.03159747],\n",
       "       [0.07476926],\n",
       "       [0.00580826],\n",
       "       [0.23874211],\n",
       "       [0.999741  ],\n",
       "       [0.00769299],\n",
       "       [0.99918795],\n",
       "       [0.32267433],\n",
       "       [0.34277728],\n",
       "       [0.99999774],\n",
       "       [0.999982  ],\n",
       "       [0.03427655],\n",
       "       [0.00255036],\n",
       "       [0.9999463 ],\n",
       "       [0.01651824],\n",
       "       [0.99999404],\n",
       "       [0.00476131],\n",
       "       [0.999979  ],\n",
       "       [0.03344843],\n",
       "       [0.99996156],\n",
       "       [0.18054983],\n",
       "       [0.9999832 ],\n",
       "       [0.00834656],\n",
       "       [0.9999993 ],\n",
       "       [0.00475082],\n",
       "       [0.99609745],\n",
       "       [0.9999905 ],\n",
       "       [0.03305516],\n",
       "       [0.7341748 ],\n",
       "       [0.01692116],\n",
       "       [0.4113558 ],\n",
       "       [0.01854464],\n",
       "       [0.32451725],\n",
       "       [0.9984424 ],\n",
       "       [0.99889314],\n",
       "       [0.9999964 ],\n",
       "       [0.0158996 ],\n",
       "       [0.79284626],\n",
       "       [0.00220799],\n",
       "       [0.96848965],\n",
       "       [0.00386646],\n",
       "       [0.05304098],\n",
       "       [0.9987348 ],\n",
       "       [0.99793327],\n",
       "       [0.99997747],\n",
       "       [0.99483716],\n",
       "       [0.00954434],\n",
       "       [0.5105417 ],\n",
       "       [0.1018596 ],\n",
       "       [0.00480056],\n",
       "       [0.99656296],\n",
       "       [0.00747994],\n",
       "       [0.9733476 ],\n",
       "       [0.02260244],\n",
       "       [0.13523668],\n",
       "       [0.99981326],\n",
       "       [0.9997851 ],\n",
       "       [0.02740055],\n",
       "       [0.99998164],\n",
       "       [0.99978316],\n",
       "       [0.11722583],\n",
       "       [0.00488493],\n",
       "       [0.14019653],\n",
       "       [0.6899531 ],\n",
       "       [0.00560564],\n",
       "       [0.99975705],\n",
       "       [0.00570086],\n",
       "       [0.90973574],\n",
       "       [0.08248013],\n",
       "       [0.99999756],\n",
       "       [0.01595649],\n",
       "       [0.172198  ],\n",
       "       [0.00457186],\n",
       "       [0.99725246],\n",
       "       [0.9999915 ],\n",
       "       [0.01592436],\n",
       "       [0.1497843 ],\n",
       "       [0.9999853 ],\n",
       "       [0.7735647 ],\n",
       "       [0.00854981],\n",
       "       [0.00337732],\n",
       "       [0.00970289],\n",
       "       [0.003887  ],\n",
       "       [0.9996126 ],\n",
       "       [0.9990097 ],\n",
       "       [0.99656224],\n",
       "       [0.00962496],\n",
       "       [0.29772973],\n",
       "       [0.8827472 ],\n",
       "       [0.99992466],\n",
       "       [0.9986813 ],\n",
       "       [0.9999994 ],\n",
       "       [0.9972146 ],\n",
       "       [0.99927175],\n",
       "       [0.02287892],\n",
       "       [0.9999832 ],\n",
       "       [0.99991393],\n",
       "       [0.9999193 ],\n",
       "       [0.99999446],\n",
       "       [0.00347775],\n",
       "       [0.99588513],\n",
       "       [0.9983551 ],\n",
       "       [0.98466605],\n",
       "       [0.42959774],\n",
       "       [0.9999429 ],\n",
       "       [0.02526298],\n",
       "       [0.04781735],\n",
       "       [0.8366573 ],\n",
       "       [0.88175905],\n",
       "       [0.9993025 ],\n",
       "       [0.9999949 ],\n",
       "       [0.00271988],\n",
       "       [0.99999285],\n",
       "       [0.09486529],\n",
       "       [0.00535333],\n",
       "       [0.00866863],\n",
       "       [0.00702509],\n",
       "       [0.9999976 ],\n",
       "       [0.00378707],\n",
       "       [0.99961907],\n",
       "       [0.00386238],\n",
       "       [0.00691688],\n",
       "       [0.01937309],\n",
       "       [0.085435  ],\n",
       "       [0.9996562 ],\n",
       "       [0.99999857],\n",
       "       [0.99999845],\n",
       "       [0.9999992 ],\n",
       "       [0.00905645],\n",
       "       [0.00912383],\n",
       "       [0.9992007 ],\n",
       "       [0.03166544],\n",
       "       [0.99414545],\n",
       "       [0.06822559],\n",
       "       [0.9984611 ],\n",
       "       [0.99999607],\n",
       "       [0.999995  ],\n",
       "       [0.00185895],\n",
       "       [0.01482752],\n",
       "       [0.0139367 ],\n",
       "       [0.00805458],\n",
       "       [0.02855608],\n",
       "       [0.19841737],\n",
       "       [0.99221057],\n",
       "       [0.9948735 ],\n",
       "       [0.03152779],\n",
       "       [0.9999953 ],\n",
       "       [0.974012  ],\n",
       "       [0.01741594],\n",
       "       [0.9999868 ],\n",
       "       [0.03766522],\n",
       "       [0.99998945],\n",
       "       [0.00202295],\n",
       "       [0.00356141],\n",
       "       [0.0202221 ],\n",
       "       [0.01139668],\n",
       "       [0.01105455],\n",
       "       [0.00908759],\n",
       "       [0.02039453],\n",
       "       [0.01818442],\n",
       "       [0.00218585],\n",
       "       [0.15060821],\n",
       "       [0.99973845],\n",
       "       [0.9998386 ],\n",
       "       [0.9999965 ],\n",
       "       [0.99996424],\n",
       "       [0.01214933],\n",
       "       [0.02723521],\n",
       "       [0.01705575],\n",
       "       [0.9999907 ],\n",
       "       [0.9998933 ],\n",
       "       [0.9999908 ],\n",
       "       [0.0452415 ],\n",
       "       [0.01340351],\n",
       "       [0.99685436],\n",
       "       [0.9998619 ],\n",
       "       [0.9684025 ],\n",
       "       [0.99999654],\n",
       "       [0.0097352 ],\n",
       "       [0.25608116],\n",
       "       [0.00656486],\n",
       "       [0.00503373],\n",
       "       [0.9999893 ],\n",
       "       [0.9999989 ],\n",
       "       [0.92932034],\n",
       "       [0.9999972 ],\n",
       "       [0.01076803],\n",
       "       [0.9960325 ],\n",
       "       [0.1653279 ],\n",
       "       [0.9999032 ],\n",
       "       [0.01743165],\n",
       "       [0.00478798],\n",
       "       [0.09769142],\n",
       "       [0.9999995 ],\n",
       "       [0.00543809],\n",
       "       [0.00301063],\n",
       "       [0.9654006 ],\n",
       "       [0.9991632 ],\n",
       "       [0.03178269],\n",
       "       [0.01180679],\n",
       "       [0.29326624],\n",
       "       [0.9999897 ],\n",
       "       [0.99287343],\n",
       "       [0.03384531],\n",
       "       [0.01104251],\n",
       "       [0.00853133],\n",
       "       [0.05424017],\n",
       "       [0.01201415],\n",
       "       [0.99999535],\n",
       "       [0.03026131],\n",
       "       [0.9988546 ],\n",
       "       [0.9999853 ],\n",
       "       [0.00449297],\n",
       "       [0.00299078],\n",
       "       [0.9990628 ],\n",
       "       [0.03258547],\n",
       "       [0.99957895],\n",
       "       [0.99998045],\n",
       "       [0.36139995],\n",
       "       [0.02794817],\n",
       "       [0.9999861 ],\n",
       "       [0.00222954],\n",
       "       [0.00556666],\n",
       "       [0.998929  ],\n",
       "       [0.99963695],\n",
       "       [0.9999788 ],\n",
       "       [0.01159215],\n",
       "       [0.9999958 ],\n",
       "       [0.0650579 ],\n",
       "       [0.05664879],\n",
       "       [0.00644249],\n",
       "       [0.11843649],\n",
       "       [0.00350556],\n",
       "       [0.99998546],\n",
       "       [0.9992348 ],\n",
       "       [0.9999132 ],\n",
       "       [0.9999933 ],\n",
       "       [0.01070324],\n",
       "       [0.00537857],\n",
       "       [0.020964  ],\n",
       "       [0.99334   ],\n",
       "       [0.00994846],\n",
       "       [0.01227028]], dtype=float32)"
      ]
     },
     "execution_count": 207,
     "metadata": {},
     "output_type": "execute_result"
    }
   ],
   "source": [
    "preds.mean().numpy()"
   ]
  },
  {
   "cell_type": "code",
   "execution_count": 208,
   "metadata": {},
   "outputs": [
    {
     "data": {
      "text/plain": [
       "0.9869194591416813"
      ]
     },
     "execution_count": 208,
     "metadata": {},
     "output_type": "execute_result"
    }
   ],
   "source": [
    "from sklearn.metrics import roc_auc_score\n",
    "roc_auc_score(y_test, preds.mean().numpy())"
   ]
  },
  {
   "cell_type": "code",
   "execution_count": 209,
   "metadata": {},
   "outputs": [
    {
     "data": {
      "text/plain": [
       "SpearmanrResult(correlation=0.9896811687512208, pvalue=7.656762906321202e-279)"
      ]
     },
     "execution_count": 209,
     "metadata": {},
     "output_type": "execute_result"
    }
   ],
   "source": [
    "import scipy\n",
    "scipy.stats.spearmanr(np.abs(y_test - preds.mean().numpy().squeeze()), preds.variance().numpy().squeeze())"
   ]
  },
  {
   "cell_type": "code",
   "execution_count": 210,
   "metadata": {},
   "outputs": [],
   "source": [
    "from matplotlib import pyplot as plt\n",
    "%matplotlib inline"
   ]
  },
  {
   "cell_type": "code",
   "execution_count": 211,
   "metadata": {},
   "outputs": [],
   "source": [
    "from scipy.stats import norm\n",
    "\n",
    "def to_classprobs(y_pred):\n",
    "    class_probs = np.zeros(shape=(y_pred.mean().numpy().shape[0], 2))\n",
    "    for i, (a, b) in enumerate(zip(y_pred.mean().numpy(), y_pred.variance().numpy())):\n",
    "        conf = norm.cdf(0.5, a, b)\n",
    "        class_probs[i, 0] = conf\n",
    "        class_probs[i, 1] = 1 - conf\n",
    "    return class_probs\n",
    "\n",
    "class_probs = to_classprobs(preds)"
   ]
  },
  {
   "cell_type": "code",
   "execution_count": 212,
   "metadata": {},
   "outputs": [
    {
     "data": {
      "text/plain": [
       "array([1.        , 1.        , 1.        , 1.        , 1.        ,\n",
       "       0.7987372 , 1.        , 1.        , 1.        , 1.        ,\n",
       "       1.        , 1.        , 1.        , 1.        , 1.        ,\n",
       "       1.        , 1.        , 1.        , 1.        , 1.        ,\n",
       "       1.        , 1.        , 1.        , 0.95018779, 1.        ,\n",
       "       1.        , 1.        , 1.        , 1.        , 1.        ,\n",
       "       0.94474631, 0.79412649, 1.        , 1.        , 1.        ,\n",
       "       1.        , 1.        , 0.99757024, 1.        , 1.        ,\n",
       "       1.        , 1.        , 0.97321921, 1.        , 1.        ,\n",
       "       0.99999997, 1.        , 1.        , 0.58883871, 1.        ,\n",
       "       1.        , 1.        , 1.        , 1.        , 1.        ,\n",
       "       1.        , 1.        , 1.        , 1.        , 1.        ,\n",
       "       1.        , 1.        , 1.        , 1.        , 1.        ,\n",
       "       1.        , 1.        , 1.        , 1.        , 1.        ,\n",
       "       1.        , 1.        , 1.        , 0.99999984, 1.        ,\n",
       "       0.97754679, 1.        , 1.        , 1.        , 1.        ,\n",
       "       1.        , 1.        , 1.        , 1.        , 1.        ,\n",
       "       1.        , 1.        , 1.        , 1.        , 1.        ,\n",
       "       0.92471235, 1.        , 1.        , 1.        , 0.7914184 ,\n",
       "       0.75737886, 1.        , 1.        , 1.        , 1.        ,\n",
       "       1.        , 1.        , 1.        , 1.        , 1.        ,\n",
       "       1.        , 1.        , 0.98458087, 1.        , 1.        ,\n",
       "       1.        , 1.        , 1.        , 1.        , 1.        ,\n",
       "       0.88491062, 1.        , 0.64284853, 1.        , 0.78830065,\n",
       "       1.        , 1.        , 1.        , 1.        , 0.96270905,\n",
       "       1.        , 1.        , 1.        , 1.        , 1.        ,\n",
       "       1.        , 1.        , 1.        , 1.        , 0.51682457,\n",
       "       0.99999326, 1.        , 1.        , 1.        , 1.        ,\n",
       "       1.        , 0.99909276, 1.        , 1.        , 1.        ,\n",
       "       1.        , 1.        , 0.99989172, 1.        , 0.99858162,\n",
       "       0.81272217, 1.        , 1.        , 1.        , 0.9999997 ,\n",
       "       0.99999998, 1.        , 1.        , 0.98926526, 1.        ,\n",
       "       1.        , 1.        , 1.        , 0.99702067, 1.        ,\n",
       "       0.94082987, 1.        , 1.        , 1.        , 1.        ,\n",
       "       1.        , 1.        , 1.        , 1.        , 0.83332767,\n",
       "       0.99989129, 1.        , 1.        , 1.        , 1.        ,\n",
       "       1.        , 1.        , 1.        , 1.        , 1.        ,\n",
       "       1.        , 1.        , 1.        , 1.        , 1.        ,\n",
       "       0.61306066, 1.        , 1.        , 1.        , 0.9931193 ,\n",
       "       0.99987468, 1.        , 1.        , 1.        , 1.        ,\n",
       "       0.99999881, 1.        , 1.        , 1.        , 1.        ,\n",
       "       1.        , 1.        , 1.        , 1.        , 1.        ,\n",
       "       0.99999994, 1.        , 1.        , 1.        , 1.        ,\n",
       "       1.        , 1.        , 1.        , 1.        , 1.        ,\n",
       "       1.        , 1.        , 1.        , 1.        , 1.        ,\n",
       "       1.        , 1.        , 1.        , 1.        , 0.97103152,\n",
       "       1.        , 1.        , 1.        , 1.        , 1.        ,\n",
       "       1.        , 1.        , 1.        , 1.        , 1.        ,\n",
       "       1.        , 1.        , 1.        , 1.        , 1.        ,\n",
       "       1.        , 1.        , 1.        , 0.99684494, 1.        ,\n",
       "       1.        , 1.        , 1.        , 1.        , 1.        ,\n",
       "       1.        , 1.        , 1.        , 1.        , 1.        ,\n",
       "       1.        , 1.        , 1.        , 1.        , 1.        ,\n",
       "       1.        , 0.89979594, 1.        , 1.        , 1.        ,\n",
       "       1.        , 1.        , 1.        , 1.        , 1.        ,\n",
       "       0.99235119, 1.        , 1.        , 1.        , 0.99999749,\n",
       "       1.        , 1.        , 1.        , 1.        , 1.        ,\n",
       "       1.        , 1.        , 0.84072826, 1.        , 1.        ,\n",
       "       1.        , 1.        , 1.        , 1.        , 1.        ,\n",
       "       1.        , 1.        , 1.        , 1.        , 1.        ,\n",
       "       1.        , 1.        , 1.        , 1.        , 1.        ,\n",
       "       0.72592883, 1.        , 1.        , 1.        , 1.        ,\n",
       "       1.        , 1.        , 1.        , 1.        , 1.        ,\n",
       "       1.        , 1.        , 1.        , 0.99987116, 1.        ,\n",
       "       1.        , 1.        , 1.        , 1.        , 1.        ,\n",
       "       1.        , 1.        , 1.        , 1.        , 1.        ])"
      ]
     },
     "execution_count": 212,
     "metadata": {},
     "output_type": "execute_result"
    }
   ],
   "source": [
    "class_probs.max(axis=1)"
   ]
  },
  {
   "cell_type": "code",
   "execution_count": 213,
   "metadata": {},
   "outputs": [
    {
     "name": "stdout",
     "output_type": "stream",
     "text": [
      "SpearmanrResult(correlation=0.05440147538164844, pvalue=0.32451026058570176)\n"
     ]
    },
    {
     "data": {
      "text/plain": [
       "<matplotlib.axes._subplots.AxesSubplot at 0x7fe3917e0ad0>"
      ]
     },
     "execution_count": 213,
     "metadata": {},
     "output_type": "execute_result"
    },
    {
     "data": {
      "image/png": "[encoded data removed]",
      "text/plain": [
       "<Figure size 432x288 with 1 Axes>"
      ]
     },
     "metadata": {
      "needs_background": "light"
     },
     "output_type": "display_data"
    }
   ],
   "source": [
    "lift_chart(\n",
    "    preds.mean().numpy().squeeze(),\n",
    "    class_probs.max(axis=1),\n",
    "    bins=50, labels=['absolute error', 'confidence']\n",
    ")"
   ]
  },
  {
   "cell_type": "code",
   "execution_count": 217,
   "metadata": {},
   "outputs": [
    {
     "name": "stdout",
     "output_type": "stream",
     "text": [
      "SpearmanrResult(correlation=-0.6272374803782734, pvalue=1.7261367549785668e-37)\n"
     ]
    },
    {
     "data": {
      "text/plain": [
       "<matplotlib.axes._subplots.AxesSubplot at 0x7fe391645b10>"
      ]
     },
     "execution_count": 217,
     "metadata": {},
     "output_type": "execute_result"
    },
    {
     "data": {
      "image/png": "[encoded data removed]",
      "text/plain": [
       "<Figure size 432x288 with 1 Axes>"
      ]
     },
     "metadata": {
      "needs_background": "light"
     },
     "output_type": "display_data"
    }
   ],
   "source": [
    "lift_chart(\n",
    "    preds.mean().numpy().squeeze(),\n",
    "    preds.variance().numpy().squeeze(),\n",
    "    bins=50, labels=['absolute error', 'variance']\n",
    ")"
   ]
  },
  {
   "cell_type": "code",
   "execution_count": 214,
   "metadata": {},
   "outputs": [
    {
     "name": "stdout",
     "output_type": "stream",
     "text": [
      "SpearmanrResult(correlation=0.17610495207914012, pvalue=0.0013176573905103975)\n"
     ]
    },
    {
     "data": {
      "text/plain": [
       "<matplotlib.axes._subplots.AxesSubplot at 0x7fe3917a9710>"
      ]
     },
     "execution_count": 214,
     "metadata": {},
     "output_type": "execute_result"
    },
    {
     "data": {
      "image/png": "[encoded data removed]",
      "text/plain": [
       "<Figure size 432x288 with 1 Axes>"
      ]
     },
     "metadata": {
      "needs_background": "light"
     },
     "output_type": "display_data"
    }
   ],
   "source": [
    "lift_chart(\n",
    "    y_test,\n",
    "    class_probs.max(axis=1),\n",
    "    bins=50, labels=['absolute error', 'confidence']\n",
    ")"
   ]
  },
  {
   "cell_type": "code",
   "execution_count": 215,
   "metadata": {},
   "outputs": [
    {
     "name": "stdout",
     "output_type": "stream",
     "text": [
      "SpearmanrResult(correlation=-0.6050938675817646, pvalue=2.435944282438241e-34)\n"
     ]
    },
    {
     "data": {
      "text/plain": [
       "<matplotlib.axes._subplots.AxesSubplot at 0x7fe39176cb50>"
      ]
     },
     "execution_count": 215,
     "metadata": {},
     "output_type": "execute_result"
    },
    {
     "data": {
      "image/png": "[encoded data removed]",
      "text/plain": [
       "<Figure size 432x288 with 1 Axes>"
      ]
     },
     "metadata": {
      "needs_background": "light"
     },
     "output_type": "display_data"
    }
   ],
   "source": [
    "lift_chart(\n",
    "    np.abs(y_test - preds.mean().numpy().squeeze()),\n",
    "    class_probs.max(axis=1),\n",
    "    bins=50, labels=['absolute error', 'confidence']\n",
    ")"
   ]
  },
  {
   "cell_type": "code",
   "execution_count": 170,
   "metadata": {},
   "outputs": [],
   "source": [
    "import numpy as np\n",
    "import pandas as pd\n",
    "import seaborn as sns\n",
    "import scipy\n",
    "\n",
    "\n",
    "def lift_chart(y_true, y_pred, bins=10, ax=None, normalize=False, labels=None):\n",
    "    '''Given matched vectors of true versus predicted\n",
    "    targets, plot them against each other.\n",
    "    \n",
    "    This can be useful for comparing predictions vs targets\n",
    "    across the whole spectrum. Often a model fits well to\n",
    "    the mid-range, however, does poorly in the extremes. This\n",
    "    plot can help spot these problems.\n",
    "    \n",
    "    The plot is inspired by Datarobot's lift chart visualization:\n",
    "    https://twitter.com/hackathorn/status/868136907301146624    \n",
    "    \n",
    "    Parameters:\n",
    "    -----------\n",
    "    y_true : target values for model\n",
    "    y_pred : predicted values\n",
    "    bins : number of bins\n",
    "    ax : axis, if the lift chart is to be included\n",
    "      in an existing figure\n",
    "    normalize : if y_true and y_pred should be (z-)normalized. This\n",
    "      can be useful to look at variable correlations, where the\n",
    "      variables can have a different scale.\n",
    "    labels : the labels to show in the legend/colorbar.\n",
    "    \n",
    "    Returns:\n",
    "    --------\n",
    "    corr : the Spearman correlation between predicted and actual targets.\n",
    "    \n",
    "    Example:\n",
    "    --------\n",
    "    >> a = np.random.randn(10000)\n",
    "    >> lift_chart(a, np.random.randn(10000) * 0.9 + a, bins=100)\n",
    "    '''    \n",
    "    if isinstance(y_true, (pd.Series, pd.DataFrame)):\n",
    "        y_true = y_true.values\n",
    "    if isinstance(y_pred, (pd.Series, pd.DataFrame)):\n",
    "        y_pred = y_pred.values\n",
    "\n",
    "    if normalize:\n",
    "        y_pred = scipy.stats.zscore(y_pred)\n",
    "        y_true = scipy.stats.zscore(y_true)\n",
    "    means, _, _ = scipy.stats.binned_statistic(\n",
    "        y_true, [y_true, y_pred], bins=bins\n",
    "    )\n",
    "    for i, l_mean in enumerate(means):\n",
    "        if labels is None:\n",
    "            label='target' if i == 0 else 'pred %d' % i\n",
    "        else:\n",
    "            label = labels[i]\n",
    "        ax = sns.lineplot(\n",
    "            range(bins), l_mean, label=label,\n",
    "            ax=ax\n",
    "        )\n",
    "    ax.set(xlabel='Target Ranking', ylabel='Target')\n",
    "    box = ax.get_position()\n",
    "    ax.legend(\n",
    "        bbox_to_anchor=(0.3, 0.99),\n",
    "        ncol=1,     \n",
    "    )\n",
    "    print(scipy.stats.spearmanr(y_true, y_pred))\n",
    "    return ax\n"
   ]
  },
  {
   "cell_type": "code",
   "execution_count": null,
   "metadata": {},
   "outputs": [],
   "source": []
  }
 ],
 "metadata": {
  "kernelspec": {
   "display_name": "Python 3",
   "language": "python",
   "name": "python3"
  },
  "language_info": {
   "codemirror_mode": {
    "name": "ipython",
    "version": 3
   },
   "file_extension": ".py",
   "mimetype": "text/x-python",
   "name": "python",
   "nbconvert_exporter": "python",
   "pygments_lexer": "ipython3",
   "version": "3.6.7"
  }
 },
 "nbformat": 4,
 "nbformat_minor": 2
}
