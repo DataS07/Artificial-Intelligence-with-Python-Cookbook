{
  "nbformat": 4,
  "nbformat_minor": 0,
  "metadata": {
    "kernelspec": {
      "display_name": "Python 3",
      "language": "python",
      "name": "python3"
    },
    "language_info": {
      "codemirror_mode": {
        "name": "ipython",
        "version": 3
      },
      "file_extension": ".py",
      "mimetype": "text/x-python",
      "name": "python",
      "nbconvert_exporter": "python",
      "pygments_lexer": "ipython3",
      "version": "3.6.7"
    },
    "colab": {
      "name": "Targeting ads for click-through.ipynb",
      "provenance": [],
      "collapsed_sections": []
    }
  },
  "cells": [
    {
      "cell_type": "code",
      "metadata": {
        "id": "y8jweT2RZDe5",
        "colab_type": "code",
        "colab": {}
      },
      "source": [
        "import numpy as np\n",
        "import pandas as pd\n",
        "from sklearn.datasets import fetch_openml"
      ],
      "execution_count": 1,
      "outputs": []
    },
    {
      "cell_type": "code",
      "metadata": {
        "id": "HvDacGLdZDe-",
        "colab_type": "code",
        "colab": {}
      },
      "source": [
        "openml_frame = fetch_openml(data_id=40978, as_frame=True)"
      ],
      "execution_count": 2,
      "outputs": []
    },
    {
      "cell_type": "code",
      "metadata": {
        "id": "LEcyr60LbbrR",
        "colab_type": "code",
        "colab": {
          "base_uri": "https://localhost:8080/",
          "height": 598
        },
        "outputId": "b1e3df22-6da5-4f8b-90e8-ec0df106d789"
      },
      "source": [
        "print(openml_frame['DESCR'])"
      ],
      "execution_count": 3,
      "outputs": [
        {
          "output_type": "stream",
          "text": [
            "**Author**: Nicholas Kushmerick  \n",
            "**Source**: [UCI](http://archive.ics.uci.edu/ml/datasets/Internet+Advertisements) - 1998  \n",
            "**Please cite**:   \n",
            "\n",
            "### Description\n",
            "\n",
            "__Changes to version 1:__ all categorical features transformed as such. \n",
            "\n",
            "This dataset represents a set of possible advertisements on Internet pages. \n",
            "\n",
            "### Sources\n",
            "\n",
            "(a) Creator and donor:\n",
            "\n",
            "Nicholas Kushmerick - nick@ucd.ie\n",
            "\n",
            "### Dataset Information\n",
            "\n",
            "The features encode the geometry of the image (if available) as well as phrases occurring in the URL, the image's URL and alt text, the anchor text, and words occurring near the anchor text. The task is to predict whether an image is an advertisement (\"ad\") or not (\"nonad\").\n",
            "\n",
            "### Atributtes Information\n",
            "\n",
            "There are : 3 continuous attributes. The others are binary.\n",
            "This is the \"STANDARD encoding\" mentioned in the [Kushmerick, 99] (see below). \n",
            "One or more of the three continuous features are missing in 28% of the instances.\n",
            "Missing values should be interpreted as \"unknown\".\n",
            "\n",
            "### Relevant Papers  \n",
            "\n",
            "N. Kushmerick (1999). \"Learning to remove Internet advertisements\", 3rd Int Conf Autonomous Agents.  \n",
            "Available at: http://rexa.info/paper/2fdc1cee89b7f4f2c9227d6f5d9b05d22c5ab3e9\n",
            "\n",
            "Downloaded from openml.org.\n"
          ],
          "name": "stdout"
        }
      ]
    },
    {
      "cell_type": "code",
      "metadata": {
        "id": "ZctVpc-mbhBk",
        "colab_type": "code",
        "colab": {}
      },
      "source": [
        "data = openml_frame['data']"
      ],
      "execution_count": 4,
      "outputs": []
    },
    {
      "cell_type": "code",
      "metadata": {
        "id": "nn6-AFgacC7e",
        "colab_type": "code",
        "colab": {
          "base_uri": "https://localhost:8080/",
          "height": 253
        },
        "outputId": "c624e26b-a8d5-49fc-a63d-2662511f529c"
      },
      "source": [
        "data.head()"
      ],
      "execution_count": 5,
      "outputs": [
        {
          "output_type": "execute_result",
          "data": {
            "text/html": [
              "<div>\n",
              "<style scoped>\n",
              "    .dataframe tbody tr th:only-of-type {\n",
              "        vertical-align: middle;\n",
              "    }\n",
              "\n",
              "    .dataframe tbody tr th {\n",
              "        vertical-align: top;\n",
              "    }\n",
              "\n",
              "    .dataframe thead th {\n",
              "        text-align: right;\n",
              "    }\n",
              "</style>\n",
              "<table border=\"1\" class=\"dataframe\">\n",
              "  <thead>\n",
              "    <tr style=\"text-align: right;\">\n",
              "      <th></th>\n",
              "      <th>height</th>\n",
              "      <th>width</th>\n",
              "      <th>aratio</th>\n",
              "      <th>local</th>\n",
              "      <th>url.images.buttons</th>\n",
              "      <th>url.likesbooks.com</th>\n",
              "      <th>url.www.slake.com</th>\n",
              "      <th>url.hydrogeologist</th>\n",
              "      <th>url.oso</th>\n",
              "      <th>url.media</th>\n",
              "      <th>url.peace.images</th>\n",
              "      <th>url.blipverts</th>\n",
              "      <th>url.tkaine.kats</th>\n",
              "      <th>url.labyrinth</th>\n",
              "      <th>url.advertising.blipverts</th>\n",
              "      <th>url.images.oso</th>\n",
              "      <th>url.area51.corridor</th>\n",
              "      <th>url.ran.gifs</th>\n",
              "      <th>url.express.scripts.com</th>\n",
              "      <th>url.off</th>\n",
              "      <th>url.cnet</th>\n",
              "      <th>url.time.1998</th>\n",
              "      <th>url.josefina3</th>\n",
              "      <th>url.truluck.com</th>\n",
              "      <th>url.clawnext.gif</th>\n",
              "      <th>url.autopen.com</th>\n",
              "      <th>url.tvgen.com</th>\n",
              "      <th>url.pixs</th>\n",
              "      <th>url.heartland.5309</th>\n",
              "      <th>url.meadows.9196</th>\n",
              "      <th>url.blue</th>\n",
              "      <th>url.ad.gif</th>\n",
              "      <th>url.area51</th>\n",
              "      <th>url.www.internauts.ca</th>\n",
              "      <th>url.afn.org</th>\n",
              "      <th>url.ran.org</th>\n",
              "      <th>url.shareware.com</th>\n",
              "      <th>url.baons.images</th>\n",
              "      <th>url.area51.labyrinth</th>\n",
              "      <th>url.pics</th>\n",
              "      <th>...</th>\n",
              "      <th>alt.site</th>\n",
              "      <th>alt.to.visit</th>\n",
              "      <th>alt.rank.my</th>\n",
              "      <th>alt.from</th>\n",
              "      <th>alt.page</th>\n",
              "      <th>alt.graphic</th>\n",
              "      <th>alt.like.mine</th>\n",
              "      <th>alt.email.me</th>\n",
              "      <th>alt.visit</th>\n",
              "      <th>alt.free</th>\n",
              "      <th>alt.the.kat</th>\n",
              "      <th>alt.award</th>\n",
              "      <th>alt.services</th>\n",
              "      <th>alt.about</th>\n",
              "      <th>alt.for</th>\n",
              "      <th>alt.here.to</th>\n",
              "      <th>alt.network</th>\n",
              "      <th>alt.you</th>\n",
              "      <th>alt.logo</th>\n",
              "      <th>alt.home</th>\n",
              "      <th>alt.kat</th>\n",
              "      <th>caption.and</th>\n",
              "      <th>caption.home.page</th>\n",
              "      <th>caption.click.here</th>\n",
              "      <th>caption.the</th>\n",
              "      <th>caption.pratchett</th>\n",
              "      <th>caption.here.for</th>\n",
              "      <th>caption.site</th>\n",
              "      <th>caption.page</th>\n",
              "      <th>caption.to</th>\n",
              "      <th>caption.of</th>\n",
              "      <th>caption.home</th>\n",
              "      <th>caption.my</th>\n",
              "      <th>caption.your</th>\n",
              "      <th>caption.in</th>\n",
              "      <th>caption.bytes</th>\n",
              "      <th>caption.here</th>\n",
              "      <th>caption.click</th>\n",
              "      <th>caption.for</th>\n",
              "      <th>caption.you</th>\n",
              "    </tr>\n",
              "  </thead>\n",
              "  <tbody>\n",
              "    <tr>\n",
              "      <th>0</th>\n",
              "      <td>125.0</td>\n",
              "      <td>125.0</td>\n",
              "      <td>1.0000</td>\n",
              "      <td>1</td>\n",
              "      <td>0</td>\n",
              "      <td>0</td>\n",
              "      <td>0</td>\n",
              "      <td>0</td>\n",
              "      <td>0</td>\n",
              "      <td>0</td>\n",
              "      <td>0</td>\n",
              "      <td>0</td>\n",
              "      <td>0</td>\n",
              "      <td>0</td>\n",
              "      <td>0</td>\n",
              "      <td>0</td>\n",
              "      <td>0</td>\n",
              "      <td>0</td>\n",
              "      <td>0</td>\n",
              "      <td>0</td>\n",
              "      <td>0</td>\n",
              "      <td>0</td>\n",
              "      <td>0</td>\n",
              "      <td>0</td>\n",
              "      <td>0</td>\n",
              "      <td>0</td>\n",
              "      <td>0</td>\n",
              "      <td>0</td>\n",
              "      <td>0</td>\n",
              "      <td>0</td>\n",
              "      <td>0</td>\n",
              "      <td>0</td>\n",
              "      <td>0</td>\n",
              "      <td>0</td>\n",
              "      <td>0</td>\n",
              "      <td>0</td>\n",
              "      <td>0</td>\n",
              "      <td>0</td>\n",
              "      <td>0</td>\n",
              "      <td>0</td>\n",
              "      <td>...</td>\n",
              "      <td>0</td>\n",
              "      <td>0</td>\n",
              "      <td>0</td>\n",
              "      <td>0</td>\n",
              "      <td>0</td>\n",
              "      <td>0</td>\n",
              "      <td>0</td>\n",
              "      <td>0</td>\n",
              "      <td>0</td>\n",
              "      <td>0</td>\n",
              "      <td>0</td>\n",
              "      <td>0</td>\n",
              "      <td>0</td>\n",
              "      <td>0</td>\n",
              "      <td>0</td>\n",
              "      <td>0</td>\n",
              "      <td>0</td>\n",
              "      <td>0</td>\n",
              "      <td>0</td>\n",
              "      <td>0</td>\n",
              "      <td>0</td>\n",
              "      <td>0</td>\n",
              "      <td>0</td>\n",
              "      <td>0</td>\n",
              "      <td>0</td>\n",
              "      <td>0</td>\n",
              "      <td>0</td>\n",
              "      <td>0</td>\n",
              "      <td>0</td>\n",
              "      <td>0</td>\n",
              "      <td>0</td>\n",
              "      <td>0</td>\n",
              "      <td>0</td>\n",
              "      <td>0</td>\n",
              "      <td>0</td>\n",
              "      <td>0</td>\n",
              "      <td>0</td>\n",
              "      <td>0</td>\n",
              "      <td>0</td>\n",
              "      <td>0</td>\n",
              "    </tr>\n",
              "    <tr>\n",
              "      <th>1</th>\n",
              "      <td>57.0</td>\n",
              "      <td>468.0</td>\n",
              "      <td>8.2105</td>\n",
              "      <td>1</td>\n",
              "      <td>0</td>\n",
              "      <td>0</td>\n",
              "      <td>0</td>\n",
              "      <td>0</td>\n",
              "      <td>0</td>\n",
              "      <td>0</td>\n",
              "      <td>0</td>\n",
              "      <td>0</td>\n",
              "      <td>0</td>\n",
              "      <td>0</td>\n",
              "      <td>0</td>\n",
              "      <td>0</td>\n",
              "      <td>0</td>\n",
              "      <td>0</td>\n",
              "      <td>0</td>\n",
              "      <td>0</td>\n",
              "      <td>0</td>\n",
              "      <td>0</td>\n",
              "      <td>0</td>\n",
              "      <td>0</td>\n",
              "      <td>0</td>\n",
              "      <td>0</td>\n",
              "      <td>0</td>\n",
              "      <td>0</td>\n",
              "      <td>0</td>\n",
              "      <td>0</td>\n",
              "      <td>0</td>\n",
              "      <td>0</td>\n",
              "      <td>0</td>\n",
              "      <td>0</td>\n",
              "      <td>0</td>\n",
              "      <td>0</td>\n",
              "      <td>0</td>\n",
              "      <td>0</td>\n",
              "      <td>0</td>\n",
              "      <td>0</td>\n",
              "      <td>...</td>\n",
              "      <td>0</td>\n",
              "      <td>0</td>\n",
              "      <td>0</td>\n",
              "      <td>0</td>\n",
              "      <td>0</td>\n",
              "      <td>0</td>\n",
              "      <td>0</td>\n",
              "      <td>0</td>\n",
              "      <td>0</td>\n",
              "      <td>0</td>\n",
              "      <td>0</td>\n",
              "      <td>0</td>\n",
              "      <td>0</td>\n",
              "      <td>0</td>\n",
              "      <td>0</td>\n",
              "      <td>0</td>\n",
              "      <td>0</td>\n",
              "      <td>0</td>\n",
              "      <td>0</td>\n",
              "      <td>0</td>\n",
              "      <td>0</td>\n",
              "      <td>0</td>\n",
              "      <td>0</td>\n",
              "      <td>0</td>\n",
              "      <td>0</td>\n",
              "      <td>0</td>\n",
              "      <td>0</td>\n",
              "      <td>0</td>\n",
              "      <td>0</td>\n",
              "      <td>0</td>\n",
              "      <td>0</td>\n",
              "      <td>0</td>\n",
              "      <td>0</td>\n",
              "      <td>0</td>\n",
              "      <td>0</td>\n",
              "      <td>0</td>\n",
              "      <td>0</td>\n",
              "      <td>0</td>\n",
              "      <td>0</td>\n",
              "      <td>0</td>\n",
              "    </tr>\n",
              "    <tr>\n",
              "      <th>2</th>\n",
              "      <td>33.0</td>\n",
              "      <td>230.0</td>\n",
              "      <td>6.9696</td>\n",
              "      <td>1</td>\n",
              "      <td>0</td>\n",
              "      <td>0</td>\n",
              "      <td>0</td>\n",
              "      <td>0</td>\n",
              "      <td>0</td>\n",
              "      <td>0</td>\n",
              "      <td>0</td>\n",
              "      <td>0</td>\n",
              "      <td>0</td>\n",
              "      <td>0</td>\n",
              "      <td>0</td>\n",
              "      <td>0</td>\n",
              "      <td>0</td>\n",
              "      <td>0</td>\n",
              "      <td>0</td>\n",
              "      <td>0</td>\n",
              "      <td>0</td>\n",
              "      <td>0</td>\n",
              "      <td>0</td>\n",
              "      <td>0</td>\n",
              "      <td>0</td>\n",
              "      <td>0</td>\n",
              "      <td>0</td>\n",
              "      <td>0</td>\n",
              "      <td>0</td>\n",
              "      <td>0</td>\n",
              "      <td>0</td>\n",
              "      <td>0</td>\n",
              "      <td>0</td>\n",
              "      <td>0</td>\n",
              "      <td>0</td>\n",
              "      <td>0</td>\n",
              "      <td>0</td>\n",
              "      <td>0</td>\n",
              "      <td>0</td>\n",
              "      <td>0</td>\n",
              "      <td>...</td>\n",
              "      <td>0</td>\n",
              "      <td>0</td>\n",
              "      <td>0</td>\n",
              "      <td>0</td>\n",
              "      <td>0</td>\n",
              "      <td>0</td>\n",
              "      <td>0</td>\n",
              "      <td>0</td>\n",
              "      <td>0</td>\n",
              "      <td>0</td>\n",
              "      <td>0</td>\n",
              "      <td>0</td>\n",
              "      <td>0</td>\n",
              "      <td>0</td>\n",
              "      <td>0</td>\n",
              "      <td>0</td>\n",
              "      <td>0</td>\n",
              "      <td>0</td>\n",
              "      <td>0</td>\n",
              "      <td>0</td>\n",
              "      <td>0</td>\n",
              "      <td>0</td>\n",
              "      <td>0</td>\n",
              "      <td>0</td>\n",
              "      <td>0</td>\n",
              "      <td>0</td>\n",
              "      <td>0</td>\n",
              "      <td>0</td>\n",
              "      <td>0</td>\n",
              "      <td>0</td>\n",
              "      <td>0</td>\n",
              "      <td>0</td>\n",
              "      <td>0</td>\n",
              "      <td>0</td>\n",
              "      <td>0</td>\n",
              "      <td>0</td>\n",
              "      <td>0</td>\n",
              "      <td>0</td>\n",
              "      <td>0</td>\n",
              "      <td>0</td>\n",
              "    </tr>\n",
              "    <tr>\n",
              "      <th>3</th>\n",
              "      <td>60.0</td>\n",
              "      <td>468.0</td>\n",
              "      <td>7.8000</td>\n",
              "      <td>1</td>\n",
              "      <td>0</td>\n",
              "      <td>0</td>\n",
              "      <td>0</td>\n",
              "      <td>0</td>\n",
              "      <td>0</td>\n",
              "      <td>0</td>\n",
              "      <td>0</td>\n",
              "      <td>0</td>\n",
              "      <td>0</td>\n",
              "      <td>0</td>\n",
              "      <td>0</td>\n",
              "      <td>0</td>\n",
              "      <td>0</td>\n",
              "      <td>0</td>\n",
              "      <td>0</td>\n",
              "      <td>0</td>\n",
              "      <td>0</td>\n",
              "      <td>0</td>\n",
              "      <td>0</td>\n",
              "      <td>0</td>\n",
              "      <td>0</td>\n",
              "      <td>0</td>\n",
              "      <td>0</td>\n",
              "      <td>0</td>\n",
              "      <td>0</td>\n",
              "      <td>0</td>\n",
              "      <td>0</td>\n",
              "      <td>0</td>\n",
              "      <td>0</td>\n",
              "      <td>0</td>\n",
              "      <td>0</td>\n",
              "      <td>0</td>\n",
              "      <td>0</td>\n",
              "      <td>0</td>\n",
              "      <td>0</td>\n",
              "      <td>0</td>\n",
              "      <td>...</td>\n",
              "      <td>0</td>\n",
              "      <td>0</td>\n",
              "      <td>0</td>\n",
              "      <td>0</td>\n",
              "      <td>0</td>\n",
              "      <td>0</td>\n",
              "      <td>0</td>\n",
              "      <td>0</td>\n",
              "      <td>0</td>\n",
              "      <td>0</td>\n",
              "      <td>0</td>\n",
              "      <td>0</td>\n",
              "      <td>0</td>\n",
              "      <td>0</td>\n",
              "      <td>0</td>\n",
              "      <td>0</td>\n",
              "      <td>0</td>\n",
              "      <td>0</td>\n",
              "      <td>0</td>\n",
              "      <td>0</td>\n",
              "      <td>0</td>\n",
              "      <td>0</td>\n",
              "      <td>0</td>\n",
              "      <td>0</td>\n",
              "      <td>0</td>\n",
              "      <td>0</td>\n",
              "      <td>0</td>\n",
              "      <td>0</td>\n",
              "      <td>0</td>\n",
              "      <td>0</td>\n",
              "      <td>0</td>\n",
              "      <td>0</td>\n",
              "      <td>0</td>\n",
              "      <td>0</td>\n",
              "      <td>0</td>\n",
              "      <td>0</td>\n",
              "      <td>0</td>\n",
              "      <td>0</td>\n",
              "      <td>0</td>\n",
              "      <td>0</td>\n",
              "    </tr>\n",
              "    <tr>\n",
              "      <th>4</th>\n",
              "      <td>60.0</td>\n",
              "      <td>468.0</td>\n",
              "      <td>7.8000</td>\n",
              "      <td>1</td>\n",
              "      <td>0</td>\n",
              "      <td>0</td>\n",
              "      <td>0</td>\n",
              "      <td>0</td>\n",
              "      <td>0</td>\n",
              "      <td>0</td>\n",
              "      <td>0</td>\n",
              "      <td>0</td>\n",
              "      <td>0</td>\n",
              "      <td>0</td>\n",
              "      <td>0</td>\n",
              "      <td>0</td>\n",
              "      <td>0</td>\n",
              "      <td>0</td>\n",
              "      <td>0</td>\n",
              "      <td>0</td>\n",
              "      <td>0</td>\n",
              "      <td>0</td>\n",
              "      <td>0</td>\n",
              "      <td>0</td>\n",
              "      <td>0</td>\n",
              "      <td>0</td>\n",
              "      <td>0</td>\n",
              "      <td>0</td>\n",
              "      <td>0</td>\n",
              "      <td>0</td>\n",
              "      <td>0</td>\n",
              "      <td>0</td>\n",
              "      <td>0</td>\n",
              "      <td>0</td>\n",
              "      <td>0</td>\n",
              "      <td>0</td>\n",
              "      <td>0</td>\n",
              "      <td>0</td>\n",
              "      <td>0</td>\n",
              "      <td>0</td>\n",
              "      <td>...</td>\n",
              "      <td>0</td>\n",
              "      <td>0</td>\n",
              "      <td>0</td>\n",
              "      <td>0</td>\n",
              "      <td>0</td>\n",
              "      <td>0</td>\n",
              "      <td>0</td>\n",
              "      <td>0</td>\n",
              "      <td>0</td>\n",
              "      <td>0</td>\n",
              "      <td>0</td>\n",
              "      <td>0</td>\n",
              "      <td>0</td>\n",
              "      <td>0</td>\n",
              "      <td>0</td>\n",
              "      <td>0</td>\n",
              "      <td>0</td>\n",
              "      <td>0</td>\n",
              "      <td>0</td>\n",
              "      <td>0</td>\n",
              "      <td>0</td>\n",
              "      <td>0</td>\n",
              "      <td>0</td>\n",
              "      <td>0</td>\n",
              "      <td>0</td>\n",
              "      <td>0</td>\n",
              "      <td>0</td>\n",
              "      <td>0</td>\n",
              "      <td>0</td>\n",
              "      <td>0</td>\n",
              "      <td>0</td>\n",
              "      <td>0</td>\n",
              "      <td>0</td>\n",
              "      <td>0</td>\n",
              "      <td>0</td>\n",
              "      <td>0</td>\n",
              "      <td>0</td>\n",
              "      <td>0</td>\n",
              "      <td>0</td>\n",
              "      <td>0</td>\n",
              "    </tr>\n",
              "  </tbody>\n",
              "</table>\n",
              "<p>5 rows × 1558 columns</p>\n",
              "</div>"
            ],
            "text/plain": [
              "   height  width  aratio  ... caption.click caption.for caption.you\n",
              "0   125.0  125.0  1.0000  ...             0           0           0\n",
              "1    57.0  468.0  8.2105  ...             0           0           0\n",
              "2    33.0  230.0  6.9696  ...             0           0           0\n",
              "3    60.0  468.0  7.8000  ...             0           0           0\n",
              "4    60.0  468.0  7.8000  ...             0           0           0\n",
              "\n",
              "[5 rows x 1558 columns]"
            ]
          },
          "metadata": {
            "tags": []
          },
          "execution_count": 5
        }
      ]
    },
    {
      "cell_type": "code",
      "metadata": {
        "id": "tclDL5n_bMp3",
        "colab_type": "code",
        "colab": {
          "base_uri": "https://localhost:8080/",
          "height": 153
        },
        "outputId": "df159ad1-d908-45b8-e18c-a5a7f1271661"
      },
      "source": [
        "data.columns"
      ],
      "execution_count": 6,
      "outputs": [
        {
          "output_type": "execute_result",
          "data": {
            "text/plain": [
              "Index(['height', 'width', 'aratio', 'local', 'url.images.buttons',\n",
              "       'url.likesbooks.com', 'url.www.slake.com', 'url.hydrogeologist',\n",
              "       'url.oso', 'url.media',\n",
              "       ...\n",
              "       'caption.of', 'caption.home', 'caption.my', 'caption.your',\n",
              "       'caption.in', 'caption.bytes', 'caption.here', 'caption.click',\n",
              "       'caption.for', 'caption.you'],\n",
              "      dtype='object', length=1558)"
            ]
          },
          "metadata": {
            "tags": []
          },
          "execution_count": 6
        }
      ]
    },
    {
      "cell_type": "code",
      "metadata": {
        "id": "CANEziyTfScJ",
        "colab_type": "code",
        "colab": {}
      },
      "source": [
        "cat_cols = list(data.select_dtypes(include='category').columns)\n",
        "num_cols = list(data.select_dtypes(exclude='category').columns)"
      ],
      "execution_count": 7,
      "outputs": []
    },
    {
      "cell_type": "code",
      "metadata": {
        "id": "4TsZitgObAZP",
        "colab_type": "code",
        "colab": {
          "base_uri": "https://localhost:8080/",
          "height": 153
        },
        "outputId": "a997885a-3098-4a15-bd0c-734ae45a4001"
      },
      "source": [
        "data.keys()"
      ],
      "execution_count": 8,
      "outputs": [
        {
          "output_type": "execute_result",
          "data": {
            "text/plain": [
              "Index(['height', 'width', 'aratio', 'local', 'url.images.buttons',\n",
              "       'url.likesbooks.com', 'url.www.slake.com', 'url.hydrogeologist',\n",
              "       'url.oso', 'url.media',\n",
              "       ...\n",
              "       'caption.of', 'caption.home', 'caption.my', 'caption.your',\n",
              "       'caption.in', 'caption.bytes', 'caption.here', 'caption.click',\n",
              "       'caption.for', 'caption.you'],\n",
              "      dtype='object', length=1558)"
            ]
          },
          "metadata": {
            "tags": []
          },
          "execution_count": 8
        }
      ]
    },
    {
      "cell_type": "code",
      "metadata": {
        "id": "Se2tEqoNZDfo",
        "colab_type": "code",
        "colab": {}
      },
      "source": [
        "from sklearn.preprocessing import StandardScaler\n",
        "scaler = StandardScaler()\n",
        "X1 = scaler.fit_transform(\n",
        "    data[num_cols]\n",
        ")"
      ],
      "execution_count": 9,
      "outputs": []
    },
    {
      "cell_type": "code",
      "metadata": {
        "id": "bvQIHb3LhA75",
        "colab_type": "code",
        "colab": {}
      },
      "source": [
        "X = np.concatenate([X1, data[cat_cols].astype('float').values], axis=1)"
      ],
      "execution_count": 10,
      "outputs": []
    },
    {
      "cell_type": "code",
      "metadata": {
        "id": "kJqqE1adhZ6Q",
        "colab_type": "code",
        "colab": {
          "base_uri": "https://localhost:8080/",
          "height": 34
        },
        "outputId": "abc0af13-eb4b-49ca-dd78-fdfad08d8062"
      },
      "source": [
        "X.shape"
      ],
      "execution_count": 11,
      "outputs": [
        {
          "output_type": "execute_result",
          "data": {
            "text/plain": [
              "(3279, 1558)"
            ]
          },
          "metadata": {
            "tags": []
          },
          "execution_count": 11
        }
      ]
    },
    {
      "cell_type": "code",
      "metadata": {
        "id": "EHfovZKTimeE",
        "colab_type": "code",
        "colab": {
          "base_uri": "https://localhost:8080/",
          "height": 34
        },
        "outputId": "62fd688d-97df-4277-c9e1-43bc81d3f909"
      },
      "source": [
        "X.dtype"
      ],
      "execution_count": 12,
      "outputs": [
        {
          "output_type": "execute_result",
          "data": {
            "text/plain": [
              "dtype('float64')"
            ]
          },
          "metadata": {
            "tags": []
          },
          "execution_count": 12
        }
      ]
    },
    {
      "cell_type": "code",
      "metadata": {
        "id": "QQV1jYNiZDfr",
        "colab_type": "code",
        "colab": {}
      },
      "source": [
        "from sklearn.model_selection import train_test_split\n",
        "\n",
        "target_dict = {'ad': 1, 'noad': 0}\n",
        "y = openml_frame['target'].apply(lambda x: target_dict[x]).astype('float').values\n",
        "\n",
        "X_train, X_test, y_train, y_test = train_test_split(\n",
        "    X, y, test_size=0.33, random_state=42\n",
        ")"
      ],
      "execution_count": 13,
      "outputs": []
    },
    {
      "cell_type": "code",
      "metadata": {
        "id": "LZn1Sh6WZDfu",
        "colab_type": "code",
        "colab": {}
      },
      "source": [
        "import tensorflow as tf\n",
        "import tensorflow_probability as tfp\n",
        "import matplotlib.pyplot as plt\n",
        "#import tensorflow.compat.v2 as tf\n",
        "tfd = tfp.distributions\n",
        "%matplotlib inline"
      ],
      "execution_count": 14,
      "outputs": []
    },
    {
      "cell_type": "code",
      "metadata": {
        "id": "RH_pH02KZDfw",
        "colab_type": "code",
        "colab": {}
      },
      "source": [
        "negloglik = lambda y, rv_y: -rv_y.log_prob(y)"
      ],
      "execution_count": 15,
      "outputs": []
    },
    {
      "cell_type": "code",
      "metadata": {
        "id": "3LDk8ojlZDf0",
        "colab_type": "code",
        "colab": {}
      },
      "source": [
        "# Specify the prior over `keras.layers.Dense` `kernel` and `bias`.\n",
        "def prior_trainable(kernel_size, bias_size=0, dtype=None):\n",
        "    n = kernel_size + bias_size\n",
        "    return tf.keras.Sequential([\n",
        "    tfp.layers.VariableLayer(n, dtype=dtype),\n",
        "    tfp.layers.DistributionLambda(lambda t: tfd.Independent(\n",
        "        tfd.Normal(loc=t, scale=1),\n",
        "        reinterpreted_batch_ndims=1)),\n",
        "    ])"
      ],
      "execution_count": 16,
      "outputs": []
    },
    {
      "cell_type": "code",
      "metadata": {
        "id": "zJ9uvwAHZDf5",
        "colab_type": "code",
        "colab": {}
      },
      "source": [
        "# Specify the surrogate posterior over `keras.layers.Dense` `kernel` and `bias`.\n",
        "def posterior_mean_field(kernel_size, bias_size=0, dtype=None):\n",
        "    n = kernel_size + bias_size\n",
        "    c = np.log(np.expm1(1.))\n",
        "    return tf.keras.Sequential([\n",
        "    tfp.layers.VariableLayer(2 * n, dtype=dtype),\n",
        "    tfp.layers.DistributionLambda(lambda t: tfd.Independent(\n",
        "        tfd.Normal(\n",
        "            loc=t[..., :n],\n",
        "            scale=1e-5 + tf.nn.softplus(c + t[..., n:])\n",
        "        ),\n",
        "    reinterpreted_batch_ndims=1)),\n",
        "    ])"
      ],
      "execution_count": 17,
      "outputs": []
    },
    {
      "cell_type": "code",
      "metadata": {
        "id": "s-t7UAJvZDf9",
        "colab_type": "code",
        "colab": {}
      },
      "source": [
        "model = tf.keras.Sequential([\n",
        "    #tf.keras.layers.Dense(10, activation='relu'),\n",
        "    tfp.layers.DenseVariational(10, posterior_mean_field, prior_trainable, kl_weight=1/X.shape[0], activation='relu'),\n",
        "    tfp.layers.DenseVariational(2, posterior_mean_field, prior_trainable, kl_weight=1/X.shape[0]),\n",
        "    tfp.layers.DistributionLambda(\n",
        "        lambda t: tfd.Normal(\n",
        "            loc=t[..., :1],\n",
        "            scale=1e-3 + tf.math.softplus(0.01 * t[...,1:])\n",
        "        )\n",
        "        #lambda t: tfd.Bernoulli(\n",
        "        #  logits=t[..., :1]\n",
        "        #)\n",
        "    ),\n",
        "])"
      ],
      "execution_count": 112,
      "outputs": []
    },
    {
      "cell_type": "code",
      "metadata": {
        "id": "3_iF235jZDgA",
        "colab_type": "code",
        "colab": {
          "base_uri": "https://localhost:8080/",
          "height": 34
        },
        "outputId": "dbdc5383-7859-4121-9173-1ec8af91bdeb"
      },
      "source": [
        "model.compile(\n",
        "    optimizer=tf.optimizers.Adam(learning_rate=0.01),\n",
        "    loss=negloglik\n",
        ")\n",
        "model.fit(X_train, y_train, epochs=1000, verbose=False)"
      ],
      "execution_count": 113,
      "outputs": [
        {
          "output_type": "execute_result",
          "data": {
            "text/plain": [
              "<tensorflow.python.keras.callbacks.History at 0x7fcd96f9d748>"
            ]
          },
          "metadata": {
            "tags": []
          },
          "execution_count": 113
        }
      ]
    },
    {
      "cell_type": "code",
      "metadata": {
        "id": "0zlsfXa6ZDgD",
        "colab_type": "code",
        "colab": {}
      },
      "source": [
        "preds = model(X_test)"
      ],
      "execution_count": 114,
      "outputs": []
    },
    {
      "cell_type": "code",
      "metadata": {
        "id": "Jc28MtALZDgH",
        "colab_type": "code",
        "colab": {
          "base_uri": "https://localhost:8080/",
          "height": 34
        },
        "outputId": "651d5f6b-e9c0-41eb-dd41-6891400f584e"
      },
      "source": [
        "from sklearn.metrics import roc_auc_score\n",
        "roc_auc_score(y_test, preds.mean().numpy())"
      ],
      "execution_count": 115,
      "outputs": [
        {
          "output_type": "execute_result",
          "data": {
            "text/plain": [
              "0.9145660643777946"
            ]
          },
          "metadata": {
            "tags": []
          },
          "execution_count": 115
        }
      ]
    },
    {
      "cell_type": "code",
      "metadata": {
        "id": "1j6PyUOiZDgN",
        "colab_type": "code",
        "colab": {
          "base_uri": "https://localhost:8080/",
          "height": 34
        },
        "outputId": "5ebc844b-d89f-4482-b88e-d0bde93c6eb8"
      },
      "source": [
        "import scipy\n",
        "scipy.stats.spearmanr(np.abs(y_test - preds.mean().numpy().squeeze()), preds.variance().numpy().squeeze())"
      ],
      "execution_count": 116,
      "outputs": [
        {
          "output_type": "execute_result",
          "data": {
            "text/plain": [
              "SpearmanrResult(correlation=0.8758072150975391, pvalue=0.0)"
            ]
          },
          "metadata": {
            "tags": []
          },
          "execution_count": 116
        }
      ]
    },
    {
      "cell_type": "code",
      "metadata": {
        "id": "IY1DtB6eZDgr",
        "colab_type": "code",
        "colab": {
          "base_uri": "https://localhost:8080/",
          "height": 417
        },
        "outputId": "4cd86671-ae7f-4307-8ffc-e07793389d7f"
      },
      "source": [
        "import seaborn as sns\n",
        "size=25\n",
        "params = {\n",
        "    'legend.fontsize': 'large',\n",
        "    'figure.figsize': (20, 8),\n",
        "    'axes.labelsize': size,\n",
        "    'axes.titlesize': size,\n",
        "    'xtick.labelsize': size * 0.75,\n",
        "    'ytick.labelsize': size * 0.75,\n",
        "    'axes.titlepad': 25\n",
        "}\n",
        "plt.rcParams.update(params)\n",
        "\n",
        "error = y_test - preds.mean().numpy().squeeze()\n",
        "ax = sns.regplot(\n",
        "    x=preds.variance().numpy().squeeze(),\n",
        "    y=error*error,\n",
        "    color='g'\n",
        ")\n",
        "plt.ylabel('error')\n",
        "plt.xlabel('variance');"
      ],
      "execution_count": 117,
      "outputs": [
        {
          "output_type": "display_data",
          "data": {
            "image/png": "[encoded data removed]",
            "text/plain": [
              "<Figure size 1440x576 with 1 Axes>"
            ]
          },
          "metadata": {
            "tags": [],
            "needs_background": "light"
          }
        }
      ]
    }
  ]
}